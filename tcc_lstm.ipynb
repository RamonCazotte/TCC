{
 "cells": [
  {
   "cell_type": "markdown",
   "metadata": {},
   "source": [
    "LSTM"
   ]
  },
  {
   "cell_type": "code",
   "execution_count": 149,
   "metadata": {},
   "outputs": [],
   "source": [
    "from datetime import datetime, timedelta\n",
    "import yfinance as yf\n",
    "import pandas as pd\n",
    "import numpy as np\n",
    "from sklearn.model_selection import train_test_split\n",
    "from sklearn.preprocessing import MinMaxScaler\n",
    "from tensorflow.keras.models import Sequential\n",
    "from tensorflow.keras.layers import LSTM, Dense, Dropout, Input\n",
    "from tensorflow.keras.callbacks import EarlyStopping\n",
    "from tensorflow.keras.optimizers import Adam\n",
    "from tensorflow.keras.callbacks import ReduceLROnPlateau\n",
    "from sklearn.metrics import mean_squared_error\n",
    "import matplotlib.pyplot as plt\n",
    "from sklearn.metrics import mean_absolute_error, mean_squared_error, r2_score\n"
   ]
  },
  {
   "cell_type": "code",
   "execution_count": 150,
   "metadata": {},
   "outputs": [
    {
     "name": "stderr",
     "output_type": "stream",
     "text": [
      "C:\\Users\\ramon\\AppData\\Local\\Temp\\ipykernel_28676\\3215143288.py:3: FutureWarning: YF.download() has changed argument auto_adjust default to True\n",
      "  ativo = yf.download(acao, period=periodo_tempo_de_precos_acao)\n",
      "[*********************100%***********************]  1 of 1 completed\n"
     ]
    }
   ],
   "source": [
    "acao = 'MGLU3.SA'\n",
    "periodo_tempo_de_precos_acao = \"5y\"\n",
    "ativo = yf.download(acao, period=periodo_tempo_de_precos_acao)"
   ]
  },
  {
   "cell_type": "code",
   "execution_count": 151,
   "metadata": {},
   "outputs": [
    {
     "data": {
      "text/html": [
       "<div>\n",
       "<style scoped>\n",
       "    .dataframe tbody tr th:only-of-type {\n",
       "        vertical-align: middle;\n",
       "    }\n",
       "\n",
       "    .dataframe tbody tr th {\n",
       "        vertical-align: top;\n",
       "    }\n",
       "\n",
       "    .dataframe thead tr th {\n",
       "        text-align: left;\n",
       "    }\n",
       "\n",
       "    .dataframe thead tr:last-of-type th {\n",
       "        text-align: right;\n",
       "    }\n",
       "</style>\n",
       "<table border=\"1\" class=\"dataframe\">\n",
       "  <thead>\n",
       "    <tr>\n",
       "      <th>Price</th>\n",
       "      <th>Close</th>\n",
       "      <th>High</th>\n",
       "      <th>Low</th>\n",
       "      <th>Open</th>\n",
       "      <th>Volume</th>\n",
       "    </tr>\n",
       "    <tr>\n",
       "      <th>Ticker</th>\n",
       "      <th>MGLU3.SA</th>\n",
       "      <th>MGLU3.SA</th>\n",
       "      <th>MGLU3.SA</th>\n",
       "      <th>MGLU3.SA</th>\n",
       "      <th>MGLU3.SA</th>\n",
       "    </tr>\n",
       "    <tr>\n",
       "      <th>Date</th>\n",
       "      <th></th>\n",
       "      <th></th>\n",
       "      <th></th>\n",
       "      <th></th>\n",
       "      <th></th>\n",
       "    </tr>\n",
       "  </thead>\n",
       "  <tbody>\n",
       "    <tr>\n",
       "      <th>2020-09-24</th>\n",
       "      <td>202.355301</td>\n",
       "      <td>203.465660</td>\n",
       "      <td>194.197642</td>\n",
       "      <td>196.916862</td>\n",
       "      <td>5180026</td>\n",
       "    </tr>\n",
       "    <tr>\n",
       "      <th>2020-09-25</th>\n",
       "      <td>205.369095</td>\n",
       "      <td>206.434132</td>\n",
       "      <td>198.276459</td>\n",
       "      <td>200.338542</td>\n",
       "      <td>4610084</td>\n",
       "    </tr>\n",
       "    <tr>\n",
       "      <th>2020-09-28</th>\n",
       "      <td>198.208481</td>\n",
       "      <td>209.108027</td>\n",
       "      <td>197.188781</td>\n",
       "      <td>207.567128</td>\n",
       "      <td>6741625</td>\n",
       "    </tr>\n",
       "    <tr>\n",
       "      <th>2020-09-29</th>\n",
       "      <td>198.231155</td>\n",
       "      <td>201.335592</td>\n",
       "      <td>196.146419</td>\n",
       "      <td>198.367107</td>\n",
       "      <td>4095225</td>\n",
       "    </tr>\n",
       "    <tr>\n",
       "      <th>2020-09-30</th>\n",
       "      <td>202.128708</td>\n",
       "      <td>203.714914</td>\n",
       "      <td>197.687315</td>\n",
       "      <td>199.658754</td>\n",
       "      <td>5022776</td>\n",
       "    </tr>\n",
       "  </tbody>\n",
       "</table>\n",
       "</div>"
      ],
      "text/plain": [
       "Price            Close        High         Low        Open   Volume\n",
       "Ticker        MGLU3.SA    MGLU3.SA    MGLU3.SA    MGLU3.SA MGLU3.SA\n",
       "Date                                                               \n",
       "2020-09-24  202.355301  203.465660  194.197642  196.916862  5180026\n",
       "2020-09-25  205.369095  206.434132  198.276459  200.338542  4610084\n",
       "2020-09-28  198.208481  209.108027  197.188781  207.567128  6741625\n",
       "2020-09-29  198.231155  201.335592  196.146419  198.367107  4095225\n",
       "2020-09-30  202.128708  203.714914  197.687315  199.658754  5022776"
      ]
     },
     "execution_count": 151,
     "metadata": {},
     "output_type": "execute_result"
    }
   ],
   "source": [
    "ativo.head()"
   ]
  },
  {
   "cell_type": "code",
   "execution_count": 152,
   "metadata": {},
   "outputs": [],
   "source": [
    "# Pega somente o atributo \"Close\" (preço de fechamento da ação em cada dia) e armazena em um array bidimensional\n",
    "# O array precisa ser bidimensional porque o MinMaxScaler espera uma entrada com esse formato.\n",
    "ativo_close = ativo['Close'].dropna().to_numpy().reshape(-1, 1)"
   ]
  },
  {
   "cell_type": "code",
   "execution_count": 153,
   "metadata": {},
   "outputs": [],
   "source": [
    "# Criar um DataFrame com os valores ajustados\n",
    "data = pd.DataFrame(ativo_close)\n",
    "data.columns = ['Close']"
   ]
  },
  {
   "cell_type": "code",
   "execution_count": 154,
   "metadata": {},
   "outputs": [],
   "source": [
    "# Normalizar os dados para os modelos\n",
    "scaler = MinMaxScaler(feature_range=(0, 1))\n",
    "data['Scaled_Close'] = scaler.fit_transform(data[['Close']])"
   ]
  },
  {
   "cell_type": "code",
   "execution_count": 155,
   "metadata": {},
   "outputs": [],
   "source": [
    "# Função para criar janelas de dados\n",
    "# janela de dados = quantidade de dias do X\n",
    "def create_dataset(data, window_size):\n",
    "    X, y = [], []\n",
    "    for i in range(len(data) - window_size):\n",
    "        X.append(data[i:i + window_size])\n",
    "        y.append(data[i + window_size])\n",
    "    return np.array(X), np.array(y)\n"
   ]
  },
  {
   "cell_type": "code",
   "execution_count": 156,
   "metadata": {},
   "outputs": [],
   "source": [
    "window_size = 60\n",
    "scaled_data = data['Scaled_Close'].values\n",
    "X, y = create_dataset(scaled_data, window_size)"
   ]
  },
  {
   "cell_type": "code",
   "execution_count": 157,
   "metadata": {},
   "outputs": [
    {
     "data": {
      "text/plain": [
       "array([0.80896626, 0.82136012, 0.79191297, 0.79200622, 0.80803443,\n",
       "       0.83319494, 0.79731787, 0.816794  , 0.80896626, 0.80561153,\n",
       "       0.83291539, 0.89143696, 0.94595144, 0.9340235 , 0.9276867 ,\n",
       "       0.93849637, 0.93439623, 0.94744237, 0.95415191, 0.94967884,\n",
       "       0.94296944, 0.92619576, 0.92545029, 0.89488488, 0.92209556,\n",
       "       0.89488488, 0.90830382, 0.95303364, 1.        , 0.995527  ,\n",
       "       0.96272511, 0.91687702, 0.93029596, 0.92656843, 0.91240408,\n",
       "       0.90308535, 0.89861235, 0.89153014, 0.89525755, 0.84978225,\n",
       "       0.86021926, 0.87140167, 0.88072034, 0.87848393, 0.84829125,\n",
       "       0.82965384, 0.83599058, 0.84530931, 0.85872819, 0.86394673,\n",
       "       0.90681282, 0.8706562 , 0.84903672, 0.83375404, 0.8732654 ,\n",
       "       0.89413934, 0.90718555, 0.89153014, 0.89078461, 0.90867655])"
      ]
     },
     "execution_count": 157,
     "metadata": {},
     "output_type": "execute_result"
    }
   ],
   "source": [
    "X[0] # 60 (window-size) valores que ele usa para prever o valor do y. "
   ]
  },
  {
   "cell_type": "code",
   "execution_count": 158,
   "metadata": {},
   "outputs": [
    {
     "data": {
      "text/plain": [
       "((1245,), (1185, 60), (1185,))"
      ]
     },
     "execution_count": 158,
     "metadata": {},
     "output_type": "execute_result"
    }
   ],
   "source": [
    "scaled_data.shape, X.shape, y.shape"
   ]
  },
  {
   "cell_type": "code",
   "execution_count": 159,
   "metadata": {},
   "outputs": [],
   "source": [
    "# Dividir os dados em treinamento e teste\n",
    "# O argumento shuffle=False desativa a aleatorização dos dados\n",
    "X_train, X_test, y_train, y_test = train_test_split(X, y, test_size=0.2, shuffle=False)"
   ]
  },
  {
   "cell_type": "code",
   "execution_count": 160,
   "metadata": {},
   "outputs": [],
   "source": [
    "# Ajustar o formato para o LSTM\n",
    "X_train = np.reshape(X_train, (X_train.shape[0], X_train.shape[1], 1))\n",
    "X_test = np.reshape(X_test, (X_test.shape[0], X_test.shape[1], 1))"
   ]
  },
  {
   "cell_type": "code",
   "execution_count": 161,
   "metadata": {},
   "outputs": [
    {
     "data": {
      "text/plain": [
       "237"
      ]
     },
     "execution_count": 161,
     "metadata": {},
     "output_type": "execute_result"
    }
   ],
   "source": [
    "len(X_test)\n",
    "# X = 1184 (5 anos de dias úteis em janelas de 60 dias [71040 valores])\n",
    "# X_test = 237 dias (20% dos 5 anos de dias úteis em janelas de 60 dias [14220 valores])\n",
    "# y = 1184 valores reais da ação\n",
    "# y_test = 20% dos valores reais da ação que serão utilizados para comparmos as nossas previsões"
   ]
  },
  {
   "cell_type": "code",
   "execution_count": 162,
   "metadata": {},
   "outputs": [],
   "source": [
    "# Criação de um modelo sequencial, onde as camadas são empilhadas uma após a outra\n",
    "model = Sequential([\n",
    "    # Define a forma da entrada: uma sequência de 'window_size' passos, cada um com 1 feature (ex: preço de fechamento da ação)\n",
    "    Input(shape=(window_size, 1)),\n",
    "    # Primeira camada LSTM com 100 unidades; retorna a sequência completa (uma saída por passo de tempo)\n",
    "    LSTM(100, return_sequences=True),\n",
    "    # Dropout de 30% para evitar overfitting (desativa aleatoriamente 30% dos neurônios durante o treino)\n",
    "    Dropout(0.3),\n",
    "    # Segunda camada LSTM com 100 unidades; também retorna a sequência completa\n",
    "    LSTM(100, return_sequences=True),\n",
    "    # Outro Dropout de 30% para regularização\n",
    "    Dropout(0.3),\n",
    "    # Terceira camada LSTM com 100 unidades; agora retorna apenas a última saída da sequência\n",
    "    LSTM(100),\n",
    "    # Mais um Dropout de 30% antes da saída final\n",
    "    Dropout(0.3),\n",
    "    # Camada densa (totalmente conectada) com 1 unidade; representa o valor final previsto (ex: o próximo valor)\n",
    "    Dense(1)\n",
    "])\n"
   ]
  },
  {
   "cell_type": "code",
   "execution_count": 163,
   "metadata": {},
   "outputs": [],
   "source": [
    "model.compile(optimizer=Adam(learning_rate=0.001), loss='mean_squared_error')\n"
   ]
  },
  {
   "cell_type": "code",
   "execution_count": null,
   "metadata": {},
   "outputs": [
    {
     "name": "stdout",
     "output_type": "stream",
     "text": [
      "Epoch 1/100\n",
      "\u001b[1m30/30\u001b[0m \u001b[32m━━━━━━━━━━━━━━━━━━━━\u001b[0m\u001b[37m\u001b[0m \u001b[1m5s\u001b[0m 73ms/step - loss: 0.0290 - val_loss: 2.5361e-04 - learning_rate: 0.0010\n",
      "Epoch 2/100\n",
      "\u001b[1m30/30\u001b[0m \u001b[32m━━━━━━━━━━━━━━━━━━━━\u001b[0m\u001b[37m\u001b[0m \u001b[1m3s\u001b[0m 97ms/step - loss: 0.0030 - val_loss: 2.9341e-04 - learning_rate: 0.0010\n",
      "Epoch 3/100\n",
      "\u001b[1m30/30\u001b[0m \u001b[32m━━━━━━━━━━━━━━━━━━━━\u001b[0m\u001b[37m\u001b[0m \u001b[1m5s\u001b[0m 96ms/step - loss: 0.0024 - val_loss: 9.5121e-05 - learning_rate: 0.0010\n",
      "Epoch 4/100\n",
      "\u001b[1m30/30\u001b[0m \u001b[32m━━━━━━━━━━━━━━━━━━━━\u001b[0m\u001b[37m\u001b[0m \u001b[1m3s\u001b[0m 94ms/step - loss: 0.0023 - val_loss: 1.8130e-05 - learning_rate: 0.0010\n",
      "Epoch 5/100\n",
      "\u001b[1m30/30\u001b[0m \u001b[32m━━━━━━━━━━━━━━━━━━━━\u001b[0m\u001b[37m\u001b[0m \u001b[1m5s\u001b[0m 97ms/step - loss: 0.0022 - val_loss: 1.7655e-05 - learning_rate: 0.0010\n",
      "Epoch 6/100\n",
      "\u001b[1m30/30\u001b[0m \u001b[32m━━━━━━━━━━━━━━━━━━━━\u001b[0m\u001b[37m\u001b[0m \u001b[1m5s\u001b[0m 92ms/step - loss: 0.0032 - val_loss: 8.9833e-05 - learning_rate: 0.0010\n",
      "Epoch 7/100\n",
      "\u001b[1m30/30\u001b[0m \u001b[32m━━━━━━━━━━━━━━━━━━━━\u001b[0m\u001b[37m\u001b[0m \u001b[1m3s\u001b[0m 95ms/step - loss: 0.0022 - val_loss: 3.5989e-05 - learning_rate: 0.0010\n",
      "Epoch 8/100\n",
      "\u001b[1m30/30\u001b[0m \u001b[32m━━━━━━━━━━━━━━━━━━━━\u001b[0m\u001b[37m\u001b[0m \u001b[1m5s\u001b[0m 89ms/step - loss: 0.0019 - val_loss: 4.6728e-05 - learning_rate: 0.0010\n",
      "Epoch 9/100\n",
      "\u001b[1m30/30\u001b[0m \u001b[32m━━━━━━━━━━━━━━━━━━━━\u001b[0m\u001b[37m\u001b[0m \u001b[1m5s\u001b[0m 99ms/step - loss: 0.0023 - val_loss: 1.9389e-05 - learning_rate: 5.0000e-04\n",
      "Epoch 10/100\n",
      "\u001b[1m30/30\u001b[0m \u001b[32m━━━━━━━━━━━━━━━━━━━━\u001b[0m\u001b[37m\u001b[0m \u001b[1m6s\u001b[0m 112ms/step - loss: 0.0023 - val_loss: 1.6638e-05 - learning_rate: 5.0000e-04\n",
      "Epoch 11/100\n",
      "\u001b[1m30/30\u001b[0m \u001b[32m━━━━━━━━━━━━━━━━━━━━\u001b[0m\u001b[37m\u001b[0m \u001b[1m5s\u001b[0m 93ms/step - loss: 0.0017 - val_loss: 6.3581e-05 - learning_rate: 5.0000e-04\n",
      "Epoch 12/100\n",
      "\u001b[1m30/30\u001b[0m \u001b[32m━━━━━━━━━━━━━━━━━━━━\u001b[0m\u001b[37m\u001b[0m \u001b[1m3s\u001b[0m 97ms/step - loss: 0.0016 - val_loss: 7.1355e-05 - learning_rate: 5.0000e-04\n",
      "Epoch 13/100\n",
      "\u001b[1m30/30\u001b[0m \u001b[32m━━━━━━━━━━━━━━━━━━━━\u001b[0m\u001b[37m\u001b[0m \u001b[1m6s\u001b[0m 131ms/step - loss: 0.0018 - val_loss: 1.0319e-04 - learning_rate: 5.0000e-04\n",
      "Epoch 14/100\n",
      "\u001b[1m30/30\u001b[0m \u001b[32m━━━━━━━━━━━━━━━━━━━━\u001b[0m\u001b[37m\u001b[0m \u001b[1m3s\u001b[0m 111ms/step - loss: 0.0018 - val_loss: 3.2123e-05 - learning_rate: 2.5000e-04\n",
      "Epoch 15/100\n"
     ]
    }
   ],
   "source": [
    "# Treinar o modelo\n",
    "early_stopping = EarlyStopping(monitor='val_loss', patience=10, restore_best_weights=True)\n",
    "reduce_lr = ReduceLROnPlateau(monitor='val_loss', factor=0.5, patience=5, min_lr=1e-5)\n",
    "\n",
    "model.fit(X_train, y_train, \n",
    "               epochs=100, \n",
    "               batch_size=32, \n",
    "               validation_data=(X_test, y_test),\n",
    "               callbacks=[early_stopping, reduce_lr], \n",
    "               verbose=1)\n"
   ]
  },
  {
   "cell_type": "code",
   "execution_count": null,
   "metadata": {},
   "outputs": [
    {
     "name": "stdout",
     "output_type": "stream",
     "text": [
      "\u001b[1m8/8\u001b[0m \u001b[32m━━━━━━━━━━━━━━━━━━━━\u001b[0m\u001b[37m\u001b[0m \u001b[1m1s\u001b[0m 51ms/step\n"
     ]
    }
   ],
   "source": [
    "# Fazer previsões\n",
    "predicted_prices = model.predict(X_test)\n",
    "\n",
    "# Inverter a normalização\n",
    "predicted_prices = scaler.inverse_transform(predicted_prices)"
   ]
  },
  {
   "cell_type": "code",
   "execution_count": null,
   "metadata": {},
   "outputs": [],
   "source": [
    "# Cria um DataFrame com as datas, os valores reais e os valores previstos\n",
    "df_predictions = pd.DataFrame({\n",
    "    \"Date\": ativo.index[len(X_train) + window_size : len(X_train) + window_size + len(predicted_prices)],\n",
    "    \"Real\": ativo['Close'].iloc[len(X_train) + window_size : len(X_train) + window_size + len(predicted_prices)].values.flatten(),\n",
    "    \"Previsão\": predicted_prices.flatten()\n",
    "})\n",
    "\n",
    "# Formata a coluna de data e define como índice\n",
    "df_predictions[\"Date\"] = pd.to_datetime(df_predictions[\"Date\"])\n",
    "df_predictions.set_index(\"Date\", inplace=True)\n"
   ]
  },
  {
   "cell_type": "code",
   "execution_count": null,
   "metadata": {},
   "outputs": [
    {
     "data": {
      "text/html": [
       "<div>\n",
       "<style scoped>\n",
       "    .dataframe tbody tr th:only-of-type {\n",
       "        vertical-align: middle;\n",
       "    }\n",
       "\n",
       "    .dataframe tbody tr th {\n",
       "        vertical-align: top;\n",
       "    }\n",
       "\n",
       "    .dataframe thead th {\n",
       "        text-align: right;\n",
       "    }\n",
       "</style>\n",
       "<table border=\"1\" class=\"dataframe\">\n",
       "  <thead>\n",
       "    <tr style=\"text-align: right;\">\n",
       "      <th></th>\n",
       "      <th>Real</th>\n",
       "      <th>Previsão</th>\n",
       "    </tr>\n",
       "    <tr>\n",
       "      <th>Date</th>\n",
       "      <th></th>\n",
       "      <th></th>\n",
       "    </tr>\n",
       "  </thead>\n",
       "  <tbody>\n",
       "    <tr>\n",
       "      <th>2024-10-11</th>\n",
       "      <td>4.71</td>\n",
       "      <td>4.683076</td>\n",
       "    </tr>\n",
       "    <tr>\n",
       "      <th>2024-10-14</th>\n",
       "      <td>4.60</td>\n",
       "      <td>4.652227</td>\n",
       "    </tr>\n",
       "    <tr>\n",
       "      <th>2024-10-15</th>\n",
       "      <td>4.50</td>\n",
       "      <td>4.616651</td>\n",
       "    </tr>\n",
       "    <tr>\n",
       "      <th>2024-10-16</th>\n",
       "      <td>4.35</td>\n",
       "      <td>4.575597</td>\n",
       "    </tr>\n",
       "    <tr>\n",
       "      <th>2024-10-17</th>\n",
       "      <td>4.41</td>\n",
       "      <td>4.527838</td>\n",
       "    </tr>\n",
       "    <tr>\n",
       "      <th>...</th>\n",
       "      <td>...</td>\n",
       "      <td>...</td>\n",
       "    </tr>\n",
       "    <tr>\n",
       "      <th>2025-09-18</th>\n",
       "      <td>0.54</td>\n",
       "      <td>0.404625</td>\n",
       "    </tr>\n",
       "    <tr>\n",
       "      <th>2025-09-19</th>\n",
       "      <td>0.55</td>\n",
       "      <td>0.403692</td>\n",
       "    </tr>\n",
       "    <tr>\n",
       "      <th>2025-09-22</th>\n",
       "      <td>0.55</td>\n",
       "      <td>0.403282</td>\n",
       "    </tr>\n",
       "    <tr>\n",
       "      <th>2025-09-23</th>\n",
       "      <td>0.54</td>\n",
       "      <td>0.403340</td>\n",
       "    </tr>\n",
       "    <tr>\n",
       "      <th>2025-09-24</th>\n",
       "      <td>0.54</td>\n",
       "      <td>0.403613</td>\n",
       "    </tr>\n",
       "  </tbody>\n",
       "</table>\n",
       "<p>237 rows × 2 columns</p>\n",
       "</div>"
      ],
      "text/plain": [
       "            Real  Previsão\n",
       "Date                      \n",
       "2024-10-11  4.71  4.683076\n",
       "2024-10-14  4.60  4.652227\n",
       "2024-10-15  4.50  4.616651\n",
       "2024-10-16  4.35  4.575597\n",
       "2024-10-17  4.41  4.527838\n",
       "...          ...       ...\n",
       "2025-09-18  0.54  0.404625\n",
       "2025-09-19  0.55  0.403692\n",
       "2025-09-22  0.55  0.403282\n",
       "2025-09-23  0.54  0.403340\n",
       "2025-09-24  0.54  0.403613\n",
       "\n",
       "[237 rows x 2 columns]"
      ]
     },
     "execution_count": 139,
     "metadata": {},
     "output_type": "execute_result"
    }
   ],
   "source": [
    "df_predictions"
   ]
  },
  {
   "cell_type": "code",
   "execution_count": null,
   "metadata": {},
   "outputs": [
    {
     "name": "stdout",
     "output_type": "stream",
     "text": [
      "📊 MÉTRICAS DE ERRO DO MODELO LSTM 📊\n",
      "\n",
      "🔹 MAE  (Erro Absoluto Médio):\n",
      "     → Em média, o modelo erra cerca de 0.2186 unidades em cada previsão.\n",
      "\n",
      "🔹 MSE  (Erro Quadrático Médio):\n",
      "     → Erros maiores são penalizados. Valor: 0.2016\n",
      "\n",
      "🔹 RMSE (Raiz do Erro Médio Quadrático):\n",
      "     → Erro médio em unidades reais: 0.4490\n",
      "\n",
      "🔹 R²   (Coeficiente de Determinação):\n",
      "     → 0.8253 (ou 82.53%) da variação nos dados reais foi explicada pelo modelo.\n",
      "\n",
      "✅ Interpretação rápida:\n",
      "     • Quanto menores o MAE, MSE e RMSE, melhor o modelo.\n",
      "     • Quanto mais próximo de 1 o R², melhor a qualidade da previsão.\n"
     ]
    }
   ],
   "source": [
    "# Calcular métricas de desempenho do modelo\n",
    "mae = mean_absolute_error(df_predictions[\"Real\"], df_predictions[\"Previsão\"])  # Erro absoluto médio\n",
    "mse = mean_squared_error(df_predictions[\"Real\"], df_predictions[\"Previsão\"])  # Erro quadrático médio\n",
    "rmse = np.sqrt(mse)  # Raiz do erro quadrático médio\n",
    "r2 = r2_score(df_predictions[\"Real\"], df_predictions[\"Previsão\"])  # Coeficiente de determinação (R²)\n",
    "\n",
    "# Imprimir as métricas com comentários para organização\n",
    "print(\"📊 MÉTRICAS DE ERRO DO MODELO LSTM 📊\\n\")\n",
    "\n",
    "print(\"🔹 MAE  (Erro Absoluto Médio):\")\n",
    "print(f\"     → Em média, o modelo erra cerca de {mae:.4f} unidades em cada previsão.\\n\")\n",
    "\n",
    "print(\"🔹 MSE  (Erro Quadrático Médio):\")\n",
    "print(f\"     → Erros maiores são penalizados. Valor: {mse:.4f}\\n\")\n",
    "\n",
    "print(\"🔹 RMSE (Raiz do Erro Médio Quadrático):\")\n",
    "print(f\"     → Erro médio em unidades reais: {rmse:.4f}\\n\")\n",
    "\n",
    "print(\"🔹 R²   (Coeficiente de Determinação):\")\n",
    "print(f\"     → {r2:.4f} (ou {r2 * 100:.2f}%) da variação nos dados reais foi explicada pelo modelo.\\n\")\n",
    "\n",
    "print(\"✅ Interpretação rápida:\")\n",
    "print(\"     • Quanto menores o MAE, MSE e RMSE, melhor o modelo.\")\n",
    "print(\"     • Quanto mais próximo de 1 o R², melhor a qualidade da previsão.\")\n"
   ]
  },
  {
   "cell_type": "code",
   "execution_count": null,
   "metadata": {},
   "outputs": [
    {
     "data": {
      "image/png": "[encoded data removed]",
      "text/plain": [
       "<Figure size 1200x600 with 1 Axes>"
      ]
     },
     "metadata": {},
     "output_type": "display_data"
    }
   ],
   "source": [
    "import matplotlib.pyplot as plt\n",
    "\n",
    "# Criar o gráfico\n",
    "plt.figure(figsize=(12, 6))\n",
    "plt.plot(df_predictions.index, df_predictions[\"Real\"], label=\"Preço Real\", linestyle=\"-\", color=\"blue\")\n",
    "plt.plot(df_predictions.index, df_predictions[\"Previsão\"], label=\"Previsão LSTM\", linestyle=\"--\", color=\"red\")\n",
    "\n",
    "# Adicionar títulos e legendas\n",
    "plt.title(\"Comparação entre Preço Real e Previsão do Modelo LSTM\", fontsize=14)\n",
    "plt.xlabel(\"Data\", fontsize=12)\n",
    "plt.ylabel(\"Preço de Fechamento\", fontsize=12)\n",
    "plt.legend()\n",
    "plt.grid(True)\n",
    "\n",
    "# Mostrar o gráfico\n",
    "plt.show()\n"
   ]
  },
  {
   "cell_type": "code",
   "execution_count": null,
   "metadata": {},
   "outputs": [
    {
     "name": "stdout",
     "output_type": "stream",
     "text": [
      "Media lucro: Modelo acertou tendência\n",
      "False    0.040291\n",
      "True     0.036377\n",
      "Name: Variação percentual real absoluto, dtype: float64\n",
      "Ganho sobre perda: 0.9028703471988417\n",
      "Acertou lado: 0.5677966101694916\n",
      "rendimento diário: 0.3241%\n"
     ]
    },
    {
     "name": "stderr",
     "output_type": "stream",
     "text": [
      "C:\\Users\\ramon\\AppData\\Local\\Temp\\ipykernel_28676\\3448409587.py:46: FutureWarning: Series.__getitem__ treating keys as positions is deprecated. In a future version, integer keys will always be treated as labels (consistent with DataFrame behavior). To access a value by position, use `ser.iloc[pos]`\n",
      "  exp_mat_lucro = acertou_lado * media_lucro[1] - media_lucro[0] * errou_lado\n",
      "C:\\Users\\ramon\\AppData\\Local\\Temp\\ipykernel_28676\\3448409587.py:49: FutureWarning: Series.__getitem__ treating keys as positions is deprecated. In a future version, integer keys will always be treated as labels (consistent with DataFrame behavior). To access a value by position, use `ser.iloc[pos]`\n",
      "  ganho_sobre_perda = media_lucro[1]/media_lucro[0]\n"
     ]
    }
   ],
   "source": [
    "# Calcular média de acertos e expectativa de lucro\n",
    "df_predictions = df_predictions.copy()\n",
    "\n",
    "df_predictions['Variação percentual real'] = df_predictions['Real'].pct_change()\n",
    "\n",
    "#Nova coluna com a variação percentual da ação prevista\n",
    "df_predictions['Variação percentual previsão'] = df_predictions['Previsão'].pct_change()\n",
    "\n",
    "#Remover valores nulos\n",
    "df_predictions = df_predictions.dropna()\n",
    "\n",
    "#Nova coluna com a informação se a ação subiu ou não\n",
    "df_predictions['Ação subiu'] = np.where(df_predictions['Variação percentual real'] > 0, \n",
    "                                                      True, False)\n",
    "\n",
    "#Nova coluna com a informação se a previsão subiu ou não\n",
    "df_predictions['Previsão subiu'] = np.where(df_predictions['Variação percentual previsão'] > 0, \n",
    "                                                      True, False)\n",
    "\n",
    "#Nova coluna com a informação se o modelo acertou a tendência\n",
    "df_predictions['Modelo acertou tendência'] = np.where(df_predictions['Ação subiu'] == df_predictions['Previsão subiu']\n",
    "                                      , True, False)\n",
    "\n",
    "#Nova coluna com a variação percentual real absoluta\n",
    "df_predictions['Variação percentual real absoluto'] = df_predictions['Variação percentual real'].abs()\n",
    "\n",
    "#calcular media de acertos e expectativa de lucro\n",
    "acertou_lado = df_predictions['Modelo acertou tendência'].sum()/len(df_predictions['Modelo acertou tendência'])\n",
    "\n",
    "#calcular media de erros e expectativa de lucro\n",
    "errou_lado = 1 - acertou_lado\n",
    "\n",
    "#calcular media de lucro agrupado por acertos e erros\n",
    "media_lucro = df_predictions.groupby('Modelo acertou tendência')['Variação percentual real absoluto'].mean()\n",
    "\n",
    "#calcular media de acertos e expectativa de lucro\n",
    "acertou_lado = df_predictions['Modelo acertou tendência'].sum()/len(df_predictions['Modelo acertou tendência'])\n",
    "\n",
    "#calcular media de erros e expectativa de lucro\n",
    "errou_lado = 1 - acertou_lado\n",
    "\n",
    "#calcular media de lucro agrupado por acertos e erros\n",
    "media_lucro = df_predictions.groupby('Modelo acertou tendência')['Variação percentual real absoluto'].mean()\n",
    "\n",
    "#calcular expectativa matematica de lucro\n",
    "exp_mat_lucro = acertou_lado * media_lucro[1] - media_lucro[0] * errou_lado\n",
    "\n",
    "#calcular ganho sobre perda\n",
    "ganho_sobre_perda = media_lucro[1]/media_lucro[0]\n",
    "\n",
    "#calcular rendimento diario\n",
    "exp_mat_lucro_percent = exp_mat_lucro * 100\n",
    "\n",
    "print(\"📊 MÉTRICAS DO MODELO - Último ano 📊\\n\")\n",
    "print(f\"Media lucro: {media_lucro}\")\n",
    "print(f\"Ganho sobre perda: {ganho_sobre_perda}\")\n",
    "print(f\"Acertou lado: {acertou_lado}\")\n",
    "print(\"rendimento diário: \" + str(round(exp_mat_lucro_percent, 4)) + \"%\")\n"
   ]
  },
  {
   "cell_type": "code",
   "execution_count": null,
   "metadata": {},
   "outputs": [
    {
     "name": "stdout",
     "output_type": "stream",
     "text": [
      "📊 MÉTRICAS DO MODELO - Último mês 📊\n",
      "\n",
      "Media lucro: Modelo acertou tendência\n",
      "False    0.029118\n",
      "True     0.016607\n",
      "Name: Variação percentual real absoluto, dtype: float64\n",
      "Ganho sobre perda: 0.5703\n",
      "Acertou lado: 0.4545\n",
      "Rendimento diário esperado: -0.8334%\n"
     ]
    }
   ],
   "source": [
    "# Garante que o índice está como datetime\n",
    "df_predictions.index = pd.to_datetime(df_predictions.index)\n",
    "\n",
    "# Define a data final (último dia disponível) e inicial (30 dias antes)\n",
    "data_final = df_predictions.index.max()\n",
    "data_inicial = data_final - timedelta(days=30)\n",
    "\n",
    "# Filtra apenas o último mês\n",
    "ultimo_mes = df_predictions.loc[data_inicial:data_final].copy()\n",
    "\n",
    "# --- Cálculo das métricas de rendimento diário ---\n",
    "# Colunas necessárias (valores já como float)\n",
    "ultimo_mes['Variação percentual real'] = ultimo_mes['Real'].pct_change()\n",
    "ultimo_mes['Variação percentual previsão'] = ultimo_mes['Previsão'].pct_change()\n",
    "\n",
    "# Remover valores nulos\n",
    "ultimo_mes = ultimo_mes.dropna()\n",
    "\n",
    "# Acertos de tendência\n",
    "ultimo_mes['Ação subiu'] = ultimo_mes['Variação percentual real'] > 0\n",
    "ultimo_mes['Previsão subiu'] = ultimo_mes['Variação percentual previsão'] > 0\n",
    "ultimo_mes['Modelo acertou tendência'] = ultimo_mes['Ação subiu'] == ultimo_mes['Previsão subiu']\n",
    "\n",
    "# Variação percentual absoluta\n",
    "ultimo_mes['Variação percentual real absoluto'] = ultimo_mes['Variação percentual real'].abs()\n",
    "\n",
    "# Probabilidades de acerto e erro\n",
    "acertou_lado = ultimo_mes['Modelo acertou tendência'].mean()\n",
    "errou_lado = 1 - acertou_lado\n",
    "\n",
    "# Média de lucro por acertos/erros\n",
    "media_lucro = ultimo_mes.groupby('Modelo acertou tendência')['Variação percentual real absoluto'].mean()\n",
    "\n",
    "# Expectativa matemática de lucro diário\n",
    "exp_mat_lucro = acertou_lado * media_lucro[True] - errou_lado * media_lucro[False]\n",
    "exp_mat_lucro_percent = exp_mat_lucro * 100\n",
    "\n",
    "# Ganho sobre perda\n",
    "ganho_sobre_perda = media_lucro[True] / media_lucro[False]\n",
    "\n",
    "# --- Impressão dos resultados ---\n",
    "print(\"📊 MÉTRICAS DO MODELO - Último mês 📊\\n\")\n",
    "print(f\"Media lucro: {media_lucro}\")\n",
    "print(f\"Ganho sobre perda: {ganho_sobre_perda:.4f}\")\n",
    "print(f\"Acertou lado: {acertou_lado:.4f}\")\n",
    "print(f\"Rendimento diário esperado: {exp_mat_lucro_percent:.4f}%\")"
   ]
  },
  {
   "cell_type": "code",
   "execution_count": null,
   "metadata": {},
   "outputs": [
    {
     "name": "stdout",
     "output_type": "stream",
     "text": [
      "\u001b[1m1/1\u001b[0m \u001b[32m━━━━━━━━━━━━━━━━━━━━\u001b[0m\u001b[37m\u001b[0m \u001b[1m0s\u001b[0m 38ms/step\n",
      "\n",
      "Preço de fechamento previsto para amanhã:\n",
      "R$ 0.40\n"
     ]
    }
   ],
   "source": [
    "# Define o horário atual\n",
    "#teste\n",
    "hoje = datetime.now()\n",
    "\n",
    "# Define se a previsão será para hoje ou amanhã com base no horário\n",
    "if hoje.hour > 18:\n",
    "    texto_previsao = \"\\nPreço de fechamento previsto para amanhã:\"\n",
    "else:\n",
    "    texto_previsao = \"\\nPreço de fechamento previsto para hoje:\"\n",
    "\n",
    "# Obtém a última janela usada no treinamento\n",
    "ultima_janela = X_test[-1]\n",
    "\n",
    "# Redimensiona para shape (1, window_size, 1) para prever\n",
    "X_input = ultima_janela.reshape(1, ultima_janela.shape[0], 1)\n",
    "\n",
    "# Faz a previsão\n",
    "predicted_price = model.predict(X_input)\n",
    "\n",
    "# Reverte a escala\n",
    "predicted_price = scaler.inverse_transform(predicted_price)\n",
    "\n",
    "# Mostra o resultado\n",
    "print(texto_previsao)\n",
    "print(f\"R$ {predicted_price[0][0]:.2f}\")"
   ]
  },
  {
   "cell_type": "code",
   "execution_count": null,
   "metadata": {},
   "outputs": [
    {
     "name": "stdout",
     "output_type": "stream",
     "text": [
      "📊 Comparativo de Preço Real vs Estimado:\n",
      "\n"
     ]
    },
    {
     "data": {
      "text/html": [
       "<div>\n",
       "<style scoped>\n",
       "    .dataframe tbody tr th:only-of-type {\n",
       "        vertical-align: middle;\n",
       "    }\n",
       "\n",
       "    .dataframe tbody tr th {\n",
       "        vertical-align: top;\n",
       "    }\n",
       "\n",
       "    .dataframe thead th {\n",
       "        text-align: right;\n",
       "    }\n",
       "</style>\n",
       "<table border=\"1\" class=\"dataframe\">\n",
       "  <thead>\n",
       "    <tr style=\"text-align: right;\">\n",
       "      <th></th>\n",
       "      <th>Preço Real</th>\n",
       "      <th>Preço Estimado</th>\n",
       "    </tr>\n",
       "    <tr>\n",
       "      <th>Date</th>\n",
       "      <th></th>\n",
       "      <th></th>\n",
       "    </tr>\n",
       "  </thead>\n",
       "  <tbody>\n",
       "    <tr>\n",
       "      <th>2025-09-22</th>\n",
       "      <td>R$ 0.55</td>\n",
       "      <td>R$ 0.40</td>\n",
       "    </tr>\n",
       "    <tr>\n",
       "      <th>2025-09-23</th>\n",
       "      <td>R$ 0.54</td>\n",
       "      <td>R$ 0.40</td>\n",
       "    </tr>\n",
       "    <tr>\n",
       "      <th>2025-09-24</th>\n",
       "      <td>R$ 0.54</td>\n",
       "      <td>R$ 0.40</td>\n",
       "    </tr>\n",
       "  </tbody>\n",
       "</table>\n",
       "</div>"
      ],
      "text/plain": [
       "           Preço Real Preço Estimado\n",
       "Date                                \n",
       "2025-09-22    R$ 0.55        R$ 0.40\n",
       "2025-09-23    R$ 0.54        R$ 0.40\n",
       "2025-09-24    R$ 0.54        R$ 0.40"
      ]
     },
     "metadata": {},
     "output_type": "display_data"
    }
   ],
   "source": [
    "import pandas as pd\n",
    "from datetime import timedelta\n",
    "\n",
    "# Define o número de dias para exibir\n",
    "dias_passados = 4\n",
    "dias_futuros = 1\n",
    "\n",
    "# Garante que o DataFrame de previsões está com o índice como datetime\n",
    "df_predictions.index = pd.to_datetime(df_predictions.index)\n",
    "\n",
    "# Define a data final (último dia disponível)\n",
    "data_final = df_predictions.index.max()\n",
    "\n",
    "# Define o intervalo de datas: do passado até o futuro\n",
    "data_inicial = data_final - timedelta(days=dias_passados)\n",
    "data_futura = data_final + timedelta(days=dias_futuros)\n",
    "\n",
    "# Filtra o DataFrame para o intervalo desejado e apenas as colunas 'Real' e 'Previsão'\n",
    "df_resultado = df_predictions.loc[data_inicial:data_futura, ['Real', 'Previsão']].copy()\n",
    "\n",
    "# Formata os valores para 2 casas decimais\n",
    "df_resultado['Real'] = df_resultado['Real'].map(lambda x: f\"R$ {x:.2f}\")\n",
    "df_resultado['Previsão'] = df_resultado['Previsão'].map(lambda x: f\"R$ {x:.2f}\")\n",
    "\n",
    "# Renomeia as colunas\n",
    "df_resultado.columns = ['Preço Real', 'Preço Estimado']\n",
    "\n",
    "# Exibe o resultado\n",
    "print(\"📊 Comparativo de Preço Real vs Estimado:\\n\")\n",
    "display(df_resultado)\n"
   ]
  }
 ],
 "metadata": {
  "kernelspec": {
   "display_name": "Python 3",
   "language": "python",
   "name": "python3"
  },
  "language_info": {
   "codemirror_mode": {
    "name": "ipython",
    "version": 3
   },
   "file_extension": ".py",
   "mimetype": "text/x-python",
   "name": "python",
   "nbconvert_exporter": "python",
   "pygments_lexer": "ipython3",
   "version": "3.12.1"
  }
 },
 "nbformat": 4,
 "nbformat_minor": 2
}
