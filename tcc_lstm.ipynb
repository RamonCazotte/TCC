{
 "cells": [
  {
   "cell_type": "markdown",
   "metadata": {},
   "source": [
    "LSTM"
   ]
  },
  {
   "cell_type": "code",
   "execution_count": 1,
   "metadata": {},
   "outputs": [
    {
     "name": "stdout",
     "output_type": "stream",
     "text": [
      "Requirement already satisfied: yfinance in c:\\python312\\lib\\site-packages (0.2.50)\n",
      "Requirement already satisfied: pandas>=1.3.0 in c:\\python312\\lib\\site-packages (from yfinance) (2.2.1)\n",
      "Requirement already satisfied: numpy>=1.16.5 in c:\\python312\\lib\\site-packages (from yfinance) (1.26.4)\n",
      "Requirement already satisfied: requests>=2.31 in c:\\python312\\lib\\site-packages (from yfinance) (2.31.0)\n",
      "Requirement already satisfied: multitasking>=0.0.7 in c:\\python312\\lib\\site-packages (from yfinance) (0.0.11)\n",
      "Requirement already satisfied: lxml>=4.9.1 in c:\\python312\\lib\\site-packages (from yfinance) (5.3.0)\n",
      "Requirement already satisfied: platformdirs>=2.0.0 in c:\\users\\pedro\\appdata\\roaming\\python\\python312\\site-packages (from yfinance) (4.2.0)\n",
      "Requirement already satisfied: pytz>=2022.5 in c:\\python312\\lib\\site-packages (from yfinance) (2024.1)\n",
      "Requirement already satisfied: frozendict>=2.3.4 in c:\\python312\\lib\\site-packages (from yfinance) (2.4.6)\n",
      "Requirement already satisfied: peewee>=3.16.2 in c:\\python312\\lib\\site-packages (from yfinance) (3.17.8)\n",
      "Requirement already satisfied: beautifulsoup4>=4.11.1 in c:\\python312\\lib\\site-packages (from yfinance) (4.12.3)\n",
      "Requirement already satisfied: html5lib>=1.1 in c:\\python312\\lib\\site-packages (from yfinance) (1.1)\n",
      "Requirement already satisfied: soupsieve>1.2 in c:\\python312\\lib\\site-packages (from beautifulsoup4>=4.11.1->yfinance) (2.5)\n",
      "Requirement already satisfied: six>=1.9 in c:\\python312\\lib\\site-packages (from html5lib>=1.1->yfinance) (1.16.0)\n",
      "Requirement already satisfied: webencodings in c:\\python312\\lib\\site-packages (from html5lib>=1.1->yfinance) (0.5.1)\n",
      "Requirement already satisfied: python-dateutil>=2.8.2 in c:\\python312\\lib\\site-packages (from pandas>=1.3.0->yfinance) (2.8.2)\n",
      "Requirement already satisfied: tzdata>=2022.7 in c:\\python312\\lib\\site-packages (from pandas>=1.3.0->yfinance) (2024.1)\n",
      "Requirement already satisfied: charset-normalizer<4,>=2 in c:\\python312\\lib\\site-packages (from requests>=2.31->yfinance) (3.3.2)\n",
      "Requirement already satisfied: idna<4,>=2.5 in c:\\python312\\lib\\site-packages (from requests>=2.31->yfinance) (3.7)\n",
      "Requirement already satisfied: urllib3<3,>=1.21.1 in c:\\python312\\lib\\site-packages (from requests>=2.31->yfinance) (2.2.1)\n",
      "Requirement already satisfied: certifi>=2017.4.17 in c:\\python312\\lib\\site-packages (from requests>=2.31->yfinance) (2024.2.2)\n"
     ]
    },
    {
     "name": "stderr",
     "output_type": "stream",
     "text": [
      "\n",
      "[notice] A new release of pip is available: 24.0 -> 25.0\n",
      "[notice] To update, run: python.exe -m pip install --upgrade pip\n"
     ]
    }
   ],
   "source": [
    "!pip install yfinance"
   ]
  },
  {
   "cell_type": "code",
   "execution_count": 2,
   "metadata": {},
   "outputs": [],
   "source": [
    "import yfinance as yf\n",
    "import pandas as pd\n",
    "import numpy as np\n",
    "from sklearn.model_selection import train_test_split\n",
    "from sklearn.preprocessing import MinMaxScaler\n",
    "from tensorflow.keras.models import Sequential\n",
    "from tensorflow.keras.layers import LSTM, Dense, Dropout\n",
    "from sklearn.ensemble import RandomForestRegressor\n",
    "from sklearn.metrics import mean_squared_error\n",
    "import matplotlib.pyplot as plt\n"
   ]
  },
  {
   "cell_type": "code",
   "execution_count": 3,
   "metadata": {},
   "outputs": [
    {
     "name": "stderr",
     "output_type": "stream",
     "text": [
      "[*********************100%***********************]  1 of 1 completed\n"
     ]
    }
   ],
   "source": [
    "\n",
    "# Baixar dados históricos da ação MGLU3 dos últimos 5 anos\n",
    "mglu3 = yf.download('MGLU3.SA', period=\"5y\")\n"
   ]
  },
  {
   "cell_type": "code",
   "execution_count": 4,
   "metadata": {},
   "outputs": [
    {
     "name": "stdout",
     "output_type": "stream",
     "text": [
      "Price        Adj Close       Close        High         Low        Open  \\\n",
      "Ticker        MGLU3.SA    MGLU3.SA    MGLU3.SA    MGLU3.SA    MGLU3.SA   \n",
      "Date                                                                     \n",
      "2020-02-06  130.170090  130.547760  135.972626  130.477600  135.621887   \n",
      "2020-02-07  126.439621  126.806458  130.781586  125.099495  130.243774   \n",
      "2020-02-10  122.126266  122.480591  129.846268  120.516411  126.268646   \n",
      "2020-02-11  126.532883  126.899994  128.139297  120.960693  124.398003   \n",
      "2020-02-12  130.426559  130.804962  132.231339  126.853226  127.507957   \n",
      "\n",
      "Price        Volume  \n",
      "Ticker     MGLU3.SA  \n",
      "Date                 \n",
      "2020-02-06  4401044  \n",
      "2020-02-07  4178576  \n",
      "2020-02-10  5487385  \n",
      "2020-02-11  4057933  \n",
      "2020-02-12  4501544  \n"
     ]
    }
   ],
   "source": [
    "# Exibir os primeiros 5 registros\n",
    "print(mglu3.head(5))"
   ]
  },
  {
   "cell_type": "code",
   "execution_count": 5,
   "metadata": {},
   "outputs": [
    {
     "data": {
      "text/html": [
       "<div>\n",
       "<style scoped>\n",
       "    .dataframe tbody tr th:only-of-type {\n",
       "        vertical-align: middle;\n",
       "    }\n",
       "\n",
       "    .dataframe tbody tr th {\n",
       "        vertical-align: top;\n",
       "    }\n",
       "\n",
       "    .dataframe thead tr th {\n",
       "        text-align: left;\n",
       "    }\n",
       "\n",
       "    .dataframe thead tr:last-of-type th {\n",
       "        text-align: right;\n",
       "    }\n",
       "</style>\n",
       "<table border=\"1\" class=\"dataframe\">\n",
       "  <thead>\n",
       "    <tr>\n",
       "      <th>Price</th>\n",
       "      <th>Adj Close</th>\n",
       "      <th>Close</th>\n",
       "      <th>High</th>\n",
       "      <th>Low</th>\n",
       "      <th>Open</th>\n",
       "      <th>Volume</th>\n",
       "    </tr>\n",
       "    <tr>\n",
       "      <th>Ticker</th>\n",
       "      <th>MGLU3.SA</th>\n",
       "      <th>MGLU3.SA</th>\n",
       "      <th>MGLU3.SA</th>\n",
       "      <th>MGLU3.SA</th>\n",
       "      <th>MGLU3.SA</th>\n",
       "      <th>MGLU3.SA</th>\n",
       "    </tr>\n",
       "    <tr>\n",
       "      <th>Date</th>\n",
       "      <th></th>\n",
       "      <th></th>\n",
       "      <th></th>\n",
       "      <th></th>\n",
       "      <th></th>\n",
       "      <th></th>\n",
       "    </tr>\n",
       "  </thead>\n",
       "  <tbody>\n",
       "    <tr>\n",
       "      <th>2025-01-29</th>\n",
       "      <td>6.59</td>\n",
       "      <td>6.59</td>\n",
       "      <td>6.86</td>\n",
       "      <td>6.46</td>\n",
       "      <td>6.83</td>\n",
       "      <td>20659600</td>\n",
       "    </tr>\n",
       "    <tr>\n",
       "      <th>2025-01-30</th>\n",
       "      <td>7.27</td>\n",
       "      <td>7.27</td>\n",
       "      <td>7.42</td>\n",
       "      <td>6.71</td>\n",
       "      <td>6.71</td>\n",
       "      <td>31780200</td>\n",
       "    </tr>\n",
       "    <tr>\n",
       "      <th>2025-01-31</th>\n",
       "      <td>7.46</td>\n",
       "      <td>7.46</td>\n",
       "      <td>7.56</td>\n",
       "      <td>7.20</td>\n",
       "      <td>7.31</td>\n",
       "      <td>25872400</td>\n",
       "    </tr>\n",
       "    <tr>\n",
       "      <th>2025-02-03</th>\n",
       "      <td>7.22</td>\n",
       "      <td>7.22</td>\n",
       "      <td>7.32</td>\n",
       "      <td>7.08</td>\n",
       "      <td>7.32</td>\n",
       "      <td>22910800</td>\n",
       "    </tr>\n",
       "    <tr>\n",
       "      <th>2025-02-04</th>\n",
       "      <td>7.24</td>\n",
       "      <td>7.24</td>\n",
       "      <td>7.30</td>\n",
       "      <td>6.81</td>\n",
       "      <td>7.15</td>\n",
       "      <td>28804500</td>\n",
       "    </tr>\n",
       "    <tr>\n",
       "      <th>2025-02-05</th>\n",
       "      <td>6.88</td>\n",
       "      <td>6.88</td>\n",
       "      <td>7.21</td>\n",
       "      <td>6.86</td>\n",
       "      <td>7.21</td>\n",
       "      <td>20919700</td>\n",
       "    </tr>\n",
       "    <tr>\n",
       "      <th>2025-02-06</th>\n",
       "      <td>7.39</td>\n",
       "      <td>7.39</td>\n",
       "      <td>7.42</td>\n",
       "      <td>6.91</td>\n",
       "      <td>6.91</td>\n",
       "      <td>27362200</td>\n",
       "    </tr>\n",
       "  </tbody>\n",
       "</table>\n",
       "</div>"
      ],
      "text/plain": [
       "Price      Adj Close    Close     High      Low     Open    Volume\n",
       "Ticker      MGLU3.SA MGLU3.SA MGLU3.SA MGLU3.SA MGLU3.SA  MGLU3.SA\n",
       "Date                                                              \n",
       "2025-01-29      6.59     6.59     6.86     6.46     6.83  20659600\n",
       "2025-01-30      7.27     7.27     7.42     6.71     6.71  31780200\n",
       "2025-01-31      7.46     7.46     7.56     7.20     7.31  25872400\n",
       "2025-02-03      7.22     7.22     7.32     7.08     7.32  22910800\n",
       "2025-02-04      7.24     7.24     7.30     6.81     7.15  28804500\n",
       "2025-02-05      6.88     6.88     7.21     6.86     7.21  20919700\n",
       "2025-02-06      7.39     7.39     7.42     6.91     6.91  27362200"
      ]
     },
     "execution_count": 5,
     "metadata": {},
     "output_type": "execute_result"
    }
   ],
   "source": [
    "# Pegue os 7 últimos elementos do dataframe 'mglu3'\n",
    "mglu3.tail(7)"
   ]
  },
  {
   "cell_type": "code",
   "execution_count": 6,
   "metadata": {},
   "outputs": [
    {
     "data": {
      "text/plain": [
       "array([[130.54776001],\n",
       "       [126.80645752],\n",
       "       [122.48059082],\n",
       "       ...,\n",
       "       [  7.23999977],\n",
       "       [  6.88000011],\n",
       "       [  7.38999987]])"
      ]
     },
     "execution_count": 6,
     "metadata": {},
     "output_type": "execute_result"
    }
   ],
   "source": [
    "# Pega somente o att \"Close\" e armazena em um array bidimensional\n",
    "mglu3_close = mglu3['Close'].dropna().to_numpy().reshape(-1, 1)\n",
    "mglu3_close"
   ]
  },
  {
   "cell_type": "code",
   "execution_count": 7,
   "metadata": {},
   "outputs": [
    {
     "data": {
      "text/plain": [
       "1"
      ]
     },
     "execution_count": 7,
     "metadata": {},
     "output_type": "execute_result"
    }
   ],
   "source": [
    "mglu3_close[0].size"
   ]
  },
  {
   "cell_type": "code",
   "execution_count": 8,
   "metadata": {},
   "outputs": [],
   "source": [
    "# Criar um DataFrame com os valores ajustados\n",
    "data = pd.DataFrame(mglu3_close)\n",
    "data.columns = ['Close']"
   ]
  },
  {
   "cell_type": "code",
   "execution_count": 9,
   "metadata": {},
   "outputs": [],
   "source": [
    "# Normalizar os dados para os modelos\n",
    "scaler = MinMaxScaler(feature_range=(0, 1))\n",
    "data['Scaled_Close'] = scaler.fit_transform(data[['Close']])"
   ]
  },
  {
   "cell_type": "code",
   "execution_count": 10,
   "metadata": {},
   "outputs": [
    {
     "data": {
      "text/html": [
       "<div>\n",
       "<style scoped>\n",
       "    .dataframe tbody tr th:only-of-type {\n",
       "        vertical-align: middle;\n",
       "    }\n",
       "\n",
       "    .dataframe tbody tr th {\n",
       "        vertical-align: top;\n",
       "    }\n",
       "\n",
       "    .dataframe thead th {\n",
       "        text-align: right;\n",
       "    }\n",
       "</style>\n",
       "<table border=\"1\" class=\"dataframe\">\n",
       "  <thead>\n",
       "    <tr style=\"text-align: right;\">\n",
       "      <th></th>\n",
       "      <th>Close</th>\n",
       "      <th>Scaled_Close</th>\n",
       "    </tr>\n",
       "  </thead>\n",
       "  <tbody>\n",
       "    <tr>\n",
       "      <th>0</th>\n",
       "      <td>130.547760</td>\n",
       "      <td>0.497089</td>\n",
       "    </tr>\n",
       "    <tr>\n",
       "      <th>1</th>\n",
       "      <td>126.806458</td>\n",
       "      <td>0.482180</td>\n",
       "    </tr>\n",
       "    <tr>\n",
       "      <th>2</th>\n",
       "      <td>122.480591</td>\n",
       "      <td>0.464941</td>\n",
       "    </tr>\n",
       "    <tr>\n",
       "      <th>3</th>\n",
       "      <td>126.899994</td>\n",
       "      <td>0.482553</td>\n",
       "    </tr>\n",
       "    <tr>\n",
       "      <th>4</th>\n",
       "      <td>130.804962</td>\n",
       "      <td>0.498114</td>\n",
       "    </tr>\n",
       "    <tr>\n",
       "      <th>...</th>\n",
       "      <td>...</td>\n",
       "      <td>...</td>\n",
       "    </tr>\n",
       "    <tr>\n",
       "      <th>1240</th>\n",
       "      <td>7.460000</td>\n",
       "      <td>0.006575</td>\n",
       "    </tr>\n",
       "    <tr>\n",
       "      <th>1241</th>\n",
       "      <td>7.220000</td>\n",
       "      <td>0.005619</td>\n",
       "    </tr>\n",
       "    <tr>\n",
       "      <th>1242</th>\n",
       "      <td>7.240000</td>\n",
       "      <td>0.005699</td>\n",
       "    </tr>\n",
       "    <tr>\n",
       "      <th>1243</th>\n",
       "      <td>6.880000</td>\n",
       "      <td>0.004264</td>\n",
       "    </tr>\n",
       "    <tr>\n",
       "      <th>1244</th>\n",
       "      <td>7.390000</td>\n",
       "      <td>0.006296</td>\n",
       "    </tr>\n",
       "  </tbody>\n",
       "</table>\n",
       "<p>1245 rows × 2 columns</p>\n",
       "</div>"
      ],
      "text/plain": [
       "           Close  Scaled_Close\n",
       "0     130.547760      0.497089\n",
       "1     126.806458      0.482180\n",
       "2     122.480591      0.464941\n",
       "3     126.899994      0.482553\n",
       "4     130.804962      0.498114\n",
       "...          ...           ...\n",
       "1240    7.460000      0.006575\n",
       "1241    7.220000      0.005619\n",
       "1242    7.240000      0.005699\n",
       "1243    6.880000      0.004264\n",
       "1244    7.390000      0.006296\n",
       "\n",
       "[1245 rows x 2 columns]"
      ]
     },
     "execution_count": 10,
     "metadata": {},
     "output_type": "execute_result"
    }
   ],
   "source": [
    "data"
   ]
  },
  {
   "cell_type": "code",
   "execution_count": 11,
   "metadata": {},
   "outputs": [],
   "source": [
    "# Função para criar janelas de dados\n",
    "# janela de dados = quantidade de dias do X\n",
    "def create_dataset(data, window_size=60):\n",
    "    X, y = [], []\n",
    "    for i in range(len(data) - window_size):\n",
    "        X.append(data[i:i + window_size])\n",
    "        y.append(data[i + window_size])\n",
    "    return np.array(X), np.array(y)"
   ]
  },
  {
   "cell_type": "code",
   "execution_count": 12,
   "metadata": {},
   "outputs": [],
   "source": [
    "# Criar conjunto de dados\n",
    "window_size = 60 # 60 ultimos dias\n",
    "scaled_data = data['Scaled_Close'].values\n",
    "X, y = create_dataset(scaled_data, window_size)"
   ]
  },
  {
   "cell_type": "code",
   "execution_count": 13,
   "metadata": {},
   "outputs": [
    {
     "data": {
      "text/plain": [
       "array([[0.49708945, 0.48218007, 0.46494117, ..., 0.45618192, 0.4446272 ,\n",
       "        0.49075295],\n",
       "       [0.48218007, 0.46494117, 0.48255282, ..., 0.4446272 , 0.49075295,\n",
       "        0.50603501],\n",
       "       [0.46494117, 0.48255282, 0.49811442, ..., 0.49075295, 0.50603501,\n",
       "        0.4943871 ],\n",
       "       ...,\n",
       "       [0.01582075, 0.01661777, 0.0156215 , ..., 0.00581821, 0.00657538,\n",
       "        0.00561896],\n",
       "       [0.01661777, 0.0156215 , 0.01422672, ..., 0.00657538, 0.00561896,\n",
       "        0.00569866],\n",
       "       [0.0156215 , 0.01422672, 0.01510344, ..., 0.00561896, 0.00569866,\n",
       "        0.00426403]])"
      ]
     },
     "execution_count": 13,
     "metadata": {},
     "output_type": "execute_result"
    }
   ],
   "source": [
    "X"
   ]
  },
  {
   "cell_type": "code",
   "execution_count": 14,
   "metadata": {},
   "outputs": [
    {
     "data": {
      "text/plain": [
       "1185"
      ]
     },
     "execution_count": 14,
     "metadata": {},
     "output_type": "execute_result"
    }
   ],
   "source": [
    "len(X)"
   ]
  },
  {
   "cell_type": "code",
   "execution_count": 15,
   "metadata": {},
   "outputs": [
    {
     "name": "stdout",
     "output_type": "stream",
     "text": [
      "60\n"
     ]
    }
   ],
   "source": [
    "print(X[1].size)"
   ]
  },
  {
   "cell_type": "code",
   "execution_count": 16,
   "metadata": {},
   "outputs": [
    {
     "data": {
      "text/plain": [
       "71100"
      ]
     },
     "execution_count": 16,
     "metadata": {},
     "output_type": "execute_result"
    }
   ],
   "source": [
    "X.size"
   ]
  },
  {
   "cell_type": "code",
   "execution_count": 17,
   "metadata": {},
   "outputs": [
    {
     "data": {
      "text/plain": [
       "1"
      ]
     },
     "execution_count": 17,
     "metadata": {},
     "output_type": "execute_result"
    }
   ],
   "source": [
    "y[0].size"
   ]
  },
  {
   "cell_type": "code",
   "execution_count": 18,
   "metadata": {},
   "outputs": [],
   "source": [
    "# Dividir os dados em treinamento e teste\n",
    "X_train, X_test, y_train, y_test = train_test_split(X, y, test_size=0.2, shuffle=False)"
   ]
  },
  {
   "cell_type": "code",
   "execution_count": 19,
   "metadata": {},
   "outputs": [],
   "source": [
    "# Ajustar o formato para o LSTM\n",
    "X_train_lstm = np.reshape(X_train, (X_train.shape[0], X_train.shape[1], 1))\n",
    "X_test_lstm = np.reshape(X_test, (X_test.shape[0], X_test.shape[1], 1))"
   ]
  },
  {
   "cell_type": "code",
   "execution_count": 20,
   "metadata": {},
   "outputs": [
    {
     "name": "stderr",
     "output_type": "stream",
     "text": [
      "c:\\Python312\\Lib\\site-packages\\keras\\src\\layers\\rnn\\rnn.py:200: UserWarning: Do not pass an `input_shape`/`input_dim` argument to a layer. When using Sequential models, prefer using an `Input(shape)` object as the first layer in the model instead.\n",
      "  super().__init__(**kwargs)\n"
     ]
    }
   ],
   "source": [
    "# Criar o modelo LSTM\n",
    "lstm_model = Sequential()\n",
    "lstm_model.add(LSTM(units=50, return_sequences=True, input_shape=(X_train_lstm.shape[1], 1)))\n",
    "lstm_model.add(Dropout(0.2))\n",
    "lstm_model.add(LSTM(units=50, return_sequences=False))\n",
    "lstm_model.add(Dropout(0.2))\n",
    "lstm_model.add(Dense(units=1))"
   ]
  },
  {
   "cell_type": "code",
   "execution_count": 21,
   "metadata": {},
   "outputs": [],
   "source": [
    "# Compilar o modelo\n",
    "# A função de loss é a forma de medir o erro do modelo, que nesse caso\n",
    "#é o classico erro médio quadrático da que é usado em regressão linear\n",
    "#otimizador e medida de erro\n",
    "lstm_model.compile(optimizer='adam', loss='mean_squared_error')"
   ]
  },
  {
   "cell_type": "code",
   "execution_count": null,
   "metadata": {},
   "outputs": [
    {
     "name": "stdout",
     "output_type": "stream",
     "text": [
      "Epoch 1/20\n"
     ]
    }
   ],
   "source": [
    "# Treinar o modelo\n",
    "lstm_model.fit(X_train_lstm, y_train, epochs=20, batch_size=32, verbose=1)"
   ]
  },
  {
   "cell_type": "code",
   "execution_count": null,
   "metadata": {},
   "outputs": [],
   "source": [
    "# Fazer previsões\n",
    "lstm_predictions = lstm_model.predict(X_test_lstm)\n",
    "\n",
    "# Inverter a normalização\n",
    "lstm_predictions = scaler.inverse_transform(lstm_predictions)\n",
    "lstm_predictions"
   ]
  },
  {
   "cell_type": "code",
   "execution_count": null,
   "metadata": {},
   "outputs": [],
   "source": [
    "#pegando o erro médio quadrático (RMSE)\n",
    "rmse = np.sqrt(np.mean(lstm_predictions - y_test) ** 2)\n",
    "rmse\n",
    "len(lstm_predictions)"
   ]
  },
  {
   "cell_type": "code",
   "execution_count": null,
   "metadata": {},
   "outputs": [],
   "source": [
    "#criando o grafico do modelo\n",
    "treinamento = mglu3.iloc[:len(X_train), :]\n",
    "treinamento"
   ]
  },
  {
   "cell_type": "code",
   "execution_count": null,
   "metadata": {},
   "outputs": [],
   "source": [
    "mglu3['Close']"
   ]
  },
  {
   "cell_type": "code",
   "execution_count": 28,
   "metadata": {},
   "outputs": [],
   "source": [
    "df_teste = pd.DataFrame({\n",
    "    \"Close\": mglu3['Close'].iloc[len(X_train) + 60 : len(X_train) + 60 + len(lstm_predictions)].values.flatten(),\n",
    "    \"predicoes\": lstm_predictions.flatten()\n",
    "})\n"
   ]
  },
  {
   "cell_type": "code",
   "execution_count": null,
   "metadata": {},
   "outputs": [],
   "source": [
    "mglu3['Close']"
   ]
  },
  {
   "cell_type": "code",
   "execution_count": 30,
   "metadata": {},
   "outputs": [],
   "source": [
    "df_teste = pd.DataFrame({\n",
    "    \"Date\": mglu3.index[len(X_train) + 60 : len(X_train) + 60 + len(lstm_predictions)],  # Pegando as datas corretas\n",
    "    \"Close\": mglu3['Close'].iloc[len(X_train) + 60 : len(X_train) + 60 + len(lstm_predictions)].values.flatten(),\n",
    "    \"predicoes\": lstm_predictions.flatten()\n",
    "})\n",
    "\n",
    "# Garantindo que a coluna \"Date\" seja de fato uma data (caso ainda não seja)\n",
    "df_teste[\"Date\"] = pd.to_datetime(df_teste[\"Date\"])\n",
    "\n",
    "# Definir \"Date\" como índice (opcional, se quiser que o gráfico fique melhor organizado)\n",
    "df_teste.set_index(\"Date\", inplace=True)\n"
   ]
  },
  {
   "cell_type": "code",
   "execution_count": null,
   "metadata": {},
   "outputs": [],
   "source": [
    "df_teste"
   ]
  },
  {
   "cell_type": "code",
   "execution_count": null,
   "metadata": {},
   "outputs": [],
   "source": [
    "print(len(mglu3['Close'].iloc[len(X_train) + 60:]))  # Deve imprimir 297\n",
    "print(len(lstm_predictions))  # Deve imprimir 237\n"
   ]
  },
  {
   "cell_type": "code",
   "execution_count": null,
   "metadata": {},
   "outputs": [],
   "source": [
    "import matplotlib.pyplot as plt\n",
    "\n",
    "# Criar o gráfico\n",
    "plt.figure(figsize=(12, 6))\n",
    "plt.plot(df_teste.index, df_teste[\"Close\"], label=\"Preço Real\", linestyle=\"-\", color=\"blue\")\n",
    "plt.plot(df_teste.index, df_teste[\"predicoes\"], label=\"Previsão LSTM\", linestyle=\"--\", color=\"red\")\n",
    "\n",
    "# Adicionar títulos e legendas\n",
    "plt.title(\"Comparação entre Preço Real e Previsão do Modelo LSTM\", fontsize=14)\n",
    "plt.xlabel(\"Data\", fontsize=12)\n",
    "plt.ylabel(\"Preço de Fechamento\", fontsize=12)\n",
    "plt.legend()\n",
    "plt.grid(True)\n",
    "\n",
    "# Mostrar o gráfico\n",
    "plt.show()\n"
   ]
  }
 ],
 "metadata": {
  "kernelspec": {
   "display_name": "Python 3",
   "language": "python",
   "name": "python3"
  },
  "language_info": {
   "codemirror_mode": {
    "name": "ipython",
    "version": 3
   },
   "file_extension": ".py",
   "mimetype": "text/x-python",
   "name": "python",
   "nbconvert_exporter": "python",
   "pygments_lexer": "ipython3",
   "version": "3.12.1"
  }
 },
 "nbformat": 4,
 "nbformat_minor": 2
}
