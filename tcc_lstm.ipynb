{
 "cells": [
  {
   "cell_type": "markdown",
   "metadata": {},
   "source": [
    "LSTM"
   ]
  },
  {
   "cell_type": "code",
   "execution_count": null,
   "metadata": {},
   "outputs": [],
   "source": [
    "from datetime import datetime, timedelta\n",
    "import yfinance as yf\n",
    "import pandas as pd\n",
    "import numpy as np\n",
    "from sklearn.model_selection import train_test_split\n",
    "from sklearn.preprocessing import MinMaxScaler\n",
    "from tensorflow.keras.models import Sequential\n",
    "from tensorflow.keras.layers import LSTM, Dense, Dropout, Input\n",
    "from tensorflow.keras.callbacks import EarlyStopping\n",
    "from tensorflow.keras.optimizers import Adam\n",
    "from tensorflow.keras.callbacks import ReduceLROnPlateau\n",
    "from sklearn.metrics import mean_squared_error\n",
    "import matplotlib.pyplot as plt\n",
    "from sklearn.metrics import mean_absolute_error, mean_squared_error, r2_score\n"
   ]
  },
  {
   "cell_type": "code",
   "execution_count": null,
   "metadata": {},
   "outputs": [],
   "source": [
    "acao = 'MGLU3.SA'\n",
    "periodo_tempo_de_precos_acao = \"5y\"\n",
    "ativo = yf.download(acao, period=periodo_tempo_de_precos_acao)"
   ]
  },
  {
   "cell_type": "code",
   "execution_count": null,
   "metadata": {},
   "outputs": [],
   "source": [
    "ativo.head()"
   ]
  },
  {
   "cell_type": "code",
   "execution_count": null,
   "metadata": {},
   "outputs": [],
   "source": [
    "# Pega somente o atributo \"Close\" (preço de fechamento da ação em cada dia) e armazena em um array bidimensional\n",
    "# O array precisa ser bidimensional porque o MinMaxScaler espera uma entrada com esse formato.\n",
    "ativo_close = ativo['Close'].dropna().to_numpy().reshape(-1, 1)"
   ]
  },
  {
   "cell_type": "code",
   "execution_count": null,
   "metadata": {},
   "outputs": [],
   "source": [
    "# Criar um DataFrame com os valores ajustados\n",
    "data = pd.DataFrame(ativo_close)\n",
    "data.columns = ['Close']"
   ]
  },
  {
   "cell_type": "code",
   "execution_count": null,
   "metadata": {},
   "outputs": [],
   "source": [
    "# Normalizar os dados para os modelos\n",
    "scaler = MinMaxScaler(feature_range=(0, 1))\n",
    "data['Scaled_Close'] = scaler.fit_transform(data[['Close']])"
   ]
  },
  {
   "cell_type": "code",
   "execution_count": null,
   "metadata": {},
   "outputs": [],
   "source": [
    "# Função para criar janelas de dados\n",
    "# janela de dados = quantidade de dias do X\n",
    "def create_dataset(data, window_size):\n",
    "    X, y = [], []\n",
    "    for i in range(len(data) - window_size):\n",
    "        X.append(data[i:i + window_size])\n",
    "        y.append(data[i + window_size])\n",
    "    return np.array(X), np.array(y)\n"
   ]
  },
  {
   "cell_type": "code",
   "execution_count": null,
   "metadata": {},
   "outputs": [],
   "source": [
    "window_size = 60\n",
    "scaled_data = data['Scaled_Close'].values\n",
    "X, y = create_dataset(scaled_data, window_size)"
   ]
  },
  {
   "cell_type": "code",
   "execution_count": null,
   "metadata": {},
   "outputs": [],
   "source": [
    "X[0] # 60 (window-size) valores que ele usa para prever o valor do y. "
   ]
  },
  {
   "cell_type": "code",
   "execution_count": null,
   "metadata": {},
   "outputs": [],
   "source": [
    "scaled_data.shape, X.shape, y.shape"
   ]
  },
  {
   "cell_type": "code",
   "execution_count": null,
   "metadata": {},
   "outputs": [],
   "source": [
    "# Dividir os dados em treinamento e teste\n",
    "# O argumento shuffle=False desativa a aleatorização dos dados\n",
    "X_train, X_test, y_train, y_test = train_test_split(X, y, test_size=0.2, shuffle=False)"
   ]
  },
  {
   "cell_type": "code",
   "execution_count": null,
   "metadata": {},
   "outputs": [],
   "source": [
    "# Ajustar o formato para o LSTM\n",
    "X_train = np.reshape(X_train, (X_train.shape[0], X_train.shape[1], 1))\n",
    "X_test = np.reshape(X_test, (X_test.shape[0], X_test.shape[1], 1))"
   ]
  },
  {
   "cell_type": "code",
   "execution_count": null,
   "metadata": {},
   "outputs": [],
   "source": [
    "len(X_test)\n",
    "# X = 1184 (5 anos de dias úteis em janelas de 60 dias [71040 valores])\n",
    "# X_test = 237 dias (20% dos 5 anos de dias úteis em janelas de 60 dias [14220 valores])\n",
    "# y = 1184 valores reais da ação\n",
    "# y_test = 20% dos valores reais da ação que serão utilizados para comparmos as nossas previsões"
   ]
  },
  {
   "cell_type": "code",
   "execution_count": null,
   "metadata": {},
   "outputs": [],
   "source": [
    "# Criação de um modelo sequencial, onde as camadas são empilhadas uma após a outra\n",
    "model = Sequential([\n",
    "    # Define a forma da entrada: uma sequência de 'window_size' passos, cada um com 1 feature (ex: preço de fechamento da ação)\n",
    "    Input(shape=(window_size, 1)),\n",
    "    # Primeira camada LSTM com 100 unidades; retorna a sequência completa (uma saída por passo de tempo)\n",
    "    LSTM(100, return_sequences=True),\n",
    "    # Dropout de 30% para evitar overfitting (desativa aleatoriamente 30% dos neurônios durante o treino)\n",
    "    Dropout(0.3),\n",
    "    # Segunda camada LSTM com 100 unidades; também retorna a sequência completa\n",
    "    LSTM(100, return_sequences=True),\n",
    "    # Outro Dropout de 30% para regularização\n",
    "    Dropout(0.3),\n",
    "    # Terceira camada LSTM com 100 unidades; agora retorna apenas a última saída da sequência\n",
    "    LSTM(100),\n",
    "    # Mais um Dropout de 30% antes da saída final\n",
    "    Dropout(0.3),\n",
    "    # Camada densa (totalmente conectada) com 1 unidade; representa o valor final previsto (ex: o próximo valor)\n",
    "    Dense(1)\n",
    "])\n"
   ]
  },
  {
   "cell_type": "code",
   "execution_count": null,
   "metadata": {},
   "outputs": [],
   "source": [
    "model.compile(optimizer=Adam(learning_rate=0.001), loss='mean_squared_error')\n"
   ]
  },
  {
   "cell_type": "code",
   "execution_count": null,
   "metadata": {},
   "outputs": [],
   "source": [
    "# Treinar o modelo\n",
    "early_stopping = EarlyStopping(monitor='val_loss', patience=10, restore_best_weights=True)\n",
    "reduce_lr = ReduceLROnPlateau(monitor='val_loss', factor=0.5, patience=5, min_lr=1e-5)\n",
    "\n",
    "model.fit(X_train, y_train, \n",
    "               epochs=100, \n",
    "               batch_size=32, \n",
    "               validation_data=(X_test, y_test),\n",
    "               callbacks=[early_stopping, reduce_lr], \n",
    "               verbose=1)\n"
   ]
  },
  {
   "cell_type": "code",
   "execution_count": null,
   "metadata": {},
   "outputs": [],
   "source": [
    "# Fazer previsões\n",
    "predicted_prices = model.predict(X_test)\n",
    "\n",
    "# Inverter a normalização\n",
    "predicted_prices = scaler.inverse_transform(predicted_prices)"
   ]
  },
  {
   "cell_type": "code",
   "execution_count": null,
   "metadata": {},
   "outputs": [],
   "source": [
    "# Cria um DataFrame com as datas, os valores reais e os valores previstos\n",
    "df_predictions = pd.DataFrame({\n",
    "    \"Date\": ativo.index[len(X_train) + window_size : len(X_train) + window_size + len(predicted_prices)],\n",
    "    \"Real\": ativo['Close'].iloc[len(X_train) + window_size : len(X_train) + window_size + len(predicted_prices)].values.flatten(),\n",
    "    \"Previsão\": predicted_prices.flatten()\n",
    "})\n",
    "\n",
    "# Formata a coluna de data e define como índice\n",
    "df_predictions[\"Date\"] = pd.to_datetime(df_predictions[\"Date\"])\n",
    "df_predictions.set_index(\"Date\", inplace=True)\n"
   ]
  },
  {
   "cell_type": "code",
   "execution_count": null,
   "metadata": {},
   "outputs": [],
   "source": [
    "df_predictions"
   ]
  },
  {
   "cell_type": "code",
   "execution_count": null,
   "metadata": {},
   "outputs": [],
   "source": [
    "# Calcular métricas de desempenho do modelo\n",
    "mae = mean_absolute_error(df_predictions[\"Real\"], df_predictions[\"Previsão\"])  # Erro absoluto médio\n",
    "mse = mean_squared_error(df_predictions[\"Real\"], df_predictions[\"Previsão\"])  # Erro quadrático médio\n",
    "rmse = np.sqrt(mse)  # Raiz do erro quadrático médio\n",
    "r2 = r2_score(df_predictions[\"Real\"], df_predictions[\"Previsão\"])  # Coeficiente de determinação (R²)\n",
    "\n",
    "# Imprimir as métricas com comentários para organização\n",
    "print(\"📊 MÉTRICAS DE ERRO DO MODELO LSTM 📊\\n\")\n",
    "\n",
    "print(\"🔹 MAE  (Erro Absoluto Médio):\")\n",
    "print(f\"     → Em média, o modelo erra cerca de {mae:.4f} unidades em cada previsão.\\n\")\n",
    "\n",
    "print(\"🔹 MSE  (Erro Quadrático Médio):\")\n",
    "print(f\"     → Erros maiores são penalizados. Valor: {mse:.4f}\\n\")\n",
    "\n",
    "print(\"🔹 RMSE (Raiz do Erro Médio Quadrático):\")\n",
    "print(f\"     → Erro médio em unidades reais: {rmse:.4f}\\n\")\n",
    "\n",
    "print(\"🔹 R²   (Coeficiente de Determinação):\")\n",
    "print(f\"     → {r2:.4f} (ou {r2 * 100:.2f}%) da variação nos dados reais foi explicada pelo modelo.\\n\")\n",
    "\n",
    "print(\"✅ Interpretação rápida:\")\n",
    "print(\"     • Quanto menores o MAE, MSE e RMSE, melhor o modelo.\")\n",
    "print(\"     • Quanto mais próximo de 1 o R², melhor a qualidade da previsão.\")\n"
   ]
  },
  {
   "cell_type": "code",
   "execution_count": null,
   "metadata": {},
   "outputs": [],
   "source": [
    "import matplotlib.pyplot as plt\n",
    "\n",
    "# Criar o gráfico\n",
    "plt.figure(figsize=(12, 6))\n",
    "plt.plot(df_predictions.index, df_predictions[\"Real\"], label=\"Preço Real\", linestyle=\"-\", color=\"blue\")\n",
    "plt.plot(df_predictions.index, df_predictions[\"Previsão\"], label=\"Previsão LSTM\", linestyle=\"--\", color=\"red\")\n",
    "\n",
    "# Adicionar títulos e legendas\n",
    "plt.title(\"Comparação entre Preço Real e Previsão do Modelo LSTM\", fontsize=14)\n",
    "plt.xlabel(\"Data\", fontsize=12)\n",
    "plt.ylabel(\"Preço de Fechamento\", fontsize=12)\n",
    "plt.legend()\n",
    "plt.grid(True)\n",
    "\n",
    "# Mostrar o gráfico\n",
    "plt.show()\n"
   ]
  },
  {
   "cell_type": "code",
   "execution_count": null,
   "metadata": {},
   "outputs": [],
   "source": [
    "# Calcular média de acertos e expectativa de lucro\n",
    "df_predictions = df_predictions.copy()\n",
    "\n",
    "df_predictions['Variação percentual real'] = df_predictions['Real'].pct_change()\n",
    "\n",
    "#Nova coluna com a variação percentual da ação prevista\n",
    "df_predictions['Variação percentual previsão'] = df_predictions['Previsão'].pct_change()\n",
    "\n",
    "#Remover valores nulos\n",
    "df_predictions = df_predictions.dropna()\n",
    "\n",
    "#Nova coluna com a informação se a ação subiu ou não\n",
    "df_predictions['Ação subiu'] = np.where(df_predictions['Variação percentual real'] > 0, \n",
    "                                                      True, False)\n",
    "\n",
    "#Nova coluna com a informação se a previsão subiu ou não\n",
    "df_predictions['Previsão subiu'] = np.where(df_predictions['Variação percentual previsão'] > 0, \n",
    "                                                      True, False)\n",
    "\n",
    "#Nova coluna com a informação se o modelo acertou a tendência\n",
    "df_predictions['Modelo acertou tendência'] = np.where(df_predictions['Ação subiu'] == df_predictions['Previsão subiu']\n",
    "                                      , True, False)\n",
    "\n",
    "#Nova coluna com a variação percentual real absoluta\n",
    "df_predictions['Variação percentual real absoluto'] = df_predictions['Variação percentual real'].abs()\n",
    "\n",
    "#calcular media de acertos e expectativa de lucro\n",
    "acertou_lado = df_predictions['Modelo acertou tendência'].sum()/len(df_predictions['Modelo acertou tendência'])\n",
    "\n",
    "#calcular media de erros e expectativa de lucro\n",
    "errou_lado = 1 - acertou_lado\n",
    "\n",
    "#calcular media de lucro agrupado por acertos e erros\n",
    "media_lucro = df_predictions.groupby('Modelo acertou tendência')['Variação percentual real absoluto'].mean()\n",
    "\n",
    "#calcular media de acertos e expectativa de lucro\n",
    "acertou_lado = df_predictions['Modelo acertou tendência'].sum()/len(df_predictions['Modelo acertou tendência'])\n",
    "\n",
    "#calcular media de erros e expectativa de lucro\n",
    "errou_lado = 1 - acertou_lado\n",
    "\n",
    "#calcular media de lucro agrupado por acertos e erros\n",
    "media_lucro = df_predictions.groupby('Modelo acertou tendência')['Variação percentual real absoluto'].mean()\n",
    "\n",
    "#calcular expectativa matematica de lucro\n",
    "exp_mat_lucro = acertou_lado * media_lucro[1] - media_lucro[0] * errou_lado\n",
    "\n",
    "#calcular ganho sobre perda\n",
    "ganho_sobre_perda = media_lucro[1]/media_lucro[0]\n",
    "\n",
    "#calcular rendimento diario\n",
    "exp_mat_lucro_percent = exp_mat_lucro * 100\n",
    "\n",
    "print(\"📊 MÉTRICAS DO MODELO - Último ano 📊\\n\")\n",
    "print(f\"Media lucro: {media_lucro}\")\n",
    "print(f\"Ganho sobre perda: {ganho_sobre_perda}\")\n",
    "print(f\"Acertou lado: {acertou_lado}\")\n",
    "print(\"rendimento diário: \" + str(round(exp_mat_lucro_percent, 4)) + \"%\")\n"
   ]
  },
  {
   "cell_type": "code",
   "execution_count": null,
   "metadata": {},
   "outputs": [],
   "source": [
    "# Garante que o índice está como datetime\n",
    "df_predictions.index = pd.to_datetime(df_predictions.index)\n",
    "\n",
    "# Define a data final (último dia disponível) e inicial (30 dias antes)\n",
    "data_final = df_predictions.index.max()\n",
    "data_inicial = data_final - timedelta(days=30)\n",
    "\n",
    "# Filtra apenas o último mês\n",
    "ultimo_mes = df_predictions.loc[data_inicial:data_final].copy()\n",
    "\n",
    "# --- Cálculo das métricas de rendimento diário ---\n",
    "# Colunas necessárias (valores já como float)\n",
    "ultimo_mes['Variação percentual real'] = ultimo_mes['Real'].pct_change()\n",
    "ultimo_mes['Variação percentual previsão'] = ultimo_mes['Previsão'].pct_change()\n",
    "\n",
    "# Remover valores nulos\n",
    "ultimo_mes = ultimo_mes.dropna()\n",
    "\n",
    "# Acertos de tendência\n",
    "ultimo_mes['Ação subiu'] = ultimo_mes['Variação percentual real'] > 0\n",
    "ultimo_mes['Previsão subiu'] = ultimo_mes['Variação percentual previsão'] > 0\n",
    "ultimo_mes['Modelo acertou tendência'] = ultimo_mes['Ação subiu'] == ultimo_mes['Previsão subiu']\n",
    "\n",
    "# Variação percentual absoluta\n",
    "ultimo_mes['Variação percentual real absoluto'] = ultimo_mes['Variação percentual real'].abs()\n",
    "\n",
    "# Probabilidades de acerto e erro\n",
    "acertou_lado = ultimo_mes['Modelo acertou tendência'].mean()\n",
    "errou_lado = 1 - acertou_lado\n",
    "\n",
    "# Média de lucro por acertos/erros\n",
    "media_lucro = ultimo_mes.groupby('Modelo acertou tendência')['Variação percentual real absoluto'].mean()\n",
    "\n",
    "# Expectativa matemática de lucro diário\n",
    "exp_mat_lucro = acertou_lado * media_lucro[True] - errou_lado * media_lucro[False]\n",
    "exp_mat_lucro_percent = exp_mat_lucro * 100\n",
    "\n",
    "# Ganho sobre perda\n",
    "ganho_sobre_perda = media_lucro[True] / media_lucro[False]\n",
    "\n",
    "# --- Impressão dos resultados ---\n",
    "print(\"📊 MÉTRICAS DO MODELO - Último mês 📊\\n\")\n",
    "print(f\"Media lucro: {media_lucro}\")\n",
    "print(f\"Ganho sobre perda: {ganho_sobre_perda:.4f}\")\n",
    "print(f\"Acertou lado: {acertou_lado:.4f}\")\n",
    "print(f\"Rendimento diário esperado: {exp_mat_lucro_percent:.4f}%\")"
   ]
  },
  {
   "cell_type": "code",
   "execution_count": null,
   "metadata": {},
   "outputs": [],
   "source": [
    "# Define o horário atual\n",
    "#teste\n",
    "hoje = datetime.now()\n",
    "\n",
    "# Define se a previsão será para hoje ou amanhã com base no horário\n",
    "if hoje.hour > 18:\n",
    "    texto_previsao = \"\\nPreço de fechamento previsto para amanhã:\"\n",
    "else:\n",
    "    texto_previsao = \"\\nPreço de fechamento previsto para hoje:\"\n",
    "\n",
    "# Obtém a última janela usada no treinamento\n",
    "ultima_janela = X_test[-1]\n",
    "\n",
    "# Redimensiona para shape (1, window_size, 1) para prever\n",
    "X_input = ultima_janela.reshape(1, ultima_janela.shape[0], 1)\n",
    "\n",
    "# Faz a previsão\n",
    "predicted_price = model.predict(X_input)\n",
    "\n",
    "# Reverte a escala\n",
    "predicted_price = scaler.inverse_transform(predicted_price)\n",
    "\n",
    "# Mostra o resultado\n",
    "print(texto_previsao)\n",
    "print(f\"R$ {predicted_price[0][0]:.2f}\")"
   ]
  },
  {
   "cell_type": "code",
   "execution_count": null,
   "metadata": {},
   "outputs": [],
   "source": [
    "import pandas as pd\n",
    "from datetime import timedelta\n",
    "\n",
    "# Define o número de dias para exibir\n",
    "dias_passados = 4\n",
    "dias_futuros = 1\n",
    "\n",
    "# Garante que o DataFrame de previsões está com o índice como datetime\n",
    "df_predictions.index = pd.to_datetime(df_predictions.index)\n",
    "\n",
    "# Define a data final (último dia disponível)\n",
    "data_final = df_predictions.index.max()\n",
    "\n",
    "# Define o intervalo de datas: do passado até o futuro\n",
    "data_inicial = data_final - timedelta(days=dias_passados)\n",
    "data_futura = data_final + timedelta(days=dias_futuros)\n",
    "\n",
    "# Filtra o DataFrame para o intervalo desejado e apenas as colunas 'Real' e 'Previsão'\n",
    "df_resultado = df_predictions.loc[data_inicial:data_futura, ['Real', 'Previsão']].copy()\n",
    "\n",
    "# Formata os valores para 2 casas decimais\n",
    "df_resultado['Real'] = df_resultado['Real'].map(lambda x: f\"R$ {x:.2f}\")\n",
    "df_resultado['Previsão'] = df_resultado['Previsão'].map(lambda x: f\"R$ {x:.2f}\")\n",
    "\n",
    "# Renomeia as colunas\n",
    "df_resultado.columns = ['Preço Real', 'Preço Estimado']\n",
    "\n",
    "# Exibe o resultado\n",
    "print(\"📊 Comparativo de Preço Real vs Estimado:\\n\")\n",
    "display(df_resultado)\n"
   ]
  }
 ],
 "metadata": {
  "kernelspec": {
   "display_name": "Python 3",
   "language": "python",
   "name": "python3"
  },
  "language_info": {
   "codemirror_mode": {
    "name": "ipython",
    "version": 3
   },
   "file_extension": ".py",
   "mimetype": "text/x-python",
   "name": "python",
   "nbconvert_exporter": "python",
   "pygments_lexer": "ipython3",
   "version": "3.12.1"
  }
 },
 "nbformat": 4,
 "nbformat_minor": 2
}
