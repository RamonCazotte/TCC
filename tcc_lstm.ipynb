{
 "cells": [
  {
   "cell_type": "markdown",
   "metadata": {},
   "source": [
    "LSTM"
   ]
  },
  {
   "cell_type": "code",
   "execution_count": 93,
   "metadata": {},
   "outputs": [],
   "source": [
    "from datetime import datetime, timedelta\n",
    "import yfinance as yf\n",
    "import pandas as pd\n",
    "import numpy as np\n",
    "from sklearn.model_selection import train_test_split\n",
    "from sklearn.preprocessing import MinMaxScaler\n",
    "from tensorflow.keras.models import Sequential\n",
    "from tensorflow.keras.layers import LSTM, Dense, Dropout, Input\n",
    "from tensorflow.keras.callbacks import EarlyStopping\n",
    "from tensorflow.keras.optimizers import Adam\n",
    "from tensorflow.keras.callbacks import ReduceLROnPlateau\n",
    "from sklearn.metrics import mean_squared_error\n",
    "import matplotlib.pyplot as plt\n",
    "from sklearn.metrics import mean_absolute_error, mean_squared_error, r2_score\n"
   ]
  },
  {
   "cell_type": "code",
   "execution_count": 94,
   "metadata": {},
   "outputs": [
    {
     "name": "stderr",
     "output_type": "stream",
     "text": [
      "[*********************100%***********************]  1 of 1 completed\n"
     ]
    }
   ],
   "source": [
    "acao = 'MGLU3.SA'\n",
    "\n",
    "ativo = yf.download(acao, period=\"5y\")"
   ]
  },
  {
   "cell_type": "code",
   "execution_count": 95,
   "metadata": {},
   "outputs": [
    {
     "data": {
      "text/html": [
       "<div>\n",
       "<style scoped>\n",
       "    .dataframe tbody tr th:only-of-type {\n",
       "        vertical-align: middle;\n",
       "    }\n",
       "\n",
       "    .dataframe tbody tr th {\n",
       "        vertical-align: top;\n",
       "    }\n",
       "\n",
       "    .dataframe thead tr th {\n",
       "        text-align: left;\n",
       "    }\n",
       "\n",
       "    .dataframe thead tr:last-of-type th {\n",
       "        text-align: right;\n",
       "    }\n",
       "</style>\n",
       "<table border=\"1\" class=\"dataframe\">\n",
       "  <thead>\n",
       "    <tr>\n",
       "      <th>Price</th>\n",
       "      <th>Close</th>\n",
       "      <th>High</th>\n",
       "      <th>Low</th>\n",
       "      <th>Open</th>\n",
       "      <th>Volume</th>\n",
       "    </tr>\n",
       "    <tr>\n",
       "      <th>Ticker</th>\n",
       "      <th>MGLU3.SA</th>\n",
       "      <th>MGLU3.SA</th>\n",
       "      <th>MGLU3.SA</th>\n",
       "      <th>MGLU3.SA</th>\n",
       "      <th>MGLU3.SA</th>\n",
       "    </tr>\n",
       "    <tr>\n",
       "      <th>Date</th>\n",
       "      <th></th>\n",
       "      <th></th>\n",
       "      <th></th>\n",
       "      <th></th>\n",
       "      <th></th>\n",
       "    </tr>\n",
       "  </thead>\n",
       "  <tbody>\n",
       "    <tr>\n",
       "      <th>2020-02-20</th>\n",
       "      <td>131.825485</td>\n",
       "      <td>135.532641</td>\n",
       "      <td>130.170101</td>\n",
       "      <td>135.066342</td>\n",
       "      <td>4763914</td>\n",
       "    </tr>\n",
       "    <tr>\n",
       "      <th>2020-02-21</th>\n",
       "      <td>131.615662</td>\n",
       "      <td>134.809870</td>\n",
       "      <td>129.167534</td>\n",
       "      <td>129.750422</td>\n",
       "      <td>4099331</td>\n",
       "    </tr>\n",
       "    <tr>\n",
       "      <th>2020-02-26</th>\n",
       "      <td>123.292038</td>\n",
       "      <td>126.019948</td>\n",
       "      <td>120.680710</td>\n",
       "      <td>123.711719</td>\n",
       "      <td>5743083</td>\n",
       "    </tr>\n",
       "    <tr>\n",
       "      <th>2020-02-27</th>\n",
       "      <td>117.160080</td>\n",
       "      <td>124.504441</td>\n",
       "      <td>116.623824</td>\n",
       "      <td>121.240283</td>\n",
       "      <td>6288606</td>\n",
       "    </tr>\n",
       "    <tr>\n",
       "      <th>2020-02-28</th>\n",
       "      <td>117.789597</td>\n",
       "      <td>117.789597</td>\n",
       "      <td>110.095496</td>\n",
       "      <td>114.245649</td>\n",
       "      <td>8424808</td>\n",
       "    </tr>\n",
       "  </tbody>\n",
       "</table>\n",
       "</div>"
      ],
      "text/plain": [
       "Price            Close        High         Low        Open   Volume\n",
       "Ticker        MGLU3.SA    MGLU3.SA    MGLU3.SA    MGLU3.SA MGLU3.SA\n",
       "Date                                                               \n",
       "2020-02-20  131.825485  135.532641  130.170101  135.066342  4763914\n",
       "2020-02-21  131.615662  134.809870  129.167534  129.750422  4099331\n",
       "2020-02-26  123.292038  126.019948  120.680710  123.711719  5743083\n",
       "2020-02-27  117.160080  124.504441  116.623824  121.240283  6288606\n",
       "2020-02-28  117.789597  117.789597  110.095496  114.245649  8424808"
      ]
     },
     "execution_count": 95,
     "metadata": {},
     "output_type": "execute_result"
    }
   ],
   "source": [
    "ativo.head()"
   ]
  },
  {
   "cell_type": "code",
   "execution_count": 96,
   "metadata": {},
   "outputs": [],
   "source": [
    "# Pega somente o atributo \"Close\" e armazena em um array bidimensional\n",
    "#O array precisa ser bidimensional porque o MinMaxScaler espera uma entrada com esse formato.\n",
    "ativo_close = ativo['Close'].dropna().to_numpy().reshape(-1, 1)"
   ]
  },
  {
   "cell_type": "code",
   "execution_count": 97,
   "metadata": {},
   "outputs": [],
   "source": [
    "# Criar um DataFrame com os valores ajustados\n",
    "data = pd.DataFrame(ativo_close)\n",
    "data.columns = ['Close']"
   ]
  },
  {
   "cell_type": "code",
   "execution_count": 98,
   "metadata": {},
   "outputs": [],
   "source": [
    "# Normalizar os dados para os modelos\n",
    "scaler = MinMaxScaler(feature_range=(0, 1))\n",
    "data['Scaled_Close'] = scaler.fit_transform(data[['Close']])"
   ]
  },
  {
   "cell_type": "code",
   "execution_count": 99,
   "metadata": {},
   "outputs": [],
   "source": [
    "# Função para criar janelas de dados\n",
    "# janela de dados = quantidade de dias do X\n",
    "def create_dataset(data, window_size=60):\n",
    "    X, y = [], []\n",
    "    for i in range(len(data) - window_size):\n",
    "        X.append(data[i:i + window_size])\n",
    "        y.append(data[i + window_size])\n",
    "    return np.array(X), np.array(y)\n"
   ]
  },
  {
   "cell_type": "code",
   "execution_count": 100,
   "metadata": {},
   "outputs": [],
   "source": [
    "window_size = 30\n",
    "scaled_data = data['Scaled_Close'].values\n",
    "X, y = create_dataset(scaled_data, window_size)"
   ]
  },
  {
   "cell_type": "code",
   "execution_count": 101,
   "metadata": {},
   "outputs": [
    {
     "data": {
      "text/plain": [
       "((1245,), (1215, 30), (1215,))"
      ]
     },
     "execution_count": 101,
     "metadata": {},
     "output_type": "execute_result"
    }
   ],
   "source": [
    "scaled_data.shape, X.shape, y.shape"
   ]
  },
  {
   "cell_type": "code",
   "execution_count": 102,
   "metadata": {},
   "outputs": [],
   "source": [
    "# Dividir os dados em treinamento e teste\n",
    "X_train, X_test, y_train, y_test = train_test_split(X, y, test_size=0.2, shuffle=False)"
   ]
  },
  {
   "cell_type": "code",
   "execution_count": 103,
   "metadata": {},
   "outputs": [],
   "source": [
    "# Ajustar o formato para o LSTM\n",
    "X_train = np.reshape(X_train, (X_train.shape[0], X_train.shape[1], 1))\n",
    "X_test = np.reshape(X_test, (X_test.shape[0], X_test.shape[1], 1))"
   ]
  },
  {
   "cell_type": "code",
   "execution_count": 104,
   "metadata": {},
   "outputs": [],
   "source": [
    "model = Sequential([\n",
    "    Input(shape=(window_size, 1)),  # Definir a entrada explicitamente\n",
    "    LSTM(100, return_sequences=True),\n",
    "    Dropout(0.3),\n",
    "    LSTM(100, return_sequences=True),\n",
    "    Dropout(0.3),\n",
    "    LSTM(100),\n",
    "    Dropout(0.3),\n",
    "    Dense(1)\n",
    "])"
   ]
  },
  {
   "cell_type": "code",
   "execution_count": 105,
   "metadata": {},
   "outputs": [],
   "source": [
    "model.compile(optimizer=Adam(learning_rate=0.001), loss='mean_squared_error')\n"
   ]
  },
  {
   "cell_type": "code",
   "execution_count": 106,
   "metadata": {},
   "outputs": [
    {
     "name": "stdout",
     "output_type": "stream",
     "text": [
      "Epoch 1/100\n",
      "\u001b[1m31/31\u001b[0m \u001b[32m━━━━━━━━━━━━━━━━━━━━\u001b[0m\u001b[37m\u001b[0m \u001b[1m4s\u001b[0m 36ms/step - loss: 0.0557 - val_loss: 2.0962e-04 - learning_rate: 0.0010\n",
      "Epoch 2/100\n",
      "\u001b[1m31/31\u001b[0m \u001b[32m━━━━━━━━━━━━━━━━━━━━\u001b[0m\u001b[37m\u001b[0m \u001b[1m1s\u001b[0m 21ms/step - loss: 0.0054 - val_loss: 2.6364e-05 - learning_rate: 0.0010\n",
      "Epoch 3/100\n",
      "\u001b[1m31/31\u001b[0m \u001b[32m━━━━━━━━━━━━━━━━━━━━\u001b[0m\u001b[37m\u001b[0m \u001b[1m1s\u001b[0m 21ms/step - loss: 0.0038 - val_loss: 3.4574e-05 - learning_rate: 0.0010\n",
      "Epoch 4/100\n",
      "\u001b[1m31/31\u001b[0m \u001b[32m━━━━━━━━━━━━━━━━━━━━\u001b[0m\u001b[37m\u001b[0m \u001b[1m1s\u001b[0m 22ms/step - loss: 0.0041 - val_loss: 2.9105e-05 - learning_rate: 0.0010\n",
      "Epoch 5/100\n",
      "\u001b[1m31/31\u001b[0m \u001b[32m━━━━━━━━━━━━━━━━━━━━\u001b[0m\u001b[37m\u001b[0m \u001b[1m1s\u001b[0m 20ms/step - loss: 0.0041 - val_loss: 3.3269e-05 - learning_rate: 0.0010\n",
      "Epoch 6/100\n",
      "\u001b[1m31/31\u001b[0m \u001b[32m━━━━━━━━━━━━━━━━━━━━\u001b[0m\u001b[37m\u001b[0m \u001b[1m1s\u001b[0m 21ms/step - loss: 0.0034 - val_loss: 2.4096e-05 - learning_rate: 0.0010\n",
      "Epoch 7/100\n",
      "\u001b[1m31/31\u001b[0m \u001b[32m━━━━━━━━━━━━━━━━━━━━\u001b[0m\u001b[37m\u001b[0m \u001b[1m1s\u001b[0m 20ms/step - loss: 0.0048 - val_loss: 8.0279e-05 - learning_rate: 0.0010\n",
      "Epoch 8/100\n",
      "\u001b[1m31/31\u001b[0m \u001b[32m━━━━━━━━━━━━━━━━━━━━\u001b[0m\u001b[37m\u001b[0m \u001b[1m1s\u001b[0m 21ms/step - loss: 0.0035 - val_loss: 8.3431e-05 - learning_rate: 5.0000e-04\n",
      "Epoch 9/100\n",
      "\u001b[1m31/31\u001b[0m \u001b[32m━━━━━━━━━━━━━━━━━━━━\u001b[0m\u001b[37m\u001b[0m \u001b[1m1s\u001b[0m 20ms/step - loss: 0.0033 - val_loss: 1.0800e-04 - learning_rate: 5.0000e-04\n",
      "Epoch 10/100\n",
      "\u001b[1m31/31\u001b[0m \u001b[32m━━━━━━━━━━━━━━━━━━━━\u001b[0m\u001b[37m\u001b[0m \u001b[1m1s\u001b[0m 21ms/step - loss: 0.0031 - val_loss: 4.7932e-05 - learning_rate: 5.0000e-04\n",
      "Epoch 11/100\n",
      "\u001b[1m31/31\u001b[0m \u001b[32m━━━━━━━━━━━━━━━━━━━━\u001b[0m\u001b[37m\u001b[0m \u001b[1m1s\u001b[0m 21ms/step - loss: 0.0033 - val_loss: 1.6934e-05 - learning_rate: 5.0000e-04\n",
      "Epoch 12/100\n",
      "\u001b[1m31/31\u001b[0m \u001b[32m━━━━━━━━━━━━━━━━━━━━\u001b[0m\u001b[37m\u001b[0m \u001b[1m1s\u001b[0m 20ms/step - loss: 0.0032 - val_loss: 2.8663e-05 - learning_rate: 5.0000e-04\n",
      "Epoch 13/100\n",
      "\u001b[1m31/31\u001b[0m \u001b[32m━━━━━━━━━━━━━━━━━━━━\u001b[0m\u001b[37m\u001b[0m \u001b[1m1s\u001b[0m 21ms/step - loss: 0.0028 - val_loss: 2.8607e-05 - learning_rate: 2.5000e-04\n",
      "Epoch 14/100\n",
      "\u001b[1m31/31\u001b[0m \u001b[32m━━━━━━━━━━━━━━━━━━━━\u001b[0m\u001b[37m\u001b[0m \u001b[1m1s\u001b[0m 22ms/step - loss: 0.0027 - val_loss: 4.4121e-05 - learning_rate: 2.5000e-04\n",
      "Epoch 15/100\n",
      "\u001b[1m31/31\u001b[0m \u001b[32m━━━━━━━━━━━━━━━━━━━━\u001b[0m\u001b[37m\u001b[0m \u001b[1m1s\u001b[0m 21ms/step - loss: 0.0029 - val_loss: 1.8511e-05 - learning_rate: 2.5000e-04\n",
      "Epoch 16/100\n",
      "\u001b[1m31/31\u001b[0m \u001b[32m━━━━━━━━━━━━━━━━━━━━\u001b[0m\u001b[37m\u001b[0m \u001b[1m1s\u001b[0m 21ms/step - loss: 0.0028 - val_loss: 2.2802e-05 - learning_rate: 2.5000e-04\n",
      "Epoch 17/100\n",
      "\u001b[1m31/31\u001b[0m \u001b[32m━━━━━━━━━━━━━━━━━━━━\u001b[0m\u001b[37m\u001b[0m \u001b[1m1s\u001b[0m 20ms/step - loss: 0.0025 - val_loss: 3.5955e-05 - learning_rate: 2.5000e-04\n",
      "Epoch 18/100\n",
      "\u001b[1m31/31\u001b[0m \u001b[32m━━━━━━━━━━━━━━━━━━━━\u001b[0m\u001b[37m\u001b[0m \u001b[1m1s\u001b[0m 20ms/step - loss: 0.0031 - val_loss: 1.8422e-05 - learning_rate: 1.2500e-04\n",
      "Epoch 19/100\n",
      "\u001b[1m31/31\u001b[0m \u001b[32m━━━━━━━━━━━━━━━━━━━━\u001b[0m\u001b[37m\u001b[0m \u001b[1m1s\u001b[0m 21ms/step - loss: 0.0029 - val_loss: 1.9166e-05 - learning_rate: 1.2500e-04\n",
      "Epoch 20/100\n",
      "\u001b[1m31/31\u001b[0m \u001b[32m━━━━━━━━━━━━━━━━━━━━\u001b[0m\u001b[37m\u001b[0m \u001b[1m1s\u001b[0m 20ms/step - loss: 0.0028 - val_loss: 3.0898e-05 - learning_rate: 1.2500e-04\n",
      "Epoch 21/100\n",
      "\u001b[1m31/31\u001b[0m \u001b[32m━━━━━━━━━━━━━━━━━━━━\u001b[0m\u001b[37m\u001b[0m \u001b[1m1s\u001b[0m 20ms/step - loss: 0.0023 - val_loss: 2.3519e-05 - learning_rate: 1.2500e-04\n"
     ]
    },
    {
     "data": {
      "text/plain": [
       "<keras.src.callbacks.history.History at 0x19d99c50170>"
      ]
     },
     "execution_count": 106,
     "metadata": {},
     "output_type": "execute_result"
    }
   ],
   "source": [
    "# Treinar o modelo\n",
    "early_stopping = EarlyStopping(monitor='val_loss', patience=10, restore_best_weights=True)\n",
    "reduce_lr = ReduceLROnPlateau(monitor='val_loss', factor=0.5, patience=5, min_lr=1e-5)\n",
    "\n",
    "model.fit(X_train, y_train, \n",
    "               epochs=100, \n",
    "               batch_size=32, \n",
    "               validation_data=(X_test, y_test),\n",
    "               callbacks=[early_stopping, reduce_lr], \n",
    "               verbose=1)\n"
   ]
  },
  {
   "cell_type": "code",
   "execution_count": 107,
   "metadata": {},
   "outputs": [
    {
     "name": "stdout",
     "output_type": "stream",
     "text": [
      "\u001b[1m8/8\u001b[0m \u001b[32m━━━━━━━━━━━━━━━━━━━━\u001b[0m\u001b[37m\u001b[0m \u001b[1m1s\u001b[0m 40ms/step\n"
     ]
    }
   ],
   "source": [
    "# Fazer previsões\n",
    "lstm_predictions = model.predict(X_test)\n",
    "\n",
    "# Inverter a normalização\n",
    "lstm_predictions = scaler.inverse_transform(lstm_predictions)"
   ]
  },
  {
   "cell_type": "code",
   "execution_count": 108,
   "metadata": {},
   "outputs": [],
   "source": [
    "df_teste = pd.DataFrame({\n",
    "    \"Date\": ativo.index[len(X_train) + window_size : len(X_train) + window_size + len(lstm_predictions)],\n",
    "    \"Real\": ativo['Close'].iloc[len(X_train) + window_size : len(X_train) + window_size + len(lstm_predictions)].values.flatten(),\n",
    "    \"Previsão\": lstm_predictions.flatten()\n",
    "})\n",
    "\n",
    "df_teste[\"Date\"] = pd.to_datetime(df_teste[\"Date\"])\n",
    "\n",
    "df_teste.set_index(\"Date\", inplace=True)"
   ]
  },
  {
   "cell_type": "code",
   "execution_count": 109,
   "metadata": {},
   "outputs": [
    {
     "data": {
      "text/html": [
       "<div>\n",
       "<style scoped>\n",
       "    .dataframe tbody tr th:only-of-type {\n",
       "        vertical-align: middle;\n",
       "    }\n",
       "\n",
       "    .dataframe tbody tr th {\n",
       "        vertical-align: top;\n",
       "    }\n",
       "\n",
       "    .dataframe thead th {\n",
       "        text-align: right;\n",
       "    }\n",
       "</style>\n",
       "<table border=\"1\" class=\"dataframe\">\n",
       "  <thead>\n",
       "    <tr style=\"text-align: right;\">\n",
       "      <th></th>\n",
       "      <th>Real</th>\n",
       "      <th>Previsão</th>\n",
       "    </tr>\n",
       "    <tr>\n",
       "      <th>Date</th>\n",
       "      <th></th>\n",
       "      <th></th>\n",
       "    </tr>\n",
       "  </thead>\n",
       "  <tbody>\n",
       "    <tr>\n",
       "      <th>2024-03-06</th>\n",
       "      <td>20.600000</td>\n",
       "      <td>20.613340</td>\n",
       "    </tr>\n",
       "    <tr>\n",
       "      <th>2024-03-07</th>\n",
       "      <td>20.400000</td>\n",
       "      <td>20.683777</td>\n",
       "    </tr>\n",
       "    <tr>\n",
       "      <th>2024-03-08</th>\n",
       "      <td>20.500000</td>\n",
       "      <td>20.715029</td>\n",
       "    </tr>\n",
       "    <tr>\n",
       "      <th>2024-03-11</th>\n",
       "      <td>20.000000</td>\n",
       "      <td>20.707769</td>\n",
       "    </tr>\n",
       "    <tr>\n",
       "      <th>2024-03-12</th>\n",
       "      <td>20.200001</td>\n",
       "      <td>20.662825</td>\n",
       "    </tr>\n",
       "    <tr>\n",
       "      <th>...</th>\n",
       "      <td>...</td>\n",
       "      <td>...</td>\n",
       "    </tr>\n",
       "    <tr>\n",
       "      <th>2025-02-14</th>\n",
       "      <td>7.380000</td>\n",
       "      <td>7.011577</td>\n",
       "    </tr>\n",
       "    <tr>\n",
       "      <th>2025-02-17</th>\n",
       "      <td>7.960000</td>\n",
       "      <td>7.041710</td>\n",
       "    </tr>\n",
       "    <tr>\n",
       "      <th>2025-02-18</th>\n",
       "      <td>7.680000</td>\n",
       "      <td>7.077246</td>\n",
       "    </tr>\n",
       "    <tr>\n",
       "      <th>2025-02-19</th>\n",
       "      <td>7.450000</td>\n",
       "      <td>7.118735</td>\n",
       "    </tr>\n",
       "    <tr>\n",
       "      <th>2025-02-20</th>\n",
       "      <td>7.450000</td>\n",
       "      <td>7.160948</td>\n",
       "    </tr>\n",
       "  </tbody>\n",
       "</table>\n",
       "<p>243 rows × 2 columns</p>\n",
       "</div>"
      ],
      "text/plain": [
       "                 Real   Previsão\n",
       "Date                            \n",
       "2024-03-06  20.600000  20.613340\n",
       "2024-03-07  20.400000  20.683777\n",
       "2024-03-08  20.500000  20.715029\n",
       "2024-03-11  20.000000  20.707769\n",
       "2024-03-12  20.200001  20.662825\n",
       "...               ...        ...\n",
       "2025-02-14   7.380000   7.011577\n",
       "2025-02-17   7.960000   7.041710\n",
       "2025-02-18   7.680000   7.077246\n",
       "2025-02-19   7.450000   7.118735\n",
       "2025-02-20   7.450000   7.160948\n",
       "\n",
       "[243 rows x 2 columns]"
      ]
     },
     "execution_count": 109,
     "metadata": {},
     "output_type": "execute_result"
    }
   ],
   "source": [
    "df_teste"
   ]
  },
  {
   "cell_type": "code",
   "execution_count": 110,
   "metadata": {},
   "outputs": [
    {
     "name": "stdout",
     "output_type": "stream",
     "text": [
      "📊 MÉTRICAS DE ERRO DO MODELO LSTM 📊\n",
      "MAE  (Erro Absoluto Médio)  : 0.8278\n",
      "MSE  (Erro Quadrático Médio): 1.0624\n",
      "RMSE (Raiz do Erro Médio)   : 1.0307\n",
      "R²   (Coeficiente de Determinação): 0.9220\n"
     ]
    }
   ],
   "source": [
    "# Calcular métricas\n",
    "mae = mean_absolute_error(df_teste[\"Real\"], df_teste[\"Previsão\"])\n",
    "mse = mean_squared_error(df_teste[\"Real\"], df_teste[\"Previsão\"])\n",
    "rmse = np.sqrt(mse)\n",
    "r2 = r2_score(df_teste[\"Real\"], df_teste[\"Previsão\"])\n",
    "\n",
    "# Exibir resultados\n",
    "print(f\"📊 MÉTRICAS DE ERRO DO MODELO LSTM 📊\")\n",
    "print(f\"MAE  (Erro Absoluto Médio)  : {mae:.4f}\")\n",
    "print(f\"MSE  (Erro Quadrático Médio): {mse:.4f}\")\n",
    "print(f\"RMSE (Raiz do Erro Médio)   : {rmse:.4f}\")\n",
    "print(f\"R²   (Coeficiente de Determinação): {r2:.4f}\")\n"
   ]
  },
  {
   "cell_type": "code",
   "execution_count": 111,
   "metadata": {},
   "outputs": [
    {
     "data": {
      "image/png": "[encoded data removed]",
      "text/plain": [
       "<Figure size 1200x600 with 1 Axes>"
      ]
     },
     "metadata": {},
     "output_type": "display_data"
    }
   ],
   "source": [
    "import matplotlib.pyplot as plt\n",
    "\n",
    "# Criar o gráfico\n",
    "plt.figure(figsize=(12, 6))\n",
    "plt.plot(df_teste.index, df_teste[\"Real\"], label=\"Preço Real\", linestyle=\"-\", color=\"blue\")\n",
    "plt.plot(df_teste.index, df_teste[\"Previsão\"], label=\"Previsão LSTM\", linestyle=\"--\", color=\"red\")\n",
    "\n",
    "# Adicionar títulos e legendas\n",
    "plt.title(\"Comparação entre Preço Real e Previsão do Modelo LSTM\", fontsize=14)\n",
    "plt.xlabel(\"Data\", fontsize=12)\n",
    "plt.ylabel(\"Preço de Fechamento\", fontsize=12)\n",
    "plt.legend()\n",
    "plt.grid(True)\n",
    "\n",
    "# Mostrar o gráfico\n",
    "plt.show()\n"
   ]
  },
  {
   "cell_type": "code",
   "execution_count": 118,
   "metadata": {},
   "outputs": [
    {
     "name": "stdout",
     "output_type": "stream",
     "text": [
      "Media lucro: Modelo acertou tendência\n",
      "False    0.032725\n",
      "True     0.030538\n",
      "Name: Variação percentual real absoluto, dtype: float64\n",
      "Ganho sobre perda: 0.9331673157956153\n",
      "Acertou lado: 0.5311203319502075\n",
      "rendimento diário: 0.0875%\n"
     ]
    },
    {
     "name": "stderr",
     "output_type": "stream",
     "text": [
      "C:\\Users\\ramon\\AppData\\Local\\Temp\\ipykernel_8732\\3695083697.py:47: FutureWarning: Series.__getitem__ treating keys as positions is deprecated. In a future version, integer keys will always be treated as labels (consistent with DataFrame behavior). To access a value by position, use `ser.iloc[pos]`\n",
      "  exp_mat_lucro = acertou_lado * media_lucro[1] - media_lucro[0] * errou_lado\n",
      "C:\\Users\\ramon\\AppData\\Local\\Temp\\ipykernel_8732\\3695083697.py:50: FutureWarning: Series.__getitem__ treating keys as positions is deprecated. In a future version, integer keys will always be treated as labels (consistent with DataFrame behavior). To access a value by position, use `ser.iloc[pos]`\n",
      "  ganho_sobre_perda = media_lucro[1]/media_lucro[0]\n"
     ]
    }
   ],
   "source": [
    "#calcular media de acertos e expectativa de lucro\n",
    "\n",
    "df_teste = df_teste.copy()\n",
    "\n",
    "df_teste['Variação percentual real'] = df_teste['Real'].pct_change()\n",
    "\n",
    "#Nova coluna com a variação percentual da ação prevista\n",
    "df_teste['Variação percentual previsão'] = df_teste['Previsão'].pct_change()\n",
    "\n",
    "#Remover valores nulos\n",
    "df_teste = df_teste.dropna()\n",
    "\n",
    "#Nova coluna com a informação se a ação subiu ou não\n",
    "df_teste['Ação subiu'] = np.where(df_teste['Variação percentual real'] > 0, \n",
    "                                                      True, False)\n",
    "\n",
    "#Nova coluna com a informação se a previsão subiu ou não\n",
    "df_teste['Previsão subiu'] = np.where(df_teste['Variação percentual previsão'] > 0, \n",
    "                                                      True, False)\n",
    "\n",
    "#Nova coluna com a informação se o modelo acertou a tendência\n",
    "df_teste['Modelo acertou tendência'] = np.where(df_teste['Ação subiu'] == df_teste['Previsão subiu']\n",
    "                                      , True, False)\n",
    "\n",
    "#Nova coluna com a variação percentual real absoluta\n",
    "df_teste['Variação percentual real absoluto'] = df_teste['Variação percentual real'].abs()\n",
    "\n",
    "#calcular media de acertos e expectativa de lucro\n",
    "acertou_lado = df_teste['Modelo acertou tendência'].sum()/len(df_teste['Modelo acertou tendência'])\n",
    "\n",
    "#calcular media de erros e expectativa de lucro\n",
    "errou_lado = 1 - acertou_lado\n",
    "\n",
    "#calcular media de lucro agrupado por acertos e erros\n",
    "media_lucro = df_teste.groupby('Modelo acertou tendência')['Variação percentual real absoluto'].mean()\n",
    "\n",
    "#calcular media de acertos e expectativa de lucro\n",
    "acertou_lado = df_teste['Modelo acertou tendência'].sum()/len(df_teste['Modelo acertou tendência'])\n",
    "\n",
    "#calcular media de erros e expectativa de lucro\n",
    "errou_lado = 1 - acertou_lado\n",
    "\n",
    "#calcular media de lucro agrupado por acertos e erros\n",
    "media_lucro = df_teste.groupby('Modelo acertou tendência')['Variação percentual real absoluto'].mean()\n",
    "\n",
    "#calcular expectativa matematica de lucro\n",
    "exp_mat_lucro = acertou_lado * media_lucro[1] - media_lucro[0] * errou_lado\n",
    "\n",
    "#calcular ganho sobre perda\n",
    "ganho_sobre_perda = media_lucro[1]/media_lucro[0]\n",
    "\n",
    "#calcular rendimento diario\n",
    "exp_mat_lucro_percent = exp_mat_lucro * 100\n",
    "\n",
    "print(f\"Media lucro: {media_lucro}\")\n",
    "print(f\"Ganho sobre perda: {ganho_sobre_perda}\")\n",
    "print(f\"Acertou lado: {acertou_lado}\")\n",
    "print(\"rendimento diário: \" + str(round(exp_mat_lucro_percent, 4)) + \"%\")\n"
   ]
  },
  {
   "cell_type": "code",
   "execution_count": null,
   "metadata": {},
   "outputs": [
    {
     "name": "stderr",
     "output_type": "stream",
     "text": [
      "[*********************100%***********************]  1 of 1 completed"
     ]
    },
    {
     "name": "stdout",
     "output_type": "stream",
     "text": [
      "\u001b[1m1/1\u001b[0m \u001b[32m━━━━━━━━━━━━━━━━━━━━\u001b[0m\u001b[37m\u001b[0m \u001b[1m0s\u001b[0m 33ms/step\n",
      "\n",
      "Preço de fechamento hoje: \n",
      "7.524094\n"
     ]
    },
    {
     "name": "stderr",
     "output_type": "stream",
     "text": [
      "\n"
     ]
    }
   ],
   "source": [
    "data_hoje = datetime.now()\n",
    "\n",
    "data_inicio_modelo = ativo.index[0]\n",
    "\n",
    "if data_hoje.hour > 18:\n",
    "    final = data_hoje\n",
    "    inicial = datetime.now() - timedelta(days = 252)\n",
    "    indicativo_dia = \"\\nPreço de fechamento amanhã:\"\n",
    "    \n",
    "else:\n",
    "    final = data_hoje - timedelta(days = 1)\n",
    "    inicial = datetime.now() - timedelta(days = 252)\n",
    "    indicativo_dia = \"\\nPreço de fechamento hoje:\"\n",
    "    \n",
    "\n",
    "cotacoes = yf.download(acao, start=inicial, end=final)\n",
    "\n",
    "ultimos_60_dias = cotacoes['Close'].iloc[-60:].values.reshape(-1, 1)\n",
    "\n",
    "ultimos_60_dias_df = pd.DataFrame(ultimos_60_dias, columns=scaler.feature_names_in_)\n",
    "ultimos_60_dias_escalado = scaler.transform(ultimos_60_dias_df)\n",
    "\n",
    "\n",
    "teste_x = []\n",
    "teste_x.append(ultimos_60_dias_escalado)\n",
    "teste_x = np.array(teste_x)\n",
    "teste_x = teste_x.reshape(teste_x.shape[0], teste_x.shape[1], 1)\n",
    "\n",
    "\n",
    "previsao_de_preco = model.predict(teste_x)\n",
    "previsao_de_preco   = scaler.inverse_transform(previsao_de_preco)\n",
    "\n",
    "print(indicativo_dia)\n",
    "print(previsao_de_preco[0][0])\n",
    "\n"
   ]
  },
  {
   "cell_type": "code",
   "execution_count": null,
   "metadata": {},
   "outputs": [],
   "source": []
  },
  {
   "cell_type": "code",
   "execution_count": null,
   "metadata": {},
   "outputs": [],
   "source": []
  },
  {
   "cell_type": "code",
   "execution_count": null,
   "metadata": {},
   "outputs": [
    {
     "name": "stdout",
     "output_type": "stream",
     "text": [
      "\u001b[1m1/1\u001b[0m \u001b[32m━━━━━━━━━━━━━━━━━━━━\u001b[0m\u001b[37m\u001b[0m \u001b[1m0s\u001b[0m 249ms/step\n",
      "7.524094\n"
     ]
    }
   ],
   "source": []
  }
 ],
 "metadata": {
  "kernelspec": {
   "display_name": "Python 3",
   "language": "python",
   "name": "python3"
  },
  "language_info": {
   "codemirror_mode": {
    "name": "ipython",
    "version": 3
   },
   "file_extension": ".py",
   "mimetype": "text/x-python",
   "name": "python",
   "nbconvert_exporter": "python",
   "pygments_lexer": "ipython3",
   "version": "3.12.1"
  }
 },
 "nbformat": 4,
 "nbformat_minor": 2
}
