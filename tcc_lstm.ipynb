{
 "cells": [
  {
   "cell_type": "markdown",
   "metadata": {},
   "source": [
    "LSTM"
   ]
  },
  {
   "cell_type": "code",
   "execution_count": 26,
   "metadata": {},
   "outputs": [],
   "source": [
    "import yfinance as yf\n",
    "import pandas as pd\n",
    "import numpy as np\n",
    "from sklearn.model_selection import train_test_split\n",
    "from sklearn.preprocessing import MinMaxScaler\n",
    "from tensorflow.keras.models import Sequential\n",
    "from tensorflow.keras.layers import LSTM, Dense, Dropout\n",
    "from tensorflow.keras.callbacks import EarlyStopping\n",
    "from tensorflow.keras.optimizers import Adam\n",
    "from tensorflow.keras.callbacks import ReduceLROnPlateau\n",
    "from sklearn.metrics import mean_squared_error\n",
    "import matplotlib.pyplot as plt\n",
    "from sklearn.metrics import mean_absolute_error, mean_squared_error, r2_score\n",
    "from datetime import datetime, timedelta\n"
   ]
  },
  {
   "cell_type": "code",
   "execution_count": 2,
   "metadata": {},
   "outputs": [
    {
     "name": "stdout",
     "output_type": "stream",
     "text": [
      "YF.download() has changed argument auto_adjust default to True\n"
     ]
    },
    {
     "name": "stderr",
     "output_type": "stream",
     "text": [
      "[*********************100%***********************]  1 of 1 completed\n",
      "\n",
      "1 Failed download:\n",
      "['MGLU3.SA']: YFRateLimitError('Too Many Requests. Rate limited. Try after a while.')\n"
     ]
    }
   ],
   "source": [
    "acao = 'MGLU3.SA'\n",
    "\n",
<<<<<<< HEAD
    "ativo = yf.download(acao, period=\"5y\")"
=======
    "ativo = yf.download('PETR4.SA', period=\"5y\")"
>>>>>>> 23d0e42 (v1.1.1)
   ]
  },
  {
   "cell_type": "code",
   "execution_count": 3,
   "metadata": {},
   "outputs": [
    {
     "data": {
      "text/html": [
       "<div>\n",
       "<style scoped>\n",
       "    .dataframe tbody tr th:only-of-type {\n",
       "        vertical-align: middle;\n",
       "    }\n",
       "\n",
       "    .dataframe tbody tr th {\n",
       "        vertical-align: top;\n",
       "    }\n",
       "\n",
       "    .dataframe thead tr th {\n",
       "        text-align: left;\n",
       "    }\n",
       "\n",
       "    .dataframe thead tr:last-of-type th {\n",
       "        text-align: right;\n",
       "    }\n",
       "</style>\n",
       "<table border=\"1\" class=\"dataframe\">\n",
       "  <thead>\n",
       "    <tr>\n",
       "      <th>Price</th>\n",
       "      <th>Adj Close</th>\n",
       "      <th>Close</th>\n",
       "      <th>High</th>\n",
       "      <th>Low</th>\n",
       "      <th>Open</th>\n",
       "      <th>Volume</th>\n",
       "    </tr>\n",
       "    <tr>\n",
       "      <th>Ticker</th>\n",
<<<<<<< HEAD
       "      <th>MGLU3.SA</th>\n",
       "      <th>MGLU3.SA</th>\n",
       "      <th>MGLU3.SA</th>\n",
       "      <th>MGLU3.SA</th>\n",
       "      <th>MGLU3.SA</th>\n",
       "      <th>MGLU3.SA</th>\n",
=======
       "      <th>PETR4.SA</th>\n",
       "      <th>PETR4.SA</th>\n",
       "      <th>PETR4.SA</th>\n",
       "      <th>PETR4.SA</th>\n",
       "      <th>PETR4.SA</th>\n",
>>>>>>> 23d0e42 (v1.1.1)
       "    </tr>\n",
       "    <tr>\n",
       "      <th>Date</th>\n",
       "      <th></th>\n",
       "      <th></th>\n",
       "      <th></th>\n",
       "      <th></th>\n",
       "      <th></th>\n",
       "      <th></th>\n",
       "    </tr>\n",
       "  </thead>\n",
       "  <tbody>\n",
<<<<<<< HEAD
=======
       "    <tr>\n",
       "      <th>2020-02-19</th>\n",
       "      <td>9.799172</td>\n",
       "      <td>9.799172</td>\n",
       "      <td>9.545773</td>\n",
       "      <td>9.581057</td>\n",
       "      <td>44181800</td>\n",
       "    </tr>\n",
       "    <tr>\n",
       "      <th>2020-02-20</th>\n",
       "      <td>9.597095</td>\n",
       "      <td>9.908230</td>\n",
       "      <td>9.542566</td>\n",
       "      <td>9.879362</td>\n",
       "      <td>73522900</td>\n",
       "    </tr>\n",
       "    <tr>\n",
       "      <th>2020-02-21</th>\n",
       "      <td>9.346901</td>\n",
       "      <td>9.520111</td>\n",
       "      <td>9.311618</td>\n",
       "      <td>9.465582</td>\n",
       "      <td>47805100</td>\n",
       "    </tr>\n",
       "    <tr>\n",
       "      <th>2020-02-26</th>\n",
       "      <td>8.407080</td>\n",
       "      <td>8.785575</td>\n",
       "      <td>8.349344</td>\n",
       "      <td>8.673310</td>\n",
       "      <td>89207100</td>\n",
       "    </tr>\n",
       "    <tr>\n",
       "      <th>2020-02-27</th>\n",
       "      <td>8.115188</td>\n",
       "      <td>8.509721</td>\n",
       "      <td>7.983677</td>\n",
       "      <td>8.249906</td>\n",
       "      <td>100112100</td>\n",
       "    </tr>\n",
>>>>>>> 23d0e42 (v1.1.1)
       "  </tbody>\n",
       "</table>\n",
       "</div>"
      ],
      "text/plain": [
<<<<<<< HEAD
       "Empty DataFrame\n",
       "Columns: [(Adj Close, MGLU3.SA), (Close, MGLU3.SA), (High, MGLU3.SA), (Low, MGLU3.SA), (Open, MGLU3.SA), (Volume, MGLU3.SA)]\n",
       "Index: []"
=======
       "Price          Close      High       Low      Open     Volume\n",
       "Ticker      PETR4.SA  PETR4.SA  PETR4.SA  PETR4.SA   PETR4.SA\n",
       "Date                                                         \n",
       "2020-02-19  9.799172  9.799172  9.545773  9.581057   44181800\n",
       "2020-02-20  9.597095  9.908230  9.542566  9.879362   73522900\n",
       "2020-02-21  9.346901  9.520111  9.311618  9.465582   47805100\n",
       "2020-02-26  8.407080  8.785575  8.349344  8.673310   89207100\n",
       "2020-02-27  8.115188  8.509721  7.983677  8.249906  100112100"
>>>>>>> 23d0e42 (v1.1.1)
      ]
     },
     "execution_count": 3,
     "metadata": {},
     "output_type": "execute_result"
    }
   ],
   "source": [
    "ativo.head()"
   ]
  },
  {
   "cell_type": "code",
   "execution_count": 4,
   "metadata": {},
   "outputs": [],
   "source": [
    "# Pega somente o atributo \"Close\" e armazena em um array bidimensional\n",
    "#O array precisa ser bidimensional porque o MinMaxScaler espera uma entrada com esse formato.\n",
    "ativo_close = ativo['Close'].dropna().to_numpy().reshape(-1, 1)"
   ]
  },
  {
   "cell_type": "code",
   "execution_count": 5,
   "metadata": {},
   "outputs": [],
   "source": [
    "# Criar um DataFrame com os valores ajustados\n",
    "data = pd.DataFrame(ativo_close)\n",
    "data.columns = ['Close']"
   ]
  },
  {
   "cell_type": "code",
   "execution_count": 6,
   "metadata": {},
   "outputs": [
    {
     "ename": "ValueError",
     "evalue": "Found array with 0 sample(s) (shape=(0, 1)) while a minimum of 1 is required by MinMaxScaler.",
     "output_type": "error",
     "traceback": [
      "\u001b[1;31m---------------------------------------------------------------------------\u001b[0m",
      "\u001b[1;31mValueError\u001b[0m                                Traceback (most recent call last)",
      "Cell \u001b[1;32mIn[6], line 3\u001b[0m\n\u001b[0;32m      1\u001b[0m \u001b[38;5;66;03m# Normalizar os dados para os modelos\u001b[39;00m\n\u001b[0;32m      2\u001b[0m scaler \u001b[38;5;241m=\u001b[39m MinMaxScaler(feature_range\u001b[38;5;241m=\u001b[39m(\u001b[38;5;241m0\u001b[39m, \u001b[38;5;241m1\u001b[39m))\n\u001b[1;32m----> 3\u001b[0m data[\u001b[38;5;124m'\u001b[39m\u001b[38;5;124mScaled_Close\u001b[39m\u001b[38;5;124m'\u001b[39m] \u001b[38;5;241m=\u001b[39m \u001b[43mscaler\u001b[49m\u001b[38;5;241;43m.\u001b[39;49m\u001b[43mfit_transform\u001b[49m\u001b[43m(\u001b[49m\u001b[43mdata\u001b[49m\u001b[43m[\u001b[49m\u001b[43m[\u001b[49m\u001b[38;5;124;43m'\u001b[39;49m\u001b[38;5;124;43mClose\u001b[39;49m\u001b[38;5;124;43m'\u001b[39;49m\u001b[43m]\u001b[49m\u001b[43m]\u001b[49m\u001b[43m)\u001b[49m\n",
      "File \u001b[1;32m~\\AppData\\Roaming\\Python\\Python312\\site-packages\\sklearn\\utils\\_set_output.py:319\u001b[0m, in \u001b[0;36m_wrap_method_output.<locals>.wrapped\u001b[1;34m(self, X, *args, **kwargs)\u001b[0m\n\u001b[0;32m    317\u001b[0m \u001b[38;5;129m@wraps\u001b[39m(f)\n\u001b[0;32m    318\u001b[0m \u001b[38;5;28;01mdef\u001b[39;00m\u001b[38;5;250m \u001b[39m\u001b[38;5;21mwrapped\u001b[39m(\u001b[38;5;28mself\u001b[39m, X, \u001b[38;5;241m*\u001b[39margs, \u001b[38;5;241m*\u001b[39m\u001b[38;5;241m*\u001b[39mkwargs):\n\u001b[1;32m--> 319\u001b[0m     data_to_wrap \u001b[38;5;241m=\u001b[39m \u001b[43mf\u001b[49m\u001b[43m(\u001b[49m\u001b[38;5;28;43mself\u001b[39;49m\u001b[43m,\u001b[49m\u001b[43m \u001b[49m\u001b[43mX\u001b[49m\u001b[43m,\u001b[49m\u001b[43m \u001b[49m\u001b[38;5;241;43m*\u001b[39;49m\u001b[43margs\u001b[49m\u001b[43m,\u001b[49m\u001b[43m \u001b[49m\u001b[38;5;241;43m*\u001b[39;49m\u001b[38;5;241;43m*\u001b[39;49m\u001b[43mkwargs\u001b[49m\u001b[43m)\u001b[49m\n\u001b[0;32m    320\u001b[0m     \u001b[38;5;28;01mif\u001b[39;00m \u001b[38;5;28misinstance\u001b[39m(data_to_wrap, \u001b[38;5;28mtuple\u001b[39m):\n\u001b[0;32m    321\u001b[0m         \u001b[38;5;66;03m# only wrap the first output for cross decomposition\u001b[39;00m\n\u001b[0;32m    322\u001b[0m         return_tuple \u001b[38;5;241m=\u001b[39m (\n\u001b[0;32m    323\u001b[0m             _wrap_data_with_container(method, data_to_wrap[\u001b[38;5;241m0\u001b[39m], X, \u001b[38;5;28mself\u001b[39m),\n\u001b[0;32m    324\u001b[0m             \u001b[38;5;241m*\u001b[39mdata_to_wrap[\u001b[38;5;241m1\u001b[39m:],\n\u001b[0;32m    325\u001b[0m         )\n",
      "File \u001b[1;32m~\\AppData\\Roaming\\Python\\Python312\\site-packages\\sklearn\\base.py:918\u001b[0m, in \u001b[0;36mTransformerMixin.fit_transform\u001b[1;34m(self, X, y, **fit_params)\u001b[0m\n\u001b[0;32m    903\u001b[0m         warnings\u001b[38;5;241m.\u001b[39mwarn(\n\u001b[0;32m    904\u001b[0m             (\n\u001b[0;32m    905\u001b[0m                 \u001b[38;5;124mf\u001b[39m\u001b[38;5;124m\"\u001b[39m\u001b[38;5;124mThis object (\u001b[39m\u001b[38;5;132;01m{\u001b[39;00m\u001b[38;5;28mself\u001b[39m\u001b[38;5;241m.\u001b[39m\u001b[38;5;18m__class__\u001b[39m\u001b[38;5;241m.\u001b[39m\u001b[38;5;18m__name__\u001b[39m\u001b[38;5;132;01m}\u001b[39;00m\u001b[38;5;124m) has a `transform`\u001b[39m\u001b[38;5;124m\"\u001b[39m\n\u001b[1;32m   (...)\u001b[0m\n\u001b[0;32m    913\u001b[0m             \u001b[38;5;167;01mUserWarning\u001b[39;00m,\n\u001b[0;32m    914\u001b[0m         )\n\u001b[0;32m    916\u001b[0m \u001b[38;5;28;01mif\u001b[39;00m y \u001b[38;5;129;01mis\u001b[39;00m \u001b[38;5;28;01mNone\u001b[39;00m:\n\u001b[0;32m    917\u001b[0m     \u001b[38;5;66;03m# fit method of arity 1 (unsupervised transformation)\u001b[39;00m\n\u001b[1;32m--> 918\u001b[0m     \u001b[38;5;28;01mreturn\u001b[39;00m \u001b[38;5;28;43mself\u001b[39;49m\u001b[38;5;241;43m.\u001b[39;49m\u001b[43mfit\u001b[49m\u001b[43m(\u001b[49m\u001b[43mX\u001b[49m\u001b[43m,\u001b[49m\u001b[43m \u001b[49m\u001b[38;5;241;43m*\u001b[39;49m\u001b[38;5;241;43m*\u001b[39;49m\u001b[43mfit_params\u001b[49m\u001b[43m)\u001b[49m\u001b[38;5;241m.\u001b[39mtransform(X)\n\u001b[0;32m    919\u001b[0m \u001b[38;5;28;01melse\u001b[39;00m:\n\u001b[0;32m    920\u001b[0m     \u001b[38;5;66;03m# fit method of arity 2 (supervised transformation)\u001b[39;00m\n\u001b[0;32m    921\u001b[0m     \u001b[38;5;28;01mreturn\u001b[39;00m \u001b[38;5;28mself\u001b[39m\u001b[38;5;241m.\u001b[39mfit(X, y, \u001b[38;5;241m*\u001b[39m\u001b[38;5;241m*\u001b[39mfit_params)\u001b[38;5;241m.\u001b[39mtransform(X)\n",
      "File \u001b[1;32m~\\AppData\\Roaming\\Python\\Python312\\site-packages\\sklearn\\preprocessing\\_data.py:447\u001b[0m, in \u001b[0;36mMinMaxScaler.fit\u001b[1;34m(self, X, y)\u001b[0m\n\u001b[0;32m    445\u001b[0m \u001b[38;5;66;03m# Reset internal state before fitting\u001b[39;00m\n\u001b[0;32m    446\u001b[0m \u001b[38;5;28mself\u001b[39m\u001b[38;5;241m.\u001b[39m_reset()\n\u001b[1;32m--> 447\u001b[0m \u001b[38;5;28;01mreturn\u001b[39;00m \u001b[38;5;28;43mself\u001b[39;49m\u001b[38;5;241;43m.\u001b[39;49m\u001b[43mpartial_fit\u001b[49m\u001b[43m(\u001b[49m\u001b[43mX\u001b[49m\u001b[43m,\u001b[49m\u001b[43m \u001b[49m\u001b[43my\u001b[49m\u001b[43m)\u001b[49m\n",
      "File \u001b[1;32m~\\AppData\\Roaming\\Python\\Python312\\site-packages\\sklearn\\base.py:1389\u001b[0m, in \u001b[0;36m_fit_context.<locals>.decorator.<locals>.wrapper\u001b[1;34m(estimator, *args, **kwargs)\u001b[0m\n\u001b[0;32m   1382\u001b[0m     estimator\u001b[38;5;241m.\u001b[39m_validate_params()\n\u001b[0;32m   1384\u001b[0m \u001b[38;5;28;01mwith\u001b[39;00m config_context(\n\u001b[0;32m   1385\u001b[0m     skip_parameter_validation\u001b[38;5;241m=\u001b[39m(\n\u001b[0;32m   1386\u001b[0m         prefer_skip_nested_validation \u001b[38;5;129;01mor\u001b[39;00m global_skip_validation\n\u001b[0;32m   1387\u001b[0m     )\n\u001b[0;32m   1388\u001b[0m ):\n\u001b[1;32m-> 1389\u001b[0m     \u001b[38;5;28;01mreturn\u001b[39;00m \u001b[43mfit_method\u001b[49m\u001b[43m(\u001b[49m\u001b[43mestimator\u001b[49m\u001b[43m,\u001b[49m\u001b[43m \u001b[49m\u001b[38;5;241;43m*\u001b[39;49m\u001b[43margs\u001b[49m\u001b[43m,\u001b[49m\u001b[43m \u001b[49m\u001b[38;5;241;43m*\u001b[39;49m\u001b[38;5;241;43m*\u001b[39;49m\u001b[43mkwargs\u001b[49m\u001b[43m)\u001b[49m\n",
      "File \u001b[1;32m~\\AppData\\Roaming\\Python\\Python312\\site-packages\\sklearn\\preprocessing\\_data.py:487\u001b[0m, in \u001b[0;36mMinMaxScaler.partial_fit\u001b[1;34m(self, X, y)\u001b[0m\n\u001b[0;32m    484\u001b[0m xp, _ \u001b[38;5;241m=\u001b[39m get_namespace(X)\n\u001b[0;32m    486\u001b[0m first_pass \u001b[38;5;241m=\u001b[39m \u001b[38;5;129;01mnot\u001b[39;00m \u001b[38;5;28mhasattr\u001b[39m(\u001b[38;5;28mself\u001b[39m, \u001b[38;5;124m\"\u001b[39m\u001b[38;5;124mn_samples_seen_\u001b[39m\u001b[38;5;124m\"\u001b[39m)\n\u001b[1;32m--> 487\u001b[0m X \u001b[38;5;241m=\u001b[39m \u001b[43mvalidate_data\u001b[49m\u001b[43m(\u001b[49m\n\u001b[0;32m    488\u001b[0m \u001b[43m    \u001b[49m\u001b[38;5;28;43mself\u001b[39;49m\u001b[43m,\u001b[49m\n\u001b[0;32m    489\u001b[0m \u001b[43m    \u001b[49m\u001b[43mX\u001b[49m\u001b[43m,\u001b[49m\n\u001b[0;32m    490\u001b[0m \u001b[43m    \u001b[49m\u001b[43mreset\u001b[49m\u001b[38;5;241;43m=\u001b[39;49m\u001b[43mfirst_pass\u001b[49m\u001b[43m,\u001b[49m\n\u001b[0;32m    491\u001b[0m \u001b[43m    \u001b[49m\u001b[43mdtype\u001b[49m\u001b[38;5;241;43m=\u001b[39;49m\u001b[43m_array_api\u001b[49m\u001b[38;5;241;43m.\u001b[39;49m\u001b[43msupported_float_dtypes\u001b[49m\u001b[43m(\u001b[49m\u001b[43mxp\u001b[49m\u001b[43m)\u001b[49m\u001b[43m,\u001b[49m\n\u001b[0;32m    492\u001b[0m \u001b[43m    \u001b[49m\u001b[43mensure_all_finite\u001b[49m\u001b[38;5;241;43m=\u001b[39;49m\u001b[38;5;124;43m\"\u001b[39;49m\u001b[38;5;124;43mallow-nan\u001b[39;49m\u001b[38;5;124;43m\"\u001b[39;49m\u001b[43m,\u001b[49m\n\u001b[0;32m    493\u001b[0m \u001b[43m\u001b[49m\u001b[43m)\u001b[49m\n\u001b[0;32m    495\u001b[0m data_min \u001b[38;5;241m=\u001b[39m _array_api\u001b[38;5;241m.\u001b[39m_nanmin(X, axis\u001b[38;5;241m=\u001b[39m\u001b[38;5;241m0\u001b[39m, xp\u001b[38;5;241m=\u001b[39mxp)\n\u001b[0;32m    496\u001b[0m data_max \u001b[38;5;241m=\u001b[39m _array_api\u001b[38;5;241m.\u001b[39m_nanmax(X, axis\u001b[38;5;241m=\u001b[39m\u001b[38;5;241m0\u001b[39m, xp\u001b[38;5;241m=\u001b[39mxp)\n",
      "File \u001b[1;32m~\\AppData\\Roaming\\Python\\Python312\\site-packages\\sklearn\\utils\\validation.py:2944\u001b[0m, in \u001b[0;36mvalidate_data\u001b[1;34m(_estimator, X, y, reset, validate_separately, skip_check_array, **check_params)\u001b[0m\n\u001b[0;32m   2942\u001b[0m         out \u001b[38;5;241m=\u001b[39m X, y\n\u001b[0;32m   2943\u001b[0m \u001b[38;5;28;01melif\u001b[39;00m \u001b[38;5;129;01mnot\u001b[39;00m no_val_X \u001b[38;5;129;01mand\u001b[39;00m no_val_y:\n\u001b[1;32m-> 2944\u001b[0m     out \u001b[38;5;241m=\u001b[39m \u001b[43mcheck_array\u001b[49m\u001b[43m(\u001b[49m\u001b[43mX\u001b[49m\u001b[43m,\u001b[49m\u001b[43m \u001b[49m\u001b[43minput_name\u001b[49m\u001b[38;5;241;43m=\u001b[39;49m\u001b[38;5;124;43m\"\u001b[39;49m\u001b[38;5;124;43mX\u001b[39;49m\u001b[38;5;124;43m\"\u001b[39;49m\u001b[43m,\u001b[49m\u001b[43m \u001b[49m\u001b[38;5;241;43m*\u001b[39;49m\u001b[38;5;241;43m*\u001b[39;49m\u001b[43mcheck_params\u001b[49m\u001b[43m)\u001b[49m\n\u001b[0;32m   2945\u001b[0m \u001b[38;5;28;01melif\u001b[39;00m no_val_X \u001b[38;5;129;01mand\u001b[39;00m \u001b[38;5;129;01mnot\u001b[39;00m no_val_y:\n\u001b[0;32m   2946\u001b[0m     out \u001b[38;5;241m=\u001b[39m _check_y(y, \u001b[38;5;241m*\u001b[39m\u001b[38;5;241m*\u001b[39mcheck_params)\n",
      "File \u001b[1;32m~\\AppData\\Roaming\\Python\\Python312\\site-packages\\sklearn\\utils\\validation.py:1130\u001b[0m, in \u001b[0;36mcheck_array\u001b[1;34m(array, accept_sparse, accept_large_sparse, dtype, order, copy, force_writeable, force_all_finite, ensure_all_finite, ensure_non_negative, ensure_2d, allow_nd, ensure_min_samples, ensure_min_features, estimator, input_name)\u001b[0m\n\u001b[0;32m   1128\u001b[0m     n_samples \u001b[38;5;241m=\u001b[39m _num_samples(array)\n\u001b[0;32m   1129\u001b[0m     \u001b[38;5;28;01mif\u001b[39;00m n_samples \u001b[38;5;241m<\u001b[39m ensure_min_samples:\n\u001b[1;32m-> 1130\u001b[0m         \u001b[38;5;28;01mraise\u001b[39;00m \u001b[38;5;167;01mValueError\u001b[39;00m(\n\u001b[0;32m   1131\u001b[0m             \u001b[38;5;124m\"\u001b[39m\u001b[38;5;124mFound array with \u001b[39m\u001b[38;5;132;01m%d\u001b[39;00m\u001b[38;5;124m sample(s) (shape=\u001b[39m\u001b[38;5;132;01m%s\u001b[39;00m\u001b[38;5;124m) while a\u001b[39m\u001b[38;5;124m\"\u001b[39m\n\u001b[0;32m   1132\u001b[0m             \u001b[38;5;124m\"\u001b[39m\u001b[38;5;124m minimum of \u001b[39m\u001b[38;5;132;01m%d\u001b[39;00m\u001b[38;5;124m is required\u001b[39m\u001b[38;5;132;01m%s\u001b[39;00m\u001b[38;5;124m.\u001b[39m\u001b[38;5;124m\"\u001b[39m\n\u001b[0;32m   1133\u001b[0m             \u001b[38;5;241m%\u001b[39m (n_samples, array\u001b[38;5;241m.\u001b[39mshape, ensure_min_samples, context)\n\u001b[0;32m   1134\u001b[0m         )\n\u001b[0;32m   1136\u001b[0m \u001b[38;5;28;01mif\u001b[39;00m ensure_min_features \u001b[38;5;241m>\u001b[39m \u001b[38;5;241m0\u001b[39m \u001b[38;5;129;01mand\u001b[39;00m array\u001b[38;5;241m.\u001b[39mndim \u001b[38;5;241m==\u001b[39m \u001b[38;5;241m2\u001b[39m:\n\u001b[0;32m   1137\u001b[0m     n_features \u001b[38;5;241m=\u001b[39m array\u001b[38;5;241m.\u001b[39mshape[\u001b[38;5;241m1\u001b[39m]\n",
      "\u001b[1;31mValueError\u001b[0m: Found array with 0 sample(s) (shape=(0, 1)) while a minimum of 1 is required by MinMaxScaler."
     ]
    }
   ],
   "source": [
    "# Normalizar os dados para os modelos\n",
    "scaler = MinMaxScaler(feature_range=(0, 1))\n",
    "data['Scaled_Close'] = scaler.fit_transform(data[['Close']])"
   ]
  },
  {
   "cell_type": "code",
   "execution_count": null,
   "metadata": {},
   "outputs": [],
   "source": [
    "# Função para criar janelas de dados\n",
    "# janela de dados = quantidade de dias do X\n",
    "def create_dataset(data, window_size=60):\n",
    "    X, y = [], []\n",
    "    for i in range(len(data) - window_size):\n",
    "        X.append(data[i:i + window_size])\n",
    "        y.append(data[i + window_size])\n",
    "    return np.array(X), np.array(y)\n"
   ]
  },
  {
   "cell_type": "code",
   "execution_count": null,
   "metadata": {},
   "outputs": [],
   "source": [
    "window_size = 30\n",
    "scaled_data = data['Scaled_Close'].values\n",
    "X, y = create_dataset(scaled_data, window_size)"
   ]
  },
  {
   "cell_type": "code",
   "execution_count": null,
   "metadata": {},
   "outputs": [],
   "source": [
    "scaled_data.shape, X.shape, y.shape"
   ]
  },
  {
   "cell_type": "code",
   "execution_count": null,
   "metadata": {},
   "outputs": [],
   "source": [
    "# Dividir os dados em treinamento e teste\n",
    "X_train, X_test, y_train, y_test = train_test_split(X, y, test_size=0.2, shuffle=False)"
   ]
  },
  {
   "cell_type": "code",
   "execution_count": null,
   "metadata": {},
   "outputs": [],
   "source": [
    "# Ajustar o formato para o LSTM\n",
    "X_train = np.reshape(X_train, (X_train.shape[0], X_train.shape[1], 1))\n",
    "X_test = np.reshape(X_test, (X_test.shape[0], X_test.shape[1], 1))"
   ]
  },
  {
   "cell_type": "code",
   "execution_count": null,
   "metadata": {},
<<<<<<< HEAD
   "outputs": [],
=======
   "outputs": [
    {
     "name": "stderr",
     "output_type": "stream",
     "text": [
      "c:\\Python312\\Lib\\site-packages\\keras\\src\\layers\\rnn\\rnn.py:200: UserWarning: Do not pass an `input_shape`/`input_dim` argument to a layer. When using Sequential models, prefer using an `Input(shape)` object as the first layer in the model instead.\n",
      "  super().__init__(**kwargs)\n"
     ]
    }
   ],
>>>>>>> 23d0e42 (v1.1.1)
   "source": [
    "# Criar o modelo LSTM\n",
    "lstm_model = Sequential([\n",
    "    LSTM(100, return_sequences=True, input_shape=(window_size, 1)),\n",
    "    Dropout(0.3),\n",
    "    LSTM(100, return_sequences=True),\n",
    "    Dropout(0.3),\n",
    "    LSTM(100),\n",
    "    Dropout(0.3),\n",
    "    Dense(1)\n",
    "])"
   ]
  },
  {
   "cell_type": "code",
   "execution_count": null,
   "metadata": {},
   "outputs": [],
   "source": [
    "# Compilar o modelo\n",
    "# A função de loss é a forma de medir o erro do modelo, que nesse caso\n",
    "#é o classico erro médio quadrático da que é usado em regressão linear\n",
    "#otimizador e medida de erro\n",
    "\n",
    "lstm_model.compile(optimizer=Adam(learning_rate=0.001), loss='mean_squared_error')\n"
   ]
  },
  {
   "cell_type": "code",
   "execution_count": null,
   "metadata": {},
<<<<<<< HEAD
   "outputs": [],
=======
   "outputs": [
    {
     "name": "stdout",
     "output_type": "stream",
     "text": [
      "Epoch 1/100\n",
      "\u001b[1m31/31\u001b[0m \u001b[32m━━━━━━━━━━━━━━━━━━━━\u001b[0m\u001b[37m\u001b[0m \u001b[1m8s\u001b[0m 74ms/step - loss: 0.0455 - val_loss: 0.0205 - learning_rate: 0.0010\n",
      "Epoch 2/100\n",
      "\u001b[1m31/31\u001b[0m \u001b[32m━━━━━━━━━━━━━━━━━━━━\u001b[0m\u001b[37m\u001b[0m \u001b[1m2s\u001b[0m 48ms/step - loss: 0.0030 - val_loss: 0.0018 - learning_rate: 0.0010\n",
      "Epoch 3/100\n",
      "\u001b[1m31/31\u001b[0m \u001b[32m━━━━━━━━━━━━━━━━━━━━\u001b[0m\u001b[37m\u001b[0m \u001b[1m2s\u001b[0m 53ms/step - loss: 0.0031 - val_loss: 0.0120 - learning_rate: 0.0010\n",
      "Epoch 4/100\n",
      "\u001b[1m31/31\u001b[0m \u001b[32m━━━━━━━━━━━━━━━━━━━━\u001b[0m\u001b[37m\u001b[0m \u001b[1m1s\u001b[0m 47ms/step - loss: 0.0025 - val_loss: 0.0040 - learning_rate: 0.0010\n",
      "Epoch 5/100\n",
      "\u001b[1m31/31\u001b[0m \u001b[32m━━━━━━━━━━━━━━━━━━━━\u001b[0m\u001b[37m\u001b[0m \u001b[1m2s\u001b[0m 49ms/step - loss: 0.0024 - val_loss: 0.0016 - learning_rate: 0.0010\n",
      "Epoch 6/100\n",
      "\u001b[1m31/31\u001b[0m \u001b[32m━━━━━━━━━━━━━━━━━━━━\u001b[0m\u001b[37m\u001b[0m \u001b[1m1s\u001b[0m 47ms/step - loss: 0.0019 - val_loss: 0.0021 - learning_rate: 0.0010\n",
      "Epoch 7/100\n",
      "\u001b[1m31/31\u001b[0m \u001b[32m━━━━━━━━━━━━━━━━━━━━\u001b[0m\u001b[37m\u001b[0m \u001b[1m1s\u001b[0m 47ms/step - loss: 0.0017 - val_loss: 0.0016 - learning_rate: 0.0010\n",
      "Epoch 8/100\n",
      "\u001b[1m31/31\u001b[0m \u001b[32m━━━━━━━━━━━━━━━━━━━━\u001b[0m\u001b[37m\u001b[0m \u001b[1m2s\u001b[0m 49ms/step - loss: 0.0016 - val_loss: 0.0020 - learning_rate: 0.0010\n",
      "Epoch 9/100\n",
      "\u001b[1m31/31\u001b[0m \u001b[32m━━━━━━━━━━━━━━━━━━━━\u001b[0m\u001b[37m\u001b[0m \u001b[1m2s\u001b[0m 48ms/step - loss: 0.0018 - val_loss: 0.0059 - learning_rate: 0.0010\n",
      "Epoch 10/100\n",
      "\u001b[1m31/31\u001b[0m \u001b[32m━━━━━━━━━━━━━━━━━━━━\u001b[0m\u001b[37m\u001b[0m \u001b[1m2s\u001b[0m 68ms/step - loss: 0.0021 - val_loss: 0.0053 - learning_rate: 0.0010\n",
      "Epoch 11/100\n",
      "\u001b[1m31/31\u001b[0m \u001b[32m━━━━━━━━━━━━━━━━━━━━\u001b[0m\u001b[37m\u001b[0m \u001b[1m2s\u001b[0m 60ms/step - loss: 0.0021 - val_loss: 0.0017 - learning_rate: 5.0000e-04\n",
      "Epoch 12/100\n",
      "\u001b[1m31/31\u001b[0m \u001b[32m━━━━━━━━━━━━━━━━━━━━\u001b[0m\u001b[37m\u001b[0m \u001b[1m2s\u001b[0m 58ms/step - loss: 0.0020 - val_loss: 0.0021 - learning_rate: 5.0000e-04\n",
      "Epoch 13/100\n",
      "\u001b[1m31/31\u001b[0m \u001b[32m━━━━━━━━━━━━━━━━━━━━\u001b[0m\u001b[37m\u001b[0m \u001b[1m2s\u001b[0m 54ms/step - loss: 0.0016 - val_loss: 0.0047 - learning_rate: 5.0000e-04\n",
      "Epoch 14/100\n",
      "\u001b[1m31/31\u001b[0m \u001b[32m━━━━━━━━━━━━━━━━━━━━\u001b[0m\u001b[37m\u001b[0m \u001b[1m2s\u001b[0m 53ms/step - loss: 0.0019 - val_loss: 0.0018 - learning_rate: 5.0000e-04\n",
      "Epoch 15/100\n",
      "\u001b[1m31/31\u001b[0m \u001b[32m━━━━━━━━━━━━━━━━━━━━\u001b[0m\u001b[37m\u001b[0m \u001b[1m2s\u001b[0m 52ms/step - loss: 0.0019 - val_loss: 0.0031 - learning_rate: 5.0000e-04\n",
      "Epoch 16/100\n",
      "\u001b[1m31/31\u001b[0m \u001b[32m━━━━━━━━━━━━━━━━━━━━\u001b[0m\u001b[37m\u001b[0m \u001b[1m2s\u001b[0m 58ms/step - loss: 0.0016 - val_loss: 0.0020 - learning_rate: 2.5000e-04\n",
      "Epoch 17/100\n",
      "\u001b[1m31/31\u001b[0m \u001b[32m━━━━━━━━━━━━━━━━━━━━\u001b[0m\u001b[37m\u001b[0m \u001b[1m2s\u001b[0m 51ms/step - loss: 0.0014 - val_loss: 0.0014 - learning_rate: 2.5000e-04\n",
      "Epoch 18/100\n",
      "\u001b[1m31/31\u001b[0m \u001b[32m━━━━━━━━━━━━━━━━━━━━\u001b[0m\u001b[37m\u001b[0m \u001b[1m2s\u001b[0m 49ms/step - loss: 0.0014 - val_loss: 0.0015 - learning_rate: 2.5000e-04\n",
      "Epoch 19/100\n",
      "\u001b[1m31/31\u001b[0m \u001b[32m━━━━━━━━━━━━━━━━━━━━\u001b[0m\u001b[37m\u001b[0m \u001b[1m2s\u001b[0m 50ms/step - loss: 0.0015 - val_loss: 0.0015 - learning_rate: 2.5000e-04\n",
      "Epoch 20/100\n",
      "\u001b[1m31/31\u001b[0m \u001b[32m━━━━━━━━━━━━━━━━━━━━\u001b[0m\u001b[37m\u001b[0m \u001b[1m2s\u001b[0m 50ms/step - loss: 0.0013 - val_loss: 0.0014 - learning_rate: 2.5000e-04\n",
      "Epoch 21/100\n",
      "\u001b[1m31/31\u001b[0m \u001b[32m━━━━━━━━━━━━━━━━━━━━\u001b[0m\u001b[37m\u001b[0m \u001b[1m2s\u001b[0m 50ms/step - loss: 0.0015 - val_loss: 0.0013 - learning_rate: 2.5000e-04\n",
      "Epoch 22/100\n",
      "\u001b[1m31/31\u001b[0m \u001b[32m━━━━━━━━━━━━━━━━━━━━\u001b[0m\u001b[37m\u001b[0m \u001b[1m2s\u001b[0m 50ms/step - loss: 0.0014 - val_loss: 0.0013 - learning_rate: 2.5000e-04\n",
      "Epoch 23/100\n",
      "\u001b[1m31/31\u001b[0m \u001b[32m━━━━━━━━━━━━━━━━━━━━\u001b[0m\u001b[37m\u001b[0m \u001b[1m2s\u001b[0m 55ms/step - loss: 0.0013 - val_loss: 0.0013 - learning_rate: 1.2500e-04\n",
      "Epoch 24/100\n",
      "\u001b[1m31/31\u001b[0m \u001b[32m━━━━━━━━━━━━━━━━━━━━\u001b[0m\u001b[37m\u001b[0m \u001b[1m2s\u001b[0m 50ms/step - loss: 0.0014 - val_loss: 0.0015 - learning_rate: 1.2500e-04\n",
      "Epoch 25/100\n",
      "\u001b[1m31/31\u001b[0m \u001b[32m━━━━━━━━━━━━━━━━━━━━\u001b[0m\u001b[37m\u001b[0m \u001b[1m2s\u001b[0m 49ms/step - loss: 0.0015 - val_loss: 0.0013 - learning_rate: 1.2500e-04\n",
      "Epoch 26/100\n",
      "\u001b[1m31/31\u001b[0m \u001b[32m━━━━━━━━━━━━━━━━━━━━\u001b[0m\u001b[37m\u001b[0m \u001b[1m2s\u001b[0m 49ms/step - loss: 0.0012 - val_loss: 0.0013 - learning_rate: 1.2500e-04\n",
      "Epoch 27/100\n",
      "\u001b[1m31/31\u001b[0m \u001b[32m━━━━━━━━━━━━━━━━━━━━\u001b[0m\u001b[37m\u001b[0m \u001b[1m2s\u001b[0m 50ms/step - loss: 0.0014 - val_loss: 0.0013 - learning_rate: 1.2500e-04\n",
      "Epoch 28/100\n",
      "\u001b[1m31/31\u001b[0m \u001b[32m━━━━━━━━━━━━━━━━━━━━\u001b[0m\u001b[37m\u001b[0m \u001b[1m2s\u001b[0m 49ms/step - loss: 0.0013 - val_loss: 0.0013 - learning_rate: 6.2500e-05\n",
      "Epoch 29/100\n",
      "\u001b[1m31/31\u001b[0m \u001b[32m━━━━━━━━━━━━━━━━━━━━\u001b[0m\u001b[37m\u001b[0m \u001b[1m2s\u001b[0m 50ms/step - loss: 0.0013 - val_loss: 0.0013 - learning_rate: 6.2500e-05\n",
      "Epoch 30/100\n",
      "\u001b[1m31/31\u001b[0m \u001b[32m━━━━━━━━━━━━━━━━━━━━\u001b[0m\u001b[37m\u001b[0m \u001b[1m2s\u001b[0m 58ms/step - loss: 0.0014 - val_loss: 0.0013 - learning_rate: 6.2500e-05\n",
      "Epoch 31/100\n",
      "\u001b[1m31/31\u001b[0m \u001b[32m━━━━━━━━━━━━━━━━━━━━\u001b[0m\u001b[37m\u001b[0m \u001b[1m2s\u001b[0m 49ms/step - loss: 0.0013 - val_loss: 0.0014 - learning_rate: 6.2500e-05\n",
      "Epoch 32/100\n",
      "\u001b[1m31/31\u001b[0m \u001b[32m━━━━━━━━━━━━━━━━━━━━\u001b[0m\u001b[37m\u001b[0m \u001b[1m2s\u001b[0m 50ms/step - loss: 0.0012 - val_loss: 0.0013 - learning_rate: 6.2500e-05\n",
      "Epoch 33/100\n",
      "\u001b[1m31/31\u001b[0m \u001b[32m━━━━━━━━━━━━━━━━━━━━\u001b[0m\u001b[37m\u001b[0m \u001b[1m2s\u001b[0m 49ms/step - loss: 0.0013 - val_loss: 0.0013 - learning_rate: 3.1250e-05\n",
      "Epoch 34/100\n",
      "\u001b[1m31/31\u001b[0m \u001b[32m━━━━━━━━━━━━━━━━━━━━\u001b[0m\u001b[37m\u001b[0m \u001b[1m2s\u001b[0m 73ms/step - loss: 0.0013 - val_loss: 0.0014 - learning_rate: 3.1250e-05\n",
      "Epoch 35/100\n",
      "\u001b[1m31/31\u001b[0m \u001b[32m━━━━━━━━━━━━━━━━━━━━\u001b[0m\u001b[37m\u001b[0m \u001b[1m2s\u001b[0m 50ms/step - loss: 0.0014 - val_loss: 0.0013 - learning_rate: 3.1250e-05\n",
      "Epoch 36/100\n",
      "\u001b[1m31/31\u001b[0m \u001b[32m━━━━━━━━━━━━━━━━━━━━\u001b[0m\u001b[37m\u001b[0m \u001b[1m2s\u001b[0m 55ms/step - loss: 0.0014 - val_loss: 0.0013 - learning_rate: 3.1250e-05\n",
      "Epoch 37/100\n",
      "\u001b[1m31/31\u001b[0m \u001b[32m━━━━━━━━━━━━━━━━━━━━\u001b[0m\u001b[37m\u001b[0m \u001b[1m2s\u001b[0m 50ms/step - loss: 0.0015 - val_loss: 0.0013 - learning_rate: 3.1250e-05\n",
      "Epoch 38/100\n",
      "\u001b[1m31/31\u001b[0m \u001b[32m━━━━━━━━━━━━━━━━━━━━\u001b[0m\u001b[37m\u001b[0m \u001b[1m2s\u001b[0m 51ms/step - loss: 0.0012 - val_loss: 0.0014 - learning_rate: 1.5625e-05\n",
      "Epoch 39/100\n",
      "\u001b[1m31/31\u001b[0m \u001b[32m━━━━━━━━━━━━━━━━━━━━\u001b[0m\u001b[37m\u001b[0m \u001b[1m2s\u001b[0m 54ms/step - loss: 0.0013 - val_loss: 0.0013 - learning_rate: 1.5625e-05\n",
      "Epoch 40/100\n",
      "\u001b[1m31/31\u001b[0m \u001b[32m━━━━━━━━━━━━━━━━━━━━\u001b[0m\u001b[37m\u001b[0m \u001b[1m1s\u001b[0m 46ms/step - loss: 0.0013 - val_loss: 0.0016 - learning_rate: 1.5625e-05\n",
      "Epoch 41/100\n",
      "\u001b[1m31/31\u001b[0m \u001b[32m━━━━━━━━━━━━━━━━━━━━\u001b[0m\u001b[37m\u001b[0m \u001b[1m1s\u001b[0m 46ms/step - loss: 0.0012 - val_loss: 0.0013 - learning_rate: 1.5625e-05\n",
      "Epoch 42/100\n",
      "\u001b[1m31/31\u001b[0m \u001b[32m━━━━━━━━━━━━━━━━━━━━\u001b[0m\u001b[37m\u001b[0m \u001b[1m1s\u001b[0m 47ms/step - loss: 0.0014 - val_loss: 0.0014 - learning_rate: 1.5625e-05\n",
      "Epoch 43/100\n",
      "\u001b[1m31/31\u001b[0m \u001b[32m━━━━━━━━━━━━━━━━━━━━\u001b[0m\u001b[37m\u001b[0m \u001b[1m3s\u001b[0m 49ms/step - loss: 0.0011 - val_loss: 0.0013 - learning_rate: 1.0000e-05\n",
      "Epoch 44/100\n",
      "\u001b[1m31/31\u001b[0m \u001b[32m━━━━━━━━━━━━━━━━━━━━\u001b[0m\u001b[37m\u001b[0m \u001b[1m1s\u001b[0m 41ms/step - loss: 0.0013 - val_loss: 0.0013 - learning_rate: 1.0000e-05\n",
      "Epoch 45/100\n",
      "\u001b[1m31/31\u001b[0m \u001b[32m━━━━━━━━━━━━━━━━━━━━\u001b[0m\u001b[37m\u001b[0m \u001b[1m1s\u001b[0m 44ms/step - loss: 0.0012 - val_loss: 0.0013 - learning_rate: 1.0000e-05\n",
      "Epoch 46/100\n",
      "\u001b[1m31/31\u001b[0m \u001b[32m━━━━━━━━━━━━━━━━━━━━\u001b[0m\u001b[37m\u001b[0m \u001b[1m1s\u001b[0m 43ms/step - loss: 0.0014 - val_loss: 0.0013 - learning_rate: 1.0000e-05\n",
      "Epoch 47/100\n",
      "\u001b[1m31/31\u001b[0m \u001b[32m━━━━━━━━━━━━━━━━━━━━\u001b[0m\u001b[37m\u001b[0m \u001b[1m1s\u001b[0m 42ms/step - loss: 0.0013 - val_loss: 0.0013 - learning_rate: 1.0000e-05\n"
     ]
    },
    {
     "data": {
      "text/plain": [
       "<keras.src.callbacks.history.History at 0x1fcfa8be180>"
      ]
     },
     "execution_count": 14,
     "metadata": {},
     "output_type": "execute_result"
    }
   ],
>>>>>>> 23d0e42 (v1.1.1)
   "source": [
    "# Treinar o modelo\n",
    "early_stopping = EarlyStopping(monitor='val_loss', patience=10, restore_best_weights=True)\n",
    "reduce_lr = ReduceLROnPlateau(monitor='val_loss', factor=0.5, patience=5, min_lr=1e-5)\n",
    "\n",
    "lstm_model.fit(X_train, y_train, \n",
    "               epochs=100, \n",
    "               batch_size=32, \n",
    "               validation_data=(X_test, y_test),\n",
    "               callbacks=[early_stopping, reduce_lr], \n",
    "               verbose=1)\n"
   ]
  },
  {
   "cell_type": "code",
   "execution_count": null,
   "metadata": {},
<<<<<<< HEAD
   "outputs": [],
=======
   "outputs": [
    {
     "name": "stdout",
     "output_type": "stream",
     "text": [
      "\u001b[1m8/8\u001b[0m \u001b[32m━━━━━━━━━━━━━━━━━━━━\u001b[0m\u001b[37m\u001b[0m \u001b[1m1s\u001b[0m 70ms/step\n"
     ]
    }
   ],
>>>>>>> 23d0e42 (v1.1.1)
   "source": [
    "# Fazer previsões\n",
    "lstm_predictions = lstm_model.predict(X_test)\n",
    "\n",
    "# Inverter a normalização\n",
    "lstm_predictions = scaler.inverse_transform(lstm_predictions)"
   ]
  },
  {
   "cell_type": "code",
   "execution_count": 16,
   "metadata": {},
   "outputs": [],
   "source": [
    "df_teste = pd.DataFrame({\n",
    "    \"Date\": ativo.index[len(X_train) + window_size : len(X_train) + window_size + len(lstm_predictions)],\n",
    "    \"Real\": ativo['Close'].iloc[len(X_train) + window_size : len(X_train) + window_size + len(lstm_predictions)].values.flatten(),\n",
    "    \"Previsão\": lstm_predictions.flatten()\n",
    "})\n",
    "\n",
    "df_teste[\"Date\"] = pd.to_datetime(df_teste[\"Date\"])\n",
    "\n",
    "df_teste.set_index(\"Date\", inplace=True)"
   ]
  },
  {
   "cell_type": "code",
<<<<<<< HEAD
   "execution_count": null,
   "metadata": {},
   "outputs": [],
=======
   "execution_count": 17,
   "metadata": {},
   "outputs": [
    {
     "data": {
      "text/html": [
       "<div>\n",
       "<style scoped>\n",
       "    .dataframe tbody tr th:only-of-type {\n",
       "        vertical-align: middle;\n",
       "    }\n",
       "\n",
       "    .dataframe tbody tr th {\n",
       "        vertical-align: top;\n",
       "    }\n",
       "\n",
       "    .dataframe thead th {\n",
       "        text-align: right;\n",
       "    }\n",
       "</style>\n",
       "<table border=\"1\" class=\"dataframe\">\n",
       "  <thead>\n",
       "    <tr style=\"text-align: right;\">\n",
       "      <th></th>\n",
       "      <th>Real</th>\n",
       "      <th>Previsão</th>\n",
       "    </tr>\n",
       "    <tr>\n",
       "      <th>Date</th>\n",
       "      <th></th>\n",
       "      <th></th>\n",
       "    </tr>\n",
       "  </thead>\n",
       "  <tbody>\n",
       "    <tr>\n",
       "      <th>2024-03-05</th>\n",
       "      <td>32.635830</td>\n",
       "      <td>34.274109</td>\n",
       "    </tr>\n",
       "    <tr>\n",
       "      <th>2024-03-06</th>\n",
       "      <td>33.354542</td>\n",
       "      <td>34.103745</td>\n",
       "    </tr>\n",
       "    <tr>\n",
       "      <th>2024-03-07</th>\n",
       "      <td>32.987022</td>\n",
       "      <td>33.937973</td>\n",
       "    </tr>\n",
       "    <tr>\n",
       "      <th>2024-03-08</th>\n",
       "      <td>29.973354</td>\n",
       "      <td>33.784565</td>\n",
       "    </tr>\n",
       "    <tr>\n",
       "      <th>2024-03-11</th>\n",
       "      <td>29.115803</td>\n",
       "      <td>33.577583</td>\n",
       "    </tr>\n",
       "    <tr>\n",
       "      <th>...</th>\n",
       "      <td>...</td>\n",
       "      <td>...</td>\n",
       "    </tr>\n",
       "    <tr>\n",
       "      <th>2025-02-13</th>\n",
       "      <td>36.320000</td>\n",
       "      <td>37.085018</td>\n",
       "    </tr>\n",
       "    <tr>\n",
       "      <th>2025-02-14</th>\n",
       "      <td>37.439999</td>\n",
       "      <td>37.019531</td>\n",
       "    </tr>\n",
       "    <tr>\n",
       "      <th>2025-02-17</th>\n",
       "      <td>37.669998</td>\n",
       "      <td>36.972183</td>\n",
       "    </tr>\n",
       "    <tr>\n",
       "      <th>2025-02-18</th>\n",
       "      <td>38.360001</td>\n",
       "      <td>36.958668</td>\n",
       "    </tr>\n",
       "    <tr>\n",
       "      <th>2025-02-19</th>\n",
       "      <td>38.439999</td>\n",
       "      <td>36.996063</td>\n",
       "    </tr>\n",
       "  </tbody>\n",
       "</table>\n",
       "<p>243 rows × 2 columns</p>\n",
       "</div>"
      ],
      "text/plain": [
       "                 Real   Previsão\n",
       "Date                            \n",
       "2024-03-05  32.635830  34.274109\n",
       "2024-03-06  33.354542  34.103745\n",
       "2024-03-07  32.987022  33.937973\n",
       "2024-03-08  29.973354  33.784565\n",
       "2024-03-11  29.115803  33.577583\n",
       "...               ...        ...\n",
       "2025-02-13  36.320000  37.085018\n",
       "2025-02-14  37.439999  37.019531\n",
       "2025-02-17  37.669998  36.972183\n",
       "2025-02-18  38.360001  36.958668\n",
       "2025-02-19  38.439999  36.996063\n",
       "\n",
       "[243 rows x 2 columns]"
      ]
     },
     "execution_count": 17,
     "metadata": {},
     "output_type": "execute_result"
    }
   ],
>>>>>>> 23d0e42 (v1.1.1)
   "source": [
    "df_teste"
   ]
  },
  {
   "cell_type": "code",
<<<<<<< HEAD
   "execution_count": null,
   "metadata": {},
   "outputs": [],
=======
   "execution_count": 18,
   "metadata": {},
   "outputs": [
    {
     "name": "stdout",
     "output_type": "stream",
     "text": [
      "📊 MÉTRICAS DE ERRO DO MODELO LSTM 📊\n",
      "MAE  (Erro Absoluto Médio)  : 0.9981\n",
      "MSE  (Erro Quadrático Médio): 1.5531\n",
      "RMSE (Raiz do Erro Médio)   : 1.2462\n",
      "R²   (Coeficiente de Determinação): 0.6262\n"
     ]
    }
   ],
>>>>>>> 23d0e42 (v1.1.1)
   "source": [
    "# Calcular métricas\n",
    "mae = mean_absolute_error(df_teste[\"Real\"], df_teste[\"Previsão\"])\n",
    "mse = mean_squared_error(df_teste[\"Real\"], df_teste[\"Previsão\"])\n",
    "rmse = np.sqrt(mse)\n",
    "r2 = r2_score(df_teste[\"Real\"], df_teste[\"Previsão\"])\n",
    "\n",
    "# Exibir resultados\n",
    "print(f\"📊 MÉTRICAS DE ERRO DO MODELO LSTM 📊\")\n",
    "print(f\"MAE  (Erro Absoluto Médio)  : {mae:.4f}\")\n",
    "print(f\"MSE  (Erro Quadrático Médio): {mse:.4f}\")\n",
    "print(f\"RMSE (Raiz do Erro Médio)   : {rmse:.4f}\")\n",
    "print(f\"R²   (Coeficiente de Determinação): {r2:.4f}\")\n"
   ]
  },
  {
   "cell_type": "code",
<<<<<<< HEAD
   "execution_count": null,
   "metadata": {},
   "outputs": [],
=======
   "execution_count": 19,
   "metadata": {},
   "outputs": [
    {
     "data": {
      "image/png": "iVBORw0KGgoAAAANSUhEUgAAA/MAAAIoCAYAAAAlcrv7AAAAOXRFWHRTb2Z0d2FyZQBNYXRwbG90bGliIHZlcnNpb24zLjguMywgaHR0cHM6Ly9tYXRwbG90bGliLm9yZy/H5lhTAAAACXBIWXMAAA9hAAAPYQGoP6dpAAEAAElEQVR4nOzdd1gUVxcH4N/Su6iIgAVUwC6KvXexY+/dGDX2zySaxJpoNCYaWzTNbuy9l1iw996xFxQUaaLUne+Pk9kCu7BllqWc93l4Ztidnbm7Oyx75p57rkwQBAGMMcYYY4wxxhjLMSzM3QDGGGOMMcYYY4zph4N5xhhjjDHGGGMsh+FgnjHGGGOMMcYYy2E4mGeMMcYYY4wxxnIYDuYZY4wxxhhjjLEchoN5xhhjjDHGGGMsh+FgnjHGGGOMMcYYy2E4mGeMMcYYY4wxxnIYDuYZY4wxxhhjjLEchoN5xhjLAmvWrEGBAgXg5+eHVatW4fbt25DJZLh+/bq5m8aYUZ4+fQqZTIYBAwaYuynZ1oABAyCTyfD06VODHp+amopOnTrB0dERrVu3xs2bN/Htt9+iSpUq0jZUDz4+PvDx8THb8bPStGnTIJPJcPz4cYP3wX8njDFT4GCesVzu8uXLGDx4MPz8/ODo6Ah7e3uUKlUKffv2xeHDh83dvDxj4sSJqFKlCqpVq4YhQ4agQoUKqFu3LipWrGjuphls5cqVkMlkWLlypVnbIQZKqj8uLi6oXr06fv31VyQnJ5u1fVLT9HydnZ1RtWpVzJkzB4mJieZuYpYQgyPVHxsbGxQrVgy9evXCjRs3zN1EyRw9ehQ7duzAoEGDEB4ejkqVKmHWrFkYNmyYuZtmEsePH1e8p9WqVdO63f79+xXbNWrUKOsamA2Jn8ezZ8/Waftbt26hf//+8PHxga2tLfLlywdfX1906tQJCxYsgCAIAJDubyyzH0D9b9PDwwMpKSka23D37l3FdnnlwhBjUrMydwMYY6Yhl8vx5Zdf4tdff4WVlRWaNGmC9u3bw9raGo8fP8bevXuxdu1afP/995g8ebK5m5vr7dq1C35+fnBxcUF0dDTCwsLg7+8PCwu+piqVwYMHo2jRohAEAS9evMC2bdvwv//9D0ePHsXu3bvN3TzJqT7fsLAwbN++HRMmTMDRo0dx4MABczcvy5QqVQp9+vQBAHz48AHnzp3D+vXrsW3bNhw5cgR169Y1cwuBWbNmYeLEiShSpIhBj69atSquXr2KgIAAAMDjx49hbW2NYsWKSdnMbMfKygqXL1/GjRs3UKlSpXT3L1u2DFZWVlqDRabZ4cOH0bZtW6SkpKBZs2bo2LEj7Ozs8OjRI4SEhGD79u0YMWIErKysMHXq1HSPnz9/PmJiYjTep8rKygrh4eHYt28f2rdvn+7+ZcuW8f9AxozEwTxjudSkSZPw66+/onLlytiyZQtKlSqldv+nT5+wePFiREZGmqmFeUvVqlUV666urnB1dTVfY3Kpzz77DLVq1VL8PmPGDFSpUgV79uzB8ePHc13PXdrnO3v2bFSqVAkHDx7EsWPH0LhxYzO2Luv4+vpi2rRpardNmjQJM2fOxHfffWdUarRUPD094enpafDjCxQogAIFCih+L1mypBTNyvaCgoKwf/9+LF++HPPnz1e77927d9i9ezdat26NXbt2maeBOdTw4cORmpqKf//9N93nhCAIOHToECwtLQEg3d8WQFkAMTExGu9TVadOHVy/fh3Lly9PF8ynpKRg7dq1aNasGUJCQox6PozlZXw5jLFc6OHDh5gzZw4KFiyIAwcOpAvkAcDe3h5fffUVpk+frnb7u3fvMHbsWJQoUQK2trZwd3dHt27dcOvWrXT7ENN9Hz9+jF9++QX+/v6wt7dHuXLlsGHDBgBAUlISvvvuO/j4+MDOzg6VKlXC/v370+2rUaNGkMlkSEhIwMSJE1G8eHHY2dmhbNmyWLRokSLlTxQTE4OffvoJDRs2hJeXF2xsbODl5YV+/frh0aNH6favOuZx5cqVCAwMhIODgyLA03d/AH3pWbFiBerXrw9XV1c4ODjAz88PQ4cOxfPnzxXbXb16FaNGjULFihXh6uoKe3t7VKxYEbNmzdKaAn7r1i1069YN7u7usLW1RYkSJTB27Fi9L74kJSVh3rx5CAwMhKOjI5ydnVG/fn2NX37F9/PJkydYuHAhypQpA1tbW3h7e2P69OmQy+Vq2w4cOBAAMHDgwHRploD6ezpp0iSUKlUK1tbWal8Anzx5gs8++wzFixeHra0tPD09MWDAADx79kyv56mJl5cXOnXqBAC4ePEigMzPAwCIi4vD1KlTUb58edjb28PV1RVBQUE4deqUxuPExcVh+vTpqFSpEhwcHJAvXz5UqVIFkydPTvf+nj59Gm3atEGBAgVgZ2eHMmXKYOrUqfj48aPRz7dgwYLo0KEDABpek9aNGzfQo0cPeHp6wsbGBt7e3hg1apTGc2r58uUIDg5W/N0WKFAAQUFBOHbsmNHtBOhvZ/ny5ahbty5cXFzg4OCAatWqYfny5ZLsf9SoUQCU7zsARSr2q1ev0K9fP3h4eMDCwkIt2D9x4gTatWsHNzc32Nraws/PD5MmTVJ7f06ePAmZTIZBgwZpPHZERASsra3VMgK0jZnfunUrGjZsCHd3d9jZ2cHLywvNmjXD1q1b1bZbtWoVOnbsiBIlSuj8fqxYsQI1a9aEk5MTnJycULNmTYOGxOzcuRPVq1eHvb09ChcujCFDhiAqKkrr9vr8D8lM0aJF0bx5c/zzzz9ISkpSu2/t2rVISkrS+j4Y0pYXL16gZ8+eKFCgAJycnNCwYUOcOHEiwzbqcs5k5tmzZxg8eDCKFCkCGxsbFC1aFIMHD1b7PyKViIgIPHr0CBUqVNB4wU8mkyEoKEjts9xQ9vb26NGjB/bu3YuIiAi1+/bs2YPw8PAM3z/GWOa4Z56xXGjlypVITU3F0KFDUbhw4Qy3tbW1Vay/ffsWtWvXxqNHj9CoUSP06NEDT548wZYtW7B3714cPHgQ9erVS7eP//3vfzh//jzatWsHS0tLbNiwAb169UL+/PmxaNEi3LlzB23atEFCQgLWrVuH4OBg3L17V+NFhm7duuHq1avo3LkzAPqyO3r0aDx9+hRz585VbHf37l1MmTIFjRs3RseOHeHo6Ih79+5h3bp12Lt3L65cuQJvb+90+//5559x7NgxBAcHo0WLForeB333J5fL0b17d2zZsgVFihRBz5494eLigqdPn2LTpk1o1aoVihcvDoBSCcUv7S1btsSnT58QEhKCb7/9FpcuXUr3xf3UqVMICgpCUlISunTpAh8fH5w9exYLFizAnj17cO7cObi5uWX4vgJAYmIiWrZsiePHj6Ny5coYPHgwkpOTsXfvXgQHB2PRokUYOXJkusd99dVXCAkJQdu2bREUFIQdO3Zg2rRpSEpKwsyZMwEAHTp0QHR0NHbu3Ing4GBUrlxZazs6d+6M69evo2XLlnB1dUWJEiUAAOfPn0dQUBDi4+PRtm1b+Pn54enTp/jnn3+wf/9+nD17VrIeyLRfTLWdB+/fv0eDBg1w+/Zt1K1bF8OGDUNsbCx27tyJxo0bY/PmzYqAGaAvxg0bNsS9e/dQuXJlDB8+HHK5HPfu3cNPP/2E8ePHK7IwNm/ejJ49e8LW1hbdu3eHu7s7Dh06hO+//x4HDx7E8ePHYWdnJ8nztbJS//e+a9cudOvWDRYWFggODkaxYsVw584dLF68GAcPHsT58+eRP39+xfYjRoxAQEAAmjVrhkKFCuHVq1fYsWMHmjVrhm3btiE4ONjgtgmCgN69e2P9+vXw8/NDr169YGNjg8OHD2Pw4MG4c+cOfvnlF4P3ryrt+x4ZGYnatWujQIEC6NGjBxISEuDi4gIAWLp0KUaMGAFXV1e0a9cO7u7uuHTpEmbOnIljx47h2LFjsLGxQb169eDj44OtW7diyZIl6d6z9evXIyUlBX379s2wbUuXLsUXX3wBT09PdOzYEQULFsSbN29w4cIFbN++XfEZCAAjR45E2bJl0aRJE7i7uyMsLCzD92P06NFYtGgRihQpgsGDBwOgz9KBAwfi6tWrWLBggU6v3+rVq9G/f3+4uLigb9++cHV1xZ49e9CsWTMkJSXBxsZGbXtD/4dkZNCgQTh48CB2796t9posX74c5cuXR82aNTU+Tt+2vH79GrVr18arV68QFBSEwMBA3L17F82bN9ea5aLrOZORBw8eoF69enj79i3atWuH8uXL49atW1i+fDl2796NU6dOwd/fX6/XLCP58uWDlZUVXr9+jfj4eDg6Okq2b00GDRqEP/74A2vWrMH48eMVty9fvhwFChRQ+zxljBlAYIzlOo0aNRIACP/++69ejxs4cKAAQPjmm2/Ubt+7d68AQPD19RVSU1MVt/fv318AIPj7+wsRERGK28+fPy8AEFxdXYV69eoJHz58UNy3ceNGAYAwatQotWM0bNhQACCULl1aiI6OVtweHR0tlC5dWpDJZMLFixfVbo+MjEz3HI4ePSpYWFgIn332mdrtU6dOFQAIjo6Owo0bN9I9Tt/9LVq0SAAgNG3aVPj48aPafR8/flTb17Nnz4SUlBS1beRyuTBo0CABgHDq1CnF7ampqUKpUqUEAMKBAwfUHvPVV18JAIRBgwala6cm3377rQBAmDx5siCXyxW3x8bGCtWqVRNsbGyEV69eKW4X388SJUoIYWFhitvfvn0ruLq6Cs7OzkJiYqLi9hUrVggAhBUrVmg8vvieVq5cOd1rm5SUJPj4+AjOzs7ClStX1O47efKkYGlpKbRt21an5ym2++zZs2q3v379WihcuLAAQAgJCREEIfPzoFevXgIA4a+//lK7PTw8XChWrJhQqFAh4dOnT4rbO3fuLAAQvv3223T7evPmjZCcnCwIgiDExMQI+fLlE2xtbYXr168rtklNTRW6d+8uABC+//57o57vu3fvBC8vLwGAcOHCBbXbXVxchCJFighPnz5Ve8z69esFAMLIkSPVbn/8+HG644aFhQleXl6Cn5+f2u1PnjwRAAj9+/fXqf1//vmnAEAYOHCgkJSUpLg9MTFRaNeunQBAuHTpUqb7EY8bFBSU7r4pU6YIAITGjRsrbgOgOG7av8fbt28LVlZWQkBAgPDu3Tu1+2bNmiUAEH755RfFbZMmTRIACBs3bkx37KpVqwo2NjZq57z4nj158kRxW2BgoGBjYyOEh4en20faNujzfoSEhAgAhLJly6p9lr5//17w9/cXAAgnTpxIt7+0YmJiBBcXF8HR0VG4f/++4vakpCShQYMGAgDB29tb7TH6/g/R5tixYwIAYejQoUJiYqJQsGBBoXXr1or7L1y4IAAQ5s6dK7x+/VoAIDRs2NCotojv0YwZM9S2/+OPPxTnzrFjxxS363vOaPs7ady4sQBA+OOPP9Ru/+233wQAQpMmTTJ9vQRB+Xk8a9asTLft1KmTAECoWLGisHDhQuHSpUtqn+2Z8fb2FjIKIdL+bVaoUEEoX7684v7Xr18LVlZWiu8Btra26c4lxphuOJhnLBcqU6aMAEC4d++ezo9JTEwU7OzshIIFCwrx8fHp7m/evHm6L4Hil59Vq1al275kyZJqQZQoJSVFsLa2Fho0aKB2uxj4rV27Nt2+1qxZozHg0KZixYqCj4+P2m1iEDdu3Did9pHZ/sqWLStYWloKDx480Ht/osuXLwsAhGnTpiluO3HihABAaNWqVbrt4+LihAIFCgh2dnaZfvFKTU0V8ufPL5QqVUotkBft2rVLACAsWrRIcZv4fi5fvjzd9uJ9qgGwrsH8zp070923bdu2DAPYTp06CRYWFkJMTEyGz1O1bYMHDxamTp0qTJkyRRg0aJDg6uoqABCCg4MV22Z0Hrx9+1awtLTU+uV54cKFAgBh9+7dgiDQF1KZTCaUKlVKLSjVZPXq1QIAYfjw4enue/bsmWBlZSWULFky0+eq7fl+9tlngpubmwBAGD16tNr28+bNEwAIq1ev1ri/wMBAwc3NTadjjxo1SgCgdlFA32C+UqVKgqOjY7qLYIIgCDdu3BAACOPHj890P+JxS5UqJUydOlWYOnWq8OWXXwr169cXAAh2dnbCmTNnFNsDEGxsbIS3b9+m29fo0aO1BrmpqalCoUKFhKpVqypuu3//vgBAaNeundq2d+7cEQAIHTp0ULtdWzDv6OgovH//PtPnqo2m90O8SKjpQsM///yj8wXBVatWabzwKgh0wS1tMG/I/xBtVIN5QaD3x9LSUnHxcdiwYYK1tbUQERGhMZjXty3i9u7u7moX6wSB3n8/P790wby+54ymv5Nnz54JAIRy5cql+5xOTU1V/C9//vx5pq+ZPsH8u3fvFBfOxB8bGxuhTp06woIFCzT+barSN5gXP4POnTsnCIIgzJ49WwAgXL16VRAEDuYZMwan2TPGAAD37t1DQkICGjduDAcHh3T3N27cGIcPH8a1a9dQv359tfs0pVh7enri8ePH6e6ztLRUpIlqknbfqrddvXpV7fbjx49j/vz5OH/+PN69e6dW0VhbamONGjU03q7P/j58+IC7d+/C19cXfn5+WvcnSkpKwuLFi7Fhwwbcu3cPHz58UKsBoPpaiM9RU7E2JycnVKtWDYcOHcL9+/cznNbu/v37iIqKgpeXV7q6CACloAL0vqelWqxPVLRoUQBAdHS01mNqo+k1P3funKKdmooovXnzBnK5HA8ePMhwaipVy5YtU6w7OTmhbNmy6N27N0aMGKFTmy5evIjU1FQkJiZqbFNoaCgAes3atm2LS5cuQRAENG7cGNbW1hm2LaP3tXjx4ihZsiQePHiAuLg4ODs7Z7gvkerzFY0fPz5dirr4Wp8/f15j/YeEhAS8e/cO7969UwzfePz4MWbNmoWjR4/i1atX6aa7CwsL0ziMJTMfP37EzZs34eXlhZ9++ind/WKNAU3npTaPHj1SnOPW1tYoXLgwevXqhYkTJ6b7GylRooTGISria3Tw4EEcOXIk3f3W1tZqbfL390eNGjVw4MABtddt7dq1AJBpij0A9OjRA19//TUqVKiAXr16oXHjxqhXr54i7V+VPu9HRueamC5+7dq1TNt3/fp1AJo/k2vXrp1uKIcx/0MyM2jQICxcuBCrVq3CuHHjsGHDBrRt2xaFChXCmzdv0m2vb1vu37+PhIQENGnSJN2wCQsLC9StW1fx9y/S95zRRHwfGjZsmG5IiIWFBRo0aIB79+7h2rVrks5cULBgQezatQuhoaE4cOAALly4gHPnzuHMmTM4c+YM/vrrL4SEhKgVXTRGnz59MGHCBCxfvhw1a9bEihUrUKVKlQyHZzHGdMPBPGO5kIeHB+7du4dXr16hdOnSOj0mNjYWALSOsRcrMYvbqdL05VP8oqftPm2F3zQdX7wtJiZGcdvmzZvRvXt3ODk5ISgoCD4+PnBwcFDMe66tgJq256fP/sR26DrNVJcuXbB79274+/srxkpbW1sjOjoaCxYsUPtibsz7oOr9+/cAgNu3b+P27dtat4uPj093W0bvZ2pqaobH1UTTcxHb988//2T4WE3t0+bs2bNq1d0NbdPp06dx+vTpTNukz3mgy/v64MEDxMbG6hzMi883KSkJ169fxxdffIG5c+eibNmyinHSqs/rt99+y3B/8fHxcHNzw8OHD1GjRg3ExsaicePGaNeuHVxcXBTF4kJCQgyeyz4qKgqCIODVq1caLzKptkVXQUFBOk/Fp+31F18jsSaELvr27YsLFy5g48aNGDFiBARBwD///IP8+fOjTZs2mT7+yy+/RMGCBbF06VLMnTsXv/zyC6ysrNCmTRv8+uuvitoS+r4fsbGxsLCwQKFChTQ+f5lMlunnB6A8v93d3dPdZ2lpiYIFC6rdJtVnlyYBAQEIDAzEihUrULx4cURHR2dYOE3ftmT0XLXtx5Bzxth2Ss3Pz0/tgvS1a9fQp08f3Lp1C9OnT9e5tkJmChUqhHbt2mHDhg3o2rUr7t+/j0WLFkmyb8byOg7mGcuF6tati+PHj+PIkSNo0qSJTo8RA7jw8HCN94u9H5oCPSmFh4crCsep3gZQ4R7RtGnTYGdnh8uXL6frHRcr6WuirUKvPvsT2/Hq1atMng319u7evRtBQUHYu3evotAaQD07ab8sSfU+iPd37twZW7ZsybSdpqTpNRfbt3v3brRt2zarm5RhmzT1bmsiFrbT5Tww5d+XjY0Nqlevjn379qF06dIYPXo0WrZsqbjIIO7z5s2bqFChQqb7+/XXXxEVFYU1a9Yo5m8XDRs2zKhppMS2VK1aFZcuXTJ4P4bS9vcvtkufiyk9evTA//73P6xduxYjRozAiRMn8OzZMwwdOlStsGhGbRk0aBAGDRqEyMhInDx5EuvXr8emTZsQGhqKGzduwNLSUu/3w8XFBXK5HG/fvk0XnEZEREAQBJ3OM/FzLm0VcoAu6kVGRqpdyDL1/5DBgwdjxIgRmDBhAry8vNCqVSut2+rbloyeq7b9GHLOGNtOU6tcuTIWLVqEJk2a4OjRo5Lue/Dgwdi2bRsGDBgAOzs79O7dW9L9M5ZX8dR0jOVCAwYMgKWlJf78809FOrU2Yo9OmTJlYGdnh4sXL2qcUkecvsnUaXEnT57UeluVKlUUtz169Ahly5ZNF3i/fv0ajx8/1vu4+uzPyckJ5cqVw5MnT9KlXmraLwC0adNGLZAHND9X8Tlqmhs7Pj4ely5dgr29faYZF2XLloWLiwsuXbqkNQvCWOLzMaS3XqxAffbsWUnbZIzq1atDJpPp3KZq1arBwsICx44dy/Q1zuh9ffHiBR49eoSSJUsaHBQA1PslTnOn2uut72stnrNpK6QLgpBhxoIunJ2dUbZsWdy9e9egIRumIr5GYuq0Ltzc3NCyZUucO3cODx8+VKTYpw24dSFOK7hx40Y0adIEd+7cwcOHDwHo/35kdK7p8zkeEBAAQPPn1NmzZ9WGIQGm/x/Sq1cv2NnZKaYWTPt5akxb/P39YWdnh0uXLiEhIUFtW7lcjjNnzqTbhyHnTFri8U+cOJFu+lVBEBTT4mVlOrqTk5NJ9hsUFIQiRYrg1atX6NChg9rsGYwxw3Ewz1gu5Ovri6+//hrv3r1Dq1at8OTJk3TbJCQkYN68eYqxwTY2NujZsyfevXuHWbNmqW174MABHDx4EL6+vmpzJ5vCDz/8oJZOHxMTgxkzZkAmk6F///6K2729vfHw4UO1Ho2EhAQMHz7coOBV3/2NGDECqamp+OKLL/Dp0ye1+xISEhQpmOI41rRzlN++fTvd6wxQVkWpUqWwf/9+/Pvvv2r3zZgxA5GRkejZs2em0x1ZWVlh+PDhePbsGb788kuNz+HWrVtae6J0IY6nfPHihd6PDQ4ORvHixTFv3jyN8zgnJydrndfdVDw8PNCtWzecOXMGP//8c7ov1wCNOxeDg8KFC6Nz585qY7ZVRUREKAKe4OBg5MuXDytWrFAb9iAIAiZMmICUlBQMGDDA6OcwdOhQeHl5YcWKFYq/+4EDB8LZ2RnfffedxiEXHz9+VAtItJ2zs2fPNmiu8LRGjx6Njx8/YsiQIRrT6Z88eZJuPnZT++KLL2BlZYVRo0ZpnNs7Ojo6Xc0OQDk2/u+//8bmzZtRokQJnT8jjx8/nu4cS05OVnx2iGO39X0/xM/J6dOnq6Vnx8TEKM5T1c9SbYKDg+Hi4oLly5fjwYMHam2cNGlSuu1N/T/E1dUVBw8exPbt2zFu3LgMt9W3Lba2tujWrRsiIiLUpkAF6L1Vff4iQ88ZVcWLF0fjxo1x+/ZtLF++XO2+P//8E3fv3kWTJk0kHS8fHx+PmTNn4t27d+nuS0lJwc8//wwAek8hmBlLS0vs2LED27dv1/i/jzFmGE6zZyyXmjFjBhISEvDrr7+idOnSaNKkCSpUqABra2s8efIE//77LyIjIzFjxgzFY3766SeEhIRgxowZOHPmDGrWrImnT59i8+bNcHBwwIoVK2BhYdprgP7+/qhQoYLaPPMvX77E//73P7VCaKNGjcKoUaNQpUoVdOnSBSkpKTh8+DAEQUBAQICieJOu9N3f8OHDERISgk2bNsHPzw/t27eHi4sLnj9/joMHD2LZsmXo0KEDatSogRo1amDTpk14/fo1atWqhefPn2PXrl1o06ZNuhR4CwsLrFy5EkFBQWjdujW6du0Kb29vnD17FsePH0epUqUwe/ZsnZ7T9OnTceXKFSxcuBB79+5FgwYN4O7ujlevXuHmzZu4fv06zp49q3WcaGZq164Ne3t7zJ8/H1FRUYoxupq+6Kdla2uLLVu2oFWrVmjYsCGaNGmCihUrQiaT4dmzZzh58iQKFiyoVyE0KSxZsgT379/H119/jTVr1qB27dpwdXXFixcvcOnSJYSGhuL169eKolpLlizBrVu3MHPmTOzbtw9NmjSBIAh48OABDh06hPDwcLi6usLFxQV//fUXevbsiZo1a6J79+4oVKgQ/v33X1y+fBk1atTAV199ZXT77ezsMHHiRIwePRrff/89VqxYgUKFCmH9+vXo2rUrAgIC0LJlS5QpUwaJiYl4+vQpQkJCUKdOHcW482HDhmHFihXo3LkzunXrhoIFC+LcuXO4cuUK2rRpg7179xrVxqFDh+LcuXNYtWoVTp8+jWbNmsHLywvh4eG4d+8ezp8/j3Xr1sHHx8fo10NXFSpUwJIlSzB8+HCULl0arVu3RqlSpRAXF4fHjx8jJCQEAwYMwO+//672uHbt2iFfvnyYN28ekpOTMXr0aK2p/Gl16NABLi4uqFWrFry9vZGcnIzDhw/jzp076NKliyKI1/f9aNCgAUaNGoVFixYpPksFQVB8lo4ePRoNGjTItH358uXDwoULMWDAAFSvXh09evRAvnz5sGfPHtjb2yvGc6sy9f8QXdptaFtmz56NI0eOYNKkSTh16hSqVKmCu3fvYt++fWjRogUOHTqktn9Dz5m0li5dinr16mHIkCHYvXs3ypUrh9u3b2PXrl0oVKgQli5dqtdrtHnzZq2fmx06dECjRo0wadIkTJs2DbVr10ZAQABcXFwQHh6OgwcP4uXLlyhRogSmTp2q13F1Ua1aNZ0LmjLGdJT1BfQZY1np4sWLwqBBgwRfX1/B3t5esLW1FXx8fIRevXoJhw8fTrf927dvhdGjRwve3t6CtbW14ObmJnTp0kW4efNmum01TbckEqcl08Tb2zvdNDTi9p8+fRK+/vproVixYoKNjY1QunRpYeHChemm7ZHL5cLvv/8ulC9fXrCzsxM8PDyEwYMHCxERERqPLU5Jpjq1kDH7Ex/z999/C7Vq1VJM7+Pn5ycMGzZMbSqhiIgIYdCgQYKXl5dgZ2cnVKxYUfjtt9+Ex48fa53S68aNG0KXLl0ENzc3wdraWvD29hbGjBmjcVqtjKSkpAh//PGHULduXcHFxUWwtbUVihcvLrRs2VJYunSp8OHDB8W2Gb2f2l6/vXv3CtWrVxfs7e0Vr4Eoo3NA9PLlS2HMmDGCn5+fYGtrK7i4uAhly5YVPvvsM+HIkSM6PUdt865rktl5IAiC8PHjR2HOnDlC1apVBUdHR8He3l4oUaKE0KFDB2H16tWKueNFMTExwuTJkxXTSAEQKleuLEyZMiXdlHUnTpwQWrVqJbi6ugo2NjaCv7+/MHnyZLX3wdjnm5CQIBQpUkSwtLRUmx/83r17wuDBgwVvb2/BxsZGyJ8/v1CxYkVh9OjRavPSCwJNDVa3bl3B2dlZcHV1FVq3bi1cvnxZ4+un79R0oo0bNwrNmjUT8ufPL1hbWwtFihQRGjVqJMydO1en8zyjeeY1gYa5yNO6cOGC0KNHD8HLy0vx+RcYGChMnDhRuHv3rsbHfPbZZ4r3XfX1VqXpb2vJkiVC+/btBW9vb8U0ajVq1BCWLl2a7rzR5/0QLV++XKhevbrg4OAgODg4CNWrV9c47WRmtm/fLlStWlWwtbUV3N3dhc8++0x4//69xs9xQdDvf4g2aaemy4i2eeYNacuzZ8+E7t27C66uroKDg4NQv359ISQkJMPXWddzJqO/k6dPnwoDBw4UPD09BSsrK8HT01MYOHCg2pSDmRGnpsvoZ+rUqUJqaqqwb98+YcyYMULVqlWFwoULC1ZWVoKLi4tQrVo1Yfr06UJ0dHSGx9J3arrM8NR0jBlOJgga8ggZYyyLNWrUCCEhIRpTm3OC5ORklC9fHjNmzEC3bt3M3RxmJqGhoahWrRquX7+epT3LjDHGGMt7eMw8Y4xJwNraGm3btpVsKh+WM/n5+aFUqVL466+/zN0UxhhjjOVyPGaeMcaMEB0djXHjxqFw4cL4559/0k2rx/KGkJAQbN++HSkpKbhx4waaNm1q7iYxxhhjLJfjYJ4xxoxgYWGB06dP49mzZyhevDh+/PFHczeJmYFMJsPGjRsRFRWFGjVqYNSoUeZuEmOMMcZyOR4zzxhjjDHGGGOM5TA8Zp4xxhhjjDHGGMthOJhnjDHGGGOMMcZymDw3Zl4ulyMsLAzOzs6QyWTmbg5jjDHGGGOMsVxOEATExcXBy8sLFhbS9KnnuWA+LCwMxYoVM3czGGOMMcYYY4zlMS9evEDRokUl2VeeC+adnZ0B0Ivo4uJiljYkJyfj0KFDaNGiBaytrc3SBpbz8XnEpMLnEjMFPq+YVPhcYlLhc4kZQqrzJjY2FsWKFVPEo1LIc8G8mFrv4uJi1mDewcEBLi4u/EHCDMbnEZMKn0vMFPi8YlLhc4lJhc8lZgipzxsph3pzATzGGGOMMcYYYyyH4WCeMcYYY4wxxhjLYTiYZ4wxxhhjjDHGcpg8N2ZeF4IgICUlBampqSbZf3JyMqysrJCQkGCyY7DswdLSElZWVjwNImOMMcYYY0xSHMynkZSUhNevX+Pjx48mO4YgCPDw8MCLFy84yMsDHBwc4OnpCRsbG3M3hTHGGGOMMZZLcDCvQi6X48mTJ7C0tISXlxdsbGxMEmzL5XJ8+PABTk5OsLDgkQ65lSAISEpKwtu3b/HkyRP4+fnx+80YY4wxxhiTBAfzKpKSkiCXy1GsWDE4ODiY7DhyuRxJSUmws7Pj4C6Xs7e3h7W1NZ49e6Z4zxljjDHGGGPMWBxJasABNpMSn0+MMcYYY4wxqXGUwRhjjDHGGGOM5TAczDPGGGOMMcYYYzkMB/MsV5LJZNixY4e5m8EYY4wxxhhjJsHBfC4wYMAAyGQyyGQy2NjYwNfXF99//z1SUlLM3bR0xHbKZDK4uLigevXq2Llzp7mbxRhjjDHGGGM5CgfzuUTLli3x+vVrhIaGYvz48Zg2bRp+/vlnjdsmJSVlcevUrVixAq9fv8alS5dQt25ddOnSBTdv3jRrmxhjjDHGGGMsJ+FgPgOCAMTHm+dHEPRrq62tLTw8PODt7Y3hw4ejWbNm2LVrFwDque/QoQNmzpwJLy8vlC5dGgDw4sULdOvWDa6urihQoACCg4Px9OlTtf0uX74c5cuXh62tLTw9PTFy5EjFfc+fP0dwcDCcnJzg4uKCbt26ITw8PNO2urq6wsPDA/7+/vjhhx+QkpKCY8eOKe7PrF0XL15E8+bN4ebmhnz58qFhw4a4cuWKfi8YY4wxxhhjjOVgHMxn4ONHwMlJ+h8XFwsULeoKFxcLrdt8/Ghc2+3t7dV64I8cOYL79+/j8OHD2LNnD5KTkxEUFARnZ2ecPHkSp0+fhpOTE1q2bKl43NKlSzFixAh8/vnnuHnzJnbt2gVfX18AgFwuR3BwMN6/f4+QkBAcPnwYjx8/Rvfu3XVuY0pKCpYtWwYAsLGxAQCd2hUXF4f+/fvj1KlTOHfuHPz8/NC6dWvExcUZ96IxxhhjjDHGWA5hZe4GMGkJgoAjR47g4MGDGDVqlOJ2R0dH/P3334qgee3atZDL5fj7778hk8kAUPq7q6srjh8/jhYtWmDGjBkYP348xowZo9hP9erVAdDFgZs3b+LJkycoVqwYAGD16tUoX748Ll68qNhOk549e8LS0hKfPn2CXC6Hj48PunXrBgDYuHFjpu1q0qSJ2v7+/PNPuLq6IiQkBG3btjX2JWSMMcYYY4yxbI+D+Qw4OAAfPki/X7lcjtjYWLi4uMDCQnNyhIODfvvcs2cPnJyckJycDLlcjl69emHatGmK+ytWrKgI5AHg+vXrePjwIZydndX2k5CQgEePHiEiIgJhYWFo2rSpxuPdvXsXxYoVUwTyAFCuXDm4urri7t27GQbzv/76K5o1a4bHjx9j3LhxWLhwIQoUKKBTuwAgPDwckyZNwvHjxxEREYHU1FR8/PgRz58/1+3FYowxxhhjjOV4KSnAjz8Co0cDrq7mbk3W42A+AzIZ4Ogo/X7lciA1lfatJZbXW+PGjbF06VLY2NjAy8sLVlbqb61jmify4cMHVK1aFf/880+6fRUqVEjrRQYpeHh4wNfXF76+vlixYgVat26NO3fuwN3dPdN2AUD//v0RGRmJBQsWwNvbG7a2tqhdu7bZC/sxxhhjjDHGss6cOcDUqcCWLcC1a9LFVjkFB/O5hKOjo2I8uy4CAwOxceNGuLu7w8XFReM2Pj4+OHLkCBo3bpzuvrJly+LFixd48eKFonf+zp07iI6ORrly5XRuR40aNVC1alXMnDkTCxYs0Kldp0+fxpIlS9C6dWsAVDDv3bt3Oh+TMcYYY4wxlrPdvAmIichffZX3AnmAC+DlWb1794abmxuCg4Nx8uRJPHnyBMePH8fo0aPx8uVLAMC0adMwd+5cLFy4EKGhobhy5QoWLVoEAGjWrBkqVqyI3r1748qVK7hw4QL69euHhg0bolq1anq1ZezYsfjjjz/w6tUrndrl5+eHNWvW4O7duzh//jx69+4Ne3t7aV8gxhhjjDHGWLaUnAwMGEDLdu2APn3M3SLz4GA+j3JwcMCJEydQvHhxdOrUCWXLlsXgwYORkJCg6BHv378/5s+fjyVLlsDf3x9NmzZFaGgoAEAmk2Hnzp3Inz8/GjRogGbNmqFkyZLYuHGj3m1p2bIlSpQogZkzZ+rUrmXLliEqKgqBgYHo27cvRo8eDXd3d+leHMYYY4wxxli29csvwJUrQP78wB9/0PDovIjT7HOBlStXGnS/h4cHVq1aleFjhw4diqFDh2L9+vW4c+cOfvjhB8V9xYsXx86dO/VqqyAI6W6TyWS4e/euzu2qUqUKLl68qHZbly5dMj0OY4wxxhhjLOdbu5aWc+YAnp7mbYs5cc88y9Tt27chCAJ27dpl7qYwxhhjjDHG8ri3b2lZq5Z522Fu3DPPMhUcHIywsDBMmjTJ3E1hjDHGGGOM5WFyORAZSetubuZti7lxMM8y9fDhQ3M3gTHGGGOMMcYQHU0BPQAUKGDWppgdp9kzxhhjjDHGGMsRxBmpXVwAGxvztsXcOJhnjDHGGGOMMZYjiMF8Xk+xBziYZ4wxxhhjjDGWQ3Awr8TBPGOMMcYYY4yxHIGL3ylxMM8YY4wxxhhjLEfgnnklDuYZY4wxxhhjjOUIYjBfsKB525EdcDDPDLZy5Uq4urrqvP22bdvg6uqKyZMn4/DhwxgxYoTpGscYY4wxxhjLdbhnXomD+VxgwIABkMlkkMlksLGxga+vL77//nukpKSY9Ljdu3fHgwcPdN5+27ZtWLNmDcLCwjB8+HD079/f6DY0atQIY8eO1Xp/SEgImjRpggIFCsDBwQF+fn7o378/kpKS1F43TT8+Pj6KY8hkMsyePTvd/tu0aQOZTIZp06YZ/VwYY4wxxhhjGeNgXomD+VyiZcuWeP36NUJDQzF+/HhMmzYNP//8s8Ztk5KSJDmmvb093N3ddd5+7dq1aNeuHZYtW4aHDx+iRo0akrRDmzt37qBly5aoVq0aTpw4gZs3b2LRokWwsbFBamoqFixYgNevXyt+AGDFihWK3y9evKjYV7FixbBy5Uq1/b969QpHjhyBp6enSZ8HY4wxxhhjjHAwr5StgvmlS5eiUqVKcHFxgYuLC2rXro39+/cr7n/z5g369u0LDw8PODo6IjAwEFu3bjV9w+Ljtf8kJOi+7adPum1rAFtbW3h4eMDb2xvDhw9Hs2bNsGvXLgDUc9+hQwfMnDkTXl5eKF26NADgxYsX6NatG1xdXVGgQAEEBwfj6dOnAIBDhw7Bzs4O0dHRascZM2YMmjRpAiB9mv3169fRuHFjODs7w8XFBVWrVsWlS5cAAJGRkejZsyeKFCkCBwcHVKxYEevXr1fbd2JiIkaPHg13d3fY2dmhXr16agG1vg4dOgQPDw/MmTMHFSpUQKlSpdCyZUv89ddfsLe3R758+eDh4aH4AQBXV1fF74UKFVLsq23btnj37h1Onz6tuG3VqlVo0aKFXhc0GGOMMcYYY4bjYF4pWwXzRYsWxezZs3H58mVcunQJTZo0QXBwMG7fvg0A6NevH+7fv49du3bh5s2b6NSpE7p164arV6+atmFOTtp/OndW39bdXfu2rVqpbSorWVLzdhKwt7dX64E/cuQI7t+/j8OHD2PPnj1ITk5GUFAQnJ2dcfLkSZw+fRpOTk5o2bIlkpKS0LRpU7i6uqpdLElNTcXGjRvRu3dvjcfs3bs3ihYtiosXL+Ly5cuYOHEirK2tAQAJCQmoWrUq9u7di1u3buHzzz9H3759ceHCBcXjv/76a2zduhWrVq3ClStX4Ovri6CgILx//96g18DDwwOvX7/GiRMnDHq8KhsbG/Tu3RsrVqxQ3LZy5UoMGjTI6H0zxhhjjDHGdMNT0yllq2C+Xbt2aN26Nfz8/ODv74+ZM2fCyckJ586dAwCcOXMGo0aNQo0aNVCyZElMmjQJrq6uuHz5splbnn0IgoB///0XBw8eVPSgA4CjoyP+/vtvlC9fHuXLl8fGjRshl8vx999/o2LFiihbtixWrFiB58+f4/jx47C0tESPHj2wbt06xT6OHDmC6OhodE57AeM/z58/R7NmzVCmTBn4+fmha9euCAgIAAAUKVIEX375JSpXroySJUti1KhRaNmyJTZt2gQAiI+Px9KlS/Hzzz+jVatWKFeunKIHfdmyZQa9Fl27dkXPnj3RsGFDeHp6omPHjli8eDFiY2MN2t+gQYOwadMmxMfH48SJE4iJiUHbtm0N2hdjjDHGGGNMP6mpgNjPx9XsAStzN0Cb1NRUbN68GfHx8ahduzYAoE6dOti4cSPatGkDV1dXbNq0CQkJCWjUqJHW/SQmJiIxMVHxuxjIJScnIzk5WW3b5ORkCIIAuVwOuVwOlQdpb6ilJaC67Zs32re1sADkcgiCAACQP3oEmUyWfjvV/elAEATs2bMHTk5OSE5OhlwuR8+ePTFlyhTI/ztehQoVYGVlpXhe165dw8OHD+Hs7Ky2r4SEBISGhqJZs2bo2bMnFi1ahJcvX8LLywtr165F69at4eLiovYaictx48bhs88+w5o1a9C0aVN06dIFpUqVAkDv56xZs7B582a8evUKSUlJSExMhL29PeRyOUJDQ5GcnIzatWsr9mdpaYnq1avjzp076u+Hhuev6X6ZTIZly5bh+++/x9GjR3HhwgX8+OOP+Omnn3Du3DmNY93Tvfcqx6hYsSL8/PywadMmHD9+HH369IGFhUWGbRD3KQgCkpOTYWlpqfV56Es8f9Oex4zpi88lZgp8XjGp8LnEpMLnUs737h0gCJT56+ycjKx4K6U6b0xx3mW7YP7mzZuoXbs2EhIS4OTkhO3bt6NcuXIAgE2bNqF79+4oWLAgrKys4ODggO3bt8PX11fr/mbNmoXp06enu/3QoUNwcHBQu83KygoeHh748OGD7kXiUlMBfbZVeRPjtAWoevYcJycno379+pg7dy6sra3h6ekJKysrpKamIjY2FsnJybC1tVXrkX7//j0qV66MP//8M93+ChYsiNjYWJQuXRolSpTAqlWrMGjQIOzYsQO//fabYj8JCQkQBEHx+7hx49CuXTscOnQIhw8fxrRp07Bs2TK0bdsWv/76KxYvXowff/wR5cqVg6OjI7755ht8/PgRsbGx+PDhA70mcXFq7UxJSUFycrLW3vSUlBQkJSVl2Nvu7OyM4OBgBAcH46uvvkK1atWwcOFCfPPNN+m2/fTpU7p9qR6jR48eWLx4Me7fv49///0XsbGxSE1NRWJiotY2JCUl4dOnTzhx4oRJZhg4fPiw5PtkeROfS8wU+LxiUuFziUmFz6Wc6+VLJwBN4eiYhMOH92e6vZSMPW8+fvwoUUuUsl0wX7p0aVy7dg0xMTHYsmUL+vfvj5CQEJQrVw6TJ09GdHQ0/v33X7i5uWHHjh3o1q0bTp48iYoVK2rc3zfffIP//e9/it9jY2NRrFgxtGjRAi4uLmrbJiQk4MWLF3BycoKdnZ3JnqMgCIiLi4Ozs7Pmnnk9WVtbw8XFBZUrV9Z6v5WVldrzrVmzJnbs2IGSJUumex1U9enTB9u2bUOpUqVgYWGBLl26wNbWFgBgZ2cHmUym9vjAwEAEBgZi4sSJ6NWrFzZu3IhevXrh8uXLCA4OxpAhQwBQb/WTJ09QtmxZuLi4ICAgADY2Nrhx4wYqVKgAgC5SXLt2DWPGjNHaRisrK9jY2GT4HFS5uLjAy8sLKSkpGh9jb2+f7nbVYwwaNAhTpkxBQECAohq/paUlbG1ttbYhISEB9vb2aNCggaTnVXJyMg4fPozmzZsrahMwZgg+l5gp8HnFpMLnEpMKn0s53+nTFDt5elqjdevWWXJMqc4bQ4f6ZiTbBfPiPOkAULVqVVy8eBELFizA119/jcWLF+PWrVsoX748ACAgIAAnT57Eb7/9ht9//13j/mxtbRXBpypra+t0b0ZqaipkMhksLCwU6dOmIKZji8cyljgvurZ9abq/b9++mDt3Ljp27Ijvv/8eRYsWxbNnz7Bt2zZ8/fXXKFq0KAAK5qdPn45Zs2ahS5cusLe3V+xD3J+FhQU+ffqEr776Cl26dEGJEiXw8uVLXLp0CZ07d4aFhQX8/f2xZcsWnDt3Dvnz58e8efMQHh6OcuXKwcLCAs7Ozhg+fDgmTJgANzc3FC9eHHPmzMHHjx/x2WefZfg6vXv3Djdu3FC7zdPTEzt27MC1a9fQsWNHlCpVCgkJCVi9ejVu376NRYsWadyntvdefP0KFiyI169fw9raWm27jF5/CwsLyGQyjeecFEy1X5b38LnETIHPKyYVPpeYVPhcyrnEibbc3GRZ/h4ae96Yor3ZLphPSy6XIzExUZGWkDZgsrS0zHA8NdPMwcEBJ06cwIQJE9CpUyfExcWhSJEiaNq0qVoPs6+vL2rUqIELFy5g/vz5WvdnaWmJyMhI9OvXD+Hh4XBzc0OnTp0UQxwmTZqEx48fIygoCA4ODvj888/RoUMHxMTEKPYxe/ZsyOVy9O3bF3FxcahWrRoOHjyI/PnzZ/hc1q1bp1aoDwB++OEHtGnTBqdOncKwYcMQFhYGJycnlC9fHjt27EDDhg0NeNWI6nR8jDHGGGOMsawhVrLn4nckWwXz33zzDVq1aoXixYsjLi4O69atw/Hjx3Hw4EGUKVMGvr6+GDp0KH755RcULFgQO3bsUEy1lpetXLnSoPs9PDywatWqTPd//vx5jbcPGDAAAwYMAEAZFWnnjVdVoEAB7NixI8Pj2NnZYeHChVi4cGGmbRIdP348w/vXrFmj877EwoT6HuPatWs6H4MxxhhjjDFmGJ5jXl22CuYjIiLQr18/vH79Gvny5UOlSpVw8OBBNG/eHACwb98+TJw4Ee3atcOHDx/g6+uLVatWZdl4CcYYY4wxxhhj5sHBvLpsFcxnNp+4n58ftm7dmkWtYYwxxhhjjDGWXXAwr850Vd4YY4wxxhhjjDGJcDCvjoN5xhhjjDHGGGPZHgfz6jiY10BbITTGDMHnE2OMMcYYY8bjavbqOJhXIc79J06Dx5gUxPOJ5zNljDHGGGPMcNwzry5bFcAzN0tLS7i6uiIiIgIAzcUuk8kkP45cLkdSUhISEhJgYcHXU3IrQRDw8eNHREREwNXVFZaWluZuEmOMMcYYYzlSSgoQFUXrHMwTDubT8PDwAABFQG8KgiDg06dPsLe3N8nFApa9uLq6Ks4rxhhjjDHGsqM1awBvb6BBA3O3RLP372kpkwH585u3LdkFB/NpyGQyeHp6wt3dHcnJySY5RnJyMk6cOIEGDRpw6nUuZ21tzT3yjDHGGGMsW7t1C+jXD7CyAg4fBho1MneL0hNT7PPnp3YyDua1srS0NFkQZmlpiZSUFNjZ2XEwzxhjjDHGGDOry5dpmZICdO4MnDsH+PmZt01prV1Ly6JFzduO7IQHbDPGGGOMMcbSEQRgwACge3daZ7nXjRu0lMkonb1tW+X49Ozg1Cngp59ofcoU87YlO+FgnjHGGGOMMZZORASwahWwaRMQHm7u1jBTEoP5H34AihUDHjwAunQBTDTqWC+xsUDfvoBcDvTvT5kDjHAwzxhjjDHGGEsnNFS5Lo5XZrnTzZu0bN4c2LMHcHICjh4FRowwf1bG2LHA06eAjw+wcKF525LdcDDPGGOMMcYYS4eD+bwhIoIyL2QyoHx5oFIlYP16+v2vv4BffzVf27ZtA1asoLasXg24uJivLdkRB/OMMcYYY4yxdB4+VK6/fWu+djDTEnvlfX0BR0dab9sWmDuX1r/8Eti9O+vb9eYN8PnntP7110D9+lnfhuyOg3nGGGOMMcZYOtwznzeI4+UrVlS/fexYCqYFAejZE7h+PevaJAjAoEFAZCQQEAB8/33WHTsn4WCeMcYYY4wxlg4H83mDGMxXqqR+u0wGLF4MNG0KxMcD7dsDCQlZ06bffwf27wdsbYF//gFsbLLmuDkNB/OMMcYYY4wxNYKgHsxzmn3uJabZp+2ZBwBra2DzZiB/fuD5c+W2pvTgATB+PK3Pnk3j+JlmHMwzxhhjjDHG1Lx5Q72xIu6Zz51SUoDbt2k9bc+8KH9+oEIFWle9wGMKyclAnz7Ap0+UETB6tGmPl9NxMM8YY4wxxhhTkzZo42A+d3r4kFLnHRyAkiW1b+fnR0tTB/Pr1wMXLwKursDKlYAFR6sZ4peHMcYYY4wxpkYM2qytaclp9rmTmDZfoULGgXNWBfNPn9Kya1egaFHTHis34GCeMcYYY4wxpkYM2gIDack987mTtuJ3aWVVMP/hAy15PnndcDDPGGOMMcYYUyMGbbVr0/LdOyqKx3KXx49pWbp0xttlVTAfF0dLZ2fTHie34GCeMcYYY4wxpiZtMJ+QoF4Qj+UOL1/SslixjLfz9aVlVBTN/W4qYs+8k5PpjpGbcDDPGGOMMcYYUxAEKowGAJUrA3Z2tM6p9rmPGMxnNj7dwQEoUoTWTdk7z8G8fjiYZ4wxxhhjjCmEhdHUYJaWQIkSQKFCdDsH88Z7+BBYvJimYNPFlSvA2LFAo0aAhwcwebJ0bREE3YN5IGtS7TmY1w8H84wxxhhjjDEFMVjz8aFq9m5u9DtXtDfe+PHAqFHAunUZb/fyJdC/P1CtGrBgARASAoSHA/Pn634hIDPv3gFJSYBMBnh6Zr59VgTz4ph5DuZ1w8E8Y4wxxhhjTOHOHVqKwZsYzHPPvPEePKDliROa7//wAZg6FfD3B1avpt7zbt1ozvX8+en+y5elaYvYK1+4MGBjk/n2WdkzzwXwdGNl7gYwxhhjjDHGso/162nZoAEtOc1eGoIAvHhB6+fOqd+XmgqsWgVMmgS8fk231a0LzJsH1KhBv+/YQT/HjgG1ahnfHjGYF8fCZybTYP74cbpK4eJCeftFitDS0xOw0i3s5DR7/XDPPGOMMcYYYwwA9RyfOgVYWAD9+tFtnGYvjeho5YwAd+7Q7wBw8SJQtSoweDAF8iVLAlu2ACdPKgN5AGjcmJbHjknTHn3GywPqwbwgALh0CUhJUW7w77+UVjBuHNC1K1CnDlC8OGBrS4H9lSuZHoODef1wMM8YY4wxxhgDACxfTsuWLZU9tpxmLw2xV150/jyNf2/bFrh+HXB1BebOpUC/c2cay65KDOZPn6ax7rq6cIF6+BMS1G/XN5gvVYraJMTGImHAMKB6dWDvXuUGdeoAQ4YA3btTWoG3N/XIy+VUVdHVVbntq1eUjpAGj5nXD6fZM8YYY4wxxpCSQqneAPUSiziYl0baYP7sWQrmIyJo3Prt20DBgtofX748DXl4+5YC9Hr1Mj+mIAC9egGPHgH79lGavhgo6xvM29kBfd32Y8bbz2G/+r8Hi0UAAKB1a/pRJZfTE3z1SjmZvVwOBAcD9vbAmjVUaRF0gUK8SMFj5nXDPfOMMcYYY4wx7N8PvHlDAWPbtsrbxTHznGZvHE3B/D//0HqPHhkH8gANfWjUiNaPHtXtmHfvUiAPAEeOAM2aAe/f0+86B/OCQMH4gAFY9bY1iuElYguVpEZ89VXmjfbwoHEE1tZ0W2iocjxHpUrA5s0AlEMQAMDRUbfnl9dxMM8YY4wxxhjDihW07NtXvbo598xLQwzm69Sh5dmzwM6dtN67t2770Hfc/J49tKxQAShQgFL7xfhbLZhPSAAeP6aI/6+/lFX4AOCXX2ijVasghwzzMA6/9L2hbIy+SpemcQV161JefffuwMqVivHyNja6VddnHMwzxhhjjDGW5wkCzWUOUC+xKg7mpfH8OS1bt6ae57g44NMnmoauWjXd9tGkCS3Pnk0/Bj6d5GRc2vIU9XEC8wNWYPNCCtAPHQKEv5fhwoN8iEQB1G/vSinvpUpR1/3nn1Mev8jHhwbLBwZi+/jTGI95uHjHyK7zEiXohBs2jE6+QYNgtfJvADxeXh8czDPGGGOMMZbHhYdT+rWFBVCxovp9Ypp9ZKTGmmVMiwcPgG+/VfbIi0sfH/Uq9b17py92p42/P830lphIvexqTp2iXu7atYEiRSDY2mLTxRI4gYZo+s8g1BFOw9KSeuSfRedDPsSiAKJgGRdDj7e1pQO0aqU+aL19e+DjR+DyZRTtWhsAzXUvCHq/JOosLYElS4CRIwFBgOeUIeiIbRzM64EL4DHGGGOMMZbH3bpFS19fKnSmqkABWgoCEBWl7Kln2u3dS4XnYmPpZ/FiZTBfvDjF22KqfK9euu9XJqM55rdvp5nhGjZUufPdO2DTJuW2ABJgi3CbYvBu4AM7NycEBtJUeCtet8Q6PEBB11ScOwuqwOfqqvmqgq2tYrVSJYrB376lYfS6Fs/L8AktXAjI5UjYvAvP3npz8Ts9cM88Y4wxxhhjeZwYzFeokP4+a2vlrGKcap8xQQB+/BFo146CeIBS4uVy5Rj1YsWAFi1ovWFDuoCiDzEl/86p98DBg8o7AgOBX38Ftm4FLl7EsI7hsMcn/P6/UODwYaBlS9StS5uu2e6Eh/BDgncZoEwZIH9+ndID7O2BcuVo/fJl/dqtlUwGLFiA43Ov4AqqUs+8PnPv5WEczDPGGGOMMZbHZRTMA1zRXhfx8VRv4LvvKKjv1o1uv3GDxssnJVHcWqQIBfEnTwJbtuh/nOrVAVskYPiB9jTF26VLdEfx4sDYsUCnTkipXA0bj7kDkKnNTCBOZ/fkCS0N6VmvWpWWV67o/1itrKzw3pJOMicnAP3701WD8eOBf/+lcQWaCAJdKcmjOJhnjDHGGGMsj8ssmM/LRfD27QM2bMh4m6dPqTj7pk2UyfDHH/SYwoWBlBRg1y7azsNDOUNbvXqGDVmoFijHavRDtYTTkNvaaSz9fuYMEB1NQyRq1VLeLvbMi4wJ5iXrmf9PXBwtnR3lNO3d3bvAvHlA8+Y0b1/79jTGXrwSAdDVk/nzpW1IDsLBPGOMMcYYY3mYIAC3b9M6B/Pq5HLqYe/Vi8aIa3L8OKW+X78OuLtTHPr559QLX7MmbSP2wBcrZnyb8v/yHbphM5JgjcvfbaeB7GmIU9K1bk1j3EUeHlS0XpSdgnlxajonFwvg3j1g40ZgwABqdHw8sHs3MGIE0LWr8kGtWwM//KAc05DHcDDPGGOMMcZYHvb8OQVS1tbax297eNDy2bOsa1d2EBtLcaQgANeupb9/7VqazS0ykoLcS5eUqeyAMpg/dYqWRgfz+/YBs2cDAAZhOQ6naJ7rXQzmVVPsRaq984YE8wEBNOvBmzfq09EbSxHMO4HG8HfrBqxYAYSFAVevUjGC+vWph17Urx9dRXFxka4hOQgH84wxxhhjjOVhYop9mTLKFPC0xN7Ys2d12+fp0zQu/OpV49tnTu/fK9dv3FC/LzKSOopTU2l6uZMn0wfrYjAvTuNmVDAfFkZjyQFcqT8a/6APLl5Mv9mjR5ShbmkJBAWlv1/1YoMhwbyDA1C2LK1L2TuvFsyrksmAypWBb74BTpwAJk9Wv694cekakcNwMM8YY4wxxlgeltl4eUDZm3v+PJCcnPk+//yT4q6NG41vnzlFRSnX0wbzP/5IPfeVKwOrV1Ol97SqVVMvEm9UML9wIY1zqFwZ8VPmAIDGYH7vXlrWr6+chUCVsT3zgGlS7bUG82npUHU/r+BgnjHGGGOMsTxMl2C+XDkKDOPjKas5M/fu0TKnD2VW7Zm/eVO5/vw5zR0PALNmUdq5JvnyUcaDyKhO5JkzgRkzgA0bUKWWLSwsaBx/2lT3jFLsAWpPxYp0YaFECcOaEhhISymDebEAXqbBPFPgYJ4xxhhjjLE8TJdg3sICqFOH1k+fznh/ggDcv0/rMTHGt8+cVIP5e/eUM6RNnUpTzTVqpDmVXZWYag8Y2TNvaUnz3pUuDScnZaq7ODMdQAHx8eO0ri2Yt7CgaeUePABsbQ1riuqwC6neY7Fn3tlZmv3lBRzMM8YYY4wxlkelptL4aiDjYB5QpmdnFsyHhysDvNhYUPfx7NnUva9aiTwHUA3mU1MpoH/yhNLqAXpamWV9GxXMR0fTGPGEhHR3VatGS9VU+8OHaRiEnx9QurT23VpZAXZ2erZFRfXq1Kv/7h0wcKCyJoA2KSnA4MHU5mrVgJYt088OoHOaPVPgYJ4xxhhjjLE86tEj6m12cAB8fDLeVjWYzyh4E3vlAcDn+QnA35+Kl929S3O8iZ48AebMASIiDG6/qamOmQdo3PymTTRlXZMm6oG6NuI2NjY077xOkpKAv/6ifPYZM4CePbXu98QJ5W2ZpdhLxdaWXgcbG2D7duDXXzPefv58YPlySsu/fBk4eBDYulV9Gw7m9cfBPGOMMcYYY3mUmGJfrpz2cd+i6tWpRzcsDHj6VPt24nj5qriEWbfaAh8/Ul72smUUAYv++guYMAEoUoR67A8fpijZxDLrRVal2jMPUDC/eTOtd++u2z4qVwa++gqYO1d9zneNPn2iwfilStFk9U+e0OT1kyal27RFC1qePk0ZEHK5svidqYN5gHrYxSD+66/TFwgUPXoETJlC69OnAx060HpYmPp2PGZefxzMM8YYY4wxlosJAvDwoeY4WZfx8iIHB2Xhs4xS7e/fB0rjHg6gJZzkcTSw/ORJYNAgqggnqlKFupdTUoAtWyg69fWlMvHh4To/P32kpspQq5YVAgPpsJkRg3kxa2H3bupZtrQEOnbU7ZgyGSUgjByZyYZLlgAlSwKjRgEvXwJeXtSl/eSJcpC6ilKl6OVKSQGOHqV0+4gImnJddfo5Uxo+HGjVioYgbNmS/n5BoGsSnz7RdZzJk4EaNei+tIX7eMy8/jiYZ4wxxhhjLBdbv57GUP/4Y/r79AnmAWWQmFEw/+h2AjahG9wQiSuW1YFduzTP29a1K3DuHJXHHzmSAv0nT6jIW7lyyuhOQqGhrrh6VYarV4FnzzLfXgzmGzWipTiEoHFjoFAhiRv3+DHw5g3g7Q0sXUpd2mPG0FUULVq2pOWBA8oU+6AgSn/PCjIZ0KkTrR87lv7+lSvpQoOdHU1XKJMBnp5035s36ttymr3+OJhnjDHGmM4OHwZWrDB3Kxhj+jh1ipZXrqS/T99gXhw3v2sXdR5rci/UEtvREWHwRDvshuCUSVdrpUrAokWUd71yJfVCDx1qkqju6lV3xfqjR5lvLwbz9eur326SOn5ffklDEUJDgWHDdKpQpxrM795N61mRYq+qcWNanj9PUxeK3rwBxo+n9e+/p0wCQBnMa+uZ52BedxzMM8YYY0yjuLj0cwj36kWZsnfumKdNjDH9PXhAy7Q9oYmJyvt0DeabN6eO47AwoEGD9GPnExKA0KfWmIbp8McDhKUW1lSIXTMHB6B/f+DCBWDaNOXtly7Rh0/aQdYGuHZNGcw/fJj59mIBvOLFKQMe0C/FPkNJSVTcLjaWfvfwoA9Ya2udd9GoEfXCP3tGCQ4yGaW9Z6WSJalKf3KyesbGmDH0+gUGAuPGKW/XFMwnJdEPwMG8PjiYZ4wxxphGn39OBY7EXr24OJqGCADOnDFfuxhj+tEWzD94QGOdXV1peLYunJ2BkBDqZX3yhHqsQ0NBg6P/+Qcv9t+CINC47Y8yisrEWFVnFhbKPHFBoDHk69fTXGvz5lHUaICoKCA0NL/id3165gsUACpWpHXJUux/+okGkTdurF9VPhWOjkDDhsrfa9UyQfp/JmQyZe+8mGq/axdVu7e0BP7+mwonisRg/t07ZQCvOqKCg3ndcTDPGGOMMY3EitTXr9NStVPswoWsbw9jTH8fPwIvXtD6mzfqMaNqin1mc6Wr8vam6dDKlKFU+551nyOuYRugTx8U/HowLJCKMmWUhczEOecNIpMBv/1GUeqHD5S3XbOmsvS5Ho4ckUEuVz5RfYP5Pn3owseXX+p96PRu3wZ++IHWx4/X7w1IQ0y1B7I+xV6kGszHxABffEG/f/kl1TlUVbCgMrgX6xyKwbytrV6JCXkeB/OMMcYY0yg6mpbiuFjVYP78+SxvDmNMR6dPK4Mk1VTyT5/Ue8nFYL58ef2P4eUFhByTY4bXEhx7Wx7OJ/dDbm2DGz7tYQE5ypRRFq7Xu2c+rcBAelLLllFUffUqVX7X0+HDFPqUKUNXNDIL5j99gmKIQP78QJcu1LsfFKT3odWlpgKDB1OGQdu2GueQ10d2CuYvXaJahq9eUaX9qVPTb2thQSMKAGWqPY+XNwwH84wxxhjTSBwrKgbzr14p77t1yySFphljRjp3jirO9+5Nv4sp9iLVVHt9i9+puX8f7l0b4ruwEXDGB5xGHdSyvYavY75DCqxRujSl2gNG9syLLCxoPLk4sfm8eRRt60gQgMOHqfd72DCao+/x44yz28XPQEtL5XORxIIFdEXUxQX4/XejeuUBoGxZGp8+erRyKEBW8/amsfOpqcDatXTbn39qnsQA4GBeKhzMM8YYYywduVzZm6apZ14u11wZmzFmXmI9i5AQSrEPDVW/X5Jg/sIFICCACmo4OuLTz4vwTd2TuPihLC5epE3KlFEGwEb3zKvq2ZMix4gIZdSog3v3gJcvZbC2TkXv3nJYWNDrk7aOgCoxxT5/fqPjbaWHD4FJk2j9l1+AIkWM3qVMRtPRL1ggYTsNIPbOA8Bnn6n/nlba6enEURMczOuHg3nGGGOMpRMTo+yxEnvk0xaS5lR7xvRjYI0zvYgzTaSkABcvau+Zj4+nnmnAgDT7wECaTq5lS+D2bdh/ORL7D1qgaVPlJqVLS5hmr8raGpgzB1i1ChgwQOeHHTxIy3LlIpEvH1WnBzJOtVcdLy+Zr7+mjIImTSjizUWaN6elhwe9RRlJW9Fe7Jl3zmQWQ6bOKvNNGGOMMZbXiOPlAeqZFwRlUF+0KN3GwTxjups0CVi+nOYCr1rVdMe5fVu5fvq0Mpi3taWp6MTgSQz6Cxc2oPq5lRVFx66uiq5gR0dgzx5gxAjq8S5bVuI0e1Xduun9EDGYr1IlAkB++PrStHqPHtGwBE1MEswvXUov1vTp5u1GN4EuXYCFC6lHPn/+jLfVFsxzz7x+uGeeMYbXrwE/P+Cbb8zdEsZYdiGOFQWoEykqStkz36EDLbmiPWO627uX/t/26GG6ehOCoAzSAfVgvlYtWoo982LQr1eKveqUcBpyz+3sqEbd+vU0xN0kafZpXb9OBQJUr0CmkZBAww4AMZinqfWAjHvmxc/BzAJTvRQuDKxZo5y0PhextKRZBHU5pziYlwYH84wx7N9PQ7hmz6ar6owxlvZ78cuXyp75du3oi/qLF8COHUCdOkC/flmTQsxYTvXxIy0fPqSAxxTCwtQD5+PHaS5vQNn7LAbzBlWyHzuWJpY/fVqnzU2SZq9KLqcPn3XrgMqVlQUD0jh5ki5KenkJKF6cBmeLwbxqtf+0JOuZFwSqL8AU0gbzPGbeMBzMM8Zw/75yfcgQIDKS1lNSgGvXqNDqwIGUMufpCdy8aZZmMsaykGrPPECBu9gzX7q0MgDo2BE4e5Y6mo4cydo2MpaTqBZeX7kS2LBB+mOIvfIlSwIODsoLCEWK0DRhQPpgXuee+agoavipU5SvrwOTpdmLLCyAv/+mJ/zsGdCgAfDjj1RSXcWhQ7Rs1kxQJBPo0jMvWTC/bh1dBOnbl696/od75qXBwTxjTBHMy2T0T75NG6BRI7qiXqUKMHw4/f++d4/uP3DAnK1ljGWFtD3z168rM2w9PIAaNZT3FStGy9mzs6RpjOVIYmDdpQsthw6lMdtSEoP5gACgZk3l7f7+yqnADA7mly2jJ1GhQsZlylVkSZp99eo073yvXhTEf/cd0KKFWsVOcbx88+ZyxW1ZFsxHRNC8cQCV+M9l4+QNJQbz4eGUYMEF8AzDwTxjTBHMz5hB453On1dOaePiAjRrRoV72rSh7d6+NV9bGWNZI23PvDg+3s2NCmmNGkWFrDdsoBRWKyvqmb90KevbylhOIAbzs2YBtWtTgNurF2XBSUUcB1++PFC3rvJ2Pz/1eb2jopTDZnRKs09JARYvpvWxY3UOSE2eZi9ycaFp6lasoJSEo0fpisaDBwgLo4xCmYx65kXikPXISO2ZA5KMmR81ig4SEECV7BkAKh0A0KkVGck984biYJ6xPC4lRXlVuk8f4J9/qCd+2TL6UhAVBRw+DPzwg/KLAQfzjOV+aXvmxcr14pTIAQFUb6N7d5ryuWdPuv2nn7KsiYzlGHK5Ms3exYWyrl1caIjKDz9IdxyxZ75cOfVg3t9f2RP69i1l2gA0PZvYe56hXbsojb1gQboCoSOTp9mrksloqrorV2j8fKVKQKlSihT7atWo+SJnZ8Ddnda19c4b1TP/8iUwbhywaRP1lCxfTtPqMQD0Uri50frr1zxm3lAczDOWxz15Qqmz9vY03VT37sCSJcCgQfRlwELlU0KcuoaDecZyP7FHSpyLWUzN9fLSvL3Y4bR1a/p5rRnL6xISlOsODoCPD/DHH/T7jBmU3WIs1Ur25cpR77/Yge7vT4GThQVtd/w43a5ziv38+bQcOpS+MOgoS9Ls0ypdGjh3Dti4EbC0xMGDgDNiMbHwCrqqoiKzVHuDg/nt24ESJZSv27ffAoGBeu4k91MdN88984bhYJ6xPO7ePVr6+6sH7ppwMM9Y3iH2zKf9si/2zKdVoQJVuRcE4OefTdo0xnIc1eJ3YizcowfQvz/Fl717px/aoq/wcNqHhQX9T8+XD2jfnnqja9WizmGxJ/rff2mpUzB/7ZpyLM0XX+jVJjHNPkt65lXZ2gJubkhNpezCmfgOnfYMgmXTpnB68UKxWdmytJwzR/MFB52DebmcxsaL6tWj16thQ8pqmD7duOeTS2kK5nnMvH44mGcsjxPHy5cunfm2YjqUOM0NYyz3EgOLihXVb9fWMw8AEyfScvVqtdpTjOV54nh5W1sKqkWLFlGV+RcvgM8/N67QuWole/GCwZYtlFUjXowXx82fO0dLncbLly9PE8dPmaL9ap4WZumZV3H1Ko3HfmHrB8HRERanT6PRuHGw+OEHIDEREybQxY5Ll+hipOpFF0DHYP7AAUqFECsbAvSCh4ZSCkS7dlz0TgvumTceB/OM5XH6BPPcM89Y3qGtZz6jYL5OHeqQSkoCFi7krxiMicRgPm2GurMzxclWVhR4//CD4QG9avE7kZUV/YjE4EmcuU2nnnlra0ojmDxZ7zapBvPmmJFNrGIf2mo0ZLdvQ96qFSxTUmD5ww9ArVrwd4/GwYPUzhMnKB5PSqLHpKYqMwq0FsA7dgwIDqYvUzduKOdZA2jsIsuQeD4+fUqZJQAH8/ri/7SM5XGGBPNxcTpPMcsYy6HEnvmiRQFXV+XtmXXMib3zf/5pgQ8fuNgTY4AymHdwSH9ftWqU5g0AU6cCQ4Yop4HUhxjMlyunfRuxZx6gzmIxzVyrNGPM9SWm2cvlQHy8UbsyiBjMBwUB8PZG6o4duPjllxAKFaLhA927o2pACvbupQst+/ZRMeDUVPUioBqD+WvXgA4dKPrv2JHSK8TolOlEfLn+/JPqK9rY0BARpjsO5hnL4/QJ5l1dlVf4uXeesdxNdUom1QA+o555AGjdmnr7PnyQYf9+H5O1j7GcJKNgHqCi54sX03j3Zcv0KhgPgAq4rV1L61Wrat9ONZj39c2kll14OM1pN2+esitfTw4Oyno8WZ1qHxtLswUA/wXzACCTIaxePaTs2UNP/to14MkT1KtHNeusrYHNm2nIgzik0NlZQxH68+dpbs7YWBoXv24dD/Y2gOq1Dzc3YOdOvUdy5HkczDOWh0VHK+u16HIlVCZTjpvnYJ6x3E3slXJ1Vc8WzeyLlkwGTJhA63v2lEw3BpWxvEj8O9AWzAPAiBEUzIgp9zdu6Lbv1FQqpBcfDzRoQJ3F2qgG85mm2M+dCzx+TFOrZVYhVwuZzHzj5o8epel3/fyosLyaKlUoer9wgTYAECTfj6udfkAb2T7sWR6OESNo03Tj5bdupRc6PJymwNu5E7CzM/XTyZVq16bXt0kTuq7SsqW5W5TzcDDPWB4m9sp7euo4zyy4CB5jecGnT8qhNPnzK4N5S0vlcJuM0NzzAmJi7LB6NX/VYEzbmPm02rZVBuNLl+q2759/Bk6fpo7hVavUC+ylpdoTmmEw/+4dzVML0Fh5Iwq4mauivTi/vKJXPq2gIMDbW/n75s0ov3EK9ghtEA4PrDhSDNvRAV8lzgD271d+KAYG0sDuTp1ooL34BJneihalTqUjR7hH3lD8H5axPEyfFHsRF8FjLPcTe+UtLOg7qxjMe3rq1kFnbQ2MG0djbefNs0BKimnayVhOkVmavSpx9re1azPvzb52jYrMA8CCBTR/fUZUe+YzrGQ/dy519QcG0tgZI5irZ14cL9+ihY4PaN6cBsyXKQNBJkMxvEQH7MSIN5PpNRCD+RIlqEd/yxZOrZdARhefWOY4mGcsD+NgnjGmiThe3tWVgncxmM9svLyqAQPkcHFJxJMnMmzZInkTGctR9AnmGzUCypShqbrEcfCaJCQAfftSsbwOHYABAzLft05p9uHhwMKFtD5litHTqpkjmH/4kEYIWFsDjRvr+KCePYE1a4C7dyGLicHaISEYh3m4UqYX0KqVegpjqVI83RzLFjiYZywPe/CAlhzMM8ZUqY6XB+h7bGAgVdnWlYMD0KbNYwDA7NnmmZaKsexCn2BeJgOGD6f1pUu1/+1MngzcugW4u1M1cF1iy6JFKSZ1c1MMFU9v9mxqcPXqQPv2me80E+ZIs9+7l5b16hk41ZmzM/r82QBfvhyHyrf/oTL3jGVDHMwzloe9eEHLzNLyVHEwz1jup1rJHqCxjJcvA599pt9+Wrd+AgcHAdevAzdvSttGxnISXQrgqerXj7a9dQs4dy79/SEhlAkPAH//rVstC4DG7F+6RFniNjYaNoiKAn7/ndZnzJCk99kcPfO7dtHS2GsRRYoYXPuPsSzBpydjeVhYGC31mRaVq9kzlvul7Zk3lLNzMsqXp27FR4+M2xdjOZmuBfBErq40hBsALl5Uvy82lqrXCwIweDDQrp1+bdFY3V2UPz9dPfj2W2UDjJTVwXx0NNWlA/R/bRjLaTiYZyyPEgTgzRta1yeYF6/+czV7xnKvtD3zxhCLRT97Zvy+GMup9EmzF4lD4EJD1W8fM4b+nkqUAH79VZr24c4dZT5/QAAwc6ZkY8KzOs3+wAGakq5sWRrazlhuxsE8Y3lUZCQVzQHUC+JkhtPsGcv9pOqZB4DixSlAePrU+H0xllMZEsyLY9pVg/kdO4CVKynOXrVKgmLq8fHA2LFUDW/zZiN3pllW98zv3k1LCYb7M5btZatgfunSpahUqRJcXFzg4uKC2rVrY//+/WrbnD17Fk2aNIGjoyNcXFzQoEEDfBIHIjHGdPb6NS0LFgRsbXV/HAfzjOV+UvbMizU5uGee5WX6jpkHNAfz48bR8quvgPr1jWxUSAj1wi9YQL3yafP5JSIG81nRM5+crKxVxyn2LC/IVsF80aJFMXv2bFy+fBmXLl1CkyZNEBwcjNu3bwOgQL5ly5Zo0aIFLly4gIsXL2LkyJGw4MoUjOlNDOb1SbEHlMH8+/dAaqq0bWKMZQ/cM8+YtPQdMw8og/mnT4GkJBoa9/Qp9cpPnmxEYz58AEaNojnwHj2iEvf79wM//2zETrUT0+yzomf+9Gn6/HJzA2rVMv3xGDM3K3M3QFW7NJfQZs6ciaVLl+LcuXMoX748xo0bh9GjR2PixImKbUrrM6cWY0zBkOJ3APXkA3QRPzKSpsRhjOUu0o6Zp2Cee+ZZXmZImr2nJ23/8SPw5Inygpi/v4HTrQFAYiJQuzaVyQdovsmff1ZG3CaQlWn2YhX7Nm0AS0vTH48xc8tWwbyq1NRUbN68GfHx8ahduzYiIiJw/vx59O7dG3Xq1MGjR49QpkwZzJw5E/Xq1dO6n8TERCQmJip+j/3vkyQ5ORnJ4oDhLCYe11zHZ7mDsefRy5cWACxRuLAcycn6dbHnz2+FqCgZXr9OluTLPjMv/kxiaUVFWQKwgJNTCpKTDZsgXjyfvLySAVgjKgqIjExWfLFnTFe54TMqPp7+pmxs9PubKlXKCjdvynD3bgru3pUBsESlSvr/3xbJ9uyB1a1bEAoWROqaNRCaNaM7TPjaOjjIAFghOlpAcnKKyY4jCMCuXVYAZGjdWvPrnBvOJZb1pDpvTHHeZbtg/ubNm6hduzYSEhLg5OSE7du3o1y5cjj33ySb06ZNwy+//ILKlStj9erVaNq0KW7dugU/MRcpjVmzZmH69Onpbj906BAc9Lk8agKHDx826/FZ7mDoeXTuXEUAJfHp00Ps23dXr8fa2zdFVJQT9uw5j6dPIw06Pst++DOJiZ49awjAFQ8fXsS+fRFG7evs2cNwdm6FuDgbrF17Ej4+cdI0kuU5Ofkz6tWregAK4t69K9i377XOj3Nyqg7AC7t330VoaH4ARWFrew/79oVm9lDNLC1RYNYs2MTE4E1SknKAuQk9fOgKoCEiIhKwb98hkx3nxQsnPHrUFFZWqZDLD2DfPu0XPHLyucTMx9jz5qOYoiMhmSAIhl1yN5GkpCQ8f/4cMTEx2LJlC/7++2+EhIQgOjoadevWxTfffIMff/xRsX2lSpXQpk0bzJo1S+P+NPXMFytWDO/evYOLmboHkpOTcfjwYTRv3hzW1tZmaQPL+Yw9j3r0sMS2bRaYNy8VI0fK9Xpso0aWOHPGAuvXp6Bz52z1EcIMwJ9JLC1/fys8fSrDqVMpqFHD8J558byqV88eV6/KsG1bCtq25c8Mpp/c8BlVs6YVrl6VYffuFAQF6f438N13Fvj5Z0sMHZqKkBAL3Lsnw65dKWjZMuf8Hb15AxQvTu9baGiyYrpKqf3yiwW+/dYSQUFy7N6tOZDPDecSy3pSnTexsbFwc3NDTEyMZHFotuuZt7Gxga+vLwCgatWquHjxIhYsWKAYJ1+uXDm17cuWLYvnz59r3Z+trS1sNZTqtra2NvsfcXZoA8v5DD2PwsNpWbSoJayt9RtYJo6Tj4qyAp/CuQd/JjGROGbezc34v3Fra2v4+Mhw9Srw6hV/ZjDD5eTPKLGavbOzfn8DZcrQ8tYtSzx4QOvVqhn4d5ScDHP8ARYrBjRuDBw7BmzcaI3vvjPNcfbupWX79hawts64OHZOPpeY+Rh73pjinMv2ZeDlcjkSExPh4+MDLy8v3L9/X+3+Bw8ewNtUl/gYy8UMrWYP8PR0jOVmqanKKaSkqonB09OxvM6QAniAsqL9mTOAXE7/fz08DGhAVBRF1SNGKK8sZKF+/Wi5ejWNbZfa27fA2bO0zlPSsbwkW/XMf/PNN2jVqhWKFy+OuLg4rFu3DsePH8fBgwchk8nw1VdfYerUqQgICEDlypWxatUq3Lt3D1u2bDF30xnLUQTB8Gr2AE35AnAwz1hupFpxWoqp6QAo0mr1np5OLgfu3KFv6QkJ1E1ZqRJQuLA0DWMsixgbzIsBcOXKNDWd3laupJS8U6cAOzsDdmCczp3pOsKDB8D589JPG7dvH31cVK5M1ywYyyuyVTAfERGBfv364fXr18iXLx8qVaqEgwcPonnz5gCAsWPHIiEhAePGjcP79+8REBCAw4cPo1SpUmZuOWM5S0wMfS8GjOuZf/dOujYxxrIHMcXewQGwsZFmnzr3zMfHAxERQIkS9HtcHAXvql15FhbAnDnA+PHSNI6xLGBoMF+4ME1D9+ED/V65sgEHFwTg779pfdgwA68GGMfZmQL6NWuAVaukD+Z376Yl98qzvCZbBfPLli3LdJuJEyeqzTPPGNOfmGKfL5/+XywATrNnLDeLjqalVL3ygA4981FRQO/ewKFDNAf2yZN0e7589K3f3p6igTt3gNBQ4Msv6X4O6FkOIAjKzHZ7e/0eK5NR7/zVq/R7QIABDTh/nv527O2BXr0M2IE0+vWjYH7DBmD+fEBDSSuDJCYCBw/Sevv20uyTsZwi24+ZZ4xJz5jx8oAyzZ575hnLfcSeeanGywPKnvm3b5U9lGqmTwf276cB+69fU76s6PRp4MgRYMcOytGdOpVu//JL5SBZxrKxxERlcokhF9BVZ182qGde7Czr0oUukJlJ48ZA0aJ0wVDKmeGOH6fMBU9PIDBQuv0ylhNwMM9YHmRsMC9+GRFT9RljuYcpeuZdXQFxFp50qfYPHwK//Ubru3fT7xYqX0/SpgRPmwZMmUIXAGrXlq6RjJmI6gUsfXvmAWUwb2sLlC6t54M/fKCucAAYPFj/g0vI0hJo2pTWr1wxfD+CoD7yZtcuWrZrp/7RwVhewKc8Y3mQMcXvAGVqXGKiNO1hjGUfpuiZB5Sp9umC+W++AVJSgJYtgbZtddvZ9OkU0DOWA4jBvLW1YTPDiQF8xYqAlb4DZDdvpoDe1xdo0ED/g0usYkVa3rhh2ONTU4E2bYDixaljQhB4vDzL27LVmHnGWNYwtmdeLIqVlCRNexhj2YcpeuYBSrW/eZN+8uWj4N7r2VlgyxbqTvv5Z8N2HB9Pg/HLl5eyuYxJRhwvb0iKPQB07AgMHQp07WrAgxs3Br79lv7gzFD4Lq1KlWhpaDA/fz6NyAHoI6NfP+DFC8p4EHv9GctLOJhnLA/iYJ4xpo2pe+a//pqWHh7AywYLYQkAAwcCFSrov9MbN6g339JSWeCLsWxG7Jk39PR0cgJ+/93Ag/v4ADNnGvhg6YnB/MOH9Lroc4Hj7l3gu++Uv//+OyX1AEDz5vznz/Imo9Ls4+PjsW/fPixduhRLly7Fvn37EB8fL1XbGGMmIgbzXl6GPZ7T7BnLvUzVM1+/vnJdJgPevAEujVpNA14nTTJsp6VKUZ7t06c0jzZj2ZCh09LlRoULA+7u9Gd7+7buj0tJAQYMoO8drVoB1atTxsOiRXQ/V7FneZXBwfyiRYvg5eWFdu3aYcSIERgxYgTatm0LLy8vLF68WMo2MsYkxj3zjDFtTNUz37UrxdxRUUBwMN0WcsaaBrqK5e715egIfPUVrS9cqF4Fn7FswmzB/DffADt3Zrt/1oak2v/8M3DhAg3R+euv9Nf/2rSRrn2M5SQGBfOrV6/GmDFjUKFCBaxbtw7Xrl3DtWvXsH79elSsWBFjxozBmjVrpG4rY0wixhbAUw3mVSvKAgAmTqRpcMTcN8ZYjmKqnnmZjFLtXV2pl14GuWI6eaMMGEBz0N+7R/PUM5bNmCWYf/AAmD0b6NwZiI3NwgNnTt8ieDdvKmekXLgQKFKErgEGBNBtNWrQsB3G8iKDgvl58+ahQYMGOHHiBLp3745KlSqhUqVK6N69O0JCQlC/fn3MnTtX6rYyxiTw4QP9AMZXsxeENDH7rVvAnDnAZ5/Rf9c3b4xqK2Ms65mqZ15VkOcNPEEJ1P73e+M7011clFNuLVhgdNsYk5pYAC9Lx3Rv3EjL5s0BN7csPHDm9OmZT04G+venZbt2QN++dLtMRsXwihYFxo83WVMZy/YMCubv37+Prl27wtLSMt19lpaW6Nq1K+7fv2904xhj0nv1ipaOjtSZZQixZx74L3vv4UP6xdcX+OUXoEAB4OpVmgbnxQuj2ssYy1piz7wpg/myl9bAG89RJuEabt2SYIejRtG3+wMHqIeesWzELD3z4tzy3btn4UF1oxrMp8vuS2PWLPo6UaAA8Oef6gX5GzWirxjdupmsqYxlewYF8/ny5cPTp0+13v/06VO4uLgY2ibGmAmJczz7+Bg+S41qMJ967iLg7w/07k0T6P7vfzSwzdsbCA2lfNpHj4xuN2Msa4g981Kn2SukpsJi/T8AgNXohxMnJNhnyZJUAcvKKtdnBAkC8PZt5kEQyz6yPJi/dYtmd7CxATp0yKKD6q5cOZqN8v17ZQ0fTa5dA374gdYXL+ZUesY0MSiYb9OmDRYtWoQN4lU/FRs3bsTixYvRrl07oxvHGJOeeB3O0HpTAH1fFi8E2E6dQN8qLS3pB6AK0ydPAn5+dPWgQQOaU4Yxlu2ZvGf+4kXg9Wsk2OXDPrSWZtw8QHNpr15N3XW52Pz5VA18+3Zzt4TpKsuD+W3baBkUZMKrcoazswNKl6Z1ban2SUmUXp+SQsP+e/TIuvYxlpMYFMzPnj0bJUuWRO/evVGkSBE0atQIjRo1QpEiRdCrVy+ULFkSs2fPlrqtjDEJSBHMy2R0wb8QImBz5jjdKF4+FxUrBpw4QXNHh4UBly4ZfkDGWJb49Ek55aTJYoCDBwEAcTWbIxk2OHFCol7mGjWAnj2Vvz9+DERGSrDj7EMQgCVLaP3MGfO2hekuy4P5nTtp2bFjFh1Qf6pF8ORyuoj47Bn9fuIEMG4crbu50TlvaCYhY7mdQcF8oUKFcOXKFcybNw8VK1ZEeHg4wsPDUbFiRfz666+4fPky3LJZsQ3GGJEimAcomG+DvZAJAhAYSGn1aXl4AMePA+vXK6vWMMayLbFX3sLC8JoamTpwAADg2qMlbGwoK17ykTivXgFNm9Iwn5cvJd65+dy4oSxRksuuU+RqWVoALz6eqsVZWABt22bBAQ0jjpv/7jvK9sufn76XBAQADRsqL1otXUqZKIwxzawMfaCdnR3GjBmDMWPGSNkexpiJSRXM29oCbeP20C8ZfWEoWFA9Py4igr6N1qljXAMYY5JTHS9vkp6wyEiqqQHAum0Qqq8FTp+mH19fCY8TF0cBzdOnQL16wOHDNOwnh9u6VbnOwXzOkaU9846OdNUnLAwoVCgLDmiY5s1prnjVGXFsbemzJ18++unRA+jSxWxNZCxHMKhnvmTJkti1a5fW+/fs2YOSJUsa3CjGmOlIFcw7WSeiBf6b01nXGhlRUfQfvFkzZUMYY9mGyaelS0gAhgwBWrUCihaFvz/dLM6yIZkyZegKgVi3o149Komdw23ZolznYD7nMEs1ey+vLDyY/mrUoKSZ+/cpO+fTJ/p4ePOGbrtwgerpMsYyZlAw//TpU3wQJ6rW4MOHD3gmlsxmjGUbCQnKyrHGBvMN5MfhjA9IcvOkNHtd2NtTPt2nT8D+/cY1gDEmOTHN3mTj5YsUAX7/Hdi3D4By+muTBKbe3sCpU0DlypQR1KgRpKu2l/Xu3FGvI/runfnawvSTZcF8QoLyYDlAkSI0GU7hwlQUjzGmP4OCeQCQZZB/d/HiRbhmw+qZjOV14pTvjo6U/W6MO8410Rtr8XTAdBqbpws7O6BNG1r/L9WWMZZ9mLxnPg0xmDdZYOruTnU7GjQAYmNpQmrVvN4cREyxL1GCltwzn71kVMQxy8bMb9lCf1Tjx5v4QIyx7ELnYH7BggUoWbIkSpYsCZlMhrFjxyp+V/0pWLAg5s+fj9atW5uy3Yyx/7x4QYVkBg/OfFsxs93b2/jxsIn2rliH3ngeNES/B9aoQUsO5hnLdkzaM//qFXD2rFowbfJgHqDBtwcO0PjhfPmA589NeDDTEVPsh/z3kRsVRVXAmfmdPUuB+oIFmu/Pkp75xERg4UK6cuDoaMIDMcayE52DeXd3d5QvXx7ly5eHIAgoUqSI4nfxp0KFCmjRogV++ukn/PHHH6ZsN2N5ytOn1LG0caP67UlJFuje3RI3bwJr1mT+xU6q8fIAVbOnNuj5wOrVaXn3LvWUMcayDZP2zK9fT4UvVaaPEzOETN7LbG8PXLtGnzs5sKZPaCjVNLOyAgYOpNvE6byY+a1aRbG0OL17WiYP5gUBGDECuHiRrsTpcnWfMZYr6FzNvmfPnuj53z/gxo0bY9KkSWjatKnJGsYYU5ozh4Z63r4NtG5NU0YJAvDHH5Vw6RJdk0tOpsIxGdW8kSyY374dA9+FIg7BSEwsrd9jCxem1IBnz4DLl4HGjY1sDGNMKibtmRfHq9eqpbgpS3rmRdm8IFhGxBT7Jk1oxk9nZyrYHxkJFChg3rYxICSElqGhmu83eTC/ZAmwbBkNeduwQfNUsYyxXMmgMfPHjh3jQJ6xLPLpE7BuHa2/f09zrgLAX39Z4MgRb1hYCIovCJllj0oWzC9bhhHPJqAdduvfMw9wqj1j2ZTJeuYFgarLA1RZ/j9ZGsyLPn0yQfl80xKD+c6daSlmNHARPPN78wa4d4/WX78GNNWHNmkwf/w4MHYsrc+eDQQFmeAgjLHsyuB55gHgzp07ePz4MaKioiBoqPzRr18/Y3bPGAOwfTsQEwNYWgKpqcDcuUCVKsC4cXQtbsYMOfbts8SpUxTMq3R6pSNJMJ+crOiGOIKmCDAkmB8wgL7Qt2hhREMYY1IzWc/8/fvUjWxnRx9g/xGD0pgY+mixtpb4uGlt3kwpyE2b0odrDvD0KXDpEnW6duhAtxUsSLdzETzzO3FC/feHD2kCBVUmK4AXHQ107Up1KHr1Ar78UuIDMMayO4OC+UePHqFPnz64cOGCxiAeoGr3HMwzZrzly2k5YQINOX3yhKZoTk2VoU6dVxg/3h23b1Mwn9mMkJIE8xcvAh8+INa6IK4nByAx0YB9cIFMxrIlk/XMnzpFy5o1lQU3/juOTEYd9+/f0ygckypThvLT9+2jQCgHzLwjjsNu0ICK8wNZWGuAZer4cfXfQ0PTB/Mm65l3dQXmz6fpHv/+2/jKtoyxHMegNPuhQ4fi5s2bmD9/Pq5cuYInT56k+3n8+LHUbWUsz3n6FDhyhNaHDAG+/ZbWU1OB8uUFjBp1FTIZULw43Z5Rmn1iokRzzP/XoNvujSHAwrA0e8ZYtiT2zJssmFdJsQco40gc850lKeMVKwLly1PlTm3VyrIZsYp9ly7K28ThCRzMm584Xl68wKJp3LxJ0+x796b0AJPPe8cYy44MCuZPnz6NCRMmYNSoUahcuTK8vb01/jDGjLNqFS2bNqUAvF8/+h7q7g5s3pwCe/tUALoF8y9eUO+Xg4Pyi6BBjh4FANzxpLoZBgfzDx8CK1dShWnGWLYg9sxL3mGtYby8KMvHf/fqRUuxGEk29vIlTXsmkwEdOypv55757CEiArhzh9b79KHlw4fq2wiCCYL5f/6hwfoi7pFnLM8yKJh3c3NDvnz5pG4LY0yFXA6sWEHrgwbR0sYGuHKFUu19fZXbitfOMkqzV02xN/j//sePwJkzAIDQYk0AwLA0ewD46SeaY2nTJgN3wBiTmsl65pctA378EahdO91dWd7LLE6Nd/SoMl0pmxKH9depo16Mn4P57EEcL1+xorJeTdqe+aQk5bSxknSe790L9O0LVKsGvH0rwQ4ZYzmZQcH8sGHDsHbtWqSmpkrdHsbYf44do+A8Xz71Hhkbm/RX93XpmZdkvPzdu5QXW7Qootz8ABjRMy/ON3/5shENYoxJJTWVCtEBJuiZb9AA+OYb+kBLQ5eK9lrK8ximRAm6qCAIwMaNEu5YeppS7AGuZp9diOPlGzUC/OhfYrpgXix+B0jQMy8IwNChtGzbFihUyMgdMsZyOoMK4Pn7+yM1NRUBAQEYNGgQihUrBktLy3TbderUyegGMpZXiYXvevbM/Gq+GMxHRVFtJ2fn9NuIY++NCuarVqWDPH0Km8XUvW9wMF+hAi1v3zaiQYwxqcTGKtezsi5cZoFpUhJQty5lFJ09S9cTjdarF+1s3TrltF7ZQFgYXe9wdATCw4GTJ+n2tF+nuGc+exDHyzdsqAzmw8Ppb8nFhX4XU+wtLSWYreHBA5pW0daWCt8xxvI8g4L57t27K9a/1DINhkwm4557xgwUFaWcV1hMsc+IszOlxUZFUe98+fLq9+/aBWzYQF+G+/Y1snG2tkDp0rC1pV8NTrMvV46Wr17lmKrSjOVm4nh5Bwe1gvPGEQRYzJwJlC1Ls1houNKYWc/81q00NRtAw4SLFJGgXd26Ufl8MeU+G3j+nALCChWA8+cpxV4QgBo1lBdsRVwAz/zevQNu3aL1Bg0oeHd3p3H0Dx8CgYF0n+p4eaOHtou1J2rUoGkeGWN5nkHB/LFjx6RuB2NMxYYNFCRXqEDD4nRRvLjmYP7dO+Dzz2n9yy8znodeq8hI4LffKE32v64F8cu+wT3zrq70rfzVK6ogVKeOgTtijEnBFOPlix85AsvFiynwePIkw2BeW2C6eLFyXbJg3t0dmDJFgh1J59Il+jy9coVmGtu5k27v3Dn9ttwzb37iePny5ZXZ7r6+FMyHhiqDebGWjSTF77TMCsEYy7sMCuYbNmwodTsYYypUC9/peiXf2xu4fj19EbwRIyjtr1w54PvvDWiMXE5leg8coO6G1asBSBDMA/Qt6NUrSrXnYJ4xs5K8kn1YGCqI44W+/x7w8NC4WUZp9leuKGpuAqDPstxKrGsCAJMn05ApIPNgXhC4mLk5qI6XF/n50fkqjpu/eBHo2pXWa9SQ4KAczDPG0jCoAJ4oMTERZ8+exc6dO/GOq7AwJombN+kLgJWVcqobXWgqgrdxIxWLt7SkGNygrLwff6RA3s6Ouvb/Y3SaPaBMIeBx84yZnRjMS9IzLwiwHDkS1h8/Ql61KjBunNZNM0qz/+039d9VZ+OSxM6dNCA9G0yRqRrMR0dTQcLKlYFSpdJvKwbziYlAfHwWNI6lozpeXqRaBO/UKZpWNioKqFlTOdWswWJi6B+8TKZxVgjGWN5kcDC/cOFCeHp6ol69eujUqRNu3LgBAHj37h3c3NywXLwazxjTi9gr366dfoVq0wbzb94AX3xB6999R7Xr9HbkCDB1Kq0vWQJUqqS4S5Ke+YEDgX37gAkTjNgJY0wKYpq9JD3zGzfCYs8eyK2skPrnn3R1UgttafaRkcqp4MuUoaXkPfNr19Lg9H/+kXjH+hOD+W7dlLelrWIvcnRUfgZzqn3Wi4wE/vvaqzGY//dfoEULyq5o1Ag4fFiCi2T58lFAf/GiCeaOZIzlVAYF8ytWrMDYsWPRsmVLLFu2DILKnDFubm5o0qQJNmzYIFkjGcsrkpKANWtoXZfCd6pU55oXBBon//499ex8950BjQkLo4rPcjk1ZuBAtbslCeYrVgRatQI8PY3YCWNMCpL1zL99C4waBQB40KUL/Z1nQFvP/PLlQEICfYYFB9NtkvfM9+pFy/XrlZOBm4kYzA8cCAwfDhQrBvTrp3lbmYzHzZuTOMtA2bJUfkEkBvNhYTQlXatWdL1a0wwzBrG1NfDKPGMstzIomJ87dy6Cg4Oxbt06tGvXLt39VatWxW1Om2VMb3v20BdaDw+gZUv9HqvaM796NbB7N9WqW73agMrUKSlAjx5UyadSJfUKVP+RJM2eMZZtSNYzv3498O4dhAoV8EDTgO80xKA0JgZITqb11FRKBgKAkSOVw+0l75lv1Yp6PF+9UkZoZiAIymDex4ee+/PnFNBrwxXtzUfTeHmACuCJ9Qs6daKkj8ymlmWMMWMYFMw/fPgQrVq10np/gQIFEMn/XRjTmzg6pX//DLNSNRKD+ZcvgdGjaX369Ew7xTS7dQu4epW6E7Zs0fhtRJKeeQDYu5eqSt+9a+SOGGPGkKxnfvRoYPNmpP71FwQdJtbOn18ZAIlfHfbto+A2f36aPa5wYbpd8mDezk5ZYW79eol3rruoKGXBOzHLKjPcM28+msbLA/Qvc/Fi+t+7caPyorfRPn6k8vgjRvAVdMaYGoOCeVdX1wwL3t25cwceWqrWMsY0CwsD9u+n9TQZ7Trx8KCeeLkciI2lgjtffWVgYypXpnmSNm9W5g2mIVkwv3Ah8MMPyiq9jDGzkHTMfJcuEHRMB7a0BAoUoHUxMBWTgQYPpim9xK8UkqfZA8pU+82bJfhAM4zYK+/hoXtPLgfz5hEVRTPHAOmDeYBq1UyZov8F+QxduEAX2HfuNCDVjjGWmxkUzLdu3Rp//vknosX//Cpu376Nv/76C+3btze2bYzlKWvXUiBety5QurT+j7ewUKZk2tlR5VyjvkyULg0EBWm9W+xxMPq7L1e0ZyxbMLpnftkyGi9vANXp6e7fBw4dot764cPpdpP1zAOUK+3hQUVGDh0ywQEyp5pir6uMpvTLiFxOs5x8/73Zrl3kaCdP0rCI0qW1zrYovfPnaVm7Ns9DyBhTY1AwP2PGDKSmpqJChQqYNGkSZDIZVq1ahT59+qBatWpwd3fHlClTpG4rY7napUu07NjR8H1UrkzLWbMMuyCAt2+pIampmW4qdg4YnfHHwTxj2YJRPfP//gt89hn9PYtXBfSgWgRPHCvfpg1QsiSti0FTVJQJsowtLYHu3YHq1WndDIwJ5nXtmRcEYNcuoEoVerpTp2aLIv45jrbx8iZ18SItJZmsnjGWmxgUzHt5eeHy5cto2bIlNm7cCEEQsGbNGuzevRs9e/bEuXPn4Cb+Z2aM6eTlS1qWKGH4Pn7/nb5ojBlj4A62bqUvtDpk1kiWZl+hAi05mGfMrAzumU9KoukzAJpXzYCuffErw9OnwMqVtP5fQXxFm8Th9xEReu8+c7/8QqnMGdQDMqUnT2ipTzCvrQBeXBwF7iJBoGsttWrRrADilGoAcPmyQc3N07SNlzcpMZivXj0LD8oYywkMnmfe3d0df//9N96/f4/w8HC8fv0aUVFRWL58OdxV5+lgjOnkxQtaFi1q+D4KFaIvGAZn4R09SsuaNTPdVLI0+3LlaPn6tUE9eowxaYg983rH4hcvUjRasCClBRlA7GVevJhqfvj7A82aKe+XyZRTgJlk3LykA5z1J1XP/MWLVH+gUiWqpH76NNCkCdC8OV2rcHAAJk6kUiWAcuw30010NA1dB7IwmA8Pp6kNZDKelo4xlo4k/70KFSokxW4Yy7NSUiiWBYwL5o0iCMr8wSZNMt1csjR7Z2d60i9fAvfu0ZhAxrSIiqLZHjp0AAYNMndrcg9BUF5L0zvN/uxZWtavb/CE2qo98wAV7bZI093g4UEzyJlk3LwoOpqi3hYtTHiQ9KQK5kNC6P/JrVs0NZrIxgYYOhT49lt6HW/dotuvX6cx9Gqv9ePHwIoV9ELHxACOjlQIdezYPD/P2qlT9Lfi7w94eWXRQcVe+TJlJJywnjGWWxgczMfHx2Pr1q14/PgxoqKiIKjmdAGQyWRYsGCB0Q1kLC8ID6dh6lZWykJPWe72bRoz7+Cg07g8ydLsAfqS8vIlTU/HwTzLwB9/ALt3U2mHgQO5FpRUEhKUf8t698yLwXytWgYfX3VknqMjXbBJy6RF8ACaUqRECYpu37xRRssmlnaOeV1pKoD3+DEtK1UCHj2i93XAAKquLk5fClBNFVtbSsl/8gQoVQr0y48/AvPmpf9gt7ZWnx5l9Gi6ElC3Lu3czk73hudg4vXuLE2x//iRzkseL88Y08CgYP7IkSPo2rWrxmr2Ig7mGdOdOF7ey8ts9ZeUKfb16uk09Y2kwfyvv9I3S2MKBjCDRUcD5897IChIOS45OxIEmqUBoEyWp0/5lJGK2CtvaQk4OenxQEFQBvNGXIhTjZv79QPy5Uu/jUmnpwPoA7hcOeDaNWDpUmDSJBMdSN3798CHD7Su6xzzAFCkCC1fvaLeeCsrZTA/ZgwVU/30SXMPsrU1lSu5fJli8lKlAPTpQxXyAMrOatSI3oiYGBr7oDoU4exZuqJ24gRw5w6wZYvZhypkBXG8fJYWv+vWjX5SUrLwoIyxnMKgT94RI0bA0dERGzduRM2aNeHi4iJ1uxjLU8Rg3mwp9gBw7BgtdUixB5Rj5iWpLC0WwWNmMX68JdasqQlr61RMn27u1qiLjqYYwcmJsk3v3VPed/o0B/NSUa1kr1e2Q0QE5XlbWgLVqhl8fNWe+REjNG9j8p55gHLRhw8HJk+mF2PkSBMejIi98p6e+nVwFy1KWe+fPlHvup8f9cYDNAtA/vwZZ1kEBFAwf+3afyn5v/9OXfkjRwJt22Z8IvzxBw1HGDuW5j4fNIgqF6YdG5GLxMQAV67Qepb2zIvywMUSxpj+DPrUff78Ob7++ms0b96cA3nGJGD2YD41VZk/2LixTg+RtGeemU1SErBrF31pX7DAAjExZm6QiuhoClDKlqUCkWKvvBhjnD5ttqblOgaPly9cmKKcy5dpiI6Bqlen9Pru3ZWzVWo6FGDCnnmAgvkvv6T1UaMo5dzEDEmxByhu9ven9QcP6GNc3FepUpk/XpzK9Nq1/27w9AQOHgTatcv8ik5gIDBsGLB5MwWZa9Yg210JlNjp0zQCw9dXmRVhcikpdFDGGNPCoGC+UqVKiMlO3/gYy+HMHswD1Lvy/ff0JU0HkgbzSUnAjBlA3758dSCLnTgBxMTQF/eYGJmiynV2cOAAjQd++ZLiiw0b6PahQ2nJwbx0DK5kD1B3ckCAUcf38qILChnNey6m2Zu0Z14mA+bMAb77jn4fP97gCv26MjSYB5TB/P379HeSkkKfzboUZwuoKMcWdEap06v1P7CoXTtg2TJanzWLGpJLmWW8/PbtND2BtnQVxlieZ1Aw/9NPP2HJkiW4dOmS1O1hLE+SYlo6o1haAg0aUGqpjql8Ypq9JB0H1tbATz8Ba9cq80RZlhCHyBYq9BEAlS+IjTVjg1Ts2aNcv36dxhYXKUL1tgCqyJ1B6RamB4N75iVkbZ1xzZAs6ZkHKKCfMYMubgI0NtyEvaPGBPOlS9Py/n3lR6ePj261V2ocn4PO2IaZ74ch6tYr/Q8u6tsXaN2a/incvm34frI5s4yXv3iRMl+4d54xpoVBwXzDhg0xf/581K5dG5UqVUKbNm3Qvn17tZ/g4GCp28pYrpUteub1pFojz+jOdJmMKtoD6oOimUkJAiVkAMDgwTdRurSAqCia69sckpOpcDNAKcP799P6nDnKscR9+lA2sK+veu21vCo1FYiPN34/YjCvV898QgLlx3/xBQ3cNrEs6ZlXNXkypZGvX2/SseDPntFStdq8rlSDebH4XcmSOjzw0CHYzaACfyPwG66/MyJvXCajgoH37qnPh5eLxMXRSBIgi3vmL1ygZfXqWXhQxlhOYtB/p61bt6JPnz5ITU3Fy5cvcefOHdy8eTPdD2NMN2YN5pOTgXHjKJ1Pj2q5kgbzAAfzZnDjBvD8OWBvL6BKlbf4+utUADT8NaulplJySPHiVMzr3Dnqic+fn07PHTuA3r0p6xmgGbEATrXv2pWmnm7YEPjtN8N7rVUL4Ons8mXqtd66NUumJhN75mNi6DpClujSRflhJ5dTcJ9mKl5jiZlZxYrp/1hNPfMZjpe/c4cC7qAgIDUVx4v2wUoMUI6bN1Tx4lk4kDzrnT5Nn1ElSxr2PhlELldeQeBgnjGmhUHB/MSJE1G6dGncu3cP79+/x5MnT9L9PBYvETPGMiSX09RCgJmC+UuXgPnzgc8+06v3STWYl6SiPQfzWU7slW/aVICtbSpq1KAg5ZURGbeG2rSJAvjISOB//1Om2LdqRSM/goJoFEahQnQ7B/MUvG3fTrHliRNUhLxIEZqQ4vffqdC8rgzqmVedkk6vEviGcXVVfu5kWe+8qtGjaYowiQu9SRHMv3mjLGSntWd+9mygYkU6aSwsgEGDcLrv7wBkxgfzIkGgmVHEqU5zCbOMl79/n+YstLenKqCMMaaBQcF8WFgYhg8fDn+x8gpjzGAREdQhbmGhTCPNUuKUdI0a6RXMW1goh9dzz3zOJI6Xb9+exmOKPZ9xcfpnTR8+TPODT51KgbmYLq+LlBRg2jTl7zt2UNYuQDNkaSIG8+fPU3KJVoJARQBSU3VvUA4hZlDUrw/MnQvUrEkXB48do9nVPD3pYoguvfUG9cyfOkXLOnX0eJDhZLIsmp5Om3LlaDlvnjRjG0B/J5GRtG5IMO/iovy/IQacWoP56tXpBOnUiQpOLFuGirUcAdBbKUnCwV9/0dWkL7+UPIPBnMwyXl6sSxUYyNPSMca0MiiYr169Op4/fy51WxjLk8QUew8PKgCV5cQeFB2npFMlaUV71WA+F30JzK5evqQMTpkMaN2aXu98+ZTvqT69ugD1pq9ZQzXDunenYFJX69fT1FoFCgBDhtBtMTF0wSgoSPNjypShXuRPn4CrV9PcKQjAihX0JdjVlZ5YsWIUYNy6pd8Ty6bkcmD1f0XIhw2j1//cORqiMGcOULUqbXPgADBpUub707tnXi4HTp6k9SzsrsyyIniaDBtGkXJcHPVuS0D8/Hd0NLz4oNivIg49UKTZ//478PPPyg2bNqUCdVu3Knp6Gzemv/lHjyS6jtq5M/UkX72qPD9yuA8fqA4dkMU98+JBOcWeMZYBg4L5RYsWYcOGDdi0aZPU7WEszxG/zGXZODxViYnKPOUmTfR+uFjRXpI0e19fit7i44G3byXYIcuI2Ctfuzbg7k7rMplyXZ+ez48faSguALRpQ8tz53R7bEqKMmv566+BX35RBmx161KAr4mFhZZU+9hYoEcPYNAgCijE0vyvX1P3dRbMG54VTp2iwN3ZGejQQXm7jw/w1VfUqScWEFy/PvMZCvTumb9zh4oaODjoPJ2lFMReaLPMgGZhAfTvT+srVkiyS9XPf0NHKoip9qISJUAXrb74gv64VD9PxeyC/zg7Kz/6d+827PhqChakFB2Ahm/lAmfOUGKPjw/g7Z2FB65YEWjenIqJMMaYFgYF871790ZKSgp69uyJfPnyoXz58qhUqZLaT4CRc84ylleYdVq6c+eoO6dwYYPG5EnaM29rS11DHz8qI0pmMmIwn3biETGQ1qdn/uZN6qgtXBj480+67eFD3YqUrVlDvYKFCtFUyi4uwB9/AG5uNEQ5I4pg/pRKJoeFBQ0etrICZs6knsioKMrdHzIEWLRIuW1ERI7NAlm1ipZdu1I8rUlQEGUwfPxIAX1G9O6ZP3GClnXqZGlKUeXKtJwwgRItsqwQnqh/f4q6jx5VzilnBGPGy4tUg3l3d8DJCZSOIQiUF16wYIaPb9eOluJngtHEP9wdO5Ql9nMws4yXB+jz6tAhoGPHLD4wYywnMSiYL1CgAPz8/NCgQQMEBgbC3d0dBQsWVPspoK07hTGmxqyV7MXx8o0bG9QtJGkwDwB+fuqV9ZhJxMYqR1e0b69+nyFjkq9coWWVKjRO29WVgvsHD+h2uZx6kdPGzcnJyqm8J0z4LwgBXWB4+5YKiWekucdN/Ihv8NPO0hDe/Tfw2MmJBu2fOgV8+y31RLq60k7//JPymQFqTL16dM5NnEhjDnJIYP/xIxVVB5QdxZrIZFTXEqChzBkRe+b1KoDn45PlvYbffAN8/jm9VXPnZvz8TcLbW9mVLY5zMILUwXypUqCu5J07abL5uXMzrYUiBvNnzkiUFFWuHNCiBb1J4tW9HMws4+UZY0xHBgXzx48fx7FjxzL9YYxlzqzB/O3btDRgvDwgcZo9yzIHD1Ig7e+vLFUgMiTNXhyzHhhIAaSYySum3i9ZQkONxaJ2ohUrqHOzcGE9xtinpFAufoUKqDqwEr7BbJRKDcW7P7YqtwkIoGpwGXnxgv74Hj0CfvoJqFaNhnpMmEA56tk4sD93joZtFytG1yMy0q8fdZxfvqyhtoAKsWde5zT7L76gKzTffKPjA6Th4ECZGxs20O9795rhrRowgJYSTKUgdTBfsoRAF6cAYODA9Dn4GhQrRhfiBAHYt8/wdqj5/HNarlmTo4tPJiQop3rP0p75ly+Bd++y8ICMsZzKoGCeMSYdswbzmzZRMNO1q0EPl7xn/sYN+gI6bpxEO2SaiFPSpe2VBwxLs1ftmQeA8uVpKQbzYq0w1U66xERgxgxa/+Yb7anialJTqSv2q6/oQpSNDY7n74iu2ITDHn11bzBA82JHRAAbN1IKgL09pQTPmUMFpzp2zLYBvfiZUaZM5hNQFCpExcsB7b3zqanKMfV69cwDZquy3bGjssSGvsUajdapE2V+HDhg9K6kCOZLlFCOdGiBQ1R4ztaWppbQkeSp9u3aUXq/gwOQgwsmP3xI1w/z56dElCzzww/0x/vjj1l4UMZYTmRUMJ+cnIybN2/i1KlTOHHiRLofxljmzBrMy2TUZar3N3gieTD/4QOwciWwbZtEO2RpJSdTbyaQfrw8oH+afXIyjZkHlHXQVHvmU1Jo+jgAuH4dCA2l9WXLKJDx8lJ24mVIEKia+Lp1FEAuWgSEh2PPoG3Ygq4IuWCvW4NVOTnRvOGbN1N+8aZNdGGraFFg7NgsmTvdEGFhtPTy0m17MdV+40Ya8pBWTIxyXaee+ehos/e22tgoA+CHDzPfPiWFKv5LkvXt4EAFGyQ4P6QI5q2slBXsW1yeRSvDh+v1T0W8sHfwoER1CGxsKMPlwYP/KvLlTOJQIX//LP44ECvZ65BZwRjL2wwK5uVyOSZMmIACBQqgcuXKaNiwIRo3bpzuhzGWMUEwczBvJMnT7MUvLs+fSzaPM1N36hTFYm5uVMk+LX3T7O/coYs5+fIpv7OLwfzt25RsofpWbtlCwcLMmfT7t99Sp7hOPD2pO3bdOmDkSMDVVZFmbnTGs6MjBfKbNgHPnmXrAbL6BvMNG9J1i/fv6f1ISxwv7+ioYy27MWPoBBInujcTMYB99CjzbffvB379lU4bcUiBJOLilG+IAaQI5gEqHhlYRYDd2GGUWTJ+vF6PDwykmQLi45VxpNF8fLLtBTFdqQbzWSYhQXmFlKelY4xlwqBg/scff8TPP/+MPn36YPXq1RAEAbNnz8bvv/+uqGR/8OBBqdvKWK4TE6Ps1RZ7RLNM69Y0p9XduwbvQvKe+YIFKUgAlN+imKTENNq2bak+Vlr6ptmL47CrVFF+bxeD+dBQZSVoMUjcsoV6R8PCKIARe40zJZNRtbzr19WGhdSpQ0uxaL0kVHPXHz82Q8n0jL16RUtdg3lra2WdOrHwoSq9xssLAr2p0dHKeeLMRJ9gfuNGWiYnSzZFPF34KVZM78BZFBenzIowNpgfORK4fEUG12E9aJC3nleHZTJlmQnJgnlRQoJub1I2JP4b8vPLwoNeu0apJO7uZpqzljGWkxgUzK9cuRLdunXD0qVL0bJlSwBA1apVMWTIEJw/fx4ymQxHNX1jYIypEXvEbG316J2UQlwcTXmzc6eyurcBJA/mAWVFtnv3JNwpAygOy2i8PKB/mn3a8fIAUKQITTGXmkqjJgDK+rW0pO2nTaPbJk1SZndotX8/8OmT8vcKFdTudndXftE+e1a3Nuts3TqgUqX0lfvMTOwILlJE98eIBdg1/WvWq5L93buUOWNrq7ySYia6BvOfPinPe0AZ2BvN35+i8c2bDZqmTuyVd3VVzuRgTmInsKTB/NGjdNWpYcMcOU2dWXrmL12iZbVqOT6zgTFmegYF8y9fvkST/74Z2P73TSzhv54LGxsb9OnTB2vMnH7HWE6g99zOUjl5kiKtUqWoEJiBTFLNnoN5k7l1iwqQ29rSzFGaiGn2kZHUOZQZ1Ur2ItWK9mK2aHCwMnM9KooycMWi4Fpt3UopBC1a0HxsWijmmze+uLi6jx8p73j27Gw17EPfNHtAGcyfOEHv65Ur9B4sWaJnz7xYcKFRI6MuBErB15eWmQXz+/dTOQ7xc/bIEYmmYKtcGWjWjD5Lf/hB74eLwbwkQ6wmTgTmzaMnaiAxmBdjSUlUqUJjcF69onE9ly9LuHPTM0swL15N4RR7xpgODArmCxYsiA///cNwcnKCi4sLHqe54hol6aA0xnInswXzYveckbUtuGc+ZxFT7Js10x6HublRlrkgZB7wyOXqafaqxGAeoP3VqKE+b/zkycrzR6OjR4Fevegg5cplmLpismC+f38qEBkRAfz2m8Q7N4xcDrx+Tev6BPMBAfQ5ExdH8dT48VQaYNEiPXvmxWC+TRt9mm0SYs98ZgXwxJ74wYPpPE1NlbDG5vTptFy+XDkhuY6kGi+P8HAqCDB+vHIKCQNUq0bLhw8lHLKSPz9NYB8QQH9HjRpRVlgOEBWl/AzM0jR7DuYZY3owKJivUqUKLqrkYTVu3Bjz58/H6dOncfLkSSxcuBABAQGSNZKx3IqDeQ3KlKGu3bg4CXfKAGWqsaYq9iJLS2XZgszGzYeGUoe1vX36osuqwXxAAKURd+5Msy1VqQL0zWgmuStXqJFJSTQN2JIlGaabisH8+fMSn4vW1sCUKbQ+Z062OCcjI2ncN6DfkHULC+Wf+5QpyloG9+4py2Zk2jMfHU0VFIFsFcy/e6ecWi+t+Hhgzx5a796dfgAJU+3r1IF8yFBa//xzveorSBbM//UXnfg1a9JVMwMVKKB8TSXtnff0pJSQpk0pc6BNG2DtWgkPYBrizBteXlk8DOLrr2lckhHvJWMs7zAomP/888+RmJiIxP9ya2fOnIno6Gg0aNAADRs2RGxsLObOnStpQxnLjcwSzEdFUYEdwOhg3iRp9s2a0Re+ffsk3CkLC1N2+LRtm/G2uo6bF3vlAwLSTzeuGsyLwXahQpTmf+ZMBlXTX72iOao/fKDz859/NFfqU1GmDNVOTEhQtkkyvXtTjm1kJHVjm5lY/M7dXcfK8yrEVPu0HaM7dtAy08+hQ4eoW7tMGcpYMDNnZzqnAO2p9nv30miJkiWBqlVpJkKAOtHfvDG+DXv3Ap6rf8JHV0/KyZ4xQ+fHShLMJycrazqMGmXEjohJUu0BKqKxbx/QsyeN8+jbl6phZmNmKX4H0PijJUuUJzdjjGXAoGC+ffv22LZtm2K8fLly5fDo0SNs27YNu3btQmhoKGrVqiVpQxnLjcwSzJ85QznUfn7UY2IEk/TM29rSPM5MUrt307Jmzczfdl2np9NU/E5UvrxyXbVOmqMjYGenZYfx8RTIh4XR1YDt2zPYWEkmUx5D8lR7Kytg6lRa/+UX9UnZzcCQ8fIiMZgH6GUVe6nFUXKZ9sxXqUKvxYgR+h/cRDIrgif2wHfvTudJiRI01F0uVyYZGGPjRiAiMR/+DlhMB9Djs0uSYH77djopChdWm+XBUGKqveQV7QH6h7F2LQ0HqFYN+K+AcnZllvHyjDGmJ4OCeU3y5cuH4OBgtG3bFgUKFJBqt4zlamYJ5q2sgPr1qQfcSCYJ5plJiOPlM0qxF+k6PZ2m4neiYsWo2rqtLZ1uOnn4kAZyu7lRbnS+fDo+0ITj5gGKBMuVozT7EydMcADdGVLJXlSmjDI1f/hwKkmgKtPPIT8/mopg5Ej9D24iGRXBi4tTJviIFy4AZfAsxbjwCxdoecipE2U8ffutzo+VJJgXs0WGDs2kCIVuTFLRXpWFBV0UCwnJHiX8MyCm2WdpMH/gAHDuXLabDpMxln1ZZb6JdnFxcXj27BmioqIgCEK6+xuIE9syxjQySzAfFEQ/EjBJmj1AE5GvXUupmEOGSLzzvEcQlEGuLp1huqTZC0LGPfMyGVUN//Ahg2rdUVE0d91nn1HOdEAADXyPjKQuVD2oBvOCIPGMTpaWVOCsUCGzp5cb0zMvkwE//UQXdr77juIqmYxeL0DHavbZTEZF8HbtopjI359mGBSJn7fGBvNRUcD9+7QeGQn1g3z4QEMStFyQEgQJgvnLlym9wMqKgnkJBAbSefHyJQ1D0Kcug17EDIaEBJq1onx5SpnIRszSMz9iBKXKHD4syQV3xljuZ1AwHxkZiZEjR2Lr1q1ITU1Nd78gCJDJZBrvYzpavx5YtgwYOzbzAa4sxzJbATyJmKxn/sULmj6vbFkO5iXw4gVlh1tZqae/a6NLmv2LF8D797TPNFO/K6Qtiqdw4wZVh1+7lgY029oCX3xB9/n6Krtb9VCtGp2P4eH0XVgM8iRTs6bEOzSMMcE8APTrRz+iypWVGRYZfg6tWkUXXNq0UV7FywYySrNPm2IvEi9aGBvMq/Zev3+vcsfDhzR1w6NHdEFy6FC6UKXiwwflbIuGvpdwdqYiAPb2RuxEnZMTfezevk3j5k3+9eN//6Mx//360TmWDaSm0gWNLA/mIyOVY17E8Q6MMZYJg4L5IUOGYPfu3Rg9ejTq16+P/Dk1EsnOzp+nbq2iRTmYz8WyPJgX56CSqAvOZMF82bK05OnpJHHrFi1Ll9YtE1eXNHuxV758eT1iu0+faFyvOL0ZAFSsKEn3n50dFTg7e5Y6KyUP5lXduUNtNsOQMrEAnkSxGxo31iGYT0kBJkygKyW7dlFdg2xCWzAfHU0Zy4B6ij2gfJ7ix6GhxBR74L+eedHz5xSpf/hAgerSpTTH+rBhdP7b2yuObW1tRIkQf3+6YiGXG7gDzapXp2D+5Mks+PrRrx+9Pps3AwsWmD09pH9/Om9++YXePguLLEzGEasO+vmZ/XVgjOUcBo2ZP3ToEMaNG4e5c+eiQ4cOaNiwocYfZoROnWi5a5dyHiKW62R5ML98OQUgEo15NVmavRjMX71q9oJjucHNm7SsWFG37XVJs89ovLxWkyZRIG9pSUFNSAhw/bry885IJh03L/ruO7qCMX++CQ+inbE982k1aqRc1xo/HDlCJ0PBgtmuaJkYzL94of45tGMH/essXz59NopUafbnzyvXo6JUYuomTSj//sgROs+trOgqU//+VOxgyxa166pGDwmxkKz8EQCgVStaLlkiTcX/DNWsSak9nz7RzBVmtmcPXcQUs1d8fCQpRaAbcb5I7pVnjOnBoP8ADg4O8PHxkbgpTE3dujQ+MyrK7AWXmOmIX+iyLJgXK9lrHcSsH5P1zAcEKAuOLV4s8c7/3959h0dRdWEAfzeFFEInoTepIlIVaSJdQAEFsSAoWFEUUeQTbAiKYKMoiI2iIE0UAekdBUQ6offeA6QRQpKd74/DZDbJJtmdndmW9/c8eWaz2czcbCabPXPOPTfvUYP57MrhM3OkzD6n+fJ2/fMPMGaM3J4/H5gzB2je3NDJ7c2aydbUYF69evH11x650ORKAzx77r9fiwWLF8/mQdOmyfbJJ51fD89kUVGyQoKiACdOaPfblthnpl60cCUzrygZg3mrNdPpYLFIUD9njlxpGDECqFBB/qdXrZr+WCd6PGpOnpTSfXuNAgzw2GOyxHlCglP9/PSxWLSpVD/8oDVw8IDU1EzTJeDGEvvoaGD0aLnNakwicoKuYL5nz56YN2+e0WMhW4GBWtvpP/7w7FjING7NzNt2QVNTmC4yLZgPCJAMKCBvcOLjDT5A3qKW2Tubmb90Kfv31k5n5suWlTTwc8/JvGsTNG4s2337ZJU7Uzz6qFSOxMZK6tKNUlO1CyxGZeYLF5Yq5+HDs9lnQoIsfwbI/G8vY7FoAZd6gSkmBli5Um6r68rbMiIzf/IkcPmyXNtQV0/MHAimK1lSouKjR+XifJ066RcSnArmr1yRX9S990rgq/aZMFhAgFS8A8CUKSasOZ9Zz57yJO7enXHugptduSJbiwUYMkTehqlVCqa6eRN4+mn5R/rww8BTT7nhoETkLxwK5rdv357ho3v37rh69Srat2+PP/74A1u2bMnymO3qf1XS79FHZfvnn4bPiSPPUxQ3B/PHj0vNZHCwYWV8ppXZA5JSq1ZN3iFPnGjCAfKGlBRg/3657Wgwr2bmU1PtBzyXLsncbYslS1+v7FWsKBGWiZUWUVFAwYJy+9Qpkw4SEKClK0ePNvGqQVYXL8rrRmCgFG4Z5aWXgA8+yOaL8+bJ/O+qVSVd64XUyv/ffpPtH3/IuVunjv0mjEYE82pWvk4d7XeRYd68PYGB6es0xsYCDbEZj9+YmvvBjhyRLuflywNDh8pVhAoVgK++0j3+3DRqpF27efNN0w4jihaVcgDA7RfIbKk9QooXBz79VK4h9+/vhgMnJsoFn6goaXxs6FIcROTvHGqAd88998CS6cVFXYpuxYoVWR7PbvYGad1autWeOydtc72kmzIZQ125CHBTMK9m5Rs0kO7HBjB1nfnAQIkwVqxwbHF0suvIEfn95M8v7/8dERIiGcPYWAkgM/d5U7Py1ao5sFR0SopWmh0QYNi5l50KFaRi9eRJrfWC4Z58UoKqY8ckyPrhB7dMrFWb35UqZfg06ewPOGSI3O7Z02uDjCeeAEaOlDXl4+Kksl293x4jyuzVYP6+++SlVV3dwVFB+3ZjPZojaH8q8FOqLM9oz9tvy0UjtUSmfn1g0CAJfoNcWl04VyNHysI6//wjryM6Fplw3Ouvy+oWMTGSvHDLCZ6RGsyrF2dMfqnSFCsmXfdOnNCupBIROcih/wRTpkwxexxkT0iIZOfVdAz5FTUrlC+fG940pKVpDbsMbE5pajAPSADRs6dJO88bbOfLO/P+uEQJLZjPHBQ7PF9eUYC2bWUHn37qlqtWtsG8aYKCgM8/l+ZmP/8swccvv5h4QGF087tclS4tv+SwMOnE7qVq15YM/MGDkthcvVruzy6Yt83MK4q+axRqNXjDhlrlS66ZeRtHw+/GFPRBX3wvc8ZjYoD//S/rYKpXl0F27CiBfYsWbruoUqaMtLVYvVoaww0YYOLBGjaUteCqVjXxIDm7fFm2bounU1O1CzJubZtPRP7EoWD+2WefNXsclJ2pU702G0KusS2xN/1XPH++RGCFChn6jszUMnsyhLOd7FVlysh76zNnsn7N4fny06ZJx/otW6Q03U3BPGByMA8A3boBCxdKIPb22yYfTLglmD9+XDKFBQvKC9PPP8tVu1xLMDzHYpHAffhwabVhtcpMouxiIzUzn5oqMwjy53fueBcuAP/+K7ebNpVAF3AuMx8bZ8F7mIiq9xRG662fAYMHSwa+ShVZe71bN3lgr15AkyZZW/K7ycMPuymYBzwayANaZt4twbyiAD16yMk4ZozzJyER0W266phSU1MRFxeX7dfj4uKQmprq9H4nTpyI2rVro2DBgihYsCAaN26MJUuWZHmcoijo0KEDLBYL/vzzT6eP41MYyPstt86Xf/RRYNYsma9swJreKtMz86oDByRDz7nzTlOb3znayV5VrpxsT5/O+jWHMvMJCZJpBIAPP9R2aDK3BfOANPI7dkxSwyo1IjCB0Z3ss5gxA6hbN+PSlUWLenUgr1Ib3SUlyTa7rDwgcZOaENUzb37aNCl2atxYlsZTp6E4k5mXbvYW/PPwKAniw8Pl3Nm4USZqq70YQkM9FsgDQKdOsl23zo2LN1y4oL3IuJFbg/lp06TJw5QpUlJCRKSTrmC+f//+aNKkSbZfb9q0KQYOHOj0fsuWLYtRo0Zh27Zt2Lp1K1q1aoUuXbpg7969GR43duzYLHP4/d6ZM5LdIr/h1mBeTV0ZXLLutmB+zRpZg/jTT1kG4CS9mfny5WWbOZiPjZWm3EAuwfy4cVKjX7myGzpoadwazANaK3NAJk9XqgRMmGDKoUzLzMfHy8LaTz8tk86PHnVrYz8jZF5Pvnv37B9rsehvgqcoUsoPyMIMgBQyAM5l5m3Xmcebb8o3r10rE9V/+EGCey9QpYpU+qemAsuXu+GAf/0lLz59+rh9eqFaZm9kc0m7jh/XLpgNG+bEkiBERFnpCuaXLl2Kx9TOo3Y89thjWLx4sdP77dSpEzp27IiqVauiWrVqGDFiBCIiIvCvWs8GYOfOnfjqq68wefJkPUP3TfPnS1brpZc8PRIykFuC+Z07nXuH6SS3ldk/95ykI8+ckaknDtq/X8vU5UWJiZI4BpwP5rPLzO/cKdsKFbQgJourV4EvvpDbw4e7pTmcKnMwn5AAtGkjlfApKSYffO5cqdt+7TX50FGhlpPz52VrYHGN1KS3aiWZwoAAaey3bp1Plv0++aRsGzXKvdmj3iZ4mzZJIjU8XMv+q5l5p8rsM68zHxIi/UwGD5aKDy9KWKjZeXU6gamaNpXnYvduYNEiNxxQ45bMfGqqTJ2IjweaNQPeecfEgxFRXqCrFeq5c+dQJoc6v9KlS+Os2nZXp7S0NPz2229ITExE49uLB9+4cQM9evTAhAkTUNLBdzPJyclItok01OkBKSkpSDH9nZ196nEdPn7DhggKCIBl506kHDokmR/yeVeuBAAIRKFCVqSkOL/yQ67n0Y0bCHr0USAxEWkLFkBp0MCF0doXEGABEITkZAUpKcYGLpkOhICBAxH41ltQRo5Eaq9eWof0bGzfDjRqFIy77lKwdm2qc+s5+4nduy1QlCBERSkoXDg122DW3rlUqpT8bk+ezPi73bJFzts6dbI/bwM+/RSBsbFQ7r4bqd26uSGK1kjWOhjnzim4cSMVf/1lwapVQVi1Cti+3YpZs9LMu4D22WcIKF4cge+/D0yYgLS0NFi//tqw3V+4EATAguLFU5GSYkzW0rJmDYK2boVSoIC8TjRtKhlRA35nTv+vc9FrrwGJiQF4/HFrrsMvXDgQQAAuX3buufzxR/m+xx6zIjQ0DSkpQOHC8rdy5Yrjr+XXrsl+IiKM+12apX17C778MgiLFyu4eTMVgYEmHiwiAgF9+yLwyy9h/fhjpLVrB1gsbjmXLl6U30nRoub9TgI+/xyBGzZAKVAAqZMny8U0Lj3sVu5+XSL/YNR5Y8Z5pyuYL1asGA7mMMdn//79KKgu9uuk6OhoNG7cGDdv3kRERATmzZuHmjVrAgDefPNNNGnSBF2cWKZq5MiRGDZsWJb7ly9fjnAPl7HZW9YvO03uuguR0dE4OGoUjnKZLr+wdWsNANURG3sCixdH695PdufRndOmodqJE0gqVgyrTpxA2sWLuo+RnUOHigBojtjYG1i8eKXh+7cVUKYM2hYujNCTJ7HnnXdwqk2bHB+/bFkFAHWxd68FrVtfxwcfbEJwsHe/aTbahg2lAdyLYsWuYvHif3J9vO25dPJkAQCtcPx4ChYv1nqXLFpUH0A55M9/EIsXH8qyj4CUFLSdPBmBADZ37oyLS5e6/oM4wWoFgoMfRkpKIKZPX4vlyysAqAYAWLMmAPXq3cBbb21FlSomTQCuVQtl3nwT94wZA2XqVCxr2RJpagmLi06efBBAKA4f/geKYsz4648ejXIATjRtit2xsbK+m8Gc+V/nqkaNgFOn5CMnKSmNAURh/frdCAy00xjCjqSkQMya1R5AAGrU2IDFiyUVf+xYSQD34dixWCxevN6hfZ092wpAARw4sBnBwVcc+h5PSU21IH/+9rhyJR/GjduEGjV0NBpwQr5atdA2Xz4E/fcf/h01Cpfr1En/mpnn0smTrQFE4OjRTem/W0MpCtqNGYMwADuffRan9u0D9u0z/jjkEHe+LpH/cPW8uXHjhkEj0VgUxflJSc8//zzmzJmD9evXo16mSZPbt29H8+bN0b17d11L2t26dQunTp1CbGws5s6di59++gnr1q3DkSNHMHDgQOzYsQMRt5vxWCwWzJs3D4888ki2+7OXmS9XrhyuXLmi+4KDq1JSUrBixQq0bdsWwblkF1UBEyYg8M03YW3aFGlr1pg8QnKHN94IwMSJgRgyJA3Dhjl/ZT7H82jvXgTdey8sqalI/e03KCZdANq5E2jYMBilSys4ccLEzPxtAWPGIPCdd6BUrozU6Ogc11n+4IMAfPaZlkLq1cuKn35K86bqVdNNmBCAN98MRNeukpHOjr1zKTYWiIyU29eupaRXXdetG4R9+yyYNy8VDz2Uzb+PmBgEzJwJa79+HikXrlkzCEeOWLBiRSo+/zwAK1YE4NVX07BwYQBOn7YgMFDBO+9Y8e67VnNmACgKgqpVg+XkSaTOmgWla1eXd2m1AvnzByEtzYLjx1OMaYJ36xaCKleG5eJFpG7cCOWeewzYqUbP/zp3efrpQPz2WwC++ioNr7/u2OvvxIkBeOONQFSpomDv3tT0U3vjRgtatAhC5coK9u937HWwYsUgnDtnwebNKbkv8egFevUKxOzZARg0KA0jRpifSQ4YOBCB33wDa/PmSFu50i3nUvHiQYiLsyA6OgXVq5twgJMnEXS7WWbqxYsZ+22Q23jz6xJ5L6POm7i4OBQvXhyxsbGGxaG6MvMff/wxli5dioYNG6Jz586463bXmT179mDhwoWIiorCxx9/rGtA+fLlQ5UqVQAADRo0wJYtWzBu3DiEhYXh6NGjKKxOdLutW7duuP/++7F27Vq7+wsJCUGInaxIcHCwx/+InRpDt27Am28iYONGBFy+7MaFhsks6pzJ4sUDERysv24xy3lktUo35NRUoHNnBOXQ38JVaoCXnGxxz99Tv37AF1/AcvQogn//PceGfupMnwcfBFauBKZNC0DlygEYOtT8YXoLdQ5o6dIBCA7OvUWK7blUvLisThYXB1y4EIwaNWQ6+IED8tiGDYOyn+lQsiTw5pswsxo3JxUrAkeOAGfPBqU3xe7TJxDDhkkp9uzZFnz6aSDS0gIxapRJg+jeHfjySwTNm5dza3UHXbkiHdQBoEyZ4NxmmTgmOFiaKixdiqBGjUy78OIN/28zU/s9xMc79vqbmioriAHAgAEW5Mun/TzqHOurVx1/HVTn6hcvbtDv0mSdOwOzZwNLlgTi88/d8Jf9v/8B33+PgPXrEbBhg8ylh3nnUnKyvNYBBv59ZValijRW2LcPwQUKmHAAcoY3vi6R93P1vDHjnNPVAK906dLYunUrevTogVWrVuGTTz7BJ598gtWrV+Ppp5/Gli1bULZsWUMGaLVakZycjMGDB2P37t3YuXNn+gcAjBkzRlcFgM8pV07WmlUUYM4cT4+GnKAowE8/Adu2ZbzftAZ4P/8M/P23dGgycL6uPW7rZq/Kn1+6/44YoXVlyoZaZtunD/Dtt3L7o4/k6ckrLlyQbalS+r4/cxO86Gi5VhQVlc0+3dZCPmdq87O//5blwoKCZGm+4sVlhcZx4+Trpq5s+vjjssxbo0aG7E79XRYtmmu7COeEhwNdu3pVwzV3UPMCjnaznzMHOHFCOp336ZPxa+qFgevXtQsuOUlJkQtjAHyml0f79kBgoCx1eeKEGw5Ytizw4otAWJhcmTOZ2sk+KEg7N0wRGsru9URkKF2ZeQAoVaoUfv75ZyiKgsu3XwUjIyNdWjJuyJAh6NChA8qXL4/4+HjMmDEDa9euxbJly1CyZEm7Te/Kly+PSnmlIdxTT8katL//DgwY4OnRkIPWrZP3JPnzSydktau4KcH8lSvAoEFye9iw3Fs6u0gtenFbMA8Ar77q0MPUYL58eVkP+vhxYNQo4IUXpDF+LlPu/YKr3c/LlQP27tWC+R07ZFu/vp3Y78oVWRusfn2JktUW3x6gnvYLFsi2Vq2MFa29egFvvCFdyS9fNmkpqnvv1Z4wA6gtLwzrZJ+UJE9KHgviVc4sTacowGefye033si6apy6L0WRgD7bVR5uUzPAgO8E80WLSnJ8/Xrpaq+urGaqYcOAIUPkBdvkZmVqFVNkpEl/EoqSZ//WiMhcujLztiwWC0JCQlCsWDGX136/dOkSnnnmGVSvXh2tW7fGli1bsGzZMrRt29bVYfqHJ54AfvnF7cu1kGs2bZJtYqKUKl653evIlGA+MBDo0gWoU0fedZpMzcwnJ7t9SeAcpaXJKnaAtl76iBFyPSw1VWatROvvOegzjMrMqxdG1JL1LHN8FUXeeCcmSsrR1PUWc6cG82q2LXMirEgRbU3yDRvcNy5XqMF8iRIG7XDoUKBmTe2KRx7jzNJ0S5fKSmkREfavJQYHA2rVdExM7vtTj5k/f45tP7zOww/L1i1L1AFyVcSQ5hC5M31ZusWL5UVHvSpERGQQ3cH81q1b0b59e4SHh6NYsWJYt24dAODKlSvo0qVLtnPYczJp0iScOHECycnJuHTpElauXJljIK8oSo7N7/xOZKSklDzUuI/0UcvrLRYpT3zsMQkoTQnmixQBJk2SCg43zAWzbR5m8JLaOTt2DPj+e6lSseP8eRlPUJCWyQwIAKZMAZo3l8zYQw8B5865ccweYERmHrCfmU+XkCALfI8fL59/+KHHM1CZC1LsrcrYrJls/8m9yb9r4uOBmTPlQocL1AszhgTziiIToA8ccPMfrvdwJjOv9lV4+eXsX6/VbLwja81nWWPeR6jB/Jo18mfvTpZ//kG12bOBmzdN2b964c+0YH7pUulcf/y4SQcgorxKVzC/ceNGNGvWDIcPH0bPnj1htVkjU+3Q9/333xs2SCJftnWrbL/5RrI369ZJMsy0OfNA1jpQk9j2lnRrqf3atUDfvtpk+EzUTHLZssiwJnJICDBvHlC9ugSoJvYG9Li0NO0Nqt7MvFrVcPq0VGXv3i2fp2fmDx2SOeFz5siVk/HjpfzEw7wqmG/cGOjRw+Ul3wwts//3X/kjiYgAOnQwYIe+R33dzS0zv2mTlJYHBwNvvpn949RZJc5k5k2dm22CGjWAypXltd6tq3qtWYOgVq1w58yZCKpTR6bxGFwKZnpmftky2bZvb9IBiCiv0hXMv/vuu7jzzjuxb98+fPrpp1m+3rJlS2zevNnlwVE2vv5aUmO3mwCS97p8WesJ1quXZHYAYPJkbQqgYcH8uXPAli2mZS7ssc3M26wAab7by/tg1y67b+ps58tnVrSoFldt2uRYJs0XXbokzeoCAvTPCbfNzK9ZI2/iy5YF7rgDckHl3ntlUn2pUnKVql8/o4bvkjJl5OcG5GKOerrYUoP5bdu0ZmSmUNOZLjYuNbTMfvZs2T7yiDQYy4McbYCnVkX36pVzxXdeyMxbLB4otQeAli2ROm0akooVg+X4ceDRR2WZkv37DTuE7Zx5w+3aBRw+LBc8W7Uy4QBElJfpCua3bNmCPn36ICQkxO48+TJlyuCCWhNIxlu/XupdX3/d9KYw5Bq1xL56dZkd8eST8rkaTAYFacu7uWz2bKBhQ5kY7iaBgVpFtVsz83fdJdFaTIxWS24jp2AekGBUfWN++LBJY/Qw9SU4KipjdYIzbIP5hQvl9sMP3/6dV68uFSD33y+T6Zs0cXnMRgkO1n6/NWvaj1crVJDHpKYC//1n4mAef1y2ixa5VJtsWJl9Wpp2YcGAJfN8lSNl9vv2AfPny/mu9hXNjjOZeTWY97XMPKAtIrJokVwsdBfliSewavx4pA0eLFeRV6yQq3RvvaU9oS4wrczeatW6BXbpwmmSRGQ4XcF8cHBwhtL6zM6ePYuIiAjdg6JcjBol/xD++Qd45x1Pj4ZyoJbY33OPbOvXl6Vm1WRykSIGTi9WKzXq1jVoh7mzWDzU0T4sTIJJQLIemeQWzANA1aqydcOqRx7h6nx5QLLwgEz3/u03IBRJ6Zm59Gz8qlUGtlg3jlpqb6/EHpBz1y2l9vXqSW1yUpJLzUsNK7P/5x85OQoXBtq1c3FnvksNpBMTs78m/sUXsn30USkxz4kzmXm1zN7XMvOAXLsrUEDOR/X/m7ukhYXBOny4XGXp0kWuxE2YoEXiLjCtzP7nn+VvLjwcGD3a4J0TEekM5hs1aoS5c+fa/VpiYiKmTJmCBx54wKWBUQ6qVNEWyx4zRt5lk1dS3+yoAYXFkjFxbuh8ebU7WZZW4+ay7WjvVmrttDqR24YjwXyVKrL112De1U72gFwzKV5cbl+NsWKzpRHaXp2tPaBaNbc0WtSjVi3ZqgG7PY4G86dPy2N1VcpbLFp23oVSe8My87NmybZr14zzZPIY26y4vXnzp08D06fLbUeumevJzPtiMJ8vn1S4A24utbdVubLMm1+6FPjyS+3F3AWmBPOpqbJqBCCrfeT0D4mISCddwfywYcOwdetWPPTQQ1iyZAkAYNeuXfjpp5/QoEEDXL58GR988IGhA6VMHnlEe4fx3HPSlZi8jlpmr2bmAa3UHjAwmL95U7IVgMeCebdm5gFZfg/QnZlX3//5a5m9mpl3JZgHtOewCTaitrIb+Qa8KqXaXu7TT6VE+plnsn+MGsxv3Jjzj/TXX7KE3Xff6RyMGswvXizd7Z1ktWrJR5eD+ccekwngvXq5uCPfFhioVTzbC+ZHj5ZYrGVLmb2UGz2ZeV8sswe0Unt16o3HPPigTDdUJSbqboxnypz5oCCZFvn6625ZKpaI8iZdwfx9992HxYsX48iRI3jm9julgQMH4qWXXkJaWhoWL16M2vY6DpGxPvkEaNFC5mF27er+tWIoRxcuyFrnFkvG+LpmTeDuu+W2YcH8nj0SjRQrptVGu4lHyuwBl4N5fy+zVzO5rpZlq/PmH8PtaqyHHtI/Cd+NihSRxvo5FQ7cfbeUDMfHA9HR2T/uyhXZnj2rczB16sgJd/Omrpr+mBjtYoPLmcPWrYFffpH/HXlcdk3wYmKAH3+U24MHO7avvJKZB2QBBItFZnadOePp0dz266+Ssdc5lcW0OfMVK0rTYi+tYCIi36d7nflWrVrh4MGD2L59O2bPno2ZM2fiv//+w6FDh1hi7y5BQVIyWbq0vEHLwyWT3kjNyt95p6wAZatnT9lWrGjQwWxL7N28xrfHyuybNpUW6+vXZ7g7Pl57c64GovbkVGZvtRq+8pHbGZWZL1cOsMCKbvhd7vCj9fwCA7W+fTnF2LbBvK7zwmKRJSxOnHB4KbgNG2SKw4wZ2oWZYsUYExgpuyZ4EyZIkrdePaBtW8f2paebva9m5iMjZUVKwKU2EMbas0cm8g8Y4PSKLomJ2ooWhgTzKSmy/CMRkRs4HMz36NEDGzduTP9cURScOnUKNWvWRPfu3fHEE0/gnnvusdvdnkxUooTMGf7mGwbzXiZz8ztbb70FTJsGfPSRQQfz0Hx5QOsUburyXvYUKiTZRfVd9G2nT8u2cOGcGwdXrizbmJisb+affVaukfnysnVGZebLlwfuxRaUwxm5KuVnTdMcmTevBvOJibqq5LUDqV35HDB1qpybEyYYtCzdrVvA++9LOtXXr1QZRA2mr1+XqRbjxsk07K+/lvsHD3b82qiedeZ9NTMPeFGpveq99+RF++hRpxvNqSX2YWEGrS4zdizQuDHw9tsG7IyIKGcOB/OzZs3CiRMn0j+/evUqKlWqhH9MbQNMDrENZlJTgWPHPDcWSpdTMB8UJNl5Q9aMBqRvwpdfSi8FN1MDZt1BjsEcKbEH5E2bmrW2zc6fOSONry5csNtbz2cYlZl/6ingzXK3s/IPPwyEhrq2Qy9jG8xnF+OqwTzgQqm9LQeC6c2bZfvff9r56dKFmeXLgREjgI4d3bummBdTM/OHDkkGfsAAKZyIiZGLfd26Ob6vvLDOvC11VYtVqzxwIdeeiAht+YERIxyu/1cUYNMmuR0ZaUBhW3w8MHy43Fa7cBIRmUh3mT0g2XnyIpcvyzuS++/XUjnkEYqSczBvuHvuAQYO9Mha3wUKyDYuzu2Hlid50CDg22/T73I0mAe0efO2TfBsF4dITDRgjB6gKMZl5suWUfBk0O358s5ENz6iYUO5uHb2rHbuZGZYML99u/QcyGV994QEYO9euZ2aCvx++1qKSxf/1C723bv7RM8Dd1CD+bFjJSAtVUpWvCxQAPjsM+eephIlJBCMi8u9qaavl9kDEqdWrCgV7fPmeXo0tz31lFydu3FD/i/k4Pp1KWisVQt4+mm5z5Bpb7/9Jn/A1atLiRcRkclcCubJy4SFSRB/7hzA1QQ86tw5CaYCArQ+bf5Kzcx7JJg/ckQqEiZPTr/LmWDe3rz52TYrr/lqMB8fr2XLXF6XPD5e3vEWKeLwfG9fEh6uLR2ZXaGZbTB/7pwLBwsOlo728+fn+AezdWvG5Pnq1bLVHcwnJckxgYzLaeRxajCtZtO//VYWhomLc/66VaFC2p/H99/n/Fh/KLO3WIA+feT2xImeHUs6i0Ui9IAAuXi1bl2GLyuKVLo895xU5PfvL4vAhIcDzz+f4d+IflOmyLZPH7f3ryGivInBvD+JiABGjZLbat0YeYTa/O6uu+SNgpkCJk6UCfgeqnX0aDDftKlsd+5MX83BlWD+xAmtvBnw3WBezcoXKGDAHNCCBYEFC2Snhkwo9T65zZs3LDNfqxZQo4bMX1+wINuH/fefbNWnWw3sdV+Y+esv+fsoX17rXEYZVhO56y5Z/cAVr7wi28mT5fqJPYriH5l5AHjhBalq2bDBi6Yk1a0LvPSS3LZpjnrwoBSw3XefxNtJSfLnOH68XKD76Setj4puR47Ii0hAgNbllojIZEHOPHjr1q0IvT1fMj4+HhaLBf/88w+u21ukFUDXrl1dHiA5SW2AduCAtBdX1w0jt3JXiX3ArVsI+Ogj6eAWFSXr7rqZR4P5cuXk4/RpYMsWoGVLl8rsbUvsAd8N5o2aL5+BHzfYbNYM+Oor+8F8UlLG62QuBfMWi6w5P3w4MGdOtm/41QtKL7+csZeX7sz8tGmyffppZgtt2Abz774rMZgrOnSQHocnT8qv116VdVKSNDsHfDszD0h2+5FHgLlzJTufXYZ+3jwJ+tu1c9Nbkk8+AXr0kCmHt/38s8xyCQmRP8G+faVHnaF/Dj//LNt27YAyZQzcMRFR9pwK5seOHYuxY8dmuO+jbNpxWywWpKkL45L7lC0rl/uvXwf275er1OR27grmS23eDMu1axLQtmlj7sGy4fEGeE2aSG38hg1OB/OZM/NqiX1oqMwF9dVg3qj58khKkm5gZcu6PCZvphZ47Nkj18Vsg7zM3cldKrMHtGB+6VKZFmUnQleD+S5dgCVL5KUc0BnMX74sOwGAXr30jdlPqRe7KleWX4urAgPlAsy770pgay+YV7PyAQFZlyz1Ra++KsH89OnSZyDzCiIbNwJqXqdwYbn95JNAy5YS4JuiWLEMgTygvSZ++KH8fkyhtvbv3dukAxARZeXwS+maNWvMHAcZxWKRSdrr1gG7djGY9wB3Nr8rv3Kl3Ojd22NNrTyamQckEps9G9i4EWlpWhNjR4J5tazyyhXJpG3bJk9jp06SpfeKLs06GJaZX7VKnoz27bWA0A9FRkq/qoMHJfh46CHta7Yl9oAB3ezvuku67v33n9T2vvdelv2fPSvnYYMGQKtWWjCv6+LM/v0SRVWoANx5p4uD9y+dO0vj8y5djAssn38eGDpULshMn561GMK2k70/FEm0aCEzRw4ckJ/31Vczfl3t92CxSI5h8mT5iIqSCyhPPikZclerIrJ14gQwZw4uXfofAANXkLHn339l+oyr8zWIiJzg8L+vBx54wMxxkJFsg3lyu9OnJRkWFATUrm3igU6eRKQ6UVHtROQBXhHMA8CmTbh43oqUlAAEBjoWyBYoIG/uLl7UGox366ZdCMjzmXn1YpEjV0Z8XLNmEsz/84/9YN5ikQt1LmfmAeC114BnnpFOae+8kyGSVLPytWrJnPlWrWSteUBnINK8uQzakIH7l+Bg47O0UVFSADF5smwnTZL169X/Bf7Q/M6WxSIVCEOGAGvWZA3m1akrY8bILMCZM+VC6aVLMl99/Hi5aLV6ddasvsuuX5f3Q3FxqFmlKhbhUURFGbj/zZvlB3vuOSmtDw01psSDiMgJbIDnjzp1At5/X9IN5HZqVv7uu81dkjvgl19gURRYW7YEKlUy70C58HgwX7u2RD358uHCNkmblinjeKZNnTcPyJvvn3/WGo/5ajB/9KhsXc7Mq8F827Yu7sj7ZdcETw3m1fPk/HnA5Rlk3bvLc/rRR1nWnFeD+fvuk22LFnLRKTJSPnQJDpbMPLnF+PFSzh0aCqxdK0HsK6/IueQvze9s1awp2+PHM96fliaVLgDwwANyXWniRPkbWrxYrmdFREhFVL9+JgyscGG5cAZg0LG+KIYrrgfzqalSxtWkiTSTnD1bGm4QEXkIg3l/1KYN8PHH8t+T3E7tZK8ud2UKqxUBv/wiNz08P8/jwXxQkHSwu3ABR5LLAXAubuncWd50f/GFBPKhob4VzJ87B7zxhkzXVBRpmDb39rLw9eu7uOO9eyX11rKlIWP1Zmow/99/0i9BpQbzNWtKKXBammQVXRIaCixfLhm94OAMX8oczBctKouTrF+f5aE5i42VtbeuXXNxsOSssDBg2DApPX/8cVmN4Lvv5ILQd9/JY/wlMw9o15IzB/O7d0svlQIF5OK2KjhYmgX+/DOwbJn8XU2fLh+G+/BDKLVqIdJ6CRPQT38wf/26LINaubKUcW3aJE1Be/eWZgFERB7CYJ7IYG6ZL3/lCpRKlXArIgLKI4+YeKDceTyYByQFbbHg5En51Jmq8EGD5A3n229rc1h9KZh//XXg66/losSddwIDB8r9H37oYkJ91SrZ1q8vDaX8XOXKUsZ+65Z2QQ7QgvmSJbVpC4ZWrFut6S8aaWna64cazAMyzb5GDSf2+e+/0i/lm2+y1j2T21SoIInbdevk13H9OvDnn/I1fwrmK1aU7dWrGf8PqFUuTZpk39KlSRPpMQBI9cKxYwYPLiQESd9ORSoC8QTmoOyHfaSm39nymo4d5Z/FqVNSIvPhh7JswZQp7E1ERB7FYN7LKYpc3U9NdfIbL1yQhlVqvS25hdua30VFIW35cqz47jtJA3mQVwTztyVGH0MgUp2e4p25JD88/Pb+vDyY37cP+OMPuZ0/v8z5BqSnWjYLjThuxQrZ5oESe0Au5NgrtVeD+eLFtdWmXG6CZ2vSJODee4Hnn8eBjVeRmCiZTKeCd1VaGvDpp/KDnDghKdMBAwwcLOnRvLn8X/jhB22qhD8tEFGggHa9zzY7r/4dZWosn8V778kpm5AgFVJGu1CmAYZBrhgET58qS7iq8x0c9cIL0shi0iQJ6IcNM6ApCRGR6xjMe7nffpNs2/DhTn7jgAFyJVmttyW3OHFCshP58sn/fbOlesHaRl4TzI8bh3d/rYnXMN7lfm1qZt7bu9mPHCnbrl3lTfSwYTIn9eOPXeyUrSjafHkPLXnoCWovxeyC+dKl5bahwby6LuLkybjjoRrogV9x7z2K84tTnD0rF17ee0+C+qeeAnbsyJjiJ48JDARefBE4dAj45Rf5W/Unaqn9iROyVRTt70i9SJadwEBJdAMyHf3WLWPHdukS8AneR48SqyQof+IJmb+ievxx4K23ZG1KW7YlOM8+K/MGnnvO3GY4REROYjDv5dRm5Rs2OPmNautcdQfkFmpWvnZtICTEpIPs2CHt172EGswnJQEpKR4cSHg48lmT8QneR7XQky7tyqky++vXpQFSx46SWlJZrS6NITdHjwIzZsjtd9/VKj/79jVgySurFRg7FnjpJS3CzQPUoGPDBu3XZy8zb2iZ/WefSdRTsybC4i/jV/TExBPtnauq+vdf6dq9Zo2cvFOnAr/+6l+13H6icGFptFm8uKdHYqzM8+aPH5e/k+BgKTzJTatWMlvq6lXjV8GUHhcWHK3QCvjxx4yT80+dkqzJmDEysb9DBylrqlVLMilqB7/AQP9YS5CI/I7uYP7UqVPo27cvqlevjqJFi2L9+vUAgCtXrqB///7YsWOHYYPMy2JiZHv4sJPfWKeObLk8nVu5pcT++eeBsmVh+esvEw/iuAIFtNvx8Z4bB55/HhuD7kcEEnHPlH5ZuoQ7I9dgPiVF5l2+9hpQrpxMuF+yJGOU9+67sohycrLuceTks88k4Gzf3oRmi4GBkq36/vs8lYWqW1emWFy7pq3tbnqZPSAXTHbswNdRn+AmQlDt+HIJJn7+2bHvr1ZNptvUrw9s3y5ZRAYe5EaZg3k1K9+ggTZtKSeBgUCPHnJbjbWPHpWl7Fx4KQegNay02/yuRAlpZNC1q3TiW7pUyib27pUr1Nu3u3ZwIiKT6Qrm9+3bh3r16mH27NmoVKkSYmNjkXp7Unfx4sXxzz//YPz48YYONK9Sg/nTp+X/isPUYP7AAdOCCcpKDeZN62QfEyOZ+dRUKI0amXQQ5wQHa9P2PVlqn3AjAM+nfo9k5EPB9YtcmmKSbTC/c6eUaBYvDrRuLQuAJyRI4DVunJZuu3lTAuHZsyWwMjhLf+aMJF8BqaomYwQHy2pTgBaM2CuzN2PJ9vjkfBhw+T3cjWgkN2slr9t33unYNxctKg0LN22SwJ7IzbIL5nObL2+rZ0/ZLlwoqzfce68E+GvWuDa2HIP5kBBZxvf332UOxBtvSGA/aZJUwN1e2o6IyFvpCub/97//oXDhwjh06BCmT58OJdNl04ceegh///23IQPM69RgHtCmVjqkTBkpsUxL05HWJz0UReuCbVpmXj1A1apeVafpDfPmT58GDuBOjAkZIne8/rruZbnUYD4lIVmbBApIkD5njvygUVFAnz6yxNju3bIMmDoPMzRUAvngYNkOHqz/B7Pjyy+lOKB589znozotJUUm4//3n+lTBbyRbRM8RXFTZh7yp60oQHK5qghZv1JK5xs2zP4bjh+XLKKqWjVp1kHkAWpH+8zBvDOvT3XqyMoNycmyGqb68q1WyeiVYzBvq3JlmV70++8yN75IEdcOTETkBrqC+fXr1+OVV15BZGQkLHZK+cqXL4+zZrzbyYNsg3mnYnKLBaheXW6rLa7JVEePSoPckBB5Q2IK01P/+nhDMH/qlGx/qzJEzv2LF3UH0RLMK/gy7kVgxAjtCw0bSgnmpk3A+fPA5MnSdMxeSXO7dpLdAaRF82uvGdIe/9Il6YoNmJSV37xZpgg89JAJO/d+avCxfr38utTCJiOD+aSkrCuUZFhf3mLJGMjv2ye/EzUq2bsX6N5d5vf++KNrgyEygG1m/soVLQB3puWGxSL9BICM1xHV13a9HA7miYh8kK5g3mq1IjyHSVCXL19GiGndv/IW3cE8wGDezdQ4u25dSciawvTUvz7qvHlvCOZLVQyRaDc0VBZ61jHhMn9+4HlMQk/rNCiLF2vLGAUESJe5Ro3kdm569QJGjZLbEybIyaE2VNJp7FgJBu+5x6RV49Qu9q1bO/Yz+pkmTWSpwlOngC1b5L7QUJn3q5bZX7vm5LQnG0lJQJUqErTbnpoZgnlbV65IrfLIkbKeWd26Mq1j2zbJHD74oL6BEBmoQgXZJibKFHQAqFlTW7LOUb16SZPAunXl+hXAYJ6IKCe63qnVr18fixYtsvu11NRUzJo1C428ZD6vr7MN5g8dcvKbn3tOJtZ2727kkCgbbml+55aDOM+bMvPly0Pqz0+dkneDatbciXXm8h/ZhW/wOgAg+cXXXesK/s47wLJlEogdOQJcuKB7V9euAWo7kvffN6nHmbq+fB5aks5W/vzavPk5c2RbvLg814UKaf0A9S4oceSIzLnfvj3jPrIN5osXB777TjL1KSnS1DQwUOb1rlkDl9dhJDJAaKh2sUttYKdnClDp0vL3sWWL9HMEGMwTEeVEVzA/ZMgQLF26FK+88gr23F6X8+LFi1i5ciXatWuH/fv3Y7DBc0TzoqSkjNkfpzPzLVpI862qVY0cFmXD9Dj70iXtXU29eiYdRB+vC+YBWatN9d9/Ekx/+aXMe8/JyZMIeaILwnATi9AR1178n+uDa9cOiI6WioGuXbX7nWz/P368fEutWkCnTq4PK4u4OC2qNCXt7xtatZLt77/LVm1PYbFo57relRtsm+dFR8v2zBm5PzAwmxk03bvL72XHDmDKFODkSRmc2uiUyAuopfbr1slWbz+PsDCpjlFfy0+6ttIog3ki8mu6gvkOHTpg6tSpmD17NlrdftfTs2dPtGvXDtu3b8cvv/yC5s2bGzrQvMg2Kw+wj503s1q1FWxMC+ZDQ+WN/NChWkThJTwZzJ8/L+XKWYJ5Wz/+KGntQYOkQ/jMmfabu506BbRsCcvJkzhiqYpn8AsSkwwqNS9cGHjxRe3zCxek3vrddx1acSIhQUrsAfkWMyrgLWvWSNPMqlW1utk8SA3mL1+WrW2vSVfPddtg/va18PTrJ3ffncsyXnXrAr17a5P3ibyI2gRP5Uwne3vU1/Jz56QoRQ+rVfs7ZjBPRP4oSO839urVC127dsXy5ctx5MgRWK1WVK5cGQ8++CAK2C48TbqpXZTz55d5aBcuSDbIqad3zRppntSjBzuzmujwYfndhIUBNWqYdJCCBeWNvBfyVDA/aRLwwguS7FZXe7AbzH/3nXRieu896U7fowcwejQwfLhkoINuvxQ+95x0cKpcGY/FrsHVK8WM6Fln3+zZkjIaOVLebebSyOz774GrVyX+f/xxc4YUsHix3OjY0ZwD+IhGjeTamVrEYS+Y15uZt22ep2bm1WA+p+b1RN5OzcwDcr3J1euBkZHSUDY5WX/TyatXteu2XrQADBGRYVzK7eTPnx+PPvooBg0ahHfeeQePPfYYA3kDqZn5ChW0imGns/PPPy9dtNV3jWQKtcS+Xj0tLsxLXA1w9FKf9z/+kFJlIJtgPjBQLoQcPgx88gkQESHf3LGjrDGsevZZ4I47gDVrEF9Qsp+mBfNvvKFNLp02TWuyZ8fNmzJDAJAG/YGB5gzJsmmT3MijnexVISEZu3DbBgGuNnvMKTOfZb48kQ+xDeabNXO9p0dAAFCunNw+fVrfztS+FEWLmtiYlojIgxwK5k+dOqXrg1yjBvPFimnT3nV3tD9wwLBxUVbq01u7tokH+fFH6YSut97QRJ7KzKvVK6qAAK0Jk13h4ZKdP3JEgunixTN2A+/RQ+bXlyuXvta8acG8erw775TU09y52T5syhSpzClXTlu6yQyp27YBa9dKA8E8Ti21B8wrs9+7F7h1S7soxWCefFnmYN4I6sVZvW8pOV+eiPydQznEihUr2l1PPjdpaWlOfw9pbIP5woUljnM6mK9RA1i6lMvTmUxtUJ5jIOnqAV56SVIdcXFel2LwdDD/xRcSg951l4OVESVKyAT0L7/MeHEkMDB9LSU1mHeiCb7zLBbgmWeAIUMkO//883Yfpq4r//bbQL58Jo4nOBh44AETD+A7cgvmjWiAd+MG8Ndfsi1QwMQpOkRuYBvMuzpfXqUG86dPW3TNFGQwT0T+zqFgfvLkyRmCeavVinHjxuHkyZN4+umnUf129vfAgQOYMWMGKlasiP79+5sz4jzENpi/4w65zbXmvdP587ItVcqkA6jlzzVqSIm4l/FUMK/+jdStK4Gu04KCso3+1UZkpmbmAeDpp6Wj3bp10rY500TTEyeAnTul6qBHD5PHQunuuUcC7Ph4czLz6lzgn36Sz++917zpE0TuUK6clpGvVcuYfaovh6dO6at8YzBPRP7OoWC+d6amWyNGjMDNmzdx5MgRFLudxVJ99NFHaNasGS64sJYyCXtl9k6vNc9g3i1MDeaTkiRzC3jt2t+ezsxnehkyhDNl9mvWSGXA0KE6usyXKyfLSK5dC/z9d5Zgfv582d5/v4kNnC5eRJuXX0ZAt27A118zqoRc43n2WSmYsG1M58qc+bQ0rYrn/vuBlSuBZcvkc5bYk68LDJSXMCPZZub1YDBPRP5OVwO87777Di+99FKWQB4AIiMj8eKLL2LixIkuDy6vU4P54sUNmDN//LhDy1+RPuob9JIlTdj5Bx/IxZhSpYBhw0w4gOs8EcwrihbMmxHkOhrM37oFPPGENMZfu1bnwcaNk9RTz55ZvvTnn7J95BGd+3aAZdky5L94EQGbNjGQt/HNN3KO2ZYPu3KuX7okAX1AgHZdTu20zWCeKCttzjyDeSIie3QF8zExMbiRw0TSGzduICbzIunkNNvMvLp+a0yMJGodVqqUlGWnpQFHjxo9RII8tWrHXMMz8xs2yBJqgDTA89LlBT0RzMfHa9PdPZmZX7RIW8dYrdBw2t13A2XLZrk7JkbLdNk23TfU7t0IfP99AIA1jy9JZ0/mWRiuzJlXS+xLlpSpIbYYzBNlpWXm5QKusxjME5G/0xXMN2rUCGPHjsW2bduyfG3r1q0YN24c7uM7E5fZBvOhodr9TjUzt1ikTvTvvzOml8gwV65IQG+xGPyGITkZ6NNH3sH07u3Vy4V5IphX/z7Cw7X57UZyNJifPDnrmFxic6F00SI5t2rXNunP959/gObNYblwAbEVKsD62msmHMS/uFJmrwbzpUtnnFNcvrxJVT1EPk5dmi4hwYLEROcbvzKYJyJ/pyuYHz9+PAICAtCwYUM0bdoUvXv3Ru/evdG0aVPcd999CAgIwDfffGP0WPMc22Detnm50yuTPfKIdKUJCzNqaGRDLbGPjDR4jfmQEODTT2Xx+jFjDNyx8WyzlWrZsNnMnC8PONbN/vx5YPFi7XOXgvnz52WZvMqV0//ITS2xX7QIaNcOiI2FtUkTbBgxwrwn04+4cuHKNpgvXVortLGdk09EmrAw+d8KAJcvZ30PoyjAli2SubeHwTwR+TtdwXzNmjURHR2N/v37IyYmBrNnz8bs2bMRExODN954A9HR0bjrrruMHmueYxvM2zbVSk31zHjIPlOb3z32GLBtm6xN6MXUAEdR3ND9/TYz58sDjmXmp03LePHCpWA+MlLa1l+4ACxfjqQkrTma4cH89evSRT8pCXjoIaQtXowUL1wlwRu5UmZ/9qxsS5eWSh61OzcL2Yiyp5baX76slWClpgKzZgENGsjFsIYNs/5N7t6tzS5UpyoSEfkbXcE8AJQoUQJjxozBgQMHkJSUhKSkJBw4cACjR49GSdYLuiwtTd5vAxLMWyxadt7pzPz588D338sHGc7wYD4xUUsnAPLL93KhoVpVgrtK7c0O5nNbmk5RtBJ7tWTapWA+KAh46im5PW0aDh2SqoCiRbPOr3ZZ4cLAnDkyjWPePHPmKfgpo8rsAeDjj2UGzYsvGjI0Ir+kBfNhuHEDmDABqFZNXi537JCvXbiQtYDtgw/kdfrxx7VyfSIif6M7mCdzXbumNXspWlS2arDkdGb+xAmgb18p2SbDGd7JfsgQ4K67gIULDdqh+SwW98+bt13twQy5Zeb/+08WGQgPlz8v2zHp1quXbOfPx8VDsQDkTagh13MURUsNA1JiP3lyxjk8lCujyuwBWZ5uyhSgUCFjxkbkj9RgfuXK8qhSJQivvSYL9BQvLgu8qIsnffml9hq8aROwYIFUNQ4f7plxExG5A4N5L6X+QypUSAvidWfmK1eW7enTXJ7OBIZm5tet09bDCgkxYIfu40rGUg93zZnPLpifO1e2nTtnXG3CJfXrA3feCdy8idC/5ABlyri4T9WQIZLiP3jQoB3mTbZl9s5211aDecN+p0R5gBrMHz9eGFeuWFCxIjB+PHDyJPDhh8BLL8lLW3w8MGqUVDa+9558T+/e2gq9RET+iMG8l7KdL6/SnZmPjJTl6RRFLmeTodRg3uXMfEKClD0DUnfbrp2LO3Qvd2fmPTlnXlG0YP6xx7QxuBzMWyzAs88CAO5Y9QMAgwK/EyckbXXlCrB5swE7zLvUi1YpKc5fG7WdM09EjnngASA0VMEdd1zHtGmpOHwY6NdPmx0UEKAVHo4dK3+ja9YA+fJJsE9E5M8YzHspe8G87sy8xaJl57nWvOHUMnuXM/Offy4XW8qXl8DLx/hrMG+vm/2OHRIfh4cDHTpof6eGLE3Xpw+QLx/Knv0PDbDVmMBvzBhJV7VtCzzzjAE7zLts+wQ6c64nJ2vnLIN5Isc1aABcuZKK0aPX4YknFLurxrRvL0F/aqr09QwLk5e9ChXcP14iIndiMO+l7JUQ687MA0CVKrJlMG84w8rsFy2S7SefaJGxD/HXYN5eZl7NynfsKAG9+neakADcuuXigaOigHffxbi7f8J+3Ol6Zj4mBvjpJ7n9v/+5uDMKCNCy8850tFcv+gUHcwVAImfly5fz1y0W6eW5ZAlw6JD8bb76qnvGRkTkSUauik0GMjQzD2iZ+SNHXBoXZaQoBpXZX7+uteVt08bVYXmEpxrguXvOvG2Jfbdusi1USII8q1XG5fKFnaFDMfVP4AYMKLP/9lspL6hbF2jd2sWdESDBfHy8Y+f6woXAgQPaWvLqsnREZKwiRSRDT0SUl+gO5uPi4jBmzBgsWrQIJ0+eBABUqFABDz/8MAYMGICCPphZ9CaGzpkHWGZvkoQErQzbpQBu+3aJEqtWNWnBevO5sv62Hp5amm7PHuDwYelP+NBDcl9AgKw6ceWKfBjxK8zc+VyXpCRpqAhIVp5RpCEKFpTfjyPB/HPPyTmhXuxjiT0REREZRVeZ/blz51CvXj0MGzYMCQkJaNq0KZo2bYrExER89NFHqF+/Ps6r6UrSxfDM/MMPA2vXauW2ZAj1NC9QQMvk6tKqFXDxIjBzpiHj8gR3ZuYVxb1l9rZdy9WsfPv2Wrk1YOy8+Vu3gPhLN9AP43HnoIf01+6vWAFcviwTR7t3d31gBMDxc/3GDe08Vcvs2cmeiIiIjKIrM//OO+/gwoUL+Ouvv9CxY8cMX1uyZAm6d++OwYMH4+effzZkkHmR4cF86dJMCZnAsE72gMyVjooyYEee4c5gPi5Oq1Axu8zeapXmZaGh8nnmEnuVkcH8+fOABQo+wMcIWXlJWjTrme/eubNcxLtxA3a7RpEujs6ZVwP4fPmkWuPkSa1IioiIiMhVujLzS5cuxYABA7IE8gDQoUMH9O/fH4sXL3Z5cHmZ4WX2ZArDOtn7gcKFZXv1qvnHUv8+wsOla7EZbCst1KkU+/cD+/bJhbVOnTI+3shg/tw54Aby4/Nin8sdw4dr65o564EHpOU+GcbRC1e22fgtW4CJE4FBg8wdGxEREeUduoL5xMRElChRItuvlyxZEon2WkCTwwzPzAPA778DgwcD0dEujY00hnSyX7lSGpN9950hY/IU9Tlwxwwbs0vsAbl4pnZQVl/Ofv9dtm3bahcvVEYG82rcvrlaL6BJExmAM1Hgr7/KModkCkeDedvKnchIoG9fdrInIiIi4+gK5mvWrImZM2filp15nCkpKZg5cyZq1qzp8uDyMlMy85MmAZ99Bmza5NLYSGNImf3KlcDq1cB//xkyJk9RZ3HoTSA7wx3BPJC1o312JfaAOcF8qTIBwPjx0mFv5kzg3nuB99/POIk/s1GjgJ49gVq1pFsfGc7ZMntW7hAREZEZdM+Zf+KJJ9CwYUO8+uqrqFatGgDg4MGD+O6777B7927Mnj3b0IHmNWvWSN+q6tW1+1zOzLOjveEMebO+dq1sW7RwcTSepTb2OndOYk1nGqePHy9B8NChjj3encH8tWsSzB85AuzaBQQGAl26ZH2s0WX2wO3ntF494MMPgY8+ArZulcD+k0+0B0+bBtxxB3DpErBsGfD993L/oEHAXXe5PhjKQk9mnoiIiMhouoL57t27IzExEYMHD0bfvn1huf2uXVEUREVFYfLkyXjssccMHWheU716xkAeMCAzz2DecC6X2cfHA9u2ye0HHjBkTJ6iPgfJyTJv3tFy4uRkYMAAIC0N6NVL4tLceCIzv3Kl3G7Vyv7PZkZmPr3z+dChwAsvSAWHbZOA+HhZ+yzzi8Jnn+lrmEcOcXbOPDPzREREZAbd7Y179+6Nnj17YuvWrRnWmb/nnnsQxK7JpnA5M1+limwZzBtCUYBTp+S27szb2rUSiFWuLMuH+bCQEAmur1yRzLKjwfzp0xLIA8DevY4F8/amoZjBdq35nErsbcdiZDCfYQGKMmXkaoetq1elud3WrfL1O+8EHnkE6NrV9UFQthwts2dmnoiIiMzkUtQdFBSERo0aoVGjRkaNh3JgaGbe2TpoykBRJPF58KCUXetuEaGme9u2NWxsnlS6tATzZ88Cd9/t2PecOKHd3rcva5d4e9ydmd+3T6twf+QR+481rcw+JxUqAAsWuH5Acgoz80REROQNdDXAmzlzJnr37p3t1/v06YM5c+boHRNlw+XMfKVKEsDHx2vREOkyciTw5Zdy+4cfgLJlde5oxQrZtmljyLg8zXbevKNuF/YAkMy8I9wdzE+bJtvmzYHsFvIwKphXFDtl9uRVOGeeiIiIvIGuYH7MmDEICQnJ9uthYWEYM2YMrl69iqlTp2L8+PG46o7Fp/2cy5n50FAtOmCpvW5btgDvvSe3v/pKpizrkpwsNeUFC8pEbD+gp6O9bTC/b59j3+PuYH7XLtlmV2JvO5arVwGrVf8x4+K07vkZyuzJazhSZp+WJj0JAWbmiYiIyBy6gvmDBw+iXr162X69Tp062Lx5Mxo0aIAFCxbg008/RSdHamcpRy5n5gEpyT15Upa4Il2WL5dtly7AW2+5sKOQEOCvvySVW6SIIWPzNFcz8/v3OxYIu2vOvBrMq3Kaiq6OxWoFYmP1H1N97goVynp88g6OZOavXJGA3mIBoqLcMy4iIiLKW3TNmVcUBdevX8/269euXYPFYsGePXuQP39+fP/99xgwYIDOIZLKkGA+h4sw5JiNG2VrWDLdjxpG6snM286Zv3FDmgpWrJj94xVFy3i6KzMPAE2b5pwpz5cPiIgAEhJcuz7DEnvv50gwr86Xj4z0qz9xIiIi8iK6MvP16tXDzJkzcevWrSxfS05OxowZM9CkSRPkv/1OOCEhgU3yDOBymT25zGoFNm2S202auLAjRZE27n7Glcx8YKBsc5s3v3o1cPmyrNBWqZLzY3SGbTCfU4m9yoh583Y72ZNXsS2zVxT7j+F8eSIiIjKbrmB+8ODB2LNnD1q2bImFCxfi2LFjOHbsGBYsWIAWLVpg7969GDx4cPrjBw4ciDVr1hg26LzKkMz88ePAu+8CH3xgyJjymkOHgGvXJJCsU8eFHUVHA+XLA/XrZx8N+CBnM/OpqcCZM3K7cWPZ5jZv/osvZPvcc1qG1Czq0nSAc8G83v6St24Bf/8tt5mZ917qeacoWn+DzNjJnoiIiMymq/ivQ4cOmDRpEt544w08YrNOk6IoKFCgAH788Uc89NBDRo2RbjMkM3/1qrRij4oCPv7YkHHlJWqJfcOG2sUVXdSJ9yVL+tUSgWoAevGinKe5lRefOyfzioODgdatgX/+yTmY370bWLZMlohzqV+Bg9QMbMOGcu0lN65k5ufNA958U6tU0L3cIZkuLEwqSdLSpNQ+IiLrY5iZJyIiIrPpnsnXu3dvdO3aFcuXL8exY8cAAJUrV0a7du1QQH0HTIYyJDOvrjV/6ZLUiObB39XJk/JjFy3q/PeqwbxLJfYAsHSpbB980MUdeRd1fnBqqmQmc1uyTw1cy5UDatWS2zkF8+pygN26yUIAZnv8cbnuoq5ekBtXgvnnngOuX5fgb/BgoF8/5/dB7mGxyGvI9esSzNubEsHMPBEREZnNpbY8BQsWxGOPPWbUWCgXhmTmCxeWKPbqVeDYMRdrxX1PTAxQvbpc09izx/mkuBrMqyXhuiQkaLXUHTq4sCPvExAgwcvp05J1zy2YV5vfVayoZaL37ZPy5cy/m9OngZkz5fagQUaOOnsVKgArVjj+eL3BfGqqBIYAsH07A0BfULCg/M6yW55Ozczzd0lERERm0TVnHgDS0tIwa9YsvPzyy3j00UcRHR0NAIiNjcUff/yBixcvGjZIEoZk5gGgShXZHjni4o58z9Gjsrz7vn3SNd0ZV6/K0mmAi8H82rUyObpSJaBqVRd25J2cmTevZuYrVJDTMihIrnXY6w04bpwEvS1aeO/KinqD+YQE7baeihFyv9w62quZeZbZExERkVl0BfPXr19H06ZN0aNHD8ycORMLFizA5cuXAQARERHo378/xo0bZ+hAycBu9mqp/dGjLu7I99g2JlO70jvq339lW62ai0uiqSX27dv71Xx5lTMd7W2D+Xz55LkFspbaX78OfP+93HZXVl4P9by4/XLoMDUgDAmRD/J+6gyl7IJ5ZuaJiIjIbLq72e/duxfLli3DsWPHoNh04w4MDMRjjz2GxYsXGzZIEoZl5vNwMG+bMVVL5h1lyJJ0QMZg3g/pzcwDWqn9nj0ZH/f995K9vusu756ZoM7jP3zYue9TA0Kzu/OTcdTfVXZl9szMExERkdl0BfN//vknXn/9dbRt2xYWO5nFatWq4YQ6GZYMY3hm/vhxF3fke2wz884G88uWydalYN5qBT7/HHjxRaBlSxd25L2cyczbzpkHpGs8kHGeenKylNgDwNtve3cxg3ox4uBB5/5OGcz7npzK7BMStKkTzMwTERGRWXQF87GxsahUqVK2X09JSUGqyxEnZWZYZv6RRySQX7LE1SH5HNvM/M6d2a8RndnBg8CWLbIcVZcuLgwgIADo2hX44Qe/XUkgu8y81SrVDQMHAr17y4UVtW+Bmpnv3Fm2a9ZoQdKMGVKyXLo00KOH6cN3SYUKsmxZcrL0l3QUg3nfo/75LloEzJkjU0PU12Y1K58/v/1l64iIiIiMoKubfeXKlbF9+/Zsv758+XLU5CLJhjMsM1+4sHzkQbaZ+bQ0CdBbtMj9+6ZNk+2DDwJRUaYMzW/YZubT0oANG4C5c4E//sgY4O/aJUFvQIDW9b56dZk3f+iQVEJ066YtRzdggMyr92YBAcCdd0pH+n37tB4AuWEw73vUc3bpUm3mTHCw/M7V1whm5YmIiMhMujLzL7zwAiZPnozZs2enz5e3WCxITk7Ge++9h6VLl+Lll182dKBkYGY+D1Mz82qptiOl9lYrMH263H7mGRcOHh8PvP++RHo2fSb8jZqZP3xYAvsHHgC++UYC+QIFgCefBAoVksoI9fHquQ1o2fkFC4DFiyUoLlAAeOklt/4YutkusecoBvO+5+23ZfrHc8/J9JCICHlt3rtXKksAoFw5z46RiIiI/JuuzPwbb7yBvXv34qmnnkLh2xneHj16ICYmBqmpqXj55Zfx/PPPGzlOgsHB/Lffylrnzz8PtGljwA59g5qZb9gQ2LzZsY72//wjjdoKFtQCTV0WLwZGjAB++w04cMCFHXm3smXlYklKCnDxohSBdOkCPPaYnGqhocCqVdL/LzVVK7FXde4s2fhFi7S2Di+/LBcAfMFdd8mWwbx/K1AA6N9f+1xRZNrI3r3yceIE8OyzHhseERER5QG6gnmLxYIff/wRzz77LObOnYvDhw/DarWicuXKePzxx9G8eXOjx0kwsMwekChp1izg2rU8FcyrmflOnSSY37hR3oTn1FTtl19k+9hjMh9atz/+kG3Xrt7dxc1FBQpIJn7vXgnMW7XKWh7fujUwebL0Aczc1L9xY1mvPSZGSvSDgoA33nDf+F3FzHzeZLHIhakKFYCOHT09GiIiIsoLnA7mb9y4gZ49e6Jbt254+umn0axZMzPGRXYYmpnv2xf46iuZmHz4MFC1qgE79X5qZr5NG+CTT4CrV2V+dvXq9h+fmCiJdADo1cuFAyclSaoZkGDez/Xrl/tjevUCuneXTL2toCDg4YeBn3+Wz3v00OYn+wI1mN+/X3oGBAbm/j0M5omIiIjIWU7PmQ8PD8fKlStx48YNM8ZDOTA0M1+5spYS/e47A3bo/RRFy8yXKgXcc4/c3rw5++8ZN04CrcqVAZcKTlaskCsD5cppB6YsgbzKdjrD22+7ZyxGqVRJfq6bN7Wl93LDYJ6IiIiInKWrAV6zZs2wyZHJxk6aOHEiateujYIFC6JgwYJo3LgxltxePu3q1at4/fXXUb16dYSFhaF8+fLo378/YmNjDR+HtzK8AZ6aPp08GcgDF2cSEoBbt+R2sWJAvXpye9cu+4+/elWWhAeAYcOkU7luv/8uWz8vsTdKx47Ao48C774L3H23p0fjnMBAoEYNue1oqT2DeSIiIiJylq7wZPz48fj777/x/vvv48yZM4YNpmzZshg1ahS2bduGrVu3olWrVujSpQv27t2Lc+fO4dy5c/jyyy+xZ88eTJ06FUuXLs1TjfYMzcwDkpmvVAm4fh2YOdOgnXovNSsfGgqEhwO1a8vnu3fbf/xnnwGxsfK4p55y4cDJycD8+XK7WzcXdpR3hIZKi4ERIzw9En2cnTfPYJ6IiIiInKUrmK9Tpw7OnDmDkSNHokKFCggJCUnPpqsfhXS0nu7UqRM6duyIqlWrolq1ahgxYgQiIiLw77//olatWvj999/RqVMnVK5cGa1atcKIESOwcOFCpBoW3Xo3wzPzgYHAK6/I7QkT/Hq5NECbL1+smCTH69SRz3ftyvqjnz0LfP213P70Uxez8rduSZ1+VBTQpIkLOyJfoQbze/c69ngG80RERETkLF3d7Lt16waLyaXCaWlp+O2335CYmIjGjRvbfUxsbCwKFiyIoKDsf4zk5GQkJyenfx53+11zSkoKUjy0YLt6XOePbwEQhJQUBSkpBl3A6NULgX/9BWufPlBu3XIxavVuFy/K81esmDx/1aoBAQFBuHzZgjNnUlCypPbYjz4KwM2bgWja1Iq2bdNcu4ASGgr8+ScsW7ZAsVpl4XoD6D+PyGzVqsm5tnevFSkpabk+PjY2CIAF4eGpSElx/0U1nktkBp5XZBSeS2QUnkukh1HnjRnnna5gfurUqQYPQxMdHY3GjRvj5s2biIiIwLx581BTTXPZuHLlCj7++GO89NJLOe5v5MiRGDZsWJb7ly9fjvDwcMPGrceKFSucenx0dDEAzXDtWgIWL15t3EDeeku2S5cat08vtG5dWQANoChXsHjxRgBAqVKtcPZsAUyatAX16l0GAJw9mx+TJ7cCADz00AYsWXLV6WOFX7iAyF27cPLBB7U7AwNlrXmDOXsekfkuX44A0Bp791rx11+Lc71GdulSWwDhiI7egKSk624YoX08l8gMPK/IKDyXyCg8l0gPV88bMxrIWxTF8drqmzdvYv78+Th+/DiKFy+Ohx56CKVKlTJ0QLdu3cKpU6cQGxuLuXPn4qeffsK6desyBPRxcXFo27YtihYtigULFiBYrT+3w15mvly5crhy5QoKeqimNSUlBStWrEDbtm1zHHtmGzZY0LJlEKpUUbBvX96YWmCkb74JwMCBgXjsMStmzJBs6VNPBeL33wMwcmQaBg6UjHmPHoGYOzcAHTta8eefuWdVM7Ns3YrARx6B5dIlpP76K5Tu3Q39OVR6zyMyX2oqUKBAENLSLDhxIgWlS+f8+KioIFy/bsGePSmoVs09Y7TFc4nMwPOKjMJziYzCc4n0MOq8iYuLQ/HixdOry43gcGb+0qVLaNKkCY4fPw41/g8PD8eff/6JNm3aGDIYAMiXLx+qVKkCAGjQoAG2bNmCcePG4fvvvwcAxMfHo3379ihQoADmzZuX6xMaEhKCkJCQLPcHBwd7/I/Y2TGEhck2NdVi/NivXgWmTAEKFwb8tKng9euyjYwMQHCwpErr1ZNG83v2BCI4OBDbtwNz58qc+pEjtcc5bMEC4MknZV35unUR1KKF1uzAJN5wLlNGwcFA0aLA5ctAbGwwKlTI/rGKos2ZL1Ys2OzTJUc8l8gMPK/IKDyXyCg8l0gPV88bM845hyOVjz/+GCdOnMCbb76Jv/76C2PHjkVYWBhefvllwwdly2q1pmfW4+Li0K5dO+TLlw8LFixAaHaLVPsptTWAKdN8Fi6UBb2HDwfSnM9G+wK1AV7x4tp9mTvav/uubJ9+WvuawyZMkPXUkpJkpYD165FrSpb8lnqeqasoZOfGDa2NAhvgEREREZGjHM7ML1++HM888wy+/PLL9PtKlCiBHj164ODBg6hevbrLgxkyZAg6dOiA8uXLIz4+HjNmzMDatWuxbNmy9ED+xo0bmD59OuLi4tKb2UVGRiIwMNDl43s79WKOKc37n3gCGDgQOHUK+OsvoEsXEw7iWWpQVayYdp/a0X7/fmDZMvkICpJ15Z0ycybw2mty+4UXgG+/NT0jT95NPc9yC+bVrHxAgFZ9Q0RERESUG4cz86dOnUKzZs0y3NesWTMoioKLFy8aMphLly7hmWeeQfXq1dG6dWts2bIFy5YtQ9u2bbF9+3Zs3rwZ0dHRqFKlCkqVKpX+cfr0aUOO7+0MX5rOVmioVl4/YYIJB/A8e5n5cuVkZkFqKvDcc3Lfyy8Dd9zh5M5Hj5btgAHADz8wkKf080w977JjuyydyYuEEBEREZEfcTgzn5ycnKWsXf3cqHXeJ02alO3XWrRoASd69fkltczelMw8APTtC3zxBbBiBXDoEDzSictE9jLzFouU069fD5w7B4SHA++/7+SOU1OlkiE2FnjvPUZkBMD5zDxL7ImIiIjIGU4tTXfixAls3749/fPY2FgAwOHDh1G4cOEsj69fv75ro6MMTM3MA0ClSkDHjsCiRVImPnasSQfyDHuZeUAL5gHgzTeRYb15hwQFyRUABvJkQw3mncnMExERERE5yqlg/oMPPsAHH3yQ5f5XX301w+eKosBisSDNTxupeYrpmXkA6NdPgvmpU4ERI4D8+U08mPsoiv3MPADUrSvbokWBQYNcOAgDebLhaAM8BvNEREREpIfDwfyUKVPMHAc5wDYzrygmxY4PPgjcead0houN9Ztg/sYN4OZNuZ05M//kk8CmTUD37kChQk7ueOlSIDER6NyZ8+QpA2bmiYiIiMhMDgfzzz77rJnjIAcE2fy2rFbAlAb+AQHArl1+F5iq2dHgYCAiIuPX8ucHfvpJ544//BDYsgUYM0aa3xHdxsw8EREREZnJ4W725Hm28bVp8+YzH8hP2M6XN6yiYc8eCeSDgoAePQzaKfkLZuaJiIiIyEwM5n2IbWbe1HnzgNTxX7hg8kHcJ7v58i75+WfZPvwwEBVl4I7JHzAzT0RERERmYjDvQ9yWmU9KksnjpUoB16+beCD3ya6TvW6pqcC0aXK7d2+Ddkr+RL1wFBub898rg3kiIiIi0oPBvA9xW2Y+LEybWH7okIkHch/DM/PLlgEXLwKRkbKcH1EmRYpoUzquXs3+cQzmiYiIiEgPBvM+xGLRmt6ZmpkHgOrVZesnwbzhmfmpU2Xbs6df9hgg1wUGSkAP5DxvnsE8EREREenBYN7HqNl504P5atVke/CgyQcyX0oKMH++3C5b1oAdWq2SlQdYYk85UitBcpo3z2CeiIiIiPRgMO9j1CSw6Q3w/Cgz/8UXwM6dQNGiwIsvGrDDgABg/Xp5bmrXNmCH5K8caYIXHy9bBvNERERE5AwG8z5GDebdlpn38WB+3z5g2DC5PW4cUKKEgTuvWtXAnZE/cmR5OmbmiYiIiEgPBvM+Ri2zd2tm3mo1+WA5S0oCPvsMOHXKue9TFOCll4Bbt4CHHgKeftqAwVy65Dcd/sl8jmTmGcwTERERkR4M5n2M2zLzFSsCnTsDr7wCJCebfLCcTZ8ODB7sfIn8jh3Ahg1ASAjw3XdaZ3GXfPYZULIkMHasATsjf8fMPBERERGZJSj3h5A3cVtmPjhY6xrnYWfPynbVKslwOrq83M8/y7ZLF4Ma36WkyJWF5GSgShUDdkj+LrfMfHKydq2MwTwREREROYOZeR/jtsy8F7l2TbZpaY5fX7h1C5gxQ24/+6xBA1myRMrsS5QAHnzQoJ2SP8stM682vwOAiAjzx0NERERE/oPBvI9xW2YekEnnly4Bx4+74WDZu3pVuz13rmPfs3SpBFAlSgDt2hk0EDXVz7XlyUG5ZebVEvv8+WVdeiIiIiIiRzGY9zFuzcxPmSLRcL9+bjhY9tTMPACsXOlY/zk17n76ae0CiEvi4oBFi+R2z54G7JDygtwy85wvT0RERER6MZj3MW7NzFeuLNuDB91wsOzZBvMpKcDChTk/PiZGe4xhJfbz58vk5ho1gDp1DNop+Ts1mM8tM89gnoiIiIicxWDex7g1M68uT3fihKwP5yFqMH///bLNrdR+1ix5furWBWrXNmgQs2bJ9sknDWqLT3mBWmZ/7Zr0fMiMwTwRERER6cVg3se4NTNfogRQpIisM3/okBsOaJ86Z/6ll2S7bFnO1xbUEnvDsvIA8P33wOjRBi1WT3lF0aKyVZSMFSaAZOu//VZuFy7s1mERERERkR9gMO9j3JqZt1iAu+6S23v3uuGAWdkGQfffL8FRcjJw+LD9x+/fD2zZIhc9evQwcCBlywJvvskl6cgpwcFAoUJy23be/Pr1UjmyZIk85vXXPTI8IiIiIvJhDOZ9jNuXpqtZU7b79rnpgBklJckyc4AE8tWqye3sCgXUrHyHDkBUlPnjI8qN7bz5tDRg2DCgZUvgzBmgalXg33+BTp08O0YiIiIi8j0M5n2MW8vsAY9n5tWsfGCgrMOdUzCflgZMny63DV1bvm1b6eyvKAbtlPISdd78zp1Aq1bARx/JzJVnnwW2bQPq1/fk6IiIiIjIVxmxaBe5kdsz882aAf37y9YD1PnyRYpI1X9Owfzq1cDZs/LYhx824OBr1wJduwI3bwKlSgF9+hiwU8pr1Mz8a6/JNiICmDiRKxwSERERkWsYzPsYt2fm69f3aOpQzcwXKSJbtcG+vWBeLbF/6ikgJMTFA2/aJFcEbt6UGuiffnJxh5RXqZl5AGjQQBZGYOsFIiIiInIVy+x9jNsz8x6mBvNqV/DsMvNxccAff8htl0vst28H2rcHEhOlxH7OHCBfPhd3SnlV27ZAaCgwcCCwcSMDeSIiIiIyBjPzPsbtmXkAiI2VBnhRUUDlym48cMYye0ALhGJi5EMtYZ47V5rlVa8O3HuvCwfcswdo106uDtx/PzBvnkRiRDr16iUrKwQGenokRERERORPmJn3MR7JzA8aBDRpAkyd6saDisxl9uHhQLlycts2O2+7trzF4sIBhw+XqwQNGwJ//QXkz+/CzogEA3kiIiIiMhqDeR/jkcy8BzvaZy6zB7KW2h8/Lut2WyySBXXJ1Kmy6PeSJUDBgi7ujIiIiIiIyBwM5n2MRzLzHlxrPnNmHsgazE+bJtvWrYGyZV08YHg48PXXGa8eEBEREREReRkG8z7Go5n5I0eA5GQ3HjjrnHkgYzCvKMAvv8jnuhvfzZkDjBoFHD2qe5xERERERETuxGDex3gkM1+qFFCoEJCWZn9NOBPllplftEhi8IgI4NFHdR7k22+BIUNkZ0RERERERD6AwbyPUTPzbg3mLRat1H7PHjceOOc584cPA4MHy+1XX9XZqy4mBvj7b7ndubPucRIREREREbkTg3kfo2bm3VpmDwB168p2xw63HtZeZr5iRbmokZQkPfmKFpXEui6LFwNWK1C7tuyYiIiIiIjIB3CdeR/jkTJ7AHjiCaBGDaBFC7ce1t6c+aAgWe7+4EH5/P33gcKFdR5g/nzZdumid4hERERERERux2Dex3ikAR4APPCAfLiRotjPzANSan/woCTTX31V5wFu3gSWLpXbLLEnIiIiIiIfwjJ7H+OxzLwHJCRIzz0g60px3btLT75vvgFCQnQeYM0aIDERKF0aqF/fpbESERERERG5E4N5H+OxzDwgHed++QXYudMth1Oz8vnyAWFhGb/Wq5d8/eGHXTjAqVPSNa9zZyCAfwpEREREROQ7GMH4GI9m5r/4QhZz/+03txzOdr68xZL16/buc8rLLwNXrgAff+zijoiIiIiIiNyLc+Z9jEcz82op+vbtbjmcvWXpDBcaKh9EREREREQ+hJl5H+PRzLwazG/bJt3pTJZd8ztDxMaasFMiIiIiIiL3YDDvYzyamb/7biAwELh8GTh71vTD2VuWzjD33w/ceSewY4cJOyciIiIiIjIXg3kf49HMfFgYULOm3HZDqb1pmfnjx4HoaGnoV6GCwTsnIiIiIiIyH4N5H+PRzDwANGggWzcG84bPmV+4ULbNmpk8IZ+IiIiIiMgcDOZ9jMfXmbedN28y0zLz8+fLtksXg3dMRERERETkHuxm72PUzLzHgvlOnYCKFYFGjUw/lClz5q9dA9avl9udOxu4YyIiIiIiIvdhMO9j1My8x8rsK1aUDzcwpcx+/nx58mrVAipXNnDHRERERERE7sMyex/j8TJ7N1EU4Px5uW1oZn72bNk+8YSBOyUiIiIiInIvZuZ9jMcb4AHA/v3AjBlAZCTQv78ph/jgA2DPHiAgALjrLgN3/OabQIkSwOOPG7hTIiIiIiIi92Iw72O8IjN/4ADwySdA7dqmBPPffAOMGCG3v/8eqFTJwJ23aycfREREREREPoxl9j7GKzLzjRvLNjoaiIszdNdz5gBvvCG3hw8HXnjB0N0TERERERH5BQbzPsYrMvMlS0q6XFGAzZsN2+2aNUCvXrLbV18F3n/fsF0Dly4B77zjliX1iIiIiIiIzMZg3sd4RWYe0LLzGzcasrudO2XZ91u3gG7dgK+/BiwWQ3Ytfv8d+Pxz4JVXDNwpERERERGRZzCY9zFekZkHgCZNZLtpk8u7OnYM6NABiI8HHngAmD4dCAx0ebcZqV3s2fiOiIiIiIj8AIN5H+N1mflNmwCrVfduLl0CHnwQuHBB+unNnw+Ehho0RtW5c8D69XKbwTwREREREfkBBvM+xmsy87VrAxERQOXKklLXISEBeOgh4MgRoEIFYMkSoFAhg8cJSIm9osgFiPLlTTgAERERERGRezGY9zFek5kPCgJmzQI2bNAVgatz47duBYoVA5YtA0qXNmGcAEvsiYiIiIjI73CdeR/jNZl5QNLqtlJTtasNObBageeeA5YvB8LDgUWLgOrVTRrj6dNywcFiAbp3N+kgRERERERE7sXMvI9RY2Wr1aWp6sayWoGPPgLatXPoKsPs2cCvv8rP8vvvwH33mTi2Q4eAyEigWTOgTBkTD0REREREROQ+DOZ9jJqZB7yg1F516hTw1VeyUPz//pfrw3fvlu3zzwPt25s8ttatpQHezJkmH4iIiIiIiMh9GMz7GNtg3itK7QGgYkXg55/l9tixwIwZOT788mXZli1r4piSk7XShaAgZuWJiIiIiMivMJj3MbZT0r0mMw8AXbsC774rt194Adi5M9uHXrki28hIk8YSHy8L1/fvL13siYiIiIiI/AyDeR/jlZl51fDhsmh8UpIE91ev2n2YmpkvXtyEMVy9CrRtKyX/v/wCHD9uwkGIiIiIiIg8i8G8jwkIkMbsgJdl5gEgMFBK7O+4Q4Lop56y26VPDeYNz8xfuAC0aAFs3gwULQqsXi1jISIiIiIi8jMM5n2QVy1Pl1nRosAff8j2ySfl6kMmppTZnzoFNG8OREcDpUoB69YB99xj4AGIiIiIiIi8B9eZ90FBQcCtW16YmVfVqSOZ+YIFs3wpJQW4dk1uG1Zmf+gQ0KaNrClfsSKwciVQ/+ATuAAAH2JJREFUubJBOyciIiIiIvI+zMz7IK/OzKvsBPIAEBMjW4tFkveG2L8fOHsWqFED+PtvBvJEREREROT3mJn3QWpHe6/NzKsSEoC//gKKFZOmdNDmyxcrJlPsDdGlC/D770DTpia2yCciIiIiIvIezMz7IJ/IzAPAt99KE7xRo9LvUufLG97J/pFHGMgTEREREVGewWDeB6mZea8P5rt3l+3atcDFiwAM7mR/6hSwa5cBOyIiIiIiIvItDOZ9kJqZ9/oy+0qVgIYNZXm6338HYHAwP24cULcuMHCgATsjIiIiIiLyHQzmfZDPlNkDwOOPy3b6dAAGLkuXkpK+T7Ro4eLOiIiIiIiIfAuDeR/kMw3wAKBHD7n6sGkTsGVLembe5Tnzy5YBly7JVYH27V0eJhERERERkS9hMO+DfCozX6oU8OSTcnvMGOPK7H/4QbZPP609IURERERERHkEg3kf5FOZeQB4803ZXr+OmEtpAFwM5g8dkiXvAKBvX9fGRkRERERE5IO4zrwP8qnMPADUqwccOQJUroxLteUul8rsx40DFAV4+GGgenVDhkhERERERORLmJn3QT6XmQeAypUBGNDNPi0NWLNGbr/1luvjIiIiIiIi8kEM5n2Qo5n5Q4eA6Gjzx+MoRQFCL59GH0zWH8wHBgK7dwMLF7KLPRERERER5VleFcxPnDgRtWvXRsGCBVGwYEE0btwYS5YsSf/6zZs30a9fPxQrVgwRERHo1q0bLl686MERe4YjmXmrFWjaFGjUCIiLc8+4chO7/xx2p9XET3gBkcc2699RUJCU2Fssxg2OiIiIiIjIh3hVMF+2bFmMGjUK27Ztw9atW9GqVSt06dIFe/fuBQC8+eabWLhwIX777TesW7cO586dQ9euXT08avdzJDOfkCBrut+4ARw44J5x5eZycGnMw6MIgIKQ1150btK/ogDffgskJpo3QCIiIiIiIh/hVcF8p06d0LFjR1StWhXVqlXDiBEjEBERgX///RexsbGYNGkSRo8ejVatWqFBgwaYMmUKNm7ciH///dfTQ3crRzLzsbHa7UOHzB2Poy5fBt7CaFwNKCb1/1WqAJ07A++/D6xfn/M3T5gA9OsHNGvmY80CiIiIiIiIjOe13ezT0tLw22+/ITExEY0bN8a2bduQkpKCNm3apD+mRo0aKF++PDZt2oRGjRrZ3U9ycjKSk5PTP4+7XXOekpKCFA+1g1ePq/f4gYGBAAJw82YaUlKsdh8TEwMAksLfvz/7x7nT+fMWxKA4RlWaiM/O9ILl1Cng1Clg4UKkJSXB2rixPDAmBoEDB0KpVQuIiIDlv/9gmTMHFgBpvXrBqig+1MrfPK6eR0QqnktkBp5XZBSeS2QUnkukh1HnjRnnndcF89HR0WjcuDFu3ryJiIgIzJs3DzVr1sTOnTuRL18+FC5cOMPjS5QogQsXLmS7v5EjR2LYsGFZ7l++fDnCw8ONHr5TVqxYoev7Ll9uAKAsdu3ah8WLj9l9zIEDRQA0BwCsX38eixdv0zlKsXhxRSxefAeGDt2EyMgkXftYs6Y8gHpYXfh+LPnoJxQ8cQIFT55EwZMncT4iApcWLwYAFI+ORtMZM7J8/7lGjbDljjuA248jofc8IsqM5xKZgecVGYXnEhmF5xLp4ep5c+PGDYNGovG6YL569erYuXMnYmNjMXfuXDz77LNYt26d7v0NGTIEb9ksYRYXF4dy5cqhXbt2KFiwoBFDdlpKSgpWrFiBtm3bIlidAO+EZcsC8M8/QOHCNdGxYw27jwkK0prDJSSUQceOJXSPFwBGjAjEmTMBsFhaoWNHRdc+9uyRWR01a0ah7RNPZPhaGdtPatRAmtUKy549QHw8lPr1oTRqhMi2bdExMFDnT+B/XD2PiFQ8l8gMPK/IKDyXyCg8l0gPo86bOBO6kntdMJ8vXz5UqVIFANCgQQNs2bIF48aNwxNPPIFbt27h+vXrGbLzFy9eRMmSJbPdX0hICEJCQrLcHxwc7PE/Yr1jqFdPttHRgQgOth/c2vaJO3zYgqCgYJeav587J9u4uCDofdquXpVtVFQAgoNzaNdQvTrw4Yf6DpIHecO5TP6B5xKZgecVGYXnEhmF5xLp4ep5Y8Y551UN8OyxWq1ITk5GgwYNEBwcjFWrVqV/7eDBgzh16hQaq3Ot84i6dWW7Y4c0ebfH9sJPYiJw/rz+46WlAepMhuvXHfue5OSsXfQvX5at7jXmiYiIiIiICICXZeaHDBmCDh06oHz58oiPj8eMGTOwdu1aLFu2DIUKFcLzzz+Pt956C0WLFkXBggXx+uuvo3Hjxtk2v/NXtWoBAQESHF+4AJQqlfUxmas4Dh0CSpfWd7xLlySgB4Br1xz7ntdeA376CVi+HGjbVu67ckW2DOaJiIiIiIhc41WZ+UuXLuGZZ55B9erV0bp1a2zZsgXLli1D29vR4JgxY/Dwww+jW7duaN68OUqWLIk//vjDw6N2v7AwqUQHgJ077T/Gdmk6wLXl6c6e1W47EszHxgLTp8vtZcu0+9XMfPHi+sdCREREREREXpaZnzRpUo5fDw0NxYQJEzBhwgQ3jch71a0L7N8vwXyHDlm/njkzf/Cg/mM5G8z/8Qdw86bc3r5du1+ddx8VpX8sRERERERE5GWZeXKcOm9+1y77X1eD+fLlZetKZl4NwgHHgvlff9Vuq/P6z5yR/QQEyDQBIiIiIiIi0o/BvI9Sg/ncyuzvuUe2RpXZ59YA7+xZYPVquR0YKI8/eRLYtEnuq10biIjQPxYiIiIiIiJiMO+z6tSR7aFDGZehU6mZeTWYP3YMSEnRdyxnMvOzZkkmvmlTCdwBKbVXg/kmTfSNgYiIiIiIiDQM5n1UiRLSxV5RgOjorF9Xg/k77wTCw4HUVODECX3HcmbOvFpi//TTQL16cnvHDmDjRrnNYJ6IiIiIiMh1DOZ9WE6l9mqZfeHCQNWqcltvqb1tMH/zptbcLrN9+yRwDwoCHn9cC+Y3btQa4TGYJyIiIiIich2DeR+WUzCvZuYLFgSqVZPbe/boO45tmT2QfXZezcp36AAUKwbUry+fr1kjJf4lSwIVK+obAxEREREREWm8amk6co46bz6nYL5QIeCBB4DffgOmTQP+9z/AYpGvpaYCly5JsJ75IykJGD4cKF1aC96DgyUov35dSvxtWa1aMN+zp2xr15ZjKYp83rixdmwiIiIiIiLSj8G8D1Mz87t3A2lp0j0ekNsJCXK7YEEJrv/3P2DvXuCff4D77wc++ggYMUIC+uxERACDBsntsDAJ4I8ds5+Z37hRutYXKAB06qR9f7Vq2hr3LLEnIiIiIiIyBsvsfViVKtLcLikJOHxYuz8+XrtdsKBk53v0kM8nTgRWrACGDZNAPjAQKFMGuPdeoEsX4JVXgN695bHr12sl9mXKAEWKyG17wfz06bLt2lUCf5Vaag8wmCciIiIiIjIKg3kfFhioLf9mW2qvltiHhMgHAPTtK9u5c4Hnn5fbr74KJCcDZ84A//0H/Pkn8O23wOjRUg5/4IA0tAMkmC9cWG5nDuZv3ZIyfkArsVepTfDy5csY2BMREREREZF+DOZ9nFpqv2uXdp9t8ztVgwaSfU9JAU6fBipUAD77TCvNt1WkCHD33XJ79mzZli6tZeavX8/4+KVLgatXpQy/ZcuMX2vVSi4MtGkDhIbq+QmJiIiIiIgoMwbzPs5eR3t1WTrbYB6QEnrVjz/KnPbsNG8u202bZJtTmb1aYv/kk1kvDjRoIHP61ccQERERERGR69gAz8fZC+ZtO9nb6tFD5sHXrAm0bZvzfps3B8aP1z4vXRoIuH3pxzaYj40FFi6U25lL7FW1auV8LCIiIiIiInIOg3kfd/fdEmRfuCAfJUvaL7MHZP78lCmO7ff++zN+XqaMzK8HMgbzf/wB3LwJ1KihzY8nIiIiIiIic7HM3seFh8vyb4A2bz67MntnlCyp7RfIvgGe7dryXEOeiIiIiIjIPRjM+4E6dWSrltpnV2bvLHXePGC/Ad7Zs8Dq1XJbXfqOiIiIiIiIzMdg3g9knjefXZm9s7IL5tXM/KxZgKLI+vGVKrl2LCIiIiIiInIc58z7gczBvBFl9gDQurV0vL/jDplvnzmYnzFDttk1viMiIiIiIiJzMJj3A2owf/AgkJhoXJl96dIyDz9/fvncds58YiKwY4d8/sgjrh2HiIiIiIiInMNg3g+ULAmUKAFcvAjs2WNcmT0gWXmVmplPSAC2b5cS+5IlgVKlXD8OEREREREROY5z5v2Ebam9UWX2mamZeQBYty7jcYmIiIiIiMh9GMz7CTWo3rXLuDL7zIKCgAIF5PbatRmPS0RERERERO7DYN5P2GbmjSyzz0zNzm/YkPG4RERERERE5D4M5v2EGlTv3q11mzcjmFfnzd+8mfG4RERERERE5D5sgOcnqlYFwsKky3xiotxndJk9oAXzgByvShXjj0FEREREREQ5Y2beTwQGAnffnfE+MzPzAFC7thyXiIiIiIiI3IvBvB/JXPJudjDPEnsiIiIiIiLPYDDvR2yD67AwIDjY+GPYLk/HYJ6IiIiIiMgzGMz7Edvg2oysPMDMPBERERERkTdgMO9H7r4bsFjkttnBvMWSdY4+ERERERERuQeDeT8SESFd7QFzOtkDWjBfrRqQP785xyAiIiIiIqKcMZj3M2rpu1mZ+ZYt5RivvWbO/omIiIiIiCh3XGfez9StC8yZk7FRnZFKlwZ27DBn30REREREROQYBvN+pndvYPt2Zs6JiIiIiIj8GYN5P1OqFPDbb54eBREREREREZmJc+aJiIiIiIiIfAyDeSIiIiIiIiIfw2CeiIiIiIiIyMcwmCciIiIiIiLyMQzmiYiIiIiIiHwMg3kiIiIiIiIiH8NgnoiIiIiIiMjHMJgnIiIiIiIi8jEM5omIiIiIiIh8DIN5IiIiIiIiIh/DYJ6IiIiIiIjIxzCYJyIiIiIiIvIxDOaJiIiIiIiIfAyDeSIiIiIiIiIfw2CeiIiIiIiIyMcwmCciIiIiIiLyMQzmiYiIiIiIiHwMg3kiIiIiIiIiHxPk6QG4m6IoAIC4uDiPjSElJQU3btxAXFwcgoODPTYO8m08j8goPJfIDDyvyCg8l8goPJdID6POGzX+VONRI+S5YD4+Ph4AUK5cOQ+PhIiIiIiIiPKS+Ph4FCpUyJB9WRQjLw34AKvVinPnzqFAgQKwWCweGUNcXBzKlSuH06dPo2DBgh4ZA/k+nkdkFJ5LZAaeV2QUnktkFJ5LpIdR542iKIiPj0fp0qUREGDMbPc8l5kPCAhA2bJlPT0MAEDBggX5QkIu43lERuG5RGbgeUVG4blERuG5RHoYcd4YlZFXsQEeERERERERkY9hME9ERERERETkYxjMe0BISAiGDh2KkJAQTw+FfBjPIzIKzyUyA88rMgrPJTIKzyXSw5vPmzzXAI+IiIiIiIjI1zEzT0RERERERORjGMwTERERERER+RgG80REREREREQ+hsE8ERERERERkY9hMH/byJEjce+996JAgQKIiorCI488goMHD2Z4zM2bN9GvXz8UK1YMERER6NatGy5evJj+9V27duGpp55CuXLlEBYWhjvvvBPjxo3L9pgbNmxAUFAQ6tatm+v4FEXBhx9+iFKlSiEsLAxt2rTB4cOHMzymc+fOKF++PEJDQ1GqVCn06tUL586dc+6JIJf5w7lUsWJFWCyWDB+jRo1y7okgl/n6ubR27dos55H6sWXLFuefEHKZr59TALB9+3a0bdsWhQsXRrFixfDSSy8hISHBuSeCXObt59Iff/yBdu3aoVixYrBYLNi5c2eWx/zwww9o0aIFChYsCIvFguvXrzv645OB3HUuZfc/6cKFCzmOz5HXpREjRqBJkyYIDw9H4cKFXXtCyCH+cN4YErsppCiKojz44IPKlClTlD179ig7d+5UOnbsqJQvX15JSEhIf0zfvn2VcuXKKatWrVK2bt2qNGrUSGnSpEn61ydNmqT0799fWbt2rXL06FFl2rRpSlhYmPLNN99kOd61a9eUO+64Q2nXrp1Sp06dXMc3atQopVChQsqff/6p7Nq1S+ncubNSqVIlJSkpKf0xo0ePVjZt2qScOHFC2bBhg9K4cWOlcePGrj0x5DR/OJcqVKigDB8+XDl//nz6h+34yT18/VxKTk7OcA6dP39eeeGFF5RKlSopVqvV9SeInObr59TZs2eVIkWKKH379lUOHDig/Pfff0qTJk2Ubt26uf7kkFO8/Vz65ZdflGHDhik//vijAkDZsWNHlseMGTNGGTlypDJy5EgFgHLt2jU9TwW5yF3n0po1axQAysGDBzP8X0pLS8txfI68b/rwww+V0aNHK2+99ZZSqFAh454cypY/nDdGxG4M5rNx6dIlBYCybt06RVEU5fr160pwcLDy22+/pT9m//79CgBl06ZN2e7n1VdfVVq2bJnl/ieeeEJ5//33laFDh+b6T8lqtSolS5ZUvvjii/T7rl+/roSEhCgzZ87M9vvmz5+vWCwW5datWznun8zli+dShQoVlDFjxjj4E5K7+OK5ZOvWrVtKZGSkMnz48Bz3Te7ja+fU999/r0RFRWV4E7V7924FgHL48GGHfmYyhzedS7aOHz+ebTCvUt+sM5j3DmadS3p+z87+r5syZQqDeQ/x5fNGpSd2Y5l9NmJjYwEARYsWBQBs27YNKSkpaNOmTfpjatSogfLly2PTpk057kfdh2rKlCk4duwYhg4d6tBYjh8/jgsXLmQ4dqFChXDfffdle+yrV6/i119/RZMmTRAcHOzQccgcvnoujRo1CsWKFUO9evXwxRdfIDU11aFjkHl89VxSLViwADExMejTp49DxyDz+do5lZycjHz58iEgQHv7EhYWBgD4559/HDoOmcObziXybWaeSwBQt25dlCpVCm3btsWGDRtyHIue/3XkGb5+3uiN3YIcfmQeYrVaMWDAADRt2hS1atUCAFy4cAH58uXLMg+mRIkS2c6Z2LhxI2bPno1Fixal33f48GEMHjwYf//9N4KCHHv61f2XKFEi12O/8847GD9+PG7cuIFGjRrhr7/+cugYZA5fPZf69++P+vXro2jRoti4cSOGDBmC8+fPY/To0Q4dh4znq+eSrUmTJuHBBx9E2bJlHToGmcsXz6lWrVrhrbfewhdffIE33ngDiYmJGDx4MADg/PnzDh2HjOdt5xL5LjPPpVKlSuG7777DPffcg+TkZPz0009o0aIFNm/ejPr169vdj57/deR+vnzeuBq7MTNvR79+/bBnzx7MmjVL9z727NmDLl26YOjQoWjXrh0AIC0tDT169MCwYcNQrVo1u9/366+/IiIiIv3j77//duq4gwYNwo4dO7B8+XIEBgbimWeegaIoun8Oco2vnktvvfUWWrRogdq1a6Nv37746quv8M033yA5OVn3z0Gu8dVzSXXmzBksW7YMzz//vO7xk7F88Zy666678PPPP+Orr75CeHg4SpYsiUqVKqFEiRIZsvXkXr54LpF3MutcAoDq1avj5ZdfRoMGDdCkSRNMnjwZTZo0wZgxYwDwXPJlvnzeuBy7OVyQn0f069dPKVu2rHLs2LEM969atcrufIny5csro0ePznDf3r17laioKOXdd9/NcP+1a9cUAEpgYGD6h8ViSb9v1apVSlxcnHL48OH0jxs3bihHjx61O9+refPmSv/+/bP9WU6fPq0AUDZu3Oj8E0Eu86dzac+ePQoA5cCBA84/EeQyfziXhg8frkRGRrKHh5fwh3PqwoULSnx8vJKQkKAEBAQoc+bM0f+EkG7eeC7Z4px532HmuZSdt99+W2nUqJGiKIohr0ucM+9+/nDeqPTEbgzmb7NarUq/fv2U0qVLK4cOHcrydbWJwty5c9PvO3DgQJYmCnv27FGioqKUQYMGZdlHWlqaEh0dneHjlVdeUapXr65ER0dn2y1cbaLw5Zdfpt8XGxubaxOFkydPKgCUNWvWOPIUkEH88VyaPn26EhAQoFy9etWh54CM4S/nktVqVSpVqqQMHDjQ6eeAjOUv55StSZMmKeHh4QzE3MybzyVbDOa9nzvOpey0adNGefTRR3McmzOvSwzm3cefzhuVntiNwfxtr7zyilKoUCFl7dq1GZYdsL3C27dvX6V8+fLK6tWrla1bt2ZZPiA6OlqJjIxUevbsmWEfly5dyva4jnZlHTVqlFK4cGFl/vz5yu7du5UuXbpkWN7g33//Vb755htlx44dyokTJ5RVq1YpTZo0USpXrqzcvHlT/xNDTvP1c2njxo3KmDFjlJ07dypHjx5Vpk+frkRGRirPPPOM/ieFdPH1c0m1cuVKBYCyf/9+558EMpQ/nFPffPONsm3bNuXgwYPK+PHjlbCwMGXcuHH6nhDSzdvPpZiYGGXHjh3KokWLFADKrFmzlB07dijnz59Pf8z58+eVHTt2pC9ft379emXHjh1KTEyMvieFdHHXuTRmzBjlzz//VA4fPqxER0crb7zxhhIQEKCsXLkyx/E58rp08uRJZceOHcqwYcOUiIgIZceOHcqOHTuU+Ph4A58psuXr541RsRuD+dsA2P2YMmVK+mOSkpKUV199VSlSpIgSHh6uPProoxn+KQwdOtTuPipUqJDtcR39p2S1WpUPPvhAKVGihBISEqK0bt1aOXjwYPrXd+/erbRs2VIpWrSoEhISolSsWFHp27evcubMGT1PB7nA18+lbdu2Kffdd59SqFAhJTQ0VLnzzjuVTz/9lBeFPMDXzyXVU089lWFdV/IcfzinevXqpRQtWlTJly+fUrt2beWXX35x9mkgA3j7uTRlyhS7+x46dGiux7f9Gch87jqXPvvsM6Vy5cpKaGioUrRoUaVFixbK6tWrcx2fI69Lzz77rN3jszrWPL5+3hgVu1luPxlERERERERE5CPY+pWIiIiIiIjIxzCYJyIiIiIiIvIxDOaJiIiIiIiIfAyDeSIiIiIiIiIfw2CeiIiIiIiIyMcwmCciIiIiIiLyMQzmiYiIiIiIiHwMg3kiIiIiIiIiH8NgnoiIiIiIiMjHMJgnIiLKA6ZOnQqLxZL+ERoaitKlS+PBBx/E119/jfj4eF373bhxIz766CNcv37d2AETERFRjhjMExER5SHDhw/HtGnTMHHiRLz++usAgAEDBuDuu+/G7t27nd7fxo0bMWzYMAbzREREbhbk6QEQERGR+3To0AH33HNP+udDhgzB6tWr8fDDD6Nz587Yv38/wsLCPDhCIiIicgQz80RERHlcq1at8MEHH+DkyZOYPn06AGD37t3o3bs37rjjDoSGhqJkyZJ47rnnEBMTk/59H330EQYNGgQAqFSpUnoJ/4kTJwAAU6ZMQatWrRAVFYWQkBDUrFkTEydOdPvPR0RE5I+YmSciIiL06tUL7777LpYvX44XX3wRK1aswLFjx9CnTx+ULFkSe/fuxQ8//IC9e/fi33//hcViQdeuXXHo0CHMnDkTY8aMQfHixQEAkZGRAICJEyfirrvuQufOnREUFISFCxfi1VdfhdVqRb9+/Tz54xIREfk8i6IoiqcHQUREROaaOnUq+vTpgy1btmQos7dVuHBh3HHHHdi+fTuSkpKylNvPmjULTz31FNavX4/7778fAPDll19i0KBBOH78OCpWrJjh8fb20b59exw+fBhHjx417ocjIiLKg1hmT0RERACAiIiI9K72tkH4zZs3ceXKFTRq1AgAsH37dof2Z7uP2NhYXLlyBQ888ACOHTuG2NhYA0dORESU9zCYJyIiIgBAQkICChQoAAC4evUq3njjDZQoUQJhYWGIjIxEpUqVAMDhQHzDhg1o06YN8ufPj8KFCyMyMhLvvvuuU/sgIiIi+zhnnoiIiHDmzBnExsaiSpUqAIDHH38cGzduxKBBg1C3bl1ERETAarWiffv2sFqtue7v6NGjaN26NWrUqIHRo0ejXLlyyJcvHxYvXowxY8Y4tA8iIiLKHoN5IiIiwrRp0wAADz74IK5du4ZVq1Zh2LBh+PDDD9Mfc/jw4SzfZ7FY7O5v4cKFSE5OxoIFC1C+fPn0+9esWWPwyImIiPImltkTERHlcatXr8bHH3+MSpUq4emnn0ZgYCAAIHOP3LFjx2b53vz58wMArl+/nuF+e/uIjY3FlClTDBw5ERFR3sXMPBERUR6yZMkSHDhwAKmpqbh48SJWr16NFStWoEKFCliwYAFCQ0MRGhqK5s2b4/PPP0dKSgrKlCmD5cuX4/jx41n216BBAwDAe++9hyeffBLBwcHo1KkT2rVrh3z58qFTp054+eWXkZCQgB9//BFRUVE4f/68u39sIiIiv8NgnoiIKA9Ry+bz5cuHokWL4u6778bYsWPRp0+f9OZ3ADBjxgy8/vrrmDBhAhRFQbt27bBkyRKULl06w/7uvfdefPzxx/juu++wdOlSWK1WHD9+HNWrV8fcuXPx/vvv4+2330bJkiXxyiuvIDIyEs8995xbf2YiIiJ/xHXmiYiIiIiIiHwM58wTERERERER+RgG80REREREREQ+hsE8ERERERERkY9hME9ERERERETkYxjMExEREREREfkYBvNEREREREREPobBPBEREREREZGPYTBPRERERERE5GMYzBMRERERERH5GAbzRERERERERD6GwTwRERERERGRj2EwT0RERERERORj/g84wRLX4EviewAAAABJRU5ErkJggg==",
      "text/plain": [
       "<Figure size 1200x600 with 1 Axes>"
      ]
     },
     "metadata": {},
     "output_type": "display_data"
    }
   ],
>>>>>>> 23d0e42 (v1.1.1)
   "source": [
    "import matplotlib.pyplot as plt\n",
    "\n",
    "# Criar o gráfico\n",
    "plt.figure(figsize=(12, 6))\n",
    "plt.plot(df_teste.index, df_teste[\"Real\"], label=\"Preço Real\", linestyle=\"-\", color=\"blue\")\n",
    "plt.plot(df_teste.index, df_teste[\"Previsão\"], label=\"Previsão LSTM\", linestyle=\"--\", color=\"red\")\n",
    "\n",
    "# Adicionar títulos e legendas\n",
    "plt.title(\"Comparação entre Preço Real e Previsão do Modelo LSTM\", fontsize=14)\n",
    "plt.xlabel(\"Data\", fontsize=12)\n",
    "plt.ylabel(\"Preço de Fechamento\", fontsize=12)\n",
    "plt.legend()\n",
    "plt.grid(True)\n",
    "\n",
    "# Mostrar o gráfico\n",
    "plt.show()\n"
   ]
  },
  {
   "cell_type": "code",
<<<<<<< HEAD
   "execution_count": null,
   "metadata": {},
   "outputs": [],
   "source": [
    "#calcular media de acertos e expectativa de lucro\n",
    "\n",
    "#Nova coluna com a variação percentual da ação real\n",
    "df_teste['Variação percentual real'] = df_teste['Real'].pct_change()\n",
    "\n",
    "#Nova coluna com a variação percentual da ação prevista\n",
    "df_teste['Variação percentual previsão'] = df_teste['Previsão'].pct_change()\n",
    "\n",
    "#Remover valores nulos\n",
    "df_teste = df_teste.dropna()\n",
    "\n",
    "#Nova coluna com a informação se a ação subiu ou não\n",
    "df_teste['Ação subiu'] = np.where(df_teste['Variação percentual real'] > 0, \n",
    "                                                      True, False)\n",
    "\n",
    "#Nova coluna com a informação se a previsão subiu ou não\n",
    "df_teste['Previsão subiu'] = np.where(df_teste['Variação percentual previsão'] > 0, \n",
    "                                                      True, False)\n",
    "\n",
    "#Nova coluna com a informação se o modelo acertou a tendência\n",
    "df_teste['Modelo acertou tendência'] = np.where(df_teste['Ação subiu'] == df_teste['Previsão subiu']\n",
    "                                      , True, False)\n",
    "\n",
    "#Nova coluna com a variação percentual real absoluta\n",
    "df_teste['Variação percentual real absoluto'] = df_teste['Variação percentual real'].abs()"
   ]
  },
  {
   "cell_type": "code",
   "execution_count": null,
   "metadata": {},
   "outputs": [],
   "source": [
    "#calcular media de acertos e expectativa de lucro\n",
    "acertou_lado = df_teste['Modelo acertou tendência'].sum()/len(df_teste['Modelo acertou tendência'])\n",
    "\n",
    "#calcular media de erros e expectativa de lucro\n",
    "errou_lado = 1 - acertou_lado\n",
    "\n",
    "#calcular media de lucro agrupado por acertos e erros\n",
    "media_lucro = df_teste.groupby('Modelo acertou tendência')['Variação percentual real absoluto'].mean()"
   ]
  },
  {
   "cell_type": "code",
   "execution_count": null,
   "metadata": {},
   "outputs": [],
   "source": [
    "#calcular media de acertos e expectativa de lucro\n",
    "acertou_lado = df_teste['Modelo acertou tendência'].sum()/len(df_teste['Modelo acertou tendência'])\n",
    "\n",
    "#calcular media de erros e expectativa de lucro\n",
    "errou_lado = 1 - acertou_lado\n",
    "\n",
=======
   "execution_count": 20,
   "metadata": {},
   "outputs": [
    {
     "name": "stderr",
     "output_type": "stream",
     "text": [
      "C:\\Users\\pedro\\AppData\\Local\\Temp\\ipykernel_36824\\1924753693.py:13: SettingWithCopyWarning: \n",
      "A value is trying to be set on a copy of a slice from a DataFrame.\n",
      "Try using .loc[row_indexer,col_indexer] = value instead\n",
      "\n",
      "See the caveats in the documentation: https://pandas.pydata.org/pandas-docs/stable/user_guide/indexing.html#returning-a-view-versus-a-copy\n",
      "  df_teste['Ação subiu'] = np.where(df_teste['Variação percentual real'] > 0,\n",
      "C:\\Users\\pedro\\AppData\\Local\\Temp\\ipykernel_36824\\1924753693.py:17: SettingWithCopyWarning: \n",
      "A value is trying to be set on a copy of a slice from a DataFrame.\n",
      "Try using .loc[row_indexer,col_indexer] = value instead\n",
      "\n",
      "See the caveats in the documentation: https://pandas.pydata.org/pandas-docs/stable/user_guide/indexing.html#returning-a-view-versus-a-copy\n",
      "  df_teste['Previsão subiu'] = np.where(df_teste['Variação percentual previsão'] > 0,\n",
      "C:\\Users\\pedro\\AppData\\Local\\Temp\\ipykernel_36824\\1924753693.py:21: SettingWithCopyWarning: \n",
      "A value is trying to be set on a copy of a slice from a DataFrame.\n",
      "Try using .loc[row_indexer,col_indexer] = value instead\n",
      "\n",
      "See the caveats in the documentation: https://pandas.pydata.org/pandas-docs/stable/user_guide/indexing.html#returning-a-view-versus-a-copy\n",
      "  df_teste['Modelo acertou tendência'] = np.where(df_teste['Ação subiu'] == df_teste['Previsão subiu']\n",
      "C:\\Users\\pedro\\AppData\\Local\\Temp\\ipykernel_36824\\1924753693.py:25: SettingWithCopyWarning: \n",
      "A value is trying to be set on a copy of a slice from a DataFrame.\n",
      "Try using .loc[row_indexer,col_indexer] = value instead\n",
      "\n",
      "See the caveats in the documentation: https://pandas.pydata.org/pandas-docs/stable/user_guide/indexing.html#returning-a-view-versus-a-copy\n",
      "  df_teste['Variação percentual real absoluto'] = df_teste['Variação percentual real'].abs()\n"
     ]
    }
   ],
   "source": [
    "#calcular media de acertos e expectativa de lucro\n",
    "\n",
    "#Nova coluna com a variação percentual da ação real\n",
    "df_teste['Variação percentual real'] = df_teste['Real'].pct_change()\n",
    "\n",
    "#Nova coluna com a variação percentual da ação prevista\n",
    "df_teste['Variação percentual previsão'] = df_teste['Previsão'].pct_change()\n",
    "\n",
    "#Remover valores nulos\n",
    "df_teste = df_teste.dropna()\n",
    "\n",
    "#Nova coluna com a informação se a ação subiu ou não\n",
    "df_teste['Ação subiu'] = np.where(df_teste['Variação percentual real'] > 0, \n",
    "                                                      True, False)\n",
    "\n",
    "#Nova coluna com a informação se a previsão subiu ou não\n",
    "df_teste['Previsão subiu'] = np.where(df_teste['Variação percentual previsão'] > 0, \n",
    "                                                      True, False)\n",
    "\n",
    "#Nova coluna com a informação se o modelo acertou a tendência\n",
    "df_teste['Modelo acertou tendência'] = np.where(df_teste['Ação subiu'] == df_teste['Previsão subiu']\n",
    "                                      , True, False)\n",
    "\n",
    "#Nova coluna com a variação percentual real absoluta\n",
    "df_teste['Variação percentual real absoluto'] = df_teste['Variação percentual real'].abs()"
   ]
  },
  {
   "cell_type": "code",
   "execution_count": 21,
   "metadata": {},
   "outputs": [],
   "source": [
    "#calcular media de acertos e expectativa de lucro\n",
    "acertou_lado = df_teste['Modelo acertou tendência'].sum()/len(df_teste['Modelo acertou tendência'])\n",
    "\n",
    "#calcular media de erros e expectativa de lucro\n",
    "errou_lado = 1 - acertou_lado\n",
    "\n",
    "#calcular media de lucro agrupado por acertos e erros\n",
    "media_lucro = df_teste.groupby('Modelo acertou tendência')['Variação percentual real absoluto'].mean()"
   ]
  },
  {
   "cell_type": "code",
   "execution_count": 22,
   "metadata": {},
   "outputs": [
    {
     "name": "stdout",
     "output_type": "stream",
     "text": [
      "Media lucro: Modelo acertou tendência\n",
      "False    0.010615\n",
      "True     0.010780\n",
      "Name: Variação percentual real absoluto, dtype: float64\n",
      "Ganho sobre perda: 1.0155381859432582\n",
      "Acertou lado: 0.49173553719008267\n",
      "rendimento diário: -0.0094%\n"
     ]
    },
    {
     "name": "stderr",
     "output_type": "stream",
     "text": [
      "C:\\Users\\pedro\\AppData\\Local\\Temp\\ipykernel_36824\\2764833411.py:11: FutureWarning: Series.__getitem__ treating keys as positions is deprecated. In a future version, integer keys will always be treated as labels (consistent with DataFrame behavior). To access a value by position, use `ser.iloc[pos]`\n",
      "  exp_mat_lucro = acertou_lado * media_lucro[1] - media_lucro[0] * errou_lado\n",
      "C:\\Users\\pedro\\AppData\\Local\\Temp\\ipykernel_36824\\2764833411.py:14: FutureWarning: Series.__getitem__ treating keys as positions is deprecated. In a future version, integer keys will always be treated as labels (consistent with DataFrame behavior). To access a value by position, use `ser.iloc[pos]`\n",
      "  ganho_sobre_perda = media_lucro[1]/media_lucro[0]\n"
     ]
    }
   ],
   "source": [
    "#calcular media de acertos e expectativa de lucro\n",
    "acertou_lado = df_teste['Modelo acertou tendência'].sum()/len(df_teste['Modelo acertou tendência'])\n",
    "\n",
    "#calcular media de erros e expectativa de lucro\n",
    "errou_lado = 1 - acertou_lado\n",
    "\n",
>>>>>>> 23d0e42 (v1.1.1)
    "#calcular media de lucro agrupado por acertos e erros\n",
    "media_lucro = df_teste.groupby('Modelo acertou tendência')['Variação percentual real absoluto'].mean()\n",
    "\n",
    "#calcular expectativa matematica de lucro\n",
    "exp_mat_lucro = acertou_lado * media_lucro[1] - media_lucro[0] * errou_lado\n",
    "\n",
    "#calcular ganho sobre perda\n",
    "ganho_sobre_perda = media_lucro[1]/media_lucro[0]\n",
    "\n",
    "#calcular rendimento diario\n",
    "exp_mat_lucro_percent = exp_mat_lucro * 100\n",
    "\n",
    "print(f\"Media lucro: {media_lucro}\")\n",
    "print(f\"Ganho sobre perda: {ganho_sobre_perda}\")\n",
    "print(f\"Acertou lado: {acertou_lado}\")\n",
    "print(\"rendimento diário: \" + str(round(exp_mat_lucro_percent, 4)) + \"%\")\n"
   ]
  },
  {
   "cell_type": "code",
   "execution_count": null,
   "metadata": {},
<<<<<<< HEAD
   "outputs": [],
=======
   "outputs": [
    {
     "name": "stderr",
     "output_type": "stream",
     "text": [
      "[*********************100%***********************]  1 of 1 completed\n"
     ]
    },
    {
     "ename": "NameError",
     "evalue": "name 'escalador' is not defined",
     "output_type": "error",
     "traceback": [
      "\u001b[1;31m---------------------------------------------------------------------------\u001b[0m",
      "\u001b[1;31mNameError\u001b[0m                                 Traceback (most recent call last)",
      "Cell \u001b[1;32mIn[25], line 19\u001b[0m\n\u001b[0;32m     15\u001b[0m cotacoes \u001b[38;5;241m=\u001b[39m yf\u001b[38;5;241m.\u001b[39mdownload(acao, start\u001b[38;5;241m=\u001b[39minicial, end\u001b[38;5;241m=\u001b[39mfinal)\n\u001b[0;32m     17\u001b[0m ultimos_60_dias \u001b[38;5;241m=\u001b[39m cotacoes[\u001b[38;5;124m'\u001b[39m\u001b[38;5;124mClose\u001b[39m\u001b[38;5;124m'\u001b[39m]\u001b[38;5;241m.\u001b[39miloc[\u001b[38;5;241m-\u001b[39m\u001b[38;5;241m60\u001b[39m:]\u001b[38;5;241m.\u001b[39mvalues\u001b[38;5;241m.\u001b[39mreshape(\u001b[38;5;241m-\u001b[39m\u001b[38;5;241m1\u001b[39m, \u001b[38;5;241m1\u001b[39m)\n\u001b[1;32m---> 19\u001b[0m ultimos_60_dias_escalado \u001b[38;5;241m=\u001b[39m \u001b[43mescalador\u001b[49m\u001b[38;5;241m.\u001b[39mtransform(ultimos_60_dias)\n\u001b[0;32m     21\u001b[0m teste_x \u001b[38;5;241m=\u001b[39m []\n\u001b[0;32m     22\u001b[0m teste_x\u001b[38;5;241m.\u001b[39mappend(ultimos_60_dias_escalado)\n",
      "\u001b[1;31mNameError\u001b[0m: name 'escalador' is not defined"
     ]
    }
   ],
>>>>>>> 23d0e42 (v1.1.1)
   "source": [
    "data_hoje = datetime.now()\n",
    "\n",
    "data_inicio_modelo = ativo.index[0]\n",
    "\n",
    "if data_hoje.hour > 18:\n",
    "    final = data_hoje\n",
    "    inicial = datetime.now() - timedelta(days = 252)\n",
    "    \n",
    "else:\n",
    "    final = data_hoje - timedelta(days = 1)\n",
    "    inicial = datetime.now() - timedelta(days = 252)\n",
    "    \n",
    "cotacoes = yf.download(acao, start=inicial, end=final)\n",
    "\n",
    "ultimos_60_dias = cotacoes['Close'].iloc[-60:].values.reshape(-1, 1)\n",
    "\n",
    "ultimos_60_dias_escalado = escalador.transform(ultimos_60_dias)\n",
    "\n",
    "teste_x = []\n",
    "teste_x.append(ultimos_60_dias_escalado)\n",
    "teste_x = np.array(teste_x)\n",
    "teste_x = teste_x.reshape(teste_x.shape[0], teste_x.shape[1], 1)\n",
    "\n",
    "previsao_de_preco = modelo.predict(teste_x)\n",
    "previsao_de_preco = escalador.inverse_transform(previsao_de_preco)\n",
    "\n",
    "print(previsao_de_preco)"
   ]
  }
 ],
 "metadata": {
  "kernelspec": {
   "display_name": "Python 3",
   "language": "python",
   "name": "python3"
  },
  "language_info": {
   "codemirror_mode": {
    "name": "ipython",
    "version": 3
   },
   "file_extension": ".py",
   "mimetype": "text/x-python",
   "name": "python",
   "nbconvert_exporter": "python",
   "pygments_lexer": "ipython3",
   "version": "3.12.1"
  }
 },
 "nbformat": 4,
 "nbformat_minor": 2
}
