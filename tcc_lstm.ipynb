{
 "cells": [
  {
   "cell_type": "markdown",
   "metadata": {},
   "source": [
    "LSTM"
   ]
  },
  {
   "cell_type": "code",
   "execution_count": 35,
   "metadata": {},
   "outputs": [],
   "source": [
    "from datetime import datetime, timedelta\n",
    "import yfinance as yf\n",
    "import pandas as pd\n",
    "import numpy as np\n",
    "from sklearn.model_selection import train_test_split\n",
    "from sklearn.preprocessing import MinMaxScaler\n",
    "from tensorflow.keras.models import Sequential\n",
    "from tensorflow.keras.layers import LSTM, Dense, Dropout, Input\n",
    "from tensorflow.keras.callbacks import EarlyStopping\n",
    "from tensorflow.keras.optimizers import Adam\n",
    "from tensorflow.keras.callbacks import ReduceLROnPlateau\n",
    "from sklearn.metrics import mean_squared_error\n",
    "import matplotlib.pyplot as plt\n",
    "from sklearn.metrics import mean_absolute_error, mean_squared_error, r2_score\n"
   ]
  },
  {
   "cell_type": "code",
   "execution_count": 36,
   "metadata": {},
   "outputs": [
    {
     "name": "stderr",
     "output_type": "stream",
     "text": [
      "C:\\Users\\pedro\\AppData\\Local\\Temp\\ipykernel_29576\\3215143288.py:3: FutureWarning: YF.download() has changed argument auto_adjust default to True\n",
      "  ativo = yf.download(acao, period=periodo_tempo_de_precos_acao)\n",
      "[*********************100%***********************]  1 of 1 completed\n"
     ]
    }
   ],
   "source": [
    "acao = 'MGLU3.SA'\n",
    "periodo_tempo_de_precos_acao = \"5y\"\n",
    "ativo = yf.download(acao, period=periodo_tempo_de_precos_acao)"
   ]
  },
  {
   "cell_type": "code",
   "execution_count": 37,
   "metadata": {},
   "outputs": [
    {
     "data": {
      "text/html": [
       "<div>\n",
       "<style scoped>\n",
       "    .dataframe tbody tr th:only-of-type {\n",
       "        vertical-align: middle;\n",
       "    }\n",
       "\n",
       "    .dataframe tbody tr th {\n",
       "        vertical-align: top;\n",
       "    }\n",
       "\n",
       "    .dataframe thead tr th {\n",
       "        text-align: left;\n",
       "    }\n",
       "\n",
       "    .dataframe thead tr:last-of-type th {\n",
       "        text-align: right;\n",
       "    }\n",
       "</style>\n",
       "<table border=\"1\" class=\"dataframe\">\n",
       "  <thead>\n",
       "    <tr>\n",
       "      <th>Price</th>\n",
       "      <th>Close</th>\n",
       "      <th>High</th>\n",
       "      <th>Low</th>\n",
       "      <th>Open</th>\n",
       "      <th>Volume</th>\n",
       "    </tr>\n",
       "    <tr>\n",
       "      <th>Ticker</th>\n",
       "      <th>MGLU3.SA</th>\n",
       "      <th>MGLU3.SA</th>\n",
       "      <th>MGLU3.SA</th>\n",
       "      <th>MGLU3.SA</th>\n",
       "      <th>MGLU3.SA</th>\n",
       "    </tr>\n",
       "    <tr>\n",
       "      <th>Date</th>\n",
       "      <th></th>\n",
       "      <th></th>\n",
       "      <th></th>\n",
       "      <th></th>\n",
       "      <th></th>\n",
       "    </tr>\n",
       "  </thead>\n",
       "  <tbody>\n",
       "    <tr>\n",
       "      <th>2020-08-05</th>\n",
       "      <td>188.079407</td>\n",
       "      <td>191.319811</td>\n",
       "      <td>187.852810</td>\n",
       "      <td>188.759212</td>\n",
       "      <td>3239949</td>\n",
       "    </tr>\n",
       "    <tr>\n",
       "      <th>2020-08-06</th>\n",
       "      <td>194.673508</td>\n",
       "      <td>195.308005</td>\n",
       "      <td>189.212415</td>\n",
       "      <td>190.345428</td>\n",
       "      <td>4712723</td>\n",
       "    </tr>\n",
       "    <tr>\n",
       "      <th>2020-08-07</th>\n",
       "      <td>194.084335</td>\n",
       "      <td>198.276463</td>\n",
       "      <td>191.115851</td>\n",
       "      <td>193.064635</td>\n",
       "      <td>4969276</td>\n",
       "    </tr>\n",
       "    <tr>\n",
       "      <th>2020-08-10</th>\n",
       "      <td>185.654755</td>\n",
       "      <td>195.557240</td>\n",
       "      <td>183.819283</td>\n",
       "      <td>195.285321</td>\n",
       "      <td>6551488</td>\n",
       "    </tr>\n",
       "    <tr>\n",
       "      <th>2020-08-11</th>\n",
       "      <td>183.524719</td>\n",
       "      <td>188.056757</td>\n",
       "      <td>181.802546</td>\n",
       "      <td>187.399606</td>\n",
       "      <td>4561973</td>\n",
       "    </tr>\n",
       "  </tbody>\n",
       "</table>\n",
       "</div>"
      ],
      "text/plain": [
       "Price            Close        High         Low        Open   Volume\n",
       "Ticker        MGLU3.SA    MGLU3.SA    MGLU3.SA    MGLU3.SA MGLU3.SA\n",
       "Date                                                               \n",
       "2020-08-05  188.079407  191.319811  187.852810  188.759212  3239949\n",
       "2020-08-06  194.673508  195.308005  189.212415  190.345428  4712723\n",
       "2020-08-07  194.084335  198.276463  191.115851  193.064635  4969276\n",
       "2020-08-10  185.654755  195.557240  183.819283  195.285321  6551488\n",
       "2020-08-11  183.524719  188.056757  181.802546  187.399606  4561973"
      ]
     },
     "execution_count": 37,
     "metadata": {},
     "output_type": "execute_result"
    }
   ],
   "source": [
    "ativo.head()"
   ]
  },
  {
   "cell_type": "code",
   "execution_count": 38,
   "metadata": {},
   "outputs": [],
   "source": [
    "# Pega somente o atributo \"Close\" (preço de fechamento da ação em cada dia) e armazena em um array bidimensional\n",
    "# O array precisa ser bidimensional porque o MinMaxScaler espera uma entrada com esse formato.\n",
    "ativo_close = ativo['Close'].dropna().to_numpy().reshape(-1, 1)"
   ]
  },
  {
   "cell_type": "code",
   "execution_count": 39,
   "metadata": {},
   "outputs": [],
   "source": [
    "# Criar um DataFrame com os valores ajustados\n",
    "data = pd.DataFrame(ativo_close)\n",
    "data.columns = ['Close']"
   ]
  },
  {
   "cell_type": "code",
   "execution_count": 40,
   "metadata": {},
   "outputs": [],
   "source": [
    "# Normalizar os dados para os modelos\n",
    "scaler = MinMaxScaler(feature_range=(0, 1))\n",
    "data['Scaled_Close'] = scaler.fit_transform(data[['Close']])"
   ]
  },
  {
   "cell_type": "code",
   "execution_count": 41,
   "metadata": {},
   "outputs": [],
   "source": [
    "# Função para criar janelas de dados\n",
    "# janela de dados = quantidade de dias do X\n",
    "def create_dataset(data, window_size):\n",
    "    X, y = [], []\n",
    "    for i in range(len(data) - window_size):\n",
    "        X.append(data[i:i + window_size])\n",
    "        y.append(data[i + window_size])\n",
    "    return np.array(X), np.array(y)\n"
   ]
  },
  {
   "cell_type": "code",
   "execution_count": 42,
   "metadata": {},
   "outputs": [],
   "source": [
    "window_size = 60\n",
    "scaled_data = data['Scaled_Close'].values\n",
    "X, y = create_dataset(scaled_data, window_size)"
   ]
  },
  {
   "cell_type": "code",
   "execution_count": 43,
   "metadata": {},
   "outputs": [
    {
     "data": {
      "text/plain": [
       "array([0.7502584 , 0.77737583, 0.77495293, 0.74028731, 0.7315278 ,\n",
       "       0.72286135, 0.72649563, 0.73870319, 0.73767811, 0.81083   ,\n",
       "       0.8126938 , 0.79079477, 0.79079477, 0.78827875, 0.79685196,\n",
       "       0.81688718, 0.83394047, 0.85816909, 0.84549562, 0.86515818,\n",
       "       0.84819807, 0.80151132, 0.80402734, 0.79396314, 0.82667184,\n",
       "       0.79918167, 0.79284487, 0.81828506, 0.81157559, 0.80775488,\n",
       "       0.78846512, 0.78902422, 0.803375  , 0.81073682, 0.78268748,\n",
       "       0.80896626, 0.82136019, 0.79191297, 0.79200628, 0.80803437,\n",
       "       0.83319488, 0.79731787, 0.816794  , 0.80896626, 0.80561159,\n",
       "       0.83291539, 0.89143696, 0.94595144, 0.9340235 , 0.9276867 ,\n",
       "       0.93849637, 0.93439623, 0.94744244, 0.95415191, 0.94967891,\n",
       "       0.94296937, 0.92619576, 0.92545029, 0.89488481, 0.92209556])"
      ]
     },
     "execution_count": 43,
     "metadata": {},
     "output_type": "execute_result"
    }
   ],
   "source": [
    "X[0] # 60 (window-size) valores que ele usa para prever o valor do y. "
   ]
  },
  {
   "cell_type": "code",
   "execution_count": 44,
   "metadata": {},
   "outputs": [
    {
     "data": {
      "text/plain": [
       "((1244,), (1184, 60), (1184,))"
      ]
     },
     "execution_count": 44,
     "metadata": {},
     "output_type": "execute_result"
    }
   ],
   "source": [
    "scaled_data.shape, X.shape, y.shape"
   ]
  },
  {
   "cell_type": "code",
   "execution_count": 45,
   "metadata": {},
   "outputs": [],
   "source": [
    "# Dividir os dados em treinamento e teste\n",
    "# O argumento shuffle=False desativa a aleatorização dos dados\n",
    "X_train, X_test, y_train, y_test = train_test_split(X, y, test_size=0.2, shuffle=False)"
   ]
  },
  {
   "cell_type": "code",
   "execution_count": 46,
   "metadata": {},
   "outputs": [],
   "source": [
    "# Ajustar o formato para o LSTM\n",
    "X_train = np.reshape(X_train, (X_train.shape[0], X_train.shape[1], 1))\n",
    "X_test = np.reshape(X_test, (X_test.shape[0], X_test.shape[1], 1))"
   ]
  },
  {
   "cell_type": "code",
   "execution_count": 47,
   "metadata": {},
   "outputs": [
    {
     "data": {
      "text/plain": [
       "237"
      ]
     },
     "execution_count": 47,
     "metadata": {},
     "output_type": "execute_result"
    }
   ],
   "source": [
    "len(X_test)\n",
    "# X = 1184 (5 anos de dias úteis em janelas de 60 dias [71040 valores])\n",
    "# X_test = 237 dias (20% dos 5 anos de dias úteis em janelas de 60 dias [14220 valores])\n",
    "# y = 1184 valores reais da ação\n",
    "# y_test = 20% dos valores reais da ação que serão utilizados para comparmos as nossas previsões"
   ]
  },
  {
   "cell_type": "code",
   "execution_count": 48,
   "metadata": {},
   "outputs": [],
   "source": [
    "# Criação de um modelo sequencial, onde as camadas são empilhadas uma após a outra\n",
    "model = Sequential([\n",
    "    # Define a forma da entrada: uma sequência de 'window_size' passos, cada um com 1 feature (ex: preço de fechamento da ação)\n",
    "    Input(shape=(window_size, 1)),\n",
    "    # Primeira camada LSTM com 100 unidades; retorna a sequência completa (uma saída por passo de tempo)\n",
    "    LSTM(100, return_sequences=True),\n",
    "    # Dropout de 30% para evitar overfitting (desativa aleatoriamente 30% dos neurônios durante o treino)\n",
    "    Dropout(0.3),\n",
    "    # Segunda camada LSTM com 100 unidades; também retorna a sequência completa\n",
    "    LSTM(100, return_sequences=True),\n",
    "    # Outro Dropout de 30% para regularização\n",
    "    Dropout(0.3),\n",
    "    # Terceira camada LSTM com 100 unidades; agora retorna apenas a última saída da sequência\n",
    "    LSTM(100),\n",
    "    # Mais um Dropout de 30% antes da saída final\n",
    "    Dropout(0.3),\n",
    "    # Camada densa (totalmente conectada) com 1 unidade; representa o valor final previsto (ex: o próximo valor)\n",
    "    Dense(1)\n",
    "])\n"
   ]
  },
  {
   "cell_type": "code",
   "execution_count": 49,
   "metadata": {},
   "outputs": [],
   "source": [
    "model.compile(optimizer=Adam(learning_rate=0.001), loss='mean_squared_error')\n"
   ]
  },
  {
   "cell_type": "code",
   "execution_count": 50,
   "metadata": {},
   "outputs": [
    {
     "name": "stdout",
     "output_type": "stream",
     "text": [
      "Epoch 1/10\n",
      "\u001b[1m30/30\u001b[0m \u001b[32m━━━━━━━━━━━━━━━━━━━━\u001b[0m\u001b[37m\u001b[0m \u001b[1m23s\u001b[0m 271ms/step - loss: 0.0325 - val_loss: 7.3505e-05 - learning_rate: 0.0010\n",
      "Epoch 2/10\n",
      "\u001b[1m30/30\u001b[0m \u001b[32m━━━━━━━━━━━━━━━━━━━━\u001b[0m\u001b[37m\u001b[0m \u001b[1m8s\u001b[0m 249ms/step - loss: 0.0034 - val_loss: 2.2342e-05 - learning_rate: 0.0010\n",
      "Epoch 3/10\n",
      "\u001b[1m30/30\u001b[0m \u001b[32m━━━━━━━━━━━━━━━━━━━━\u001b[0m\u001b[37m\u001b[0m \u001b[1m10s\u001b[0m 347ms/step - loss: 0.0044 - val_loss: 2.1336e-05 - learning_rate: 0.0010\n",
      "Epoch 4/10\n",
      "\u001b[1m30/30\u001b[0m \u001b[32m━━━━━━━━━━━━━━━━━━━━\u001b[0m\u001b[37m\u001b[0m \u001b[1m12s\u001b[0m 397ms/step - loss: 0.0024 - val_loss: 2.4507e-05 - learning_rate: 0.0010\n",
      "Epoch 5/10\n",
      "\u001b[1m30/30\u001b[0m \u001b[32m━━━━━━━━━━━━━━━━━━━━\u001b[0m\u001b[37m\u001b[0m \u001b[1m10s\u001b[0m 339ms/step - loss: 0.0026 - val_loss: 1.0226e-04 - learning_rate: 0.0010\n",
      "Epoch 6/10\n",
      "\u001b[1m30/30\u001b[0m \u001b[32m━━━━━━━━━━━━━━━━━━━━\u001b[0m\u001b[37m\u001b[0m \u001b[1m10s\u001b[0m 311ms/step - loss: 0.0024 - val_loss: 1.1413e-05 - learning_rate: 0.0010\n",
      "Epoch 7/10\n",
      "\u001b[1m30/30\u001b[0m \u001b[32m━━━━━━━━━━━━━━━━━━━━\u001b[0m\u001b[37m\u001b[0m \u001b[1m7s\u001b[0m 176ms/step - loss: 0.0021 - val_loss: 1.0772e-05 - learning_rate: 5.0000e-04\n",
      "Epoch 8/10\n",
      "\u001b[1m30/30\u001b[0m \u001b[32m━━━━━━━━━━━━━━━━━━━━\u001b[0m\u001b[37m\u001b[0m \u001b[1m6s\u001b[0m 200ms/step - loss: 0.0022 - val_loss: 5.2639e-05 - learning_rate: 5.0000e-04\n",
      "Epoch 9/10\n",
      "\u001b[1m30/30\u001b[0m \u001b[32m━━━━━━━━━━━━━━━━━━━━\u001b[0m\u001b[37m\u001b[0m \u001b[1m7s\u001b[0m 238ms/step - loss: 0.0021 - val_loss: 5.5066e-05 - learning_rate: 5.0000e-04\n",
      "Epoch 10/10\n",
      "\u001b[1m30/30\u001b[0m \u001b[32m━━━━━━━━━━━━━━━━━━━━\u001b[0m\u001b[37m\u001b[0m \u001b[1m7s\u001b[0m 215ms/step - loss: 0.0025 - val_loss: 1.0702e-05 - learning_rate: 5.0000e-04\n"
     ]
    },
    {
     "data": {
      "text/plain": [
       "<keras.src.callbacks.history.History at 0x22d90344ef0>"
      ]
     },
     "execution_count": 50,
     "metadata": {},
     "output_type": "execute_result"
    }
   ],
   "source": [
    "# Treinar o modelo\n",
    "early_stopping = EarlyStopping(monitor='val_loss', patience=10, restore_best_weights=True)\n",
    "reduce_lr = ReduceLROnPlateau(monitor='val_loss', factor=0.5, patience=5, min_lr=1e-5)\n",
    "\n",
    "model.fit(X_train, y_train, \n",
    "               epochs=10, \n",
    "               batch_size=32, \n",
    "               validation_data=(X_test, y_test),\n",
    "               callbacks=[early_stopping, reduce_lr], \n",
    "               verbose=1)\n"
   ]
  },
  {
   "cell_type": "code",
   "execution_count": 51,
   "metadata": {},
   "outputs": [
    {
     "name": "stdout",
     "output_type": "stream",
     "text": [
      "\u001b[1m8/8\u001b[0m \u001b[32m━━━━━━━━━━━━━━━━━━━━\u001b[0m\u001b[37m\u001b[0m \u001b[1m4s\u001b[0m 351ms/step\n"
     ]
    }
   ],
   "source": [
    "# Fazer previsões\n",
    "predicted_prices = model.predict(X_test)\n",
    "\n",
    "# Inverter a normalização\n",
    "predicted_prices = scaler.inverse_transform(predicted_prices)"
   ]
  },
  {
   "cell_type": "code",
   "execution_count": 52,
   "metadata": {},
   "outputs": [],
   "source": [
    "# Cria um DataFrame com as datas, os valores reais e os valores previstos\n",
    "df_predictions = pd.DataFrame({\n",
    "    \"Date\": ativo.index[len(X_train) + window_size : len(X_train) + window_size + len(predicted_prices)],\n",
    "    \"Real\": ativo['Close'].iloc[len(X_train) + window_size : len(X_train) + window_size + len(predicted_prices)].values.flatten(),\n",
    "    \"Previsão\": predicted_prices.flatten()\n",
    "})\n",
    "\n",
    "# Formata a coluna de data e define como índice\n",
    "df_predictions[\"Date\"] = pd.to_datetime(df_predictions[\"Date\"])\n",
    "df_predictions.set_index(\"Date\", inplace=True)\n"
   ]
  },
  {
   "cell_type": "code",
   "execution_count": 53,
   "metadata": {},
   "outputs": [
    {
     "data": {
      "text/html": [
       "<div>\n",
       "<style scoped>\n",
       "    .dataframe tbody tr th:only-of-type {\n",
       "        vertical-align: middle;\n",
       "    }\n",
       "\n",
       "    .dataframe tbody tr th {\n",
       "        vertical-align: top;\n",
       "    }\n",
       "\n",
       "    .dataframe thead th {\n",
       "        text-align: right;\n",
       "    }\n",
       "</style>\n",
       "<table border=\"1\" class=\"dataframe\">\n",
       "  <thead>\n",
       "    <tr style=\"text-align: right;\">\n",
       "      <th></th>\n",
       "      <th>Real</th>\n",
       "      <th>Previsão</th>\n",
       "    </tr>\n",
       "    <tr>\n",
       "      <th>Date</th>\n",
       "      <th></th>\n",
       "      <th></th>\n",
       "    </tr>\n",
       "  </thead>\n",
       "  <tbody>\n",
       "    <tr>\n",
       "      <th>2024-08-22</th>\n",
       "      <td>12.795100</td>\n",
       "      <td>11.944777</td>\n",
       "    </tr>\n",
       "    <tr>\n",
       "      <th>2024-08-23</th>\n",
       "      <td>13.222250</td>\n",
       "      <td>12.082080</td>\n",
       "    </tr>\n",
       "    <tr>\n",
       "      <th>2024-08-26</th>\n",
       "      <td>12.960135</td>\n",
       "      <td>12.209888</td>\n",
       "    </tr>\n",
       "    <tr>\n",
       "      <th>2024-08-27</th>\n",
       "      <td>13.076631</td>\n",
       "      <td>12.322676</td>\n",
       "    </tr>\n",
       "    <tr>\n",
       "      <th>2024-08-28</th>\n",
       "      <td>12.795100</td>\n",
       "      <td>12.419528</td>\n",
       "    </tr>\n",
       "    <tr>\n",
       "      <th>...</th>\n",
       "      <td>...</td>\n",
       "      <td>...</td>\n",
       "    </tr>\n",
       "    <tr>\n",
       "      <th>2025-07-30</th>\n",
       "      <td>7.340000</td>\n",
       "      <td>8.100571</td>\n",
       "    </tr>\n",
       "    <tr>\n",
       "      <th>2025-07-31</th>\n",
       "      <td>7.060000</td>\n",
       "      <td>8.012257</td>\n",
       "    </tr>\n",
       "    <tr>\n",
       "      <th>2025-08-01</th>\n",
       "      <td>7.220000</td>\n",
       "      <td>7.926595</td>\n",
       "    </tr>\n",
       "    <tr>\n",
       "      <th>2025-08-04</th>\n",
       "      <td>7.180000</td>\n",
       "      <td>7.846700</td>\n",
       "    </tr>\n",
       "    <tr>\n",
       "      <th>2025-08-05</th>\n",
       "      <td>7.200000</td>\n",
       "      <td>7.774127</td>\n",
       "    </tr>\n",
       "  </tbody>\n",
       "</table>\n",
       "<p>237 rows × 2 columns</p>\n",
       "</div>"
      ],
      "text/plain": [
       "                 Real   Previsão\n",
       "Date                            \n",
       "2024-08-22  12.795100  11.944777\n",
       "2024-08-23  13.222250  12.082080\n",
       "2024-08-26  12.960135  12.209888\n",
       "2024-08-27  13.076631  12.322676\n",
       "2024-08-28  12.795100  12.419528\n",
       "...               ...        ...\n",
       "2025-07-30   7.340000   8.100571\n",
       "2025-07-31   7.060000   8.012257\n",
       "2025-08-01   7.220000   7.926595\n",
       "2025-08-04   7.180000   7.846700\n",
       "2025-08-05   7.200000   7.774127\n",
       "\n",
       "[237 rows x 2 columns]"
      ]
     },
     "execution_count": 53,
     "metadata": {},
     "output_type": "execute_result"
    }
   ],
   "source": [
    "df_predictions"
   ]
  },
  {
   "cell_type": "code",
   "execution_count": 54,
   "metadata": {},
   "outputs": [
    {
     "name": "stdout",
     "output_type": "stream",
     "text": [
      "📊 MÉTRICAS DE ERRO DO MODELO LSTM 📊\n",
      "\n",
      "🔹 MAE  (Erro Absoluto Médio):\n",
      "     → Em média, o modelo erra cerca de 0.6252 unidades em cada previsão.\n",
      "\n",
      "🔹 MSE  (Erro Quadrático Médio):\n",
      "     → Erros maiores são penalizados. Valor: 0.6328\n",
      "\n",
      "🔹 RMSE (Raiz do Erro Médio Quadrático):\n",
      "     → Erro médio em unidades reais: 0.7955\n",
      "\n",
      "🔹 R²   (Coeficiente de Determinação):\n",
      "     → 0.7421 (ou 74.21%) da variação nos dados reais foi explicada pelo modelo.\n",
      "\n",
      "✅ Interpretação rápida:\n",
      "     • Quanto menores o MAE, MSE e RMSE, melhor o modelo.\n",
      "     • Quanto mais próximo de 1 o R², melhor a qualidade da previsão.\n"
     ]
    }
   ],
   "source": [
    "# Calcular métricas de desempenho do modelo\n",
    "mae = mean_absolute_error(df_predictions[\"Real\"], df_predictions[\"Previsão\"])  # Erro absoluto médio\n",
    "mse = mean_squared_error(df_predictions[\"Real\"], df_predictions[\"Previsão\"])  # Erro quadrático médio\n",
    "rmse = np.sqrt(mse)  # Raiz do erro quadrático médio\n",
    "r2 = r2_score(df_predictions[\"Real\"], df_predictions[\"Previsão\"])  # Coeficiente de determinação (R²)\n",
    "\n",
    "# Imprimir as métricas com comentários para organização\n",
    "print(\"📊 MÉTRICAS DE ERRO DO MODELO LSTM 📊\\n\")\n",
    "\n",
    "print(\"🔹 MAE  (Erro Absoluto Médio):\")\n",
    "print(f\"     → Em média, o modelo erra cerca de {mae:.4f} unidades em cada previsão.\\n\")\n",
    "\n",
    "print(\"🔹 MSE  (Erro Quadrático Médio):\")\n",
    "print(f\"     → Erros maiores são penalizados. Valor: {mse:.4f}\\n\")\n",
    "\n",
    "print(\"🔹 RMSE (Raiz do Erro Médio Quadrático):\")\n",
    "print(f\"     → Erro médio em unidades reais: {rmse:.4f}\\n\")\n",
    "\n",
    "print(\"🔹 R²   (Coeficiente de Determinação):\")\n",
    "print(f\"     → {r2:.4f} (ou {r2 * 100:.2f}%) da variação nos dados reais foi explicada pelo modelo.\\n\")\n",
    "\n",
    "print(\"✅ Interpretação rápida:\")\n",
    "print(\"     • Quanto menores o MAE, MSE e RMSE, melhor o modelo.\")\n",
    "print(\"     • Quanto mais próximo de 1 o R², melhor a qualidade da previsão.\")\n"
   ]
  },
  {
   "cell_type": "code",
   "execution_count": 55,
   "metadata": {},
   "outputs": [
    {
     "data": {
      "image/png": "[encoded data removed]",
      "text/plain": [
       "<Figure size 1200x600 with 1 Axes>"
      ]
     },
     "metadata": {},
     "output_type": "display_data"
    }
   ],
   "source": [
    "import matplotlib.pyplot as plt\n",
    "\n",
    "# Criar o gráfico\n",
    "plt.figure(figsize=(12, 6))\n",
    "plt.plot(df_predictions.index, df_predictions[\"Real\"], label=\"Preço Real\", linestyle=\"-\", color=\"blue\")\n",
    "plt.plot(df_predictions.index, df_predictions[\"Previsão\"], label=\"Previsão LSTM\", linestyle=\"--\", color=\"red\")\n",
    "\n",
    "# Adicionar títulos e legendas\n",
    "plt.title(\"Comparação entre Preço Real e Previsão do Modelo LSTM\", fontsize=14)\n",
    "plt.xlabel(\"Data\", fontsize=12)\n",
    "plt.ylabel(\"Preço de Fechamento\", fontsize=12)\n",
    "plt.legend()\n",
    "plt.grid(True)\n",
    "\n",
    "# Mostrar o gráfico\n",
    "plt.show()\n"
   ]
  },
  {
   "cell_type": "code",
   "execution_count": 56,
   "metadata": {},
   "outputs": [
    {
     "name": "stdout",
     "output_type": "stream",
     "text": [
      "Media lucro: Modelo acertou tendência\n",
      "False    0.032281\n",
      "True     0.031223\n",
      "Name: Variação percentual real absoluto, dtype: float64\n",
      "Ganho sobre perda: 0.9672168416913544\n",
      "Acertou lado: 0.538135593220339\n",
      "rendimento diário: 0.1893%\n"
     ]
    },
    {
     "name": "stderr",
     "output_type": "stream",
     "text": [
      "C:\\Users\\pedro\\AppData\\Local\\Temp\\ipykernel_29576\\3448409587.py:46: FutureWarning: Series.__getitem__ treating keys as positions is deprecated. In a future version, integer keys will always be treated as labels (consistent with DataFrame behavior). To access a value by position, use `ser.iloc[pos]`\n",
      "  exp_mat_lucro = acertou_lado * media_lucro[1] - media_lucro[0] * errou_lado\n",
      "C:\\Users\\pedro\\AppData\\Local\\Temp\\ipykernel_29576\\3448409587.py:49: FutureWarning: Series.__getitem__ treating keys as positions is deprecated. In a future version, integer keys will always be treated as labels (consistent with DataFrame behavior). To access a value by position, use `ser.iloc[pos]`\n",
      "  ganho_sobre_perda = media_lucro[1]/media_lucro[0]\n"
     ]
    }
   ],
   "source": [
    "# Calcular média de acertos e expectativa de lucro\n",
    "df_predictions = df_predictions.copy()\n",
    "\n",
    "df_predictions['Variação percentual real'] = df_predictions['Real'].pct_change()\n",
    "\n",
    "#Nova coluna com a variação percentual da ação prevista\n",
    "df_predictions['Variação percentual previsão'] = df_predictions['Previsão'].pct_change()\n",
    "\n",
    "#Remover valores nulos\n",
    "df_predictions = df_predictions.dropna()\n",
    "\n",
    "#Nova coluna com a informação se a ação subiu ou não\n",
    "df_predictions['Ação subiu'] = np.where(df_predictions['Variação percentual real'] > 0, \n",
    "                                                      True, False)\n",
    "\n",
    "#Nova coluna com a informação se a previsão subiu ou não\n",
    "df_predictions['Previsão subiu'] = np.where(df_predictions['Variação percentual previsão'] > 0, \n",
    "                                                      True, False)\n",
    "\n",
    "#Nova coluna com a informação se o modelo acertou a tendência\n",
    "df_predictions['Modelo acertou tendência'] = np.where(df_predictions['Ação subiu'] == df_predictions['Previsão subiu']\n",
    "                                      , True, False)\n",
    "\n",
    "#Nova coluna com a variação percentual real absoluta\n",
    "df_predictions['Variação percentual real absoluto'] = df_predictions['Variação percentual real'].abs()\n",
    "\n",
    "#calcular media de acertos e expectativa de lucro\n",
    "acertou_lado = df_predictions['Modelo acertou tendência'].sum()/len(df_predictions['Modelo acertou tendência'])\n",
    "\n",
    "#calcular media de erros e expectativa de lucro\n",
    "errou_lado = 1 - acertou_lado\n",
    "\n",
    "#calcular media de lucro agrupado por acertos e erros\n",
    "media_lucro = df_predictions.groupby('Modelo acertou tendência')['Variação percentual real absoluto'].mean()\n",
    "\n",
    "#calcular media de acertos e expectativa de lucro\n",
    "acertou_lado = df_predictions['Modelo acertou tendência'].sum()/len(df_predictions['Modelo acertou tendência'])\n",
    "\n",
    "#calcular media de erros e expectativa de lucro\n",
    "errou_lado = 1 - acertou_lado\n",
    "\n",
    "#calcular media de lucro agrupado por acertos e erros\n",
    "media_lucro = df_predictions.groupby('Modelo acertou tendência')['Variação percentual real absoluto'].mean()\n",
    "\n",
    "#calcular expectativa matematica de lucro\n",
    "exp_mat_lucro = acertou_lado * media_lucro[1] - media_lucro[0] * errou_lado\n",
    "\n",
    "#calcular ganho sobre perda\n",
    "ganho_sobre_perda = media_lucro[1]/media_lucro[0]\n",
    "\n",
    "#calcular rendimento diario\n",
    "exp_mat_lucro_percent = exp_mat_lucro * 100\n",
    "\n",
    "print(f\"Media lucro: {media_lucro}\")\n",
    "print(f\"Ganho sobre perda: {ganho_sobre_perda}\")\n",
    "print(f\"Acertou lado: {acertou_lado}\")\n",
    "print(\"rendimento diário: \" + str(round(exp_mat_lucro_percent, 4)) + \"%\")\n"
   ]
  },
  {
   "cell_type": "code",
   "execution_count": 57,
   "metadata": {},
   "outputs": [
    {
     "name": "stderr",
     "output_type": "stream",
     "text": [
      "C:\\Users\\pedro\\AppData\\Local\\Temp\\ipykernel_29576\\1141091753.py:14: FutureWarning: YF.download() has changed argument auto_adjust default to True\n",
      "  cotacoes = yf.download(acao, start=data_inicial, end=data_final)\n",
      "[*********************100%***********************]  1 of 1 completed\n"
     ]
    },
    {
     "name": "stdout",
     "output_type": "stream",
     "text": [
      "\u001b[1m1/1\u001b[0m \u001b[32m━━━━━━━━━━━━━━━━━━━━\u001b[0m\u001b[37m\u001b[0m \u001b[1m0s\u001b[0m 135ms/step\n",
      "\n",
      "Preço de fechamento previsto para hoje:\n",
      "R$ 7.77\n"
     ]
    }
   ],
   "source": [
    "# Define o intervalo de datas com base no horário atual\n",
    "hoje = datetime.now()\n",
    "\n",
    "if hoje.hour > 18:\n",
    "    data_final = hoje\n",
    "    texto_previsao = \"\\nPreço de fechamento previsto para amanhã:\"\n",
    "else:\n",
    "    data_final = hoje - timedelta(days=1)\n",
    "    texto_previsao = \"\\nPreço de fechamento previsto para hoje:\"\n",
    "\n",
    "data_inicial = hoje - timedelta(days=252)\n",
    "\n",
    "# Baixa as cotações da ação no intervalo\n",
    "cotacoes = yf.download(acao, start=data_inicial, end=data_final)\n",
    "\n",
    "# Seleciona os últimos 60 dias de fechamento e normaliza\n",
    "ultimos_60_dias = cotacoes['Close'].iloc[-60:].values.reshape(-1, 1)\n",
    "ultimos_60_dias_df = pd.DataFrame(ultimos_60_dias, columns=scaler.feature_names_in_)\n",
    "ultimos_60_dias_scaled = scaler.transform(ultimos_60_dias_df)\n",
    "\n",
    "# Prepara os dados para o modelo\n",
    "X_input = np.array([ultimos_60_dias_scaled])\n",
    "X_input = X_input.reshape(X_input.shape[0], X_input.shape[1], 1)\n",
    "\n",
    "# Faz a previsão e reverte a escala\n",
    "predicted_price = model.predict(X_input)\n",
    "predicted_price = scaler.inverse_transform(predicted_price)\n",
    "\n",
    "# Mostra o resultado\n",
    "print(texto_previsao)\n",
    "print(f\"R$ {predicted_price[0][0]:.2f}\")\n"
   ]
  },
  {
   "cell_type": "code",
   "execution_count": 59,
   "metadata": {},
   "outputs": [
    {
     "name": "stdout",
     "output_type": "stream",
     "text": [
      "📊 Comparativo de Preço Real vs Estimado:\n",
      "\n"
     ]
    },
    {
     "data": {
      "text/html": [
       "<div>\n",
       "<style scoped>\n",
       "    .dataframe tbody tr th:only-of-type {\n",
       "        vertical-align: middle;\n",
       "    }\n",
       "\n",
       "    .dataframe tbody tr th {\n",
       "        vertical-align: top;\n",
       "    }\n",
       "\n",
       "    .dataframe thead th {\n",
       "        text-align: right;\n",
       "    }\n",
       "</style>\n",
       "<table border=\"1\" class=\"dataframe\">\n",
       "  <thead>\n",
       "    <tr style=\"text-align: right;\">\n",
       "      <th></th>\n",
       "      <th>Preço Real</th>\n",
       "      <th>Preço Estimado</th>\n",
       "    </tr>\n",
       "    <tr>\n",
       "      <th>Date</th>\n",
       "      <th></th>\n",
       "      <th></th>\n",
       "    </tr>\n",
       "  </thead>\n",
       "  <tbody>\n",
       "    <tr>\n",
       "      <th>2025-08-01</th>\n",
       "      <td>R$ 7.22</td>\n",
       "      <td>R$ 7.93</td>\n",
       "    </tr>\n",
       "    <tr>\n",
       "      <th>2025-08-04</th>\n",
       "      <td>R$ 7.18</td>\n",
       "      <td>R$ 7.85</td>\n",
       "    </tr>\n",
       "    <tr>\n",
       "      <th>2025-08-05</th>\n",
       "      <td>R$ 7.20</td>\n",
       "      <td>R$ 7.77</td>\n",
       "    </tr>\n",
       "  </tbody>\n",
       "</table>\n",
       "</div>"
      ],
      "text/plain": [
       "           Preço Real Preço Estimado\n",
       "Date                                \n",
       "2025-08-01    R$ 7.22        R$ 7.93\n",
       "2025-08-04    R$ 7.18        R$ 7.85\n",
       "2025-08-05    R$ 7.20        R$ 7.77"
      ]
     },
     "metadata": {},
     "output_type": "display_data"
    }
   ],
   "source": [
    "import pandas as pd\n",
    "from datetime import timedelta\n",
    "\n",
    "# Define o número de dias para exibir\n",
    "dias_passados = 4\n",
    "dias_futuros = 1\n",
    "\n",
    "# Garante que o DataFrame de previsões está com o índice como datetime\n",
    "df_predictions.index = pd.to_datetime(df_predictions.index)\n",
    "\n",
    "# Define a data final (último dia disponível)\n",
    "data_final = df_predictions.index.max()\n",
    "\n",
    "# Define o intervalo de datas: do passado até o futuro\n",
    "data_inicial = data_final - timedelta(days=dias_passados)\n",
    "data_futura = data_final + timedelta(days=dias_futuros)\n",
    "\n",
    "# Filtra o DataFrame para o intervalo desejado e apenas as colunas 'Real' e 'Previsão'\n",
    "df_resultado = df_predictions.loc[data_inicial:data_futura, ['Real', 'Previsão']].copy()\n",
    "\n",
    "# Formata os valores para 2 casas decimais\n",
    "df_resultado['Real'] = df_resultado['Real'].map(lambda x: f\"R$ {x:.2f}\")\n",
    "df_resultado['Previsão'] = df_resultado['Previsão'].map(lambda x: f\"R$ {x:.2f}\")\n",
    "\n",
    "# Renomeia as colunas\n",
    "df_resultado.columns = ['Preço Real', 'Preço Estimado']\n",
    "\n",
    "# Exibe o resultado\n",
    "print(\"📊 Comparativo de Preço Real vs Estimado:\\n\")\n",
    "display(df_resultado)\n"
   ]
  },
  {
   "cell_type": "code",
   "execution_count": null,
   "metadata": {},
   "outputs": [],
   "source": []
  }
 ],
 "metadata": {
  "kernelspec": {
   "display_name": "Python 3",
   "language": "python",
   "name": "python3"
  },
  "language_info": {
   "codemirror_mode": {
    "name": "ipython",
    "version": 3
   },
   "file_extension": ".py",
   "mimetype": "text/x-python",
   "name": "python",
   "nbconvert_exporter": "python",
   "pygments_lexer": "ipython3",
   "version": "3.12.1"
  }
 },
 "nbformat": 4,
 "nbformat_minor": 2
}
