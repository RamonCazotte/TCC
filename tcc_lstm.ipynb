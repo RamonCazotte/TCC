{
 "cells": [
  {
   "cell_type": "markdown",
   "metadata": {},
   "source": [
    "LSTM"
   ]
  },
  {
   "cell_type": "code",
   "execution_count": 1,
   "metadata": {},
   "outputs": [
    {
     "name": "stdout",
     "output_type": "stream",
     "text": [
      "Requirement already satisfied: yfinance in c:\\python312\\lib\\site-packages (0.2.50)\n",
      "Requirement already satisfied: pandas>=1.3.0 in c:\\python312\\lib\\site-packages (from yfinance) (2.2.1)\n",
      "Requirement already satisfied: numpy>=1.16.5 in c:\\python312\\lib\\site-packages (from yfinance) (1.26.4)\n",
      "Requirement already satisfied: requests>=2.31 in c:\\python312\\lib\\site-packages (from yfinance) (2.31.0)\n",
      "Requirement already satisfied: multitasking>=0.0.7 in c:\\python312\\lib\\site-packages (from yfinance) (0.0.11)\n",
      "Requirement already satisfied: lxml>=4.9.1 in c:\\python312\\lib\\site-packages (from yfinance) (5.3.0)\n",
      "Requirement already satisfied: platformdirs>=2.0.0 in c:\\users\\pedro\\appdata\\roaming\\python\\python312\\site-packages (from yfinance) (4.2.0)\n",
      "Requirement already satisfied: pytz>=2022.5 in c:\\python312\\lib\\site-packages (from yfinance) (2024.1)\n",
      "Requirement already satisfied: frozendict>=2.3.4 in c:\\python312\\lib\\site-packages (from yfinance) (2.4.6)\n",
      "Requirement already satisfied: peewee>=3.16.2 in c:\\python312\\lib\\site-packages (from yfinance) (3.17.8)\n",
      "Requirement already satisfied: beautifulsoup4>=4.11.1 in c:\\python312\\lib\\site-packages (from yfinance) (4.12.3)\n",
      "Requirement already satisfied: html5lib>=1.1 in c:\\python312\\lib\\site-packages (from yfinance) (1.1)\n",
      "Requirement already satisfied: soupsieve>1.2 in c:\\python312\\lib\\site-packages (from beautifulsoup4>=4.11.1->yfinance) (2.5)\n",
      "Requirement already satisfied: six>=1.9 in c:\\python312\\lib\\site-packages (from html5lib>=1.1->yfinance) (1.16.0)\n",
      "Requirement already satisfied: webencodings in c:\\python312\\lib\\site-packages (from html5lib>=1.1->yfinance) (0.5.1)\n",
      "Requirement already satisfied: python-dateutil>=2.8.2 in c:\\python312\\lib\\site-packages (from pandas>=1.3.0->yfinance) (2.8.2)\n",
      "Requirement already satisfied: tzdata>=2022.7 in c:\\python312\\lib\\site-packages (from pandas>=1.3.0->yfinance) (2024.1)\n",
      "Requirement already satisfied: charset-normalizer<4,>=2 in c:\\python312\\lib\\site-packages (from requests>=2.31->yfinance) (3.3.2)\n",
      "Requirement already satisfied: idna<4,>=2.5 in c:\\python312\\lib\\site-packages (from requests>=2.31->yfinance) (3.7)\n",
      "Requirement already satisfied: urllib3<3,>=1.21.1 in c:\\python312\\lib\\site-packages (from requests>=2.31->yfinance) (2.2.1)\n",
      "Requirement already satisfied: certifi>=2017.4.17 in c:\\python312\\lib\\site-packages (from requests>=2.31->yfinance) (2024.2.2)\n"
     ]
    },
    {
     "name": "stderr",
     "output_type": "stream",
     "text": [
      "\n",
      "[notice] A new release of pip is available: 24.0 -> 25.0\n",
      "[notice] To update, run: python.exe -m pip install --upgrade pip\n"
     ]
    }
   ],
   "source": [
    "!%pip install yfinance"
   ]
  },
  {
   "cell_type": "code",
   "execution_count": null,
   "metadata": {},
   "outputs": [],
   "source": [
    "import yfinance as yf\n",
    "import pandas as pd\n",
    "import numpy as np\n",
    "from sklearn.model_selection import train_test_split\n",
    "from sklearn.preprocessing import MinMaxScaler\n",
    "from tensorflow.keras.models import Sequential\n",
    "from tensorflow.keras.layers import LSTM, Dense, Dropout\n",
    "from sklearn.metrics import mean_squared_error\n",
    "import matplotlib.pyplot as plt\n",
    "from sklearn.metrics import mean_absolute_error, mean_squared_error, r2_score\n"
   ]
  },
  {
   "cell_type": "code",
   "execution_count": 3,
   "metadata": {},
   "outputs": [
    {
     "name": "stderr",
     "output_type": "stream",
     "text": [
      "[*********************100%***********************]  1 of 1 completed\n"
     ]
    }
   ],
   "source": [
    "\n",
    "# Baixar dados históricos da ação MGLU3 dos últimos 5 anos\n",
    "mglu3 = yf.download('MGLU3.SA', period=\"5y\")\n"
   ]
  },
  {
   "cell_type": "code",
   "execution_count": 4,
   "metadata": {},
   "outputs": [
    {
     "name": "stdout",
     "output_type": "stream",
     "text": [
      "Price        Adj Close       Close        High         Low        Open  \\\n",
      "Ticker        MGLU3.SA    MGLU3.SA    MGLU3.SA    MGLU3.SA    MGLU3.SA   \n",
      "Date                                                                     \n",
      "2020-02-06  130.170090  130.547760  135.972626  130.477600  135.621887   \n",
      "2020-02-07  126.439621  126.806458  130.781586  125.099495  130.243774   \n",
      "2020-02-10  122.126266  122.480591  129.846268  120.516411  126.268646   \n",
      "2020-02-11  126.532883  126.899994  128.139297  120.960693  124.398003   \n",
      "2020-02-12  130.426559  130.804962  132.231339  126.853226  127.507957   \n",
      "\n",
      "Price        Volume  \n",
      "Ticker     MGLU3.SA  \n",
      "Date                 \n",
      "2020-02-06  4401044  \n",
      "2020-02-07  4178576  \n",
      "2020-02-10  5487385  \n",
      "2020-02-11  4057933  \n",
      "2020-02-12  4501544  \n"
     ]
    }
   ],
   "source": [
    "# Exibir os primeiros 5 registros\n",
    "print(mglu3.head(5))"
   ]
  },
  {
   "cell_type": "code",
   "execution_count": 5,
   "metadata": {},
   "outputs": [
    {
     "data": {
      "text/html": [
       "<div>\n",
       "<style scoped>\n",
       "    .dataframe tbody tr th:only-of-type {\n",
       "        vertical-align: middle;\n",
       "    }\n",
       "\n",
       "    .dataframe tbody tr th {\n",
       "        vertical-align: top;\n",
       "    }\n",
       "\n",
       "    .dataframe thead tr th {\n",
       "        text-align: left;\n",
       "    }\n",
       "\n",
       "    .dataframe thead tr:last-of-type th {\n",
       "        text-align: right;\n",
       "    }\n",
       "</style>\n",
       "<table border=\"1\" class=\"dataframe\">\n",
       "  <thead>\n",
       "    <tr>\n",
       "      <th>Price</th>\n",
       "      <th>Adj Close</th>\n",
       "      <th>Close</th>\n",
       "      <th>High</th>\n",
       "      <th>Low</th>\n",
       "      <th>Open</th>\n",
       "      <th>Volume</th>\n",
       "    </tr>\n",
       "    <tr>\n",
       "      <th>Ticker</th>\n",
       "      <th>MGLU3.SA</th>\n",
       "      <th>MGLU3.SA</th>\n",
       "      <th>MGLU3.SA</th>\n",
       "      <th>MGLU3.SA</th>\n",
       "      <th>MGLU3.SA</th>\n",
       "      <th>MGLU3.SA</th>\n",
       "    </tr>\n",
       "    <tr>\n",
       "      <th>Date</th>\n",
       "      <th></th>\n",
       "      <th></th>\n",
       "      <th></th>\n",
       "      <th></th>\n",
       "      <th></th>\n",
       "      <th></th>\n",
       "    </tr>\n",
       "  </thead>\n",
       "  <tbody>\n",
       "    <tr>\n",
       "      <th>2025-01-29</th>\n",
       "      <td>6.59</td>\n",
       "      <td>6.59</td>\n",
       "      <td>6.86</td>\n",
       "      <td>6.46</td>\n",
       "      <td>6.83</td>\n",
       "      <td>20659600</td>\n",
       "    </tr>\n",
       "    <tr>\n",
       "      <th>2025-01-30</th>\n",
       "      <td>7.27</td>\n",
       "      <td>7.27</td>\n",
       "      <td>7.42</td>\n",
       "      <td>6.71</td>\n",
       "      <td>6.71</td>\n",
       "      <td>31780200</td>\n",
       "    </tr>\n",
       "    <tr>\n",
       "      <th>2025-01-31</th>\n",
       "      <td>7.46</td>\n",
       "      <td>7.46</td>\n",
       "      <td>7.56</td>\n",
       "      <td>7.20</td>\n",
       "      <td>7.31</td>\n",
       "      <td>25872400</td>\n",
       "    </tr>\n",
       "    <tr>\n",
       "      <th>2025-02-03</th>\n",
       "      <td>7.22</td>\n",
       "      <td>7.22</td>\n",
       "      <td>7.32</td>\n",
       "      <td>7.08</td>\n",
       "      <td>7.32</td>\n",
       "      <td>22910800</td>\n",
       "    </tr>\n",
       "    <tr>\n",
       "      <th>2025-02-04</th>\n",
       "      <td>7.24</td>\n",
       "      <td>7.24</td>\n",
       "      <td>7.30</td>\n",
       "      <td>6.81</td>\n",
       "      <td>7.15</td>\n",
       "      <td>28804500</td>\n",
       "    </tr>\n",
       "    <tr>\n",
       "      <th>2025-02-05</th>\n",
       "      <td>6.88</td>\n",
       "      <td>6.88</td>\n",
       "      <td>7.21</td>\n",
       "      <td>6.86</td>\n",
       "      <td>7.21</td>\n",
       "      <td>20919700</td>\n",
       "    </tr>\n",
       "    <tr>\n",
       "      <th>2025-02-06</th>\n",
       "      <td>7.39</td>\n",
       "      <td>7.39</td>\n",
       "      <td>7.42</td>\n",
       "      <td>6.91</td>\n",
       "      <td>6.91</td>\n",
       "      <td>27362200</td>\n",
       "    </tr>\n",
       "  </tbody>\n",
       "</table>\n",
       "</div>"
      ],
      "text/plain": [
       "Price      Adj Close    Close     High      Low     Open    Volume\n",
       "Ticker      MGLU3.SA MGLU3.SA MGLU3.SA MGLU3.SA MGLU3.SA  MGLU3.SA\n",
       "Date                                                              \n",
       "2025-01-29      6.59     6.59     6.86     6.46     6.83  20659600\n",
       "2025-01-30      7.27     7.27     7.42     6.71     6.71  31780200\n",
       "2025-01-31      7.46     7.46     7.56     7.20     7.31  25872400\n",
       "2025-02-03      7.22     7.22     7.32     7.08     7.32  22910800\n",
       "2025-02-04      7.24     7.24     7.30     6.81     7.15  28804500\n",
       "2025-02-05      6.88     6.88     7.21     6.86     7.21  20919700\n",
       "2025-02-06      7.39     7.39     7.42     6.91     6.91  27362200"
      ]
     },
     "execution_count": 5,
     "metadata": {},
     "output_type": "execute_result"
    }
   ],
   "source": [
    "# Pegue os 7 últimos elementos do dataframe 'mglu3'\n",
    "mglu3.tail(7)"
   ]
  },
  {
   "cell_type": "code",
   "execution_count": 6,
   "metadata": {},
   "outputs": [
    {
     "data": {
      "text/plain": [
       "array([[130.54776001],\n",
       "       [126.80645752],\n",
       "       [122.48059082],\n",
       "       ...,\n",
       "       [  7.23999977],\n",
       "       [  6.88000011],\n",
       "       [  7.38999987]])"
      ]
     },
     "execution_count": 6,
     "metadata": {},
     "output_type": "execute_result"
    }
   ],
   "source": [
    "# Pega somente o att \"Close\" e armazena em um array bidimensional\n",
    "mglu3_close = mglu3['Close'].dropna().to_numpy().reshape(-1, 1)\n",
    "mglu3_close"
   ]
  },
  {
   "cell_type": "code",
   "execution_count": 7,
   "metadata": {},
   "outputs": [
    {
     "data": {
      "text/plain": [
       "1"
      ]
     },
     "execution_count": 7,
     "metadata": {},
     "output_type": "execute_result"
    }
   ],
   "source": [
    "mglu3_close[0].size"
   ]
  },
  {
   "cell_type": "code",
   "execution_count": 8,
   "metadata": {},
   "outputs": [],
   "source": [
    "# Criar um DataFrame com os valores ajustados\n",
    "data = pd.DataFrame(mglu3_close)\n",
    "data.columns = ['Close']"
   ]
  },
  {
   "cell_type": "code",
   "execution_count": 9,
   "metadata": {},
   "outputs": [],
   "source": [
    "# Normalizar os dados para os modelos\n",
    "scaler = MinMaxScaler(feature_range=(0, 1))\n",
    "data['Scaled_Close'] = scaler.fit_transform(data[['Close']])"
   ]
  },
  {
   "cell_type": "code",
   "execution_count": 10,
   "metadata": {},
   "outputs": [
    {
     "data": {
      "text/html": [
       "<div>\n",
       "<style scoped>\n",
       "    .dataframe tbody tr th:only-of-type {\n",
       "        vertical-align: middle;\n",
       "    }\n",
       "\n",
       "    .dataframe tbody tr th {\n",
       "        vertical-align: top;\n",
       "    }\n",
       "\n",
       "    .dataframe thead th {\n",
       "        text-align: right;\n",
       "    }\n",
       "</style>\n",
       "<table border=\"1\" class=\"dataframe\">\n",
       "  <thead>\n",
       "    <tr style=\"text-align: right;\">\n",
       "      <th></th>\n",
       "      <th>Close</th>\n",
       "      <th>Scaled_Close</th>\n",
       "    </tr>\n",
       "  </thead>\n",
       "  <tbody>\n",
       "    <tr>\n",
       "      <th>0</th>\n",
       "      <td>130.547760</td>\n",
       "      <td>0.497089</td>\n",
       "    </tr>\n",
       "    <tr>\n",
       "      <th>1</th>\n",
       "      <td>126.806458</td>\n",
       "      <td>0.482180</td>\n",
       "    </tr>\n",
       "    <tr>\n",
       "      <th>2</th>\n",
       "      <td>122.480591</td>\n",
       "      <td>0.464941</td>\n",
       "    </tr>\n",
       "    <tr>\n",
       "      <th>3</th>\n",
       "      <td>126.899994</td>\n",
       "      <td>0.482553</td>\n",
       "    </tr>\n",
       "    <tr>\n",
       "      <th>4</th>\n",
       "      <td>130.804962</td>\n",
       "      <td>0.498114</td>\n",
       "    </tr>\n",
       "    <tr>\n",
       "      <th>...</th>\n",
       "      <td>...</td>\n",
       "      <td>...</td>\n",
       "    </tr>\n",
       "    <tr>\n",
       "      <th>1240</th>\n",
       "      <td>7.460000</td>\n",
       "      <td>0.006575</td>\n",
       "    </tr>\n",
       "    <tr>\n",
       "      <th>1241</th>\n",
       "      <td>7.220000</td>\n",
       "      <td>0.005619</td>\n",
       "    </tr>\n",
       "    <tr>\n",
       "      <th>1242</th>\n",
       "      <td>7.240000</td>\n",
       "      <td>0.005699</td>\n",
       "    </tr>\n",
       "    <tr>\n",
       "      <th>1243</th>\n",
       "      <td>6.880000</td>\n",
       "      <td>0.004264</td>\n",
       "    </tr>\n",
       "    <tr>\n",
       "      <th>1244</th>\n",
       "      <td>7.390000</td>\n",
       "      <td>0.006296</td>\n",
       "    </tr>\n",
       "  </tbody>\n",
       "</table>\n",
       "<p>1245 rows × 2 columns</p>\n",
       "</div>"
      ],
      "text/plain": [
       "           Close  Scaled_Close\n",
       "0     130.547760      0.497089\n",
       "1     126.806458      0.482180\n",
       "2     122.480591      0.464941\n",
       "3     126.899994      0.482553\n",
       "4     130.804962      0.498114\n",
       "...          ...           ...\n",
       "1240    7.460000      0.006575\n",
       "1241    7.220000      0.005619\n",
       "1242    7.240000      0.005699\n",
       "1243    6.880000      0.004264\n",
       "1244    7.390000      0.006296\n",
       "\n",
       "[1245 rows x 2 columns]"
      ]
     },
     "execution_count": 10,
     "metadata": {},
     "output_type": "execute_result"
    }
   ],
   "source": [
    "data"
   ]
  },
  {
   "cell_type": "code",
   "execution_count": 11,
   "metadata": {},
   "outputs": [],
   "source": [
    "# Função para criar janelas de dados\n",
    "# janela de dados = quantidade de dias do X\n",
    "def create_dataset(data, window_size=60):\n",
    "    X, y = [], []\n",
    "    for i in range(len(data) - window_size):\n",
    "        X.append(data[i:i + window_size])\n",
    "        y.append(data[i + window_size])\n",
    "    return np.array(X), np.array(y)"
   ]
  },
  {
   "cell_type": "code",
   "execution_count": 12,
   "metadata": {},
   "outputs": [],
   "source": [
    "# Criar conjunto de dados\n",
    "window_size = 60 # 60 ultimos dias\n",
    "scaled_data = data['Scaled_Close'].values\n",
    "X, y = create_dataset(scaled_data, window_size)"
   ]
  },
  {
   "cell_type": "code",
   "execution_count": 13,
   "metadata": {},
   "outputs": [
    {
     "data": {
      "text/plain": [
       "array([[0.49708945, 0.48218007, 0.46494117, ..., 0.45618192, 0.4446272 ,\n",
       "        0.49075295],\n",
       "       [0.48218007, 0.46494117, 0.48255282, ..., 0.4446272 , 0.49075295,\n",
       "        0.50603501],\n",
       "       [0.46494117, 0.48255282, 0.49811442, ..., 0.49075295, 0.50603501,\n",
       "        0.4943871 ],\n",
       "       ...,\n",
       "       [0.01582075, 0.01661777, 0.0156215 , ..., 0.00581821, 0.00657538,\n",
       "        0.00561896],\n",
       "       [0.01661777, 0.0156215 , 0.01422672, ..., 0.00657538, 0.00561896,\n",
       "        0.00569866],\n",
       "       [0.0156215 , 0.01422672, 0.01510344, ..., 0.00561896, 0.00569866,\n",
       "        0.00426403]])"
      ]
     },
     "execution_count": 13,
     "metadata": {},
     "output_type": "execute_result"
    }
   ],
   "source": [
    "X"
   ]
  },
  {
   "cell_type": "code",
   "execution_count": 14,
   "metadata": {},
   "outputs": [
    {
     "data": {
      "text/plain": [
       "1185"
      ]
     },
     "execution_count": 14,
     "metadata": {},
     "output_type": "execute_result"
    }
   ],
   "source": [
    "len(X)"
   ]
  },
  {
   "cell_type": "code",
   "execution_count": 15,
   "metadata": {},
   "outputs": [
    {
     "name": "stdout",
     "output_type": "stream",
     "text": [
      "60\n"
     ]
    }
   ],
   "source": [
    "print(X[1].size)"
   ]
  },
  {
   "cell_type": "code",
   "execution_count": 16,
   "metadata": {},
   "outputs": [
    {
     "data": {
      "text/plain": [
       "71100"
      ]
     },
     "execution_count": 16,
     "metadata": {},
     "output_type": "execute_result"
    }
   ],
   "source": [
    "X.size"
   ]
  },
  {
   "cell_type": "code",
   "execution_count": 17,
   "metadata": {},
   "outputs": [
    {
     "data": {
      "text/plain": [
       "1"
      ]
     },
     "execution_count": 17,
     "metadata": {},
     "output_type": "execute_result"
    }
   ],
   "source": [
    "y[0].size"
   ]
  },
  {
   "cell_type": "code",
   "execution_count": 18,
   "metadata": {},
   "outputs": [],
   "source": [
    "# Dividir os dados em treinamento e teste\n",
    "X_train, X_test, y_train, y_test = train_test_split(X, y, test_size=0.2, shuffle=False)"
   ]
  },
  {
   "cell_type": "code",
   "execution_count": 19,
   "metadata": {},
   "outputs": [],
   "source": [
    "# Ajustar o formato para o LSTM\n",
    "X_train_lstm = np.reshape(X_train, (X_train.shape[0], X_train.shape[1], 1))\n",
    "X_test_lstm = np.reshape(X_test, (X_test.shape[0], X_test.shape[1], 1))"
   ]
  },
  {
   "cell_type": "code",
   "execution_count": 20,
   "metadata": {},
   "outputs": [
    {
     "name": "stderr",
     "output_type": "stream",
     "text": [
      "c:\\Python312\\Lib\\site-packages\\keras\\src\\layers\\rnn\\rnn.py:200: UserWarning: Do not pass an `input_shape`/`input_dim` argument to a layer. When using Sequential models, prefer using an `Input(shape)` object as the first layer in the model instead.\n",
      "  super().__init__(**kwargs)\n"
     ]
    }
   ],
   "source": [
    "# Criar o modelo LSTM\n",
    "lstm_model = Sequential()\n",
    "lstm_model.add(LSTM(units=50, return_sequences=True, input_shape=(X_train_lstm.shape[1], 1)))\n",
    "lstm_model.add(Dropout(0.2))\n",
    "lstm_model.add(LSTM(units=50, return_sequences=False))\n",
    "lstm_model.add(Dropout(0.2))\n",
    "lstm_model.add(Dense(units=1))"
   ]
  },
  {
   "cell_type": "code",
   "execution_count": 21,
   "metadata": {},
   "outputs": [],
   "source": [
    "# Compilar o modelo\n",
    "# A função de loss é a forma de medir o erro do modelo, que nesse caso\n",
    "#é o classico erro médio quadrático da que é usado em regressão linear\n",
    "#otimizador e medida de erro\n",
    "lstm_model.compile(optimizer='adam', loss='mean_squared_error')"
   ]
  },
  {
   "cell_type": "code",
   "execution_count": 22,
   "metadata": {},
   "outputs": [
    {
     "name": "stdout",
     "output_type": "stream",
     "text": [
      "Epoch 1/20\n",
      "\u001b[1m30/30\u001b[0m \u001b[32m━━━━━━━━━━━━━━━━━━━━\u001b[0m\u001b[37m\u001b[0m \u001b[1m10s\u001b[0m 58ms/step - loss: 0.1232\n",
      "Epoch 2/20\n",
      "\u001b[1m30/30\u001b[0m \u001b[32m━━━━━━━━━━━━━━━━━━━━\u001b[0m\u001b[37m\u001b[0m \u001b[1m2s\u001b[0m 50ms/step - loss: 0.0052\n",
      "Epoch 3/20\n",
      "\u001b[1m30/30\u001b[0m \u001b[32m━━━━━━━━━━━━━━━━━━━━\u001b[0m\u001b[37m\u001b[0m \u001b[1m2s\u001b[0m 79ms/step - loss: 0.0044\n",
      "Epoch 4/20\n",
      "\u001b[1m30/30\u001b[0m \u001b[32m━━━━━━━━━━━━━━━━━━━━\u001b[0m\u001b[37m\u001b[0m \u001b[1m3s\u001b[0m 77ms/step - loss: 0.0041\n",
      "Epoch 5/20\n",
      "\u001b[1m30/30\u001b[0m \u001b[32m━━━━━━━━━━━━━━━━━━━━\u001b[0m\u001b[37m\u001b[0m \u001b[1m2s\u001b[0m 78ms/step - loss: 0.0031\n",
      "Epoch 6/20\n",
      "\u001b[1m30/30\u001b[0m \u001b[32m━━━━━━━━━━━━━━━━━━━━\u001b[0m\u001b[37m\u001b[0m \u001b[1m1s\u001b[0m 47ms/step - loss: 0.0037\n",
      "Epoch 7/20\n",
      "\u001b[1m30/30\u001b[0m \u001b[32m━━━━━━━━━━━━━━━━━━━━\u001b[0m\u001b[37m\u001b[0m \u001b[1m2s\u001b[0m 53ms/step - loss: 0.0028\n",
      "Epoch 8/20\n",
      "\u001b[1m30/30\u001b[0m \u001b[32m━━━━━━━━━━━━━━━━━━━━\u001b[0m\u001b[37m\u001b[0m \u001b[1m2s\u001b[0m 53ms/step - loss: 0.0035\n",
      "Epoch 9/20\n",
      "\u001b[1m30/30\u001b[0m \u001b[32m━━━━━━━━━━━━━━━━━━━━\u001b[0m\u001b[37m\u001b[0m \u001b[1m1s\u001b[0m 44ms/step - loss: 0.0031\n",
      "Epoch 10/20\n",
      "\u001b[1m30/30\u001b[0m \u001b[32m━━━━━━━━━━━━━━━━━━━━\u001b[0m\u001b[37m\u001b[0m \u001b[1m2s\u001b[0m 70ms/step - loss: 0.0028\n",
      "Epoch 11/20\n",
      "\u001b[1m30/30\u001b[0m \u001b[32m━━━━━━━━━━━━━━━━━━━━\u001b[0m\u001b[37m\u001b[0m \u001b[1m3s\u001b[0m 74ms/step - loss: 0.0029\n",
      "Epoch 12/20\n",
      "\u001b[1m30/30\u001b[0m \u001b[32m━━━━━━━━━━━━━━━━━━━━\u001b[0m\u001b[37m\u001b[0m \u001b[1m2s\u001b[0m 64ms/step - loss: 0.0028\n",
      "Epoch 13/20\n",
      "\u001b[1m30/30\u001b[0m \u001b[32m━━━━━━━━━━━━━━━━━━━━\u001b[0m\u001b[37m\u001b[0m \u001b[1m2s\u001b[0m 65ms/step - loss: 0.0026\n",
      "Epoch 14/20\n",
      "\u001b[1m30/30\u001b[0m \u001b[32m━━━━━━━━━━━━━━━━━━━━\u001b[0m\u001b[37m\u001b[0m \u001b[1m2s\u001b[0m 69ms/step - loss: 0.0027\n",
      "Epoch 15/20\n",
      "\u001b[1m30/30\u001b[0m \u001b[32m━━━━━━━━━━━━━━━━━━━━\u001b[0m\u001b[37m\u001b[0m \u001b[1m3s\u001b[0m 81ms/step - loss: 0.0022\n",
      "Epoch 16/20\n",
      "\u001b[1m30/30\u001b[0m \u001b[32m━━━━━━━━━━━━━━━━━━━━\u001b[0m\u001b[37m\u001b[0m \u001b[1m2s\u001b[0m 65ms/step - loss: 0.0029\n",
      "Epoch 17/20\n",
      "\u001b[1m30/30\u001b[0m \u001b[32m━━━━━━━━━━━━━━━━━━━━\u001b[0m\u001b[37m\u001b[0m \u001b[1m3s\u001b[0m 63ms/step - loss: 0.0027\n",
      "Epoch 18/20\n",
      "\u001b[1m30/30\u001b[0m \u001b[32m━━━━━━━━━━━━━━━━━━━━\u001b[0m\u001b[37m\u001b[0m \u001b[1m2s\u001b[0m 55ms/step - loss: 0.0025\n",
      "Epoch 19/20\n",
      "\u001b[1m30/30\u001b[0m \u001b[32m━━━━━━━━━━━━━━━━━━━━\u001b[0m\u001b[37m\u001b[0m \u001b[1m2s\u001b[0m 57ms/step - loss: 0.0026\n",
      "Epoch 20/20\n",
      "\u001b[1m30/30\u001b[0m \u001b[32m━━━━━━━━━━━━━━━━━━━━\u001b[0m\u001b[37m\u001b[0m \u001b[1m1s\u001b[0m 47ms/step - loss: 0.0028\n"
     ]
    },
    {
     "data": {
      "text/plain": [
       "<keras.src.callbacks.history.History at 0x1f6db499a60>"
      ]
     },
     "execution_count": 22,
     "metadata": {},
     "output_type": "execute_result"
    }
   ],
   "source": [
    "# Treinar o modelo\n",
    "lstm_model.fit(X_train_lstm, y_train, epochs=20, batch_size=32, verbose=1)"
   ]
  },
  {
   "cell_type": "code",
   "execution_count": 23,
   "metadata": {},
   "outputs": [
    {
     "name": "stdout",
     "output_type": "stream",
     "text": [
      "\u001b[1m8/8\u001b[0m \u001b[32m━━━━━━━━━━━━━━━━━━━━\u001b[0m\u001b[37m\u001b[0m \u001b[1m2s\u001b[0m 157ms/step\n"
     ]
    },
    {
     "data": {
      "text/plain": [
       "array([[19.987448 ],\n",
       "       [20.110073 ],\n",
       "       [20.257915 ],\n",
       "       [20.371065 ],\n",
       "       [20.44815  ],\n",
       "       [20.46479  ],\n",
       "       [20.426632 ],\n",
       "       [20.355837 ],\n",
       "       [20.239899 ],\n",
       "       [20.107367 ],\n",
       "       [19.974806 ],\n",
       "       [19.838999 ],\n",
       "       [19.682499 ],\n",
       "       [19.589613 ],\n",
       "       [19.482027 ],\n",
       "       [19.409365 ],\n",
       "       [19.335312 ],\n",
       "       [19.228334 ],\n",
       "       [19.097502 ],\n",
       "       [18.890154 ],\n",
       "       [18.65767  ],\n",
       "       [18.408646 ],\n",
       "       [18.150156 ],\n",
       "       [17.877708 ],\n",
       "       [17.583645 ],\n",
       "       [17.328918 ],\n",
       "       [17.085468 ],\n",
       "       [16.897522 ],\n",
       "       [16.779432 ],\n",
       "       [16.69266  ],\n",
       "       [16.612408 ],\n",
       "       [16.505219 ],\n",
       "       [16.318    ],\n",
       "       [16.076641 ],\n",
       "       [15.808088 ],\n",
       "       [15.523392 ],\n",
       "       [15.26153  ],\n",
       "       [15.024643 ],\n",
       "       [14.772687 ],\n",
       "       [14.51721  ],\n",
       "       [14.251865 ],\n",
       "       [14.01258  ],\n",
       "       [13.814299 ],\n",
       "       [13.610571 ],\n",
       "       [13.462846 ],\n",
       "       [13.418456 ],\n",
       "       [13.45143  ],\n",
       "       [13.558688 ],\n",
       "       [13.734283 ],\n",
       "       [13.960401 ],\n",
       "       [14.146112 ],\n",
       "       [14.312565 ],\n",
       "       [14.456573 ],\n",
       "       [14.592147 ],\n",
       "       [14.704956 ],\n",
       "       [14.795755 ],\n",
       "       [14.856239 ],\n",
       "       [14.881882 ],\n",
       "       [14.841017 ],\n",
       "       [14.728977 ],\n",
       "       [14.520973 ],\n",
       "       [14.251456 ],\n",
       "       [13.908182 ],\n",
       "       [13.518362 ],\n",
       "       [13.13021  ],\n",
       "       [12.777679 ],\n",
       "       [12.417463 ],\n",
       "       [12.096443 ],\n",
       "       [11.845491 ],\n",
       "       [11.609908 ],\n",
       "       [11.385624 ],\n",
       "       [11.226259 ],\n",
       "       [11.072421 ],\n",
       "       [10.9181   ],\n",
       "       [10.781692 ],\n",
       "       [10.642436 ],\n",
       "       [10.5057335],\n",
       "       [10.384053 ],\n",
       "       [10.258861 ],\n",
       "       [10.145167 ],\n",
       "       [10.111932 ],\n",
       "       [10.121229 ],\n",
       "       [10.144724 ],\n",
       "       [10.213512 ],\n",
       "       [10.30381  ],\n",
       "       [10.409473 ],\n",
       "       [10.522368 ],\n",
       "       [10.655263 ],\n",
       "       [10.826118 ],\n",
       "       [11.041683 ],\n",
       "       [11.238999 ],\n",
       "       [11.4439125],\n",
       "       [11.642247 ],\n",
       "       [11.837928 ],\n",
       "       [12.030062 ],\n",
       "       [12.23323  ],\n",
       "       [12.399414 ],\n",
       "       [12.521841 ],\n",
       "       [12.566896 ],\n",
       "       [12.548555 ],\n",
       "       [12.473413 ],\n",
       "       [12.353648 ],\n",
       "       [12.182368 ],\n",
       "       [11.979034 ],\n",
       "       [11.77746  ],\n",
       "       [11.553147 ],\n",
       "       [11.317538 ],\n",
       "       [11.0850725],\n",
       "       [10.853057 ],\n",
       "       [10.67129  ],\n",
       "       [10.533731 ],\n",
       "       [10.422949 ],\n",
       "       [10.381208 ],\n",
       "       [10.409127 ],\n",
       "       [10.506943 ],\n",
       "       [10.649803 ],\n",
       "       [10.834743 ],\n",
       "       [11.013104 ],\n",
       "       [11.204724 ],\n",
       "       [11.360749 ],\n",
       "       [11.549866 ],\n",
       "       [11.747961 ],\n",
       "       [11.945197 ],\n",
       "       [12.0984535],\n",
       "       [12.234059 ],\n",
       "       [12.336838 ],\n",
       "       [12.416812 ],\n",
       "       [12.462004 ],\n",
       "       [12.465358 ],\n",
       "       [12.401822 ],\n",
       "       [12.28351  ],\n",
       "       [12.117141 ],\n",
       "       [11.942499 ],\n",
       "       [11.7840395],\n",
       "       [11.620597 ],\n",
       "       [11.447691 ],\n",
       "       [11.267003 ],\n",
       "       [11.086619 ],\n",
       "       [10.9104   ],\n",
       "       [10.767378 ],\n",
       "       [10.660125 ],\n",
       "       [10.5935545],\n",
       "       [10.541681 ],\n",
       "       [10.484689 ],\n",
       "       [10.385983 ],\n",
       "       [10.244992 ],\n",
       "       [10.088652 ],\n",
       "       [ 9.919619 ],\n",
       "       [ 9.739899 ],\n",
       "       [ 9.571427 ],\n",
       "       [ 9.404764 ],\n",
       "       [ 9.2487   ],\n",
       "       [ 9.11463  ],\n",
       "       [ 8.997268 ],\n",
       "       [ 8.894787 ],\n",
       "       [ 8.800124 ],\n",
       "       [ 8.718671 ],\n",
       "       [ 8.634331 ],\n",
       "       [ 8.550384 ],\n",
       "       [ 8.482773 ],\n",
       "       [ 8.447872 ],\n",
       "       [ 8.433562 ],\n",
       "       [ 8.4397745],\n",
       "       [ 8.449044 ],\n",
       "       [ 8.451398 ],\n",
       "       [ 8.461913 ],\n",
       "       [ 8.4594555],\n",
       "       [ 8.44009  ],\n",
       "       [ 8.425831 ],\n",
       "       [ 8.398763 ],\n",
       "       [ 8.380636 ],\n",
       "       [ 8.358171 ],\n",
       "       [ 8.352094 ],\n",
       "       [ 8.351434 ],\n",
       "       [ 8.324832 ],\n",
       "       [ 8.32632  ],\n",
       "       [ 8.358463 ],\n",
       "       [ 8.398882 ],\n",
       "       [ 8.425701 ],\n",
       "       [ 8.452052 ],\n",
       "       [ 8.466823 ],\n",
       "       [ 8.463895 ],\n",
       "       [ 8.449722 ],\n",
       "       [ 8.415218 ],\n",
       "       [ 8.379128 ],\n",
       "       [ 8.351352 ],\n",
       "       [ 8.319203 ],\n",
       "       [ 8.299398 ],\n",
       "       [ 8.319072 ],\n",
       "       [ 8.39804  ],\n",
       "       [ 8.466434 ],\n",
       "       [ 8.490786 ],\n",
       "       [ 8.483528 ],\n",
       "       [ 8.462125 ],\n",
       "       [ 8.437125 ],\n",
       "       [ 8.4074335],\n",
       "       [ 8.373417 ],\n",
       "       [ 8.305669 ],\n",
       "       [ 8.212671 ],\n",
       "       [ 8.119005 ],\n",
       "       [ 8.054145 ],\n",
       "       [ 7.972416 ],\n",
       "       [ 7.873274 ],\n",
       "       [ 7.74448  ],\n",
       "       [ 7.5860248],\n",
       "       [ 7.376627 ],\n",
       "       [ 7.160887 ],\n",
       "       [ 6.9600654],\n",
       "       [ 6.7644215],\n",
       "       [ 6.5598927],\n",
       "       [ 6.357939 ],\n",
       "       [ 6.167388 ],\n",
       "       [ 5.991097 ],\n",
       "       [ 5.8254   ],\n",
       "       [ 5.694814 ],\n",
       "       [ 5.593784 ],\n",
       "       [ 5.4977274],\n",
       "       [ 5.40174  ],\n",
       "       [ 5.3113213],\n",
       "       [ 5.218423 ],\n",
       "       [ 5.1331224],\n",
       "       [ 5.080384 ],\n",
       "       [ 5.03277  ],\n",
       "       [ 4.996944 ],\n",
       "       [ 4.973923 ],\n",
       "       [ 4.963791 ],\n",
       "       [ 4.973895 ],\n",
       "       [ 4.9942617],\n",
       "       [ 5.024934 ],\n",
       "       [ 5.093276 ],\n",
       "       [ 5.1733975],\n",
       "       [ 5.24945  ],\n",
       "       [ 5.3523436],\n",
       "       [ 5.4792805],\n",
       "       [ 5.6054716],\n",
       "       [ 5.7256546],\n",
       "       [ 5.8175793]], dtype=float32)"
      ]
     },
     "execution_count": 23,
     "metadata": {},
     "output_type": "execute_result"
    }
   ],
   "source": [
    "# Fazer previsões\n",
    "lstm_predictions = lstm_model.predict(X_test_lstm)\n",
    "\n",
    "# Inverter a normalização\n",
    "lstm_predictions = scaler.inverse_transform(lstm_predictions)\n",
    "lstm_predictions"
   ]
  },
  {
   "cell_type": "code",
   "execution_count": 24,
   "metadata": {},
   "outputs": [
    {
     "data": {
      "text/plain": [
       "237"
      ]
     },
     "execution_count": 24,
     "metadata": {},
     "output_type": "execute_result"
    }
   ],
   "source": [
    "#pegando o erro médio quadrático (RMSE)\n",
    "rmse = np.sqrt(np.mean(lstm_predictions - y_test) ** 2)\n",
    "rmse\n",
    "len(lstm_predictions)"
   ]
  },
  {
   "cell_type": "code",
   "execution_count": 25,
   "metadata": {},
   "outputs": [
    {
     "data": {
      "text/html": [
       "<div>\n",
       "<style scoped>\n",
       "    .dataframe tbody tr th:only-of-type {\n",
       "        vertical-align: middle;\n",
       "    }\n",
       "\n",
       "    .dataframe tbody tr th {\n",
       "        vertical-align: top;\n",
       "    }\n",
       "\n",
       "    .dataframe thead tr th {\n",
       "        text-align: left;\n",
       "    }\n",
       "\n",
       "    .dataframe thead tr:last-of-type th {\n",
       "        text-align: right;\n",
       "    }\n",
       "</style>\n",
       "<table border=\"1\" class=\"dataframe\">\n",
       "  <thead>\n",
       "    <tr>\n",
       "      <th>Price</th>\n",
       "      <th>Adj Close</th>\n",
       "      <th>Close</th>\n",
       "      <th>High</th>\n",
       "      <th>Low</th>\n",
       "      <th>Open</th>\n",
       "      <th>Volume</th>\n",
       "    </tr>\n",
       "    <tr>\n",
       "      <th>Ticker</th>\n",
       "      <th>MGLU3.SA</th>\n",
       "      <th>MGLU3.SA</th>\n",
       "      <th>MGLU3.SA</th>\n",
       "      <th>MGLU3.SA</th>\n",
       "      <th>MGLU3.SA</th>\n",
       "      <th>MGLU3.SA</th>\n",
       "    </tr>\n",
       "    <tr>\n",
       "      <th>Date</th>\n",
       "      <th></th>\n",
       "      <th></th>\n",
       "      <th></th>\n",
       "      <th></th>\n",
       "      <th></th>\n",
       "      <th></th>\n",
       "    </tr>\n",
       "  </thead>\n",
       "  <tbody>\n",
       "    <tr>\n",
       "      <th>2020-02-06</th>\n",
       "      <td>130.170090</td>\n",
       "      <td>130.547760</td>\n",
       "      <td>135.972626</td>\n",
       "      <td>130.477600</td>\n",
       "      <td>135.621887</td>\n",
       "      <td>4401044</td>\n",
       "    </tr>\n",
       "    <tr>\n",
       "      <th>2020-02-07</th>\n",
       "      <td>126.439621</td>\n",
       "      <td>126.806458</td>\n",
       "      <td>130.781586</td>\n",
       "      <td>125.099495</td>\n",
       "      <td>130.243774</td>\n",
       "      <td>4178576</td>\n",
       "    </tr>\n",
       "    <tr>\n",
       "      <th>2020-02-10</th>\n",
       "      <td>122.126266</td>\n",
       "      <td>122.480591</td>\n",
       "      <td>129.846268</td>\n",
       "      <td>120.516411</td>\n",
       "      <td>126.268646</td>\n",
       "      <td>5487385</td>\n",
       "    </tr>\n",
       "    <tr>\n",
       "      <th>2020-02-11</th>\n",
       "      <td>126.532883</td>\n",
       "      <td>126.899994</td>\n",
       "      <td>128.139297</td>\n",
       "      <td>120.960693</td>\n",
       "      <td>124.398003</td>\n",
       "      <td>4057933</td>\n",
       "    </tr>\n",
       "    <tr>\n",
       "      <th>2020-02-12</th>\n",
       "      <td>130.426559</td>\n",
       "      <td>130.804962</td>\n",
       "      <td>132.231339</td>\n",
       "      <td>126.853226</td>\n",
       "      <td>127.507957</td>\n",
       "      <td>4501544</td>\n",
       "    </tr>\n",
       "    <tr>\n",
       "      <th>...</th>\n",
       "      <td>...</td>\n",
       "      <td>...</td>\n",
       "      <td>...</td>\n",
       "      <td>...</td>\n",
       "      <td>...</td>\n",
       "      <td>...</td>\n",
       "    </tr>\n",
       "    <tr>\n",
       "      <th>2023-11-23</th>\n",
       "      <td>20.296516</td>\n",
       "      <td>20.296516</td>\n",
       "      <td>20.483582</td>\n",
       "      <td>19.267660</td>\n",
       "      <td>19.548258</td>\n",
       "      <td>7946214</td>\n",
       "    </tr>\n",
       "    <tr>\n",
       "      <th>2023-11-24</th>\n",
       "      <td>18.612934</td>\n",
       "      <td>18.612934</td>\n",
       "      <td>20.296516</td>\n",
       "      <td>18.519402</td>\n",
       "      <td>20.202984</td>\n",
       "      <td>19154295</td>\n",
       "    </tr>\n",
       "    <tr>\n",
       "      <th>2023-11-27</th>\n",
       "      <td>18.332336</td>\n",
       "      <td>18.332336</td>\n",
       "      <td>19.361193</td>\n",
       "      <td>17.958208</td>\n",
       "      <td>18.799999</td>\n",
       "      <td>18770289</td>\n",
       "    </tr>\n",
       "    <tr>\n",
       "      <th>2023-11-28</th>\n",
       "      <td>17.864676</td>\n",
       "      <td>17.864676</td>\n",
       "      <td>18.332336</td>\n",
       "      <td>17.397015</td>\n",
       "      <td>18.238806</td>\n",
       "      <td>22183922</td>\n",
       "    </tr>\n",
       "    <tr>\n",
       "      <th>2023-11-29</th>\n",
       "      <td>17.584078</td>\n",
       "      <td>17.584078</td>\n",
       "      <td>18.987062</td>\n",
       "      <td>17.584078</td>\n",
       "      <td>18.332336</td>\n",
       "      <td>23526783</td>\n",
       "    </tr>\n",
       "  </tbody>\n",
       "</table>\n",
       "<p>948 rows × 6 columns</p>\n",
       "</div>"
      ],
      "text/plain": [
       "Price        Adj Close       Close        High         Low        Open  \\\n",
       "Ticker        MGLU3.SA    MGLU3.SA    MGLU3.SA    MGLU3.SA    MGLU3.SA   \n",
       "Date                                                                     \n",
       "2020-02-06  130.170090  130.547760  135.972626  130.477600  135.621887   \n",
       "2020-02-07  126.439621  126.806458  130.781586  125.099495  130.243774   \n",
       "2020-02-10  122.126266  122.480591  129.846268  120.516411  126.268646   \n",
       "2020-02-11  126.532883  126.899994  128.139297  120.960693  124.398003   \n",
       "2020-02-12  130.426559  130.804962  132.231339  126.853226  127.507957   \n",
       "...                ...         ...         ...         ...         ...   \n",
       "2023-11-23   20.296516   20.296516   20.483582   19.267660   19.548258   \n",
       "2023-11-24   18.612934   18.612934   20.296516   18.519402   20.202984   \n",
       "2023-11-27   18.332336   18.332336   19.361193   17.958208   18.799999   \n",
       "2023-11-28   17.864676   17.864676   18.332336   17.397015   18.238806   \n",
       "2023-11-29   17.584078   17.584078   18.987062   17.584078   18.332336   \n",
       "\n",
       "Price         Volume  \n",
       "Ticker      MGLU3.SA  \n",
       "Date                  \n",
       "2020-02-06   4401044  \n",
       "2020-02-07   4178576  \n",
       "2020-02-10   5487385  \n",
       "2020-02-11   4057933  \n",
       "2020-02-12   4501544  \n",
       "...              ...  \n",
       "2023-11-23   7946214  \n",
       "2023-11-24  19154295  \n",
       "2023-11-27  18770289  \n",
       "2023-11-28  22183922  \n",
       "2023-11-29  23526783  \n",
       "\n",
       "[948 rows x 6 columns]"
      ]
     },
     "execution_count": 25,
     "metadata": {},
     "output_type": "execute_result"
    }
   ],
   "source": [
    "#criando o grafico do modelo\n",
    "treinamento = mglu3.iloc[:len(X_train), :]\n",
    "treinamento"
   ]
  },
  {
   "cell_type": "code",
   "execution_count": 26,
   "metadata": {},
   "outputs": [
    {
     "data": {
      "text/html": [
       "<div>\n",
       "<style scoped>\n",
       "    .dataframe tbody tr th:only-of-type {\n",
       "        vertical-align: middle;\n",
       "    }\n",
       "\n",
       "    .dataframe tbody tr th {\n",
       "        vertical-align: top;\n",
       "    }\n",
       "\n",
       "    .dataframe thead th {\n",
       "        text-align: right;\n",
       "    }\n",
       "</style>\n",
       "<table border=\"1\" class=\"dataframe\">\n",
       "  <thead>\n",
       "    <tr style=\"text-align: right;\">\n",
       "      <th>Ticker</th>\n",
       "      <th>MGLU3.SA</th>\n",
       "    </tr>\n",
       "    <tr>\n",
       "      <th>Date</th>\n",
       "      <th></th>\n",
       "    </tr>\n",
       "  </thead>\n",
       "  <tbody>\n",
       "    <tr>\n",
       "      <th>2020-02-06</th>\n",
       "      <td>130.547760</td>\n",
       "    </tr>\n",
       "    <tr>\n",
       "      <th>2020-02-07</th>\n",
       "      <td>126.806458</td>\n",
       "    </tr>\n",
       "    <tr>\n",
       "      <th>2020-02-10</th>\n",
       "      <td>122.480591</td>\n",
       "    </tr>\n",
       "    <tr>\n",
       "      <th>2020-02-11</th>\n",
       "      <td>126.899994</td>\n",
       "    </tr>\n",
       "    <tr>\n",
       "      <th>2020-02-12</th>\n",
       "      <td>130.804962</td>\n",
       "    </tr>\n",
       "    <tr>\n",
       "      <th>...</th>\n",
       "      <td>...</td>\n",
       "    </tr>\n",
       "    <tr>\n",
       "      <th>2025-01-31</th>\n",
       "      <td>7.460000</td>\n",
       "    </tr>\n",
       "    <tr>\n",
       "      <th>2025-02-03</th>\n",
       "      <td>7.220000</td>\n",
       "    </tr>\n",
       "    <tr>\n",
       "      <th>2025-02-04</th>\n",
       "      <td>7.240000</td>\n",
       "    </tr>\n",
       "    <tr>\n",
       "      <th>2025-02-05</th>\n",
       "      <td>6.880000</td>\n",
       "    </tr>\n",
       "    <tr>\n",
       "      <th>2025-02-06</th>\n",
       "      <td>7.390000</td>\n",
       "    </tr>\n",
       "  </tbody>\n",
       "</table>\n",
       "<p>1245 rows × 1 columns</p>\n",
       "</div>"
      ],
      "text/plain": [
       "Ticker        MGLU3.SA\n",
       "Date                  \n",
       "2020-02-06  130.547760\n",
       "2020-02-07  126.806458\n",
       "2020-02-10  122.480591\n",
       "2020-02-11  126.899994\n",
       "2020-02-12  130.804962\n",
       "...                ...\n",
       "2025-01-31    7.460000\n",
       "2025-02-03    7.220000\n",
       "2025-02-04    7.240000\n",
       "2025-02-05    6.880000\n",
       "2025-02-06    7.390000\n",
       "\n",
       "[1245 rows x 1 columns]"
      ]
     },
     "execution_count": 26,
     "metadata": {},
     "output_type": "execute_result"
    }
   ],
   "source": [
    "mglu3['Close']"
   ]
  },
  {
   "cell_type": "code",
   "execution_count": 27,
   "metadata": {},
   "outputs": [],
   "source": [
    "df_teste = pd.DataFrame({\n",
    "    \"Close\": mglu3['Close'].iloc[len(X_train) + 60 : len(X_train) + 60 + len(lstm_predictions)].values.flatten(),\n",
    "    \"predicoes\": lstm_predictions.flatten()\n",
    "})\n"
   ]
  },
  {
   "cell_type": "code",
   "execution_count": 28,
   "metadata": {},
   "outputs": [
    {
     "data": {
      "text/html": [
       "<div>\n",
       "<style scoped>\n",
       "    .dataframe tbody tr th:only-of-type {\n",
       "        vertical-align: middle;\n",
       "    }\n",
       "\n",
       "    .dataframe tbody tr th {\n",
       "        vertical-align: top;\n",
       "    }\n",
       "\n",
       "    .dataframe thead th {\n",
       "        text-align: right;\n",
       "    }\n",
       "</style>\n",
       "<table border=\"1\" class=\"dataframe\">\n",
       "  <thead>\n",
       "    <tr style=\"text-align: right;\">\n",
       "      <th>Ticker</th>\n",
       "      <th>MGLU3.SA</th>\n",
       "    </tr>\n",
       "    <tr>\n",
       "      <th>Date</th>\n",
       "      <th></th>\n",
       "    </tr>\n",
       "  </thead>\n",
       "  <tbody>\n",
       "    <tr>\n",
       "      <th>2020-02-06</th>\n",
       "      <td>130.547760</td>\n",
       "    </tr>\n",
       "    <tr>\n",
       "      <th>2020-02-07</th>\n",
       "      <td>126.806458</td>\n",
       "    </tr>\n",
       "    <tr>\n",
       "      <th>2020-02-10</th>\n",
       "      <td>122.480591</td>\n",
       "    </tr>\n",
       "    <tr>\n",
       "      <th>2020-02-11</th>\n",
       "      <td>126.899994</td>\n",
       "    </tr>\n",
       "    <tr>\n",
       "      <th>2020-02-12</th>\n",
       "      <td>130.804962</td>\n",
       "    </tr>\n",
       "    <tr>\n",
       "      <th>...</th>\n",
       "      <td>...</td>\n",
       "    </tr>\n",
       "    <tr>\n",
       "      <th>2025-01-31</th>\n",
       "      <td>7.460000</td>\n",
       "    </tr>\n",
       "    <tr>\n",
       "      <th>2025-02-03</th>\n",
       "      <td>7.220000</td>\n",
       "    </tr>\n",
       "    <tr>\n",
       "      <th>2025-02-04</th>\n",
       "      <td>7.240000</td>\n",
       "    </tr>\n",
       "    <tr>\n",
       "      <th>2025-02-05</th>\n",
       "      <td>6.880000</td>\n",
       "    </tr>\n",
       "    <tr>\n",
       "      <th>2025-02-06</th>\n",
       "      <td>7.390000</td>\n",
       "    </tr>\n",
       "  </tbody>\n",
       "</table>\n",
       "<p>1245 rows × 1 columns</p>\n",
       "</div>"
      ],
      "text/plain": [
       "Ticker        MGLU3.SA\n",
       "Date                  \n",
       "2020-02-06  130.547760\n",
       "2020-02-07  126.806458\n",
       "2020-02-10  122.480591\n",
       "2020-02-11  126.899994\n",
       "2020-02-12  130.804962\n",
       "...                ...\n",
       "2025-01-31    7.460000\n",
       "2025-02-03    7.220000\n",
       "2025-02-04    7.240000\n",
       "2025-02-05    6.880000\n",
       "2025-02-06    7.390000\n",
       "\n",
       "[1245 rows x 1 columns]"
      ]
     },
     "execution_count": 28,
     "metadata": {},
     "output_type": "execute_result"
    }
   ],
   "source": [
    "mglu3['Close']"
   ]
  },
  {
   "cell_type": "code",
   "execution_count": 29,
   "metadata": {},
   "outputs": [],
   "source": [
    "df_teste = pd.DataFrame({\n",
    "    \"Date\": mglu3.index[len(X_train) + 60 : len(X_train) + 60 + len(lstm_predictions)],  # Pegando as datas corretas\n",
    "    \"Close\": mglu3['Close'].iloc[len(X_train) + 60 : len(X_train) + 60 + len(lstm_predictions)].values.flatten(),\n",
    "    \"predicoes\": lstm_predictions.flatten()\n",
    "})\n",
    "\n",
    "# Garantindo que a coluna \"Date\" seja de fato uma data (caso ainda não seja)\n",
    "df_teste[\"Date\"] = pd.to_datetime(df_teste[\"Date\"])\n",
    "\n",
    "# Definir \"Date\" como índice (opcional, se quiser que o gráfico fique melhor organizado)\n",
    "df_teste.set_index(\"Date\", inplace=True)\n"
   ]
  },
  {
   "cell_type": "code",
   "execution_count": 30,
   "metadata": {},
   "outputs": [
    {
     "data": {
      "text/html": [
       "<div>\n",
       "<style scoped>\n",
       "    .dataframe tbody tr th:only-of-type {\n",
       "        vertical-align: middle;\n",
       "    }\n",
       "\n",
       "    .dataframe tbody tr th {\n",
       "        vertical-align: top;\n",
       "    }\n",
       "\n",
       "    .dataframe thead th {\n",
       "        text-align: right;\n",
       "    }\n",
       "</style>\n",
       "<table border=\"1\" class=\"dataframe\">\n",
       "  <thead>\n",
       "    <tr style=\"text-align: right;\">\n",
       "      <th></th>\n",
       "      <th>Close</th>\n",
       "      <th>predicoes</th>\n",
       "    </tr>\n",
       "    <tr>\n",
       "      <th>Date</th>\n",
       "      <th></th>\n",
       "      <th></th>\n",
       "    </tr>\n",
       "  </thead>\n",
       "  <tbody>\n",
       "    <tr>\n",
       "      <th>2024-02-29</th>\n",
       "      <td>21.299999</td>\n",
       "      <td>19.987448</td>\n",
       "    </tr>\n",
       "    <tr>\n",
       "      <th>2024-03-01</th>\n",
       "      <td>22.200001</td>\n",
       "      <td>20.110073</td>\n",
       "    </tr>\n",
       "    <tr>\n",
       "      <th>2024-03-04</th>\n",
       "      <td>21.299999</td>\n",
       "      <td>20.257915</td>\n",
       "    </tr>\n",
       "    <tr>\n",
       "      <th>2024-03-05</th>\n",
       "      <td>21.200001</td>\n",
       "      <td>20.371065</td>\n",
       "    </tr>\n",
       "    <tr>\n",
       "      <th>2024-03-06</th>\n",
       "      <td>20.600000</td>\n",
       "      <td>20.448151</td>\n",
       "    </tr>\n",
       "    <tr>\n",
       "      <th>...</th>\n",
       "      <td>...</td>\n",
       "      <td>...</td>\n",
       "    </tr>\n",
       "    <tr>\n",
       "      <th>2025-01-31</th>\n",
       "      <td>7.460000</td>\n",
       "      <td>5.352344</td>\n",
       "    </tr>\n",
       "    <tr>\n",
       "      <th>2025-02-03</th>\n",
       "      <td>7.220000</td>\n",
       "      <td>5.479280</td>\n",
       "    </tr>\n",
       "    <tr>\n",
       "      <th>2025-02-04</th>\n",
       "      <td>7.240000</td>\n",
       "      <td>5.605472</td>\n",
       "    </tr>\n",
       "    <tr>\n",
       "      <th>2025-02-05</th>\n",
       "      <td>6.880000</td>\n",
       "      <td>5.725655</td>\n",
       "    </tr>\n",
       "    <tr>\n",
       "      <th>2025-02-06</th>\n",
       "      <td>7.390000</td>\n",
       "      <td>5.817579</td>\n",
       "    </tr>\n",
       "  </tbody>\n",
       "</table>\n",
       "<p>237 rows × 2 columns</p>\n",
       "</div>"
      ],
      "text/plain": [
       "                Close  predicoes\n",
       "Date                            \n",
       "2024-02-29  21.299999  19.987448\n",
       "2024-03-01  22.200001  20.110073\n",
       "2024-03-04  21.299999  20.257915\n",
       "2024-03-05  21.200001  20.371065\n",
       "2024-03-06  20.600000  20.448151\n",
       "...               ...        ...\n",
       "2025-01-31   7.460000   5.352344\n",
       "2025-02-03   7.220000   5.479280\n",
       "2025-02-04   7.240000   5.605472\n",
       "2025-02-05   6.880000   5.725655\n",
       "2025-02-06   7.390000   5.817579\n",
       "\n",
       "[237 rows x 2 columns]"
      ]
     },
     "execution_count": 30,
     "metadata": {},
     "output_type": "execute_result"
    }
   ],
   "source": [
    "df_teste"
   ]
  },
  {
   "cell_type": "code",
   "execution_count": 31,
   "metadata": {},
   "outputs": [
    {
     "name": "stdout",
     "output_type": "stream",
     "text": [
      "237\n",
      "237\n"
     ]
    }
   ],
   "source": [
    "print(len(mglu3['Close'].iloc[len(X_train) + 60:]))  # Deve imprimir 237\n",
    "print(len(lstm_predictions))  # Deve imprimir 237\n"
   ]
  },
  {
   "cell_type": "code",
   "execution_count": 32,
   "metadata": {},
   "outputs": [
    {
     "data": {
      "image/png": "[encoded data removed]",
      "text/plain": [
       "<Figure size 1200x600 with 1 Axes>"
      ]
     },
     "metadata": {},
     "output_type": "display_data"
    }
   ],
   "source": [
    "import matplotlib.pyplot as plt\n",
    "\n",
    "# Criar o gráfico\n",
    "plt.figure(figsize=(12, 6))\n",
    "plt.plot(df_teste.index, df_teste[\"Close\"], label=\"Preço Real\", linestyle=\"-\", color=\"blue\")\n",
    "plt.plot(df_teste.index, df_teste[\"predicoes\"], label=\"Previsão LSTM\", linestyle=\"--\", color=\"red\")\n",
    "\n",
    "# Adicionar títulos e legendas\n",
    "plt.title(\"Comparação entre Preço Real e Previsão do Modelo LSTM\", fontsize=14)\n",
    "plt.xlabel(\"Data\", fontsize=12)\n",
    "plt.ylabel(\"Preço de Fechamento\", fontsize=12)\n",
    "plt.legend()\n",
    "plt.grid(True)\n",
    "\n",
    "# Mostrar o gráfico\n",
    "plt.show()\n"
   ]
  },
  {
   "cell_type": "code",
   "execution_count": 33,
   "metadata": {},
   "outputs": [
    {
     "name": "stdout",
     "output_type": "stream",
     "text": [
      "📊 MÉTRICAS DE ERRO DO MODELO LSTM 📊\n",
      "MAE  (Erro Absoluto Médio)  : 0.9360\n",
      "MSE  (Erro Quadrático Médio): 1.3712\n",
      "RMSE (Raiz do Erro Médio)   : 1.1710\n",
      "R²   (Coeficiente de Determinação): 0.9068\n"
     ]
    },
    {
     "name": "stderr",
     "output_type": "stream",
     "text": [
      "c:\\Python312\\Lib\\site-packages\\sklearn\\metrics\\_regression.py:483: FutureWarning: 'squared' is deprecated in version 1.4 and will be removed in 1.6. To calculate the root mean squared error, use the function'root_mean_squared_error'.\n",
      "  warnings.warn(\n"
     ]
    }
   ],
   "source": [
    "# Calcular métricas\n",
    "mae = mean_absolute_error(df_teste[\"Close\"], df_teste[\"predicoes\"])\n",
    "mse = mean_squared_error(df_teste[\"Close\"], df_teste[\"predicoes\"])\n",
    "rmse = mean_squared_error(df_teste[\"Close\"], df_teste[\"predicoes\"], squared=False)  # RMSE é a raiz quadrada do MSE\n",
    "r2 = r2_score(df_teste[\"Close\"], df_teste[\"predicoes\"])\n",
    "\n",
    "# Exibir resultados\n",
    "print(f\"📊 MÉTRICAS DE ERRO DO MODELO LSTM 📊\")\n",
    "print(f\"MAE  (Erro Absoluto Médio)  : {mae:.4f}\")\n",
    "print(f\"MSE  (Erro Quadrático Médio): {mse:.4f}\")\n",
    "print(f\"RMSE (Raiz do Erro Médio)   : {rmse:.4f}\")\n",
    "print(f\"R²   (Coeficiente de Determinação): {r2:.4f}\")\n"
   ]
  }
 ],
 "metadata": {
  "kernelspec": {
   "display_name": "Python 3",
   "language": "python",
   "name": "python3"
  },
  "language_info": {
   "codemirror_mode": {
    "name": "ipython",
    "version": 3
   },
   "file_extension": ".py",
   "mimetype": "text/x-python",
   "name": "python",
   "nbconvert_exporter": "python",
   "pygments_lexer": "ipython3",
   "version": "3.12.1"
  }
 },
 "nbformat": 4,
 "nbformat_minor": 2
}
