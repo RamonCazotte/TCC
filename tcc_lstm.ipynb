{
 "cells": [
  {
   "cell_type": "markdown",
   "metadata": {},
   "source": [
    "LSTM"
   ]
  },
  {
   "cell_type": "code",
   "execution_count": 1,
   "metadata": {},
   "outputs": [],
   "source": [
    "from datetime import datetime, timedelta\n",
    "import yfinance as yf\n",
    "import pandas as pd\n",
    "import numpy as np\n",
    "from sklearn.model_selection import train_test_split\n",
    "from sklearn.preprocessing import MinMaxScaler\n",
    "from tensorflow.keras.models import Sequential\n",
    "from tensorflow.keras.layers import LSTM, Dense, Dropout, Input\n",
    "from tensorflow.keras.callbacks import EarlyStopping\n",
    "from tensorflow.keras.optimizers import Adam\n",
    "from tensorflow.keras.callbacks import ReduceLROnPlateau\n",
    "from sklearn.metrics import mean_squared_error\n",
    "import matplotlib.pyplot as plt\n",
    "from sklearn.metrics import mean_absolute_error, mean_squared_error, r2_score\n"
   ]
  },
  {
   "cell_type": "code",
   "execution_count": 2,
   "metadata": {},
   "outputs": [
    {
     "name": "stdout",
     "output_type": "stream",
     "text": [
      "YF.download() has changed argument auto_adjust default to True\n"
     ]
    },
    {
     "name": "stderr",
     "output_type": "stream",
     "text": [
      "[*********************100%***********************]  1 of 1 completed\n"
     ]
    }
   ],
   "source": [
    "acao = 'MGLU3.SA'\n",
    "\n",
    "ativo = yf.download(acao, period=\"5y\")"
   ]
  },
  {
   "cell_type": "code",
   "execution_count": 3,
   "metadata": {},
   "outputs": [
    {
     "data": {
      "text/html": [
       "<div>\n",
       "<style scoped>\n",
       "    .dataframe tbody tr th:only-of-type {\n",
       "        vertical-align: middle;\n",
       "    }\n",
       "\n",
       "    .dataframe tbody tr th {\n",
       "        vertical-align: top;\n",
       "    }\n",
       "\n",
       "    .dataframe thead tr th {\n",
       "        text-align: left;\n",
       "    }\n",
       "\n",
       "    .dataframe thead tr:last-of-type th {\n",
       "        text-align: right;\n",
       "    }\n",
       "</style>\n",
       "<table border=\"1\" class=\"dataframe\">\n",
       "  <thead>\n",
       "    <tr>\n",
       "      <th>Price</th>\n",
       "      <th>Close</th>\n",
       "      <th>High</th>\n",
       "      <th>Low</th>\n",
       "      <th>Open</th>\n",
       "      <th>Volume</th>\n",
       "    </tr>\n",
       "    <tr>\n",
       "      <th>Ticker</th>\n",
       "      <th>MGLU3.SA</th>\n",
       "      <th>MGLU3.SA</th>\n",
       "      <th>MGLU3.SA</th>\n",
       "      <th>MGLU3.SA</th>\n",
       "      <th>MGLU3.SA</th>\n",
       "    </tr>\n",
       "    <tr>\n",
       "      <th>Date</th>\n",
       "      <th></th>\n",
       "      <th></th>\n",
       "      <th></th>\n",
       "      <th></th>\n",
       "      <th></th>\n",
       "    </tr>\n",
       "  </thead>\n",
       "  <tbody>\n",
       "    <tr>\n",
       "      <th>2020-02-28</th>\n",
       "      <td>117.789597</td>\n",
       "      <td>117.789597</td>\n",
       "      <td>110.095496</td>\n",
       "      <td>114.245649</td>\n",
       "      <td>8424808</td>\n",
       "    </tr>\n",
       "    <tr>\n",
       "      <th>2020-03-02</th>\n",
       "      <td>122.522629</td>\n",
       "      <td>124.597701</td>\n",
       "      <td>116.157513</td>\n",
       "      <td>118.209269</td>\n",
       "      <td>6907942</td>\n",
       "    </tr>\n",
       "    <tr>\n",
       "      <th>2020-03-03</th>\n",
       "      <td>123.222092</td>\n",
       "      <td>127.768601</td>\n",
       "      <td>120.470865</td>\n",
       "      <td>122.825727</td>\n",
       "      <td>6242974</td>\n",
       "    </tr>\n",
       "    <tr>\n",
       "      <th>2020-03-04</th>\n",
       "      <td>122.289474</td>\n",
       "      <td>126.975875</td>\n",
       "      <td>120.937181</td>\n",
       "      <td>126.835984</td>\n",
       "      <td>4847778</td>\n",
       "    </tr>\n",
       "    <tr>\n",
       "      <th>2020-03-05</th>\n",
       "      <td>111.424484</td>\n",
       "      <td>121.240282</td>\n",
       "      <td>108.649949</td>\n",
       "      <td>121.240282</td>\n",
       "      <td>9064886</td>\n",
       "    </tr>\n",
       "  </tbody>\n",
       "</table>\n",
       "</div>"
      ],
      "text/plain": [
       "Price            Close        High         Low        Open   Volume\n",
       "Ticker        MGLU3.SA    MGLU3.SA    MGLU3.SA    MGLU3.SA MGLU3.SA\n",
       "Date                                                               \n",
       "2020-02-28  117.789597  117.789597  110.095496  114.245649  8424808\n",
       "2020-03-02  122.522629  124.597701  116.157513  118.209269  6907942\n",
       "2020-03-03  123.222092  127.768601  120.470865  122.825727  6242974\n",
       "2020-03-04  122.289474  126.975875  120.937181  126.835984  4847778\n",
       "2020-03-05  111.424484  121.240282  108.649949  121.240282  9064886"
      ]
     },
     "execution_count": 3,
     "metadata": {},
     "output_type": "execute_result"
    }
   ],
   "source": [
    "ativo.head()"
   ]
  },
  {
   "cell_type": "code",
   "execution_count": 4,
   "metadata": {},
   "outputs": [],
   "source": [
    "# Pega somente o atributo \"Close\" e armazena em um array bidimensional\n",
    "#O array precisa ser bidimensional porque o MinMaxScaler espera uma entrada com esse formato.\n",
    "ativo_close = ativo['Close'].dropna().to_numpy().reshape(-1, 1)"
   ]
  },
  {
   "cell_type": "code",
   "execution_count": 5,
   "metadata": {},
   "outputs": [],
   "source": [
    "# Criar um DataFrame com os valores ajustados\n",
    "data = pd.DataFrame(ativo_close)\n",
    "data.columns = ['Close']"
   ]
  },
  {
   "cell_type": "code",
   "execution_count": 6,
   "metadata": {},
   "outputs": [],
   "source": [
    "# Normalizar os dados para os modelos\n",
    "scaler = MinMaxScaler(feature_range=(0, 1))\n",
    "data['Scaled_Close'] = scaler.fit_transform(data[['Close']])"
   ]
  },
  {
   "cell_type": "code",
   "execution_count": 7,
   "metadata": {},
   "outputs": [],
   "source": [
    "# Função para criar janelas de dados\n",
    "# janela de dados = quantidade de dias do X\n",
    "def create_dataset(data, window_size=60):\n",
    "    X, y = [], []\n",
    "    for i in range(len(data) - window_size):\n",
    "        X.append(data[i:i + window_size])\n",
    "        y.append(data[i + window_size])\n",
    "    return np.array(X), np.array(y)\n"
   ]
  },
  {
   "cell_type": "code",
   "execution_count": 8,
   "metadata": {},
   "outputs": [],
   "source": [
    "window_size = 30\n",
    "scaled_data = data['Scaled_Close'].values\n",
    "X, y = create_dataset(scaled_data, window_size)"
   ]
  },
  {
   "cell_type": "code",
   "execution_count": 9,
   "metadata": {},
   "outputs": [
    {
     "data": {
      "text/plain": [
       "((1247,), (1217, 30), (1217,))"
      ]
     },
     "execution_count": 9,
     "metadata": {},
     "output_type": "execute_result"
    }
   ],
   "source": [
    "scaled_data.shape, X.shape, y.shape"
   ]
  },
  {
   "cell_type": "code",
   "execution_count": 10,
   "metadata": {},
   "outputs": [],
   "source": [
    "# Dividir os dados em treinamento e teste\n",
    "X_train, X_test, y_train, y_test = train_test_split(X, y, test_size=0.2, shuffle=False)"
   ]
  },
  {
   "cell_type": "code",
   "execution_count": 11,
   "metadata": {},
   "outputs": [],
   "source": [
    "# Ajustar o formato para o LSTM\n",
    "X_train = np.reshape(X_train, (X_train.shape[0], X_train.shape[1], 1))\n",
    "X_test = np.reshape(X_test, (X_test.shape[0], X_test.shape[1], 1))"
   ]
  },
  {
   "cell_type": "code",
   "execution_count": 12,
   "metadata": {},
   "outputs": [],
   "source": [
    "model = Sequential([\n",
    "    Input(shape=(window_size, 1)),  # Definir a entrada explicitamente\n",
    "    LSTM(100, return_sequences=True),\n",
    "    Dropout(0.3),\n",
    "    LSTM(100, return_sequences=True),\n",
    "    Dropout(0.3),\n",
    "    LSTM(100),\n",
    "    Dropout(0.3),\n",
    "    Dense(1)\n",
    "])"
   ]
  },
  {
   "cell_type": "code",
   "execution_count": 13,
   "metadata": {},
   "outputs": [],
   "source": [
    "model.compile(optimizer=Adam(learning_rate=0.001), loss='mean_squared_error')\n"
   ]
  },
  {
   "cell_type": "code",
   "execution_count": 14,
   "metadata": {},
   "outputs": [
    {
     "name": "stdout",
     "output_type": "stream",
     "text": [
      "Epoch 1/100\n",
      "\u001b[1m31/31\u001b[0m \u001b[32m━━━━━━━━━━━━━━━━━━━━\u001b[0m\u001b[37m\u001b[0m \u001b[1m6s\u001b[0m 37ms/step - loss: 0.0732 - val_loss: 1.1425e-04 - learning_rate: 0.0010\n",
      "Epoch 2/100\n",
      "\u001b[1m31/31\u001b[0m \u001b[32m━━━━━━━━━━━━━━━━━━━━\u001b[0m\u001b[37m\u001b[0m \u001b[1m1s\u001b[0m 20ms/step - loss: 0.0045 - val_loss: 1.2148e-04 - learning_rate: 0.0010\n",
      "Epoch 3/100\n",
      "\u001b[1m31/31\u001b[0m \u001b[32m━━━━━━━━━━━━━━━━━━━━\u001b[0m\u001b[37m\u001b[0m \u001b[1m1s\u001b[0m 21ms/step - loss: 0.0042 - val_loss: 3.7602e-05 - learning_rate: 0.0010\n",
      "Epoch 4/100\n",
      "\u001b[1m31/31\u001b[0m \u001b[32m━━━━━━━━━━━━━━━━━━━━\u001b[0m\u001b[37m\u001b[0m \u001b[1m1s\u001b[0m 21ms/step - loss: 0.0038 - val_loss: 4.4722e-05 - learning_rate: 0.0010\n",
      "Epoch 5/100\n",
      "\u001b[1m31/31\u001b[0m \u001b[32m━━━━━━━━━━━━━━━━━━━━\u001b[0m\u001b[37m\u001b[0m \u001b[1m1s\u001b[0m 22ms/step - loss: 0.0034 - val_loss: 2.3448e-05 - learning_rate: 0.0010\n",
      "Epoch 6/100\n",
      "\u001b[1m31/31\u001b[0m \u001b[32m━━━━━━━━━━━━━━━━━━━━\u001b[0m\u001b[37m\u001b[0m \u001b[1m1s\u001b[0m 21ms/step - loss: 0.0035 - val_loss: 2.3044e-05 - learning_rate: 0.0010\n",
      "Epoch 7/100\n",
      "\u001b[1m31/31\u001b[0m \u001b[32m━━━━━━━━━━━━━━━━━━━━\u001b[0m\u001b[37m\u001b[0m \u001b[1m1s\u001b[0m 21ms/step - loss: 0.0038 - val_loss: 2.5415e-05 - learning_rate: 5.0000e-04\n",
      "Epoch 8/100\n",
      "\u001b[1m31/31\u001b[0m \u001b[32m━━━━━━━━━━━━━━━━━━━━\u001b[0m\u001b[37m\u001b[0m \u001b[1m1s\u001b[0m 21ms/step - loss: 0.0033 - val_loss: 2.0157e-05 - learning_rate: 5.0000e-04\n",
      "Epoch 9/100\n",
      "\u001b[1m31/31\u001b[0m \u001b[32m━━━━━━━━━━━━━━━━━━━━\u001b[0m\u001b[37m\u001b[0m \u001b[1m1s\u001b[0m 22ms/step - loss: 0.0034 - val_loss: 2.0548e-05 - learning_rate: 5.0000e-04\n",
      "Epoch 10/100\n",
      "\u001b[1m31/31\u001b[0m \u001b[32m━━━━━━━━━━━━━━━━━━━━\u001b[0m\u001b[37m\u001b[0m \u001b[1m1s\u001b[0m 22ms/step - loss: 0.0030 - val_loss: 2.2519e-05 - learning_rate: 5.0000e-04\n",
      "Epoch 11/100\n",
      "\u001b[1m31/31\u001b[0m \u001b[32m━━━━━━━━━━━━━━━━━━━━\u001b[0m\u001b[37m\u001b[0m \u001b[1m1s\u001b[0m 21ms/step - loss: 0.0031 - val_loss: 1.6339e-05 - learning_rate: 5.0000e-04\n",
      "Epoch 12/100\n",
      "\u001b[1m31/31\u001b[0m \u001b[32m━━━━━━━━━━━━━━━━━━━━\u001b[0m\u001b[37m\u001b[0m \u001b[1m1s\u001b[0m 21ms/step - loss: 0.0034 - val_loss: 2.5704e-05 - learning_rate: 2.5000e-04\n",
      "Epoch 13/100\n",
      "\u001b[1m31/31\u001b[0m \u001b[32m━━━━━━━━━━━━━━━━━━━━\u001b[0m\u001b[37m\u001b[0m \u001b[1m1s\u001b[0m 20ms/step - loss: 0.0026 - val_loss: 1.9528e-05 - learning_rate: 2.5000e-04\n",
      "Epoch 14/100\n",
      "\u001b[1m31/31\u001b[0m \u001b[32m━━━━━━━━━━━━━━━━━━━━\u001b[0m\u001b[37m\u001b[0m \u001b[1m1s\u001b[0m 21ms/step - loss: 0.0025 - val_loss: 1.9813e-05 - learning_rate: 2.5000e-04\n",
      "Epoch 15/100\n",
      "\u001b[1m31/31\u001b[0m \u001b[32m━━━━━━━━━━━━━━━━━━━━\u001b[0m\u001b[37m\u001b[0m \u001b[1m1s\u001b[0m 21ms/step - loss: 0.0027 - val_loss: 2.2132e-05 - learning_rate: 2.5000e-04\n",
      "Epoch 16/100\n",
      "\u001b[1m31/31\u001b[0m \u001b[32m━━━━━━━━━━━━━━━━━━━━\u001b[0m\u001b[37m\u001b[0m \u001b[1m1s\u001b[0m 20ms/step - loss: 0.0024 - val_loss: 1.9602e-05 - learning_rate: 2.5000e-04\n",
      "Epoch 17/100\n",
      "\u001b[1m31/31\u001b[0m \u001b[32m━━━━━━━━━━━━━━━━━━━━\u001b[0m\u001b[37m\u001b[0m \u001b[1m1s\u001b[0m 21ms/step - loss: 0.0023 - val_loss: 2.7247e-05 - learning_rate: 1.2500e-04\n",
      "Epoch 18/100\n",
      "\u001b[1m31/31\u001b[0m \u001b[32m━━━━━━━━━━━━━━━━━━━━\u001b[0m\u001b[37m\u001b[0m \u001b[1m1s\u001b[0m 20ms/step - loss: 0.0029 - val_loss: 2.0058e-05 - learning_rate: 1.2500e-04\n",
      "Epoch 19/100\n",
      "\u001b[1m31/31\u001b[0m \u001b[32m━━━━━━━━━━━━━━━━━━━━\u001b[0m\u001b[37m\u001b[0m \u001b[1m1s\u001b[0m 21ms/step - loss: 0.0031 - val_loss: 1.8787e-05 - learning_rate: 1.2500e-04\n",
      "Epoch 20/100\n",
      "\u001b[1m31/31\u001b[0m \u001b[32m━━━━━━━━━━━━━━━━━━━━\u001b[0m\u001b[37m\u001b[0m \u001b[1m1s\u001b[0m 21ms/step - loss: 0.0027 - val_loss: 2.4643e-05 - learning_rate: 1.2500e-04\n",
      "Epoch 21/100\n",
      "\u001b[1m31/31\u001b[0m \u001b[32m━━━━━━━━━━━━━━━━━━━━\u001b[0m\u001b[37m\u001b[0m \u001b[1m1s\u001b[0m 20ms/step - loss: 0.0023 - val_loss: 1.8515e-05 - learning_rate: 1.2500e-04\n"
     ]
    },
    {
     "data": {
      "text/plain": [
       "<keras.src.callbacks.history.History at 0x246eb7c9310>"
      ]
     },
     "execution_count": 14,
     "metadata": {},
     "output_type": "execute_result"
    }
   ],
   "source": [
    "# Treinar o modelo\n",
    "early_stopping = EarlyStopping(monitor='val_loss', patience=10, restore_best_weights=True)\n",
    "reduce_lr = ReduceLROnPlateau(monitor='val_loss', factor=0.5, patience=5, min_lr=1e-5)\n",
    "\n",
    "model.fit(X_train, y_train, \n",
    "               epochs=100, \n",
    "               batch_size=32, \n",
    "               validation_data=(X_test, y_test),\n",
    "               callbacks=[early_stopping, reduce_lr], \n",
    "               verbose=1)\n"
   ]
  },
  {
   "cell_type": "code",
   "execution_count": 15,
   "metadata": {},
   "outputs": [
    {
     "name": "stdout",
     "output_type": "stream",
     "text": [
      "\u001b[1m8/8\u001b[0m \u001b[32m━━━━━━━━━━━━━━━━━━━━\u001b[0m\u001b[37m\u001b[0m \u001b[1m1s\u001b[0m 46ms/step\n"
     ]
    }
   ],
   "source": [
    "# Fazer previsões\n",
    "lstm_predictions = model.predict(X_test)\n",
    "\n",
    "# Inverter a normalização\n",
    "lstm_predictions = scaler.inverse_transform(lstm_predictions)"
   ]
  },
  {
   "cell_type": "code",
   "execution_count": 16,
   "metadata": {},
   "outputs": [],
   "source": [
    "df_teste = pd.DataFrame({\n",
    "    \"Date\": ativo.index[len(X_train) + window_size : len(X_train) + window_size + len(lstm_predictions)],\n",
    "    \"Real\": ativo['Close'].iloc[len(X_train) + window_size : len(X_train) + window_size + len(lstm_predictions)].values.flatten(),\n",
    "    \"Previsão\": lstm_predictions.flatten()\n",
    "})\n",
    "\n",
    "df_teste[\"Date\"] = pd.to_datetime(df_teste[\"Date\"])\n",
    "\n",
    "df_teste.set_index(\"Date\", inplace=True)"
   ]
  },
  {
   "cell_type": "code",
   "execution_count": 17,
   "metadata": {},
   "outputs": [
    {
     "data": {
      "text/html": [
       "<div>\n",
       "<style scoped>\n",
       "    .dataframe tbody tr th:only-of-type {\n",
       "        vertical-align: middle;\n",
       "    }\n",
       "\n",
       "    .dataframe tbody tr th {\n",
       "        vertical-align: top;\n",
       "    }\n",
       "\n",
       "    .dataframe thead th {\n",
       "        text-align: right;\n",
       "    }\n",
       "</style>\n",
       "<table border=\"1\" class=\"dataframe\">\n",
       "  <thead>\n",
       "    <tr style=\"text-align: right;\">\n",
       "      <th></th>\n",
       "      <th>Real</th>\n",
       "      <th>Previsão</th>\n",
       "    </tr>\n",
       "    <tr>\n",
       "      <th>Date</th>\n",
       "      <th></th>\n",
       "      <th></th>\n",
       "    </tr>\n",
       "  </thead>\n",
       "  <tbody>\n",
       "    <tr>\n",
       "      <th>2024-03-13</th>\n",
       "      <td>20.299999</td>\n",
       "      <td>20.401594</td>\n",
       "    </tr>\n",
       "    <tr>\n",
       "      <th>2024-03-14</th>\n",
       "      <td>20.100000</td>\n",
       "      <td>20.302927</td>\n",
       "    </tr>\n",
       "    <tr>\n",
       "      <th>2024-03-15</th>\n",
       "      <td>19.600000</td>\n",
       "      <td>20.187370</td>\n",
       "    </tr>\n",
       "    <tr>\n",
       "      <th>2024-03-18</th>\n",
       "      <td>21.000000</td>\n",
       "      <td>20.059591</td>\n",
       "    </tr>\n",
       "    <tr>\n",
       "      <th>2024-03-19</th>\n",
       "      <td>19.700001</td>\n",
       "      <td>19.944830</td>\n",
       "    </tr>\n",
       "    <tr>\n",
       "      <th>...</th>\n",
       "      <td>...</td>\n",
       "      <td>...</td>\n",
       "    </tr>\n",
       "    <tr>\n",
       "      <th>2025-02-24</th>\n",
       "      <td>6.870000</td>\n",
       "      <td>7.313400</td>\n",
       "    </tr>\n",
       "    <tr>\n",
       "      <th>2025-02-25</th>\n",
       "      <td>7.380000</td>\n",
       "      <td>7.327448</td>\n",
       "    </tr>\n",
       "    <tr>\n",
       "      <th>2025-02-26</th>\n",
       "      <td>7.360000</td>\n",
       "      <td>7.331292</td>\n",
       "    </tr>\n",
       "    <tr>\n",
       "      <th>2025-02-27</th>\n",
       "      <td>7.310000</td>\n",
       "      <td>7.329713</td>\n",
       "    </tr>\n",
       "    <tr>\n",
       "      <th>2025-02-28</th>\n",
       "      <td>7.150000</td>\n",
       "      <td>7.322250</td>\n",
       "    </tr>\n",
       "  </tbody>\n",
       "</table>\n",
       "<p>244 rows × 2 columns</p>\n",
       "</div>"
      ],
      "text/plain": [
       "                 Real   Previsão\n",
       "Date                            \n",
       "2024-03-13  20.299999  20.401594\n",
       "2024-03-14  20.100000  20.302927\n",
       "2024-03-15  19.600000  20.187370\n",
       "2024-03-18  21.000000  20.059591\n",
       "2024-03-19  19.700001  19.944830\n",
       "...               ...        ...\n",
       "2025-02-24   6.870000   7.313400\n",
       "2025-02-25   7.380000   7.327448\n",
       "2025-02-26   7.360000   7.331292\n",
       "2025-02-27   7.310000   7.329713\n",
       "2025-02-28   7.150000   7.322250\n",
       "\n",
       "[244 rows x 2 columns]"
      ]
     },
     "execution_count": 17,
     "metadata": {},
     "output_type": "execute_result"
    }
   ],
   "source": [
    "df_teste"
   ]
  },
  {
   "cell_type": "code",
   "execution_count": 18,
   "metadata": {},
   "outputs": [
    {
     "name": "stdout",
     "output_type": "stream",
     "text": [
      "📊 MÉTRICAS DE ERRO DO MODELO LSTM 📊\n",
      "MAE  (Erro Absoluto Médio)  : 0.8049\n",
      "MSE  (Erro Quadrático Médio): 1.0252\n",
      "RMSE (Raiz do Erro Médio)   : 1.0125\n",
      "R²   (Coeficiente de Determinação): 0.9175\n"
     ]
    }
   ],
   "source": [
    "# Calcular métricas\n",
    "mae = mean_absolute_error(df_teste[\"Real\"], df_teste[\"Previsão\"])\n",
    "mse = mean_squared_error(df_teste[\"Real\"], df_teste[\"Previsão\"])\n",
    "rmse = np.sqrt(mse)\n",
    "r2 = r2_score(df_teste[\"Real\"], df_teste[\"Previsão\"])\n",
    "\n",
    "# Exibir resultados\n",
    "print(f\"📊 MÉTRICAS DE ERRO DO MODELO LSTM 📊\")\n",
    "print(f\"MAE  (Erro Absoluto Médio)  : {mae:.4f}\")\n",
    "print(f\"MSE  (Erro Quadrático Médio): {mse:.4f}\")\n",
    "print(f\"RMSE (Raiz do Erro Médio)   : {rmse:.4f}\")\n",
    "print(f\"R²   (Coeficiente de Determinação): {r2:.4f}\")\n"
   ]
  },
  {
   "cell_type": "code",
   "execution_count": 19,
   "metadata": {},
   "outputs": [
    {
     "data": {
      "image/png": "[encoded data removed]",
      "text/plain": [
       "<Figure size 1200x600 with 1 Axes>"
      ]
     },
     "metadata": {},
     "output_type": "display_data"
    }
   ],
   "source": [
    "import matplotlib.pyplot as plt\n",
    "\n",
    "# Criar o gráfico\n",
    "plt.figure(figsize=(12, 6))\n",
    "plt.plot(df_teste.index, df_teste[\"Real\"], label=\"Preço Real\", linestyle=\"-\", color=\"blue\")\n",
    "plt.plot(df_teste.index, df_teste[\"Previsão\"], label=\"Previsão LSTM\", linestyle=\"--\", color=\"red\")\n",
    "\n",
    "# Adicionar títulos e legendas\n",
    "plt.title(\"Comparação entre Preço Real e Previsão do Modelo LSTM\", fontsize=14)\n",
    "plt.xlabel(\"Data\", fontsize=12)\n",
    "plt.ylabel(\"Preço de Fechamento\", fontsize=12)\n",
    "plt.legend()\n",
    "plt.grid(True)\n",
    "\n",
    "# Mostrar o gráfico\n",
    "plt.show()\n"
   ]
  },
  {
   "cell_type": "code",
   "execution_count": 20,
   "metadata": {},
   "outputs": [
    {
     "name": "stdout",
     "output_type": "stream",
     "text": [
      "Media lucro: Modelo acertou tendência\n",
      "False    0.033495\n",
      "True     0.030503\n",
      "Name: Variação percentual real absoluto, dtype: float64\n",
      "Ganho sobre perda: 0.9106844211261337\n",
      "Acertou lado: 0.5390946502057613\n",
      "rendimento diário: 0.1006%\n"
     ]
    },
    {
     "name": "stderr",
     "output_type": "stream",
     "text": [
      "C:\\Users\\ramon\\AppData\\Local\\Temp\\ipykernel_23392\\3695083697.py:47: FutureWarning: Series.__getitem__ treating keys as positions is deprecated. In a future version, integer keys will always be treated as labels (consistent with DataFrame behavior). To access a value by position, use `ser.iloc[pos]`\n",
      "  exp_mat_lucro = acertou_lado * media_lucro[1] - media_lucro[0] * errou_lado\n",
      "C:\\Users\\ramon\\AppData\\Local\\Temp\\ipykernel_23392\\3695083697.py:50: FutureWarning: Series.__getitem__ treating keys as positions is deprecated. In a future version, integer keys will always be treated as labels (consistent with DataFrame behavior). To access a value by position, use `ser.iloc[pos]`\n",
      "  ganho_sobre_perda = media_lucro[1]/media_lucro[0]\n"
     ]
    }
   ],
   "source": [
    "#calcular media de acertos e expectativa de lucro\n",
    "\n",
    "df_teste = df_teste.copy()\n",
    "\n",
    "df_teste['Variação percentual real'] = df_teste['Real'].pct_change()\n",
    "\n",
    "#Nova coluna com a variação percentual da ação prevista\n",
    "df_teste['Variação percentual previsão'] = df_teste['Previsão'].pct_change()\n",
    "\n",
    "#Remover valores nulos\n",
    "df_teste = df_teste.dropna()\n",
    "\n",
    "#Nova coluna com a informação se a ação subiu ou não\n",
    "df_teste['Ação subiu'] = np.where(df_teste['Variação percentual real'] > 0, \n",
    "                                                      True, False)\n",
    "\n",
    "#Nova coluna com a informação se a previsão subiu ou não\n",
    "df_teste['Previsão subiu'] = np.where(df_teste['Variação percentual previsão'] > 0, \n",
    "                                                      True, False)\n",
    "\n",
    "#Nova coluna com a informação se o modelo acertou a tendência\n",
    "df_teste['Modelo acertou tendência'] = np.where(df_teste['Ação subiu'] == df_teste['Previsão subiu']\n",
    "                                      , True, False)\n",
    "\n",
    "#Nova coluna com a variação percentual real absoluta\n",
    "df_teste['Variação percentual real absoluto'] = df_teste['Variação percentual real'].abs()\n",
    "\n",
    "#calcular media de acertos e expectativa de lucro\n",
    "acertou_lado = df_teste['Modelo acertou tendência'].sum()/len(df_teste['Modelo acertou tendência'])\n",
    "\n",
    "#calcular media de erros e expectativa de lucro\n",
    "errou_lado = 1 - acertou_lado\n",
    "\n",
    "#calcular media de lucro agrupado por acertos e erros\n",
    "media_lucro = df_teste.groupby('Modelo acertou tendência')['Variação percentual real absoluto'].mean()\n",
    "\n",
    "#calcular media de acertos e expectativa de lucro\n",
    "acertou_lado = df_teste['Modelo acertou tendência'].sum()/len(df_teste['Modelo acertou tendência'])\n",
    "\n",
    "#calcular media de erros e expectativa de lucro\n",
    "errou_lado = 1 - acertou_lado\n",
    "\n",
    "#calcular media de lucro agrupado por acertos e erros\n",
    "media_lucro = df_teste.groupby('Modelo acertou tendência')['Variação percentual real absoluto'].mean()\n",
    "\n",
    "#calcular expectativa matematica de lucro\n",
    "exp_mat_lucro = acertou_lado * media_lucro[1] - media_lucro[0] * errou_lado\n",
    "\n",
    "#calcular ganho sobre perda\n",
    "ganho_sobre_perda = media_lucro[1]/media_lucro[0]\n",
    "\n",
    "#calcular rendimento diario\n",
    "exp_mat_lucro_percent = exp_mat_lucro * 100\n",
    "\n",
    "print(f\"Media lucro: {media_lucro}\")\n",
    "print(f\"Ganho sobre perda: {ganho_sobre_perda}\")\n",
    "print(f\"Acertou lado: {acertou_lado}\")\n",
    "print(\"rendimento diário: \" + str(round(exp_mat_lucro_percent, 4)) + \"%\")\n"
   ]
  },
  {
   "cell_type": "code",
   "execution_count": 21,
   "metadata": {},
   "outputs": [
    {
     "name": "stderr",
     "output_type": "stream",
     "text": [
      "[*********************100%***********************]  1 of 1 completed\n"
     ]
    },
    {
     "name": "stdout",
     "output_type": "stream",
     "text": [
      "\u001b[1m1/1\u001b[0m \u001b[32m━━━━━━━━━━━━━━━━━━━━\u001b[0m\u001b[37m\u001b[0m \u001b[1m0s\u001b[0m 316ms/step\n",
      "\n",
      "Preço de fechamento hoje:\n",
      "7.6132154\n"
     ]
    }
   ],
   "source": [
    "data_hoje = datetime.now()\n",
    "\n",
    "data_inicio_modelo = ativo.index[0]\n",
    "\n",
    "if data_hoje.hour > 18:\n",
    "    final = data_hoje\n",
    "    inicial = datetime.now() - timedelta(days = 252)\n",
    "    indicativo_dia = \"\\nPreço de fechamento amanhã:\"\n",
    "    \n",
    "else:\n",
    "    final = data_hoje - timedelta(days = 1)\n",
    "    inicial = datetime.now() - timedelta(days = 252)\n",
    "    indicativo_dia = \"\\nPreço de fechamento hoje:\"\n",
    "    \n",
    "\n",
    "cotacoes = yf.download(acao, start=inicial, end=final)\n",
    "\n",
    "ultimos_60_dias = cotacoes['Close'].iloc[-60:].values.reshape(-1, 1)\n",
    "\n",
    "ultimos_60_dias_df = pd.DataFrame(ultimos_60_dias, columns=scaler.feature_names_in_)\n",
    "ultimos_60_dias_escalado = scaler.transform(ultimos_60_dias_df)\n",
    "\n",
    "\n",
    "teste_x = []\n",
    "teste_x.append(ultimos_60_dias_escalado)\n",
    "teste_x = np.array(teste_x)\n",
    "teste_x = teste_x.reshape(teste_x.shape[0], teste_x.shape[1], 1)\n",
    "\n",
    "\n",
    "previsao_de_preco = model.predict(teste_x)\n",
    "previsao_de_preco   = scaler.inverse_transform(previsao_de_preco)\n",
    "\n",
    "print(indicativo_dia)\n",
    "print(previsao_de_preco[0][0])\n",
    "\n"
   ]
  }
 ],
 "metadata": {
  "kernelspec": {
   "display_name": "Python 3",
   "language": "python",
   "name": "python3"
  },
  "language_info": {
   "codemirror_mode": {
    "name": "ipython",
    "version": 3
   },
   "file_extension": ".py",
   "mimetype": "text/x-python",
   "name": "python",
   "nbconvert_exporter": "python",
   "pygments_lexer": "ipython3",
   "version": "3.12.1"
  }
 },
 "nbformat": 4,
 "nbformat_minor": 2
}
