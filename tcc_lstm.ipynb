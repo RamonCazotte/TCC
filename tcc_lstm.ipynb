{
 "cells": [
  {
   "cell_type": "markdown",
   "metadata": {},
   "source": [
    "LSTM"
   ]
  },
  {
   "cell_type": "code",
   "execution_count": 58,
   "metadata": {},
   "outputs": [
    {
     "name": "stderr",
     "output_type": "stream",
     "text": [
      "'%pip' n�o � reconhecido como um comando interno\n",
      "ou externo, um programa oper�vel ou um arquivo em lotes.\n"
     ]
    }
   ],
   "source": [
    "!%pip install yfinance"
   ]
  },
  {
   "cell_type": "code",
   "execution_count": 59,
   "metadata": {},
   "outputs": [],
   "source": [
    "import yfinance as yf\n",
    "import pandas as pd\n",
    "import numpy as np\n",
    "from sklearn.model_selection import train_test_split\n",
    "from sklearn.preprocessing import MinMaxScaler\n",
    "from tensorflow.keras.models import Sequential\n",
    "from tensorflow.keras.layers import LSTM, Dense, Dropout\n",
    "from tensorflow.keras.callbacks import EarlyStopping\n",
    "from tensorflow.keras.optimizers import Adam\n",
    "from tensorflow.keras.callbacks import ReduceLROnPlateau\n",
    "from sklearn.metrics import mean_squared_error\n",
    "import matplotlib.pyplot as plt\n",
    "from sklearn.metrics import mean_absolute_error, mean_squared_error, r2_score\n"
   ]
  },
  {
   "cell_type": "code",
   "execution_count": 60,
   "metadata": {},
   "outputs": [
    {
     "name": "stderr",
     "output_type": "stream",
     "text": [
      "[*********************100%***********************]  1 of 1 completed\n"
     ]
    }
   ],
   "source": [
    "# Baixar dados históricos da ação MGLU3 dos últimos 5 anos\n",
    "mglu3 = yf.download('MGLU3.SA', period=\"5y\")\n"
   ]
  },
  {
   "cell_type": "code",
   "execution_count": 61,
   "metadata": {},
   "outputs": [
    {
     "name": "stdout",
     "output_type": "stream",
     "text": [
      "Price        Adj Close       Close        High         Low        Open  \\\n",
      "Ticker        MGLU3.SA    MGLU3.SA    MGLU3.SA    MGLU3.SA    MGLU3.SA   \n",
      "Date                                                                     \n",
      "2020-02-11  126.532883  126.899994  128.139297  120.960693  124.398003   \n",
      "2020-02-12  130.426559  130.804962  132.231339  126.853226  127.507957   \n",
      "2020-02-13  133.014587  133.400497  133.985062  126.502480  128.419891   \n",
      "2020-02-14  131.335861  131.716904  135.528351  130.945267  134.686554   \n",
      "2020-02-17  137.211365  137.609451  140.111435  133.634323  135.621887   \n",
      "\n",
      "Price        Volume  \n",
      "Ticker     MGLU3.SA  \n",
      "Date                 \n",
      "2020-02-11  4057933  \n",
      "2020-02-12  4501544  \n",
      "2020-02-13  5878010  \n",
      "2020-02-14  3921638  \n",
      "2020-02-17  7887668  \n"
     ]
    }
   ],
   "source": [
    "print(mglu3.head(5))"
   ]
  },
  {
   "cell_type": "code",
   "execution_count": 62,
   "metadata": {},
   "outputs": [],
   "source": [
    "# Pega somente o atributo \"Close\" e armazena em um array bidimensional\n",
    "#O array precisa ser bidimensional porque o MinMaxScaler espera uma entrada com esse formato.\n",
    "mglu3_close = mglu3['Close'].dropna().to_numpy().reshape(-1, 1)"
   ]
  },
  {
   "cell_type": "code",
   "execution_count": null,
   "metadata": {},
   "outputs": [],
   "source": [
    "# Criar um DataFrame com os valores ajustados\n",
    "data = pd.DataFrame(mglu3_close)\n",
    "data.columns = ['Close']"
   ]
  },
  {
   "cell_type": "code",
   "execution_count": 64,
   "metadata": {},
   "outputs": [],
   "source": [
    "# Normalizar os dados para os modelos\n",
    "scaler = MinMaxScaler(feature_range=(0, 1))\n",
    "data['Scaled_Close'] = scaler.fit_transform(data[['Close']])"
   ]
  },
  {
   "cell_type": "code",
   "execution_count": 65,
   "metadata": {},
   "outputs": [],
   "source": [
    "# Função para criar janelas de dados\n",
    "# janela de dados = quantidade de dias do X\n",
    "def create_dataset(data, window_size=60):\n",
    "    X, y = [], []\n",
    "    for i in range(len(data) - window_size):\n",
    "        X.append(data[i:i + window_size])\n",
    "        y.append(data[i + window_size])\n",
    "    return np.array(X), np.array(y)"
   ]
  },
  {
   "cell_type": "code",
   "execution_count": 66,
   "metadata": {},
   "outputs": [],
   "source": [
    "# Criar conjunto de dados\n",
    "window_size = 60 # 60 ultimos dias\n",
    "scaled_data = data['Scaled_Close'].values\n",
    "X, y = create_dataset(scaled_data, window_size)"
   ]
  },
  {
   "cell_type": "code",
   "execution_count": 67,
   "metadata": {},
   "outputs": [],
   "source": [
    "# Dividir os dados em treinamento e teste\n",
    "X_train, X_test, y_train, y_test = train_test_split(X, y, test_size=0.2, shuffle=False)"
   ]
  },
  {
   "cell_type": "code",
   "execution_count": 68,
   "metadata": {},
   "outputs": [],
   "source": [
    "# Ajustar o formato para o LSTM\n",
    "X_train = np.reshape(X_train, (X_train.shape[0], X_train.shape[1], 1))\n",
    "X_test = np.reshape(X_test, (X_test.shape[0], X_test.shape[1], 1))"
   ]
  },
  {
   "cell_type": "code",
   "execution_count": 69,
   "metadata": {},
   "outputs": [
    {
     "name": "stderr",
     "output_type": "stream",
     "text": [
      "c:\\Python312\\Lib\\site-packages\\keras\\src\\layers\\rnn\\rnn.py:200: UserWarning: Do not pass an `input_shape`/`input_dim` argument to a layer. When using Sequential models, prefer using an `Input(shape)` object as the first layer in the model instead.\n",
      "  super().__init__(**kwargs)\n"
     ]
    }
   ],
   "source": [
    "# Criar o modelo LSTM\n",
    "lstm_model = Sequential([\n",
    "    LSTM(100, return_sequences=True, input_shape=(window_size, 1)),\n",
    "    Dropout(0.3),\n",
    "    LSTM(100, return_sequences=True),\n",
    "    Dropout(0.3),\n",
    "    LSTM(100),\n",
    "    Dropout(0.3),\n",
    "    Dense(1)\n",
    "])"
   ]
  },
  {
   "cell_type": "code",
   "execution_count": 70,
   "metadata": {},
   "outputs": [],
   "source": [
    "# Compilar o modelo\n",
    "# A função de loss é a forma de medir o erro do modelo, que nesse caso\n",
    "#é o classico erro médio quadrático da que é usado em regressão linear\n",
    "#otimizador e medida de erro\n",
    "\n",
    "lstm_model.compile(optimizer=Adam(learning_rate=0.001), loss='mean_squared_error')\n"
   ]
  },
  {
   "cell_type": "code",
   "execution_count": 71,
   "metadata": {},
   "outputs": [
    {
     "name": "stdout",
     "output_type": "stream",
     "text": [
      "Epoch 1/10\n",
      "\u001b[1m30/30\u001b[0m \u001b[32m━━━━━━━━━━━━━━━━━━━━\u001b[0m\u001b[37m\u001b[0m \u001b[1m13s\u001b[0m 153ms/step - loss: 0.0547 - val_loss: 1.2508e-04 - learning_rate: 0.0010\n",
      "Epoch 2/10\n",
      "\u001b[1m30/30\u001b[0m \u001b[32m━━━━━━━━━━━━━━━━━━━━\u001b[0m\u001b[37m\u001b[0m \u001b[1m4s\u001b[0m 118ms/step - loss: 0.0049 - val_loss: 7.5324e-05 - learning_rate: 0.0010\n",
      "Epoch 3/10\n",
      "\u001b[1m30/30\u001b[0m \u001b[32m━━━━━━━━━━━━━━━━━━━━\u001b[0m\u001b[37m\u001b[0m \u001b[1m3s\u001b[0m 106ms/step - loss: 0.0036 - val_loss: 7.5298e-05 - learning_rate: 0.0010\n",
      "Epoch 4/10\n",
      "\u001b[1m30/30\u001b[0m \u001b[32m━━━━━━━━━━━━━━━━━━━━\u001b[0m\u001b[37m\u001b[0m \u001b[1m4s\u001b[0m 127ms/step - loss: 0.0043 - val_loss: 2.0317e-05 - learning_rate: 0.0010\n",
      "Epoch 5/10\n",
      "\u001b[1m30/30\u001b[0m \u001b[32m━━━━━━━━━━━━━━━━━━━━\u001b[0m\u001b[37m\u001b[0m \u001b[1m3s\u001b[0m 106ms/step - loss: 0.0029 - val_loss: 3.7400e-05 - learning_rate: 0.0010\n",
      "Epoch 6/10\n",
      "\u001b[1m30/30\u001b[0m \u001b[32m━━━━━━━━━━━━━━━━━━━━\u001b[0m\u001b[37m\u001b[0m \u001b[1m3s\u001b[0m 108ms/step - loss: 0.0034 - val_loss: 1.8513e-05 - learning_rate: 0.0010\n",
      "Epoch 7/10\n",
      "\u001b[1m30/30\u001b[0m \u001b[32m━━━━━━━━━━━━━━━━━━━━\u001b[0m\u001b[37m\u001b[0m \u001b[1m3s\u001b[0m 116ms/step - loss: 0.0032 - val_loss: 4.3805e-05 - learning_rate: 0.0010\n",
      "Epoch 8/10\n",
      "\u001b[1m30/30\u001b[0m \u001b[32m━━━━━━━━━━━━━━━━━━━━\u001b[0m\u001b[37m\u001b[0m \u001b[1m3s\u001b[0m 111ms/step - loss: 0.0030 - val_loss: 1.8298e-05 - learning_rate: 0.0010\n",
      "Epoch 9/10\n",
      "\u001b[1m30/30\u001b[0m \u001b[32m━━━━━━━━━━━━━━━━━━━━\u001b[0m\u001b[37m\u001b[0m \u001b[1m3s\u001b[0m 108ms/step - loss: 0.0029 - val_loss: 1.0190e-04 - learning_rate: 0.0010\n",
      "Epoch 10/10\n",
      "\u001b[1m30/30\u001b[0m \u001b[32m━━━━━━━━━━━━━━━━━━━━\u001b[0m\u001b[37m\u001b[0m \u001b[1m3s\u001b[0m 114ms/step - loss: 0.0033 - val_loss: 4.0325e-05 - learning_rate: 5.0000e-04\n"
     ]
    },
    {
     "data": {
      "text/plain": [
       "<keras.src.callbacks.history.History at 0x281a1279b50>"
      ]
     },
     "execution_count": 71,
     "metadata": {},
     "output_type": "execute_result"
    }
   ],
   "source": [
    "# Treinar o modelo\n",
    "early_stopping = EarlyStopping(monitor='val_loss', patience=10, restore_best_weights=True)\n",
    "reduce_lr = ReduceLROnPlateau(monitor='val_loss', factor=0.5, patience=5, min_lr=1e-5)\n",
    "\n",
    "lstm_model.fit(X_train, y_train, \n",
    "               epochs=10, \n",
    "               batch_size=32, \n",
    "               validation_data=(X_test, y_test),\n",
    "               callbacks=[early_stopping, reduce_lr], \n",
    "               verbose=1)\n"
   ]
  },
  {
   "cell_type": "code",
   "execution_count": 72,
   "metadata": {},
   "outputs": [
    {
     "name": "stdout",
     "output_type": "stream",
     "text": [
      "\u001b[1m8/8\u001b[0m \u001b[32m━━━━━━━━━━━━━━━━━━━━\u001b[0m\u001b[37m\u001b[0m \u001b[1m2s\u001b[0m 122ms/step\n"
     ]
    }
   ],
   "source": [
    "# Fazer previsões\n",
    "lstm_predictions = lstm_model.predict(X_test)\n",
    "\n",
    "# Inverter a normalização\n",
    "lstm_predictions = scaler.inverse_transform(lstm_predictions)"
   ]
  },
  {
   "cell_type": "code",
   "execution_count": 73,
   "metadata": {},
   "outputs": [],
   "source": [
    "df_teste = pd.DataFrame({\n",
    "    \"Date\": mglu3.index[len(X_train) + 60 : len(X_train) + 60 + len(lstm_predictions)],  # Pegando as datas corretas\n",
    "    \"Real\": mglu3['Close'].iloc[len(X_train) + 60 : len(X_train) + 60 + len(lstm_predictions)].values.flatten(),\n",
    "    \"Previsão\": lstm_predictions.flatten()\n",
    "})\n",
    "\n",
    "# Garantindo que a coluna \"Date\" seja de fato uma data (caso ainda não seja)\n",
    "df_teste[\"Date\"] = pd.to_datetime(df_teste[\"Date\"])\n",
    "\n",
    "# Definir \"Date\" como índice (opcional, se quiser que o gráfico fique melhor organizado)\n",
    "df_teste.set_index(\"Date\", inplace=True)"
   ]
  },
  {
   "cell_type": "code",
   "execution_count": 74,
   "metadata": {},
   "outputs": [
    {
     "data": {
      "text/html": [
       "<div>\n",
       "<style scoped>\n",
       "    .dataframe tbody tr th:only-of-type {\n",
       "        vertical-align: middle;\n",
       "    }\n",
       "\n",
       "    .dataframe tbody tr th {\n",
       "        vertical-align: top;\n",
       "    }\n",
       "\n",
       "    .dataframe thead th {\n",
       "        text-align: right;\n",
       "    }\n",
       "</style>\n",
       "<table border=\"1\" class=\"dataframe\">\n",
       "  <thead>\n",
       "    <tr style=\"text-align: right;\">\n",
       "      <th></th>\n",
       "      <th>Real</th>\n",
       "      <th>Previsão</th>\n",
       "    </tr>\n",
       "    <tr>\n",
       "      <th>Date</th>\n",
       "      <th></th>\n",
       "      <th></th>\n",
       "    </tr>\n",
       "  </thead>\n",
       "  <tbody>\n",
       "    <tr>\n",
       "      <th>2024-03-05</th>\n",
       "      <td>21.200001</td>\n",
       "      <td>19.812160</td>\n",
       "    </tr>\n",
       "    <tr>\n",
       "      <th>2024-03-06</th>\n",
       "      <td>20.600000</td>\n",
       "      <td>19.913452</td>\n",
       "    </tr>\n",
       "    <tr>\n",
       "      <th>2024-03-07</th>\n",
       "      <td>20.400000</td>\n",
       "      <td>19.985584</td>\n",
       "    </tr>\n",
       "    <tr>\n",
       "      <th>2024-03-08</th>\n",
       "      <td>20.500000</td>\n",
       "      <td>20.019333</td>\n",
       "    </tr>\n",
       "    <tr>\n",
       "      <th>2024-03-11</th>\n",
       "      <td>20.000000</td>\n",
       "      <td>20.015402</td>\n",
       "    </tr>\n",
       "    <tr>\n",
       "      <th>...</th>\n",
       "      <td>...</td>\n",
       "      <td>...</td>\n",
       "    </tr>\n",
       "    <tr>\n",
       "      <th>2025-02-05</th>\n",
       "      <td>6.880000</td>\n",
       "      <td>6.275093</td>\n",
       "    </tr>\n",
       "    <tr>\n",
       "      <th>2025-02-06</th>\n",
       "      <td>7.390000</td>\n",
       "      <td>6.383338</td>\n",
       "    </tr>\n",
       "    <tr>\n",
       "      <th>2025-02-07</th>\n",
       "      <td>7.070000</td>\n",
       "      <td>6.486536</td>\n",
       "    </tr>\n",
       "    <tr>\n",
       "      <th>2025-02-10</th>\n",
       "      <td>7.260000</td>\n",
       "      <td>6.579163</td>\n",
       "    </tr>\n",
       "    <tr>\n",
       "      <th>2025-02-11</th>\n",
       "      <td>7.270000</td>\n",
       "      <td>6.660984</td>\n",
       "    </tr>\n",
       "  </tbody>\n",
       "</table>\n",
       "<p>237 rows × 2 columns</p>\n",
       "</div>"
      ],
      "text/plain": [
       "                 Real   Previsão\n",
       "Date                            \n",
       "2024-03-05  21.200001  19.812160\n",
       "2024-03-06  20.600000  19.913452\n",
       "2024-03-07  20.400000  19.985584\n",
       "2024-03-08  20.500000  20.019333\n",
       "2024-03-11  20.000000  20.015402\n",
       "...               ...        ...\n",
       "2025-02-05   6.880000   6.275093\n",
       "2025-02-06   7.390000   6.383338\n",
       "2025-02-07   7.070000   6.486536\n",
       "2025-02-10   7.260000   6.579163\n",
       "2025-02-11   7.270000   6.660984\n",
       "\n",
       "[237 rows x 2 columns]"
      ]
     },
     "execution_count": 74,
     "metadata": {},
     "output_type": "execute_result"
    }
   ],
   "source": [
    "df_teste"
   ]
  },
  {
   "cell_type": "code",
   "execution_count": 75,
   "metadata": {},
   "outputs": [
    {
     "name": "stdout",
     "output_type": "stream",
     "text": [
      "📊 MÉTRICAS DE ERRO DO MODELO LSTM 📊\n",
      "MAE  (Erro Absoluto Médio)  : 0.8345\n",
      "MSE  (Erro Quadrático Médio): 1.1522\n",
      "RMSE (Raiz do Erro Médio)   : 1.0734\n",
      "R²   (Coeficiente de Determinação): 0.9165\n"
     ]
    }
   ],
   "source": [
    "# Calcular métricas\n",
    "mae = mean_absolute_error(df_teste[\"Real\"], df_teste[\"Previsão\"])\n",
    "mse = mean_squared_error(df_teste[\"Real\"], df_teste[\"Previsão\"])\n",
    "rmse = np.sqrt(mse)\n",
    "r2 = r2_score(df_teste[\"Real\"], df_teste[\"Previsão\"])\n",
    "\n",
    "# Exibir resultados\n",
    "print(f\"📊 MÉTRICAS DE ERRO DO MODELO LSTM 📊\")\n",
    "print(f\"MAE  (Erro Absoluto Médio)  : {mae:.4f}\")\n",
    "print(f\"MSE  (Erro Quadrático Médio): {mse:.4f}\")\n",
    "print(f\"RMSE (Raiz do Erro Médio)   : {rmse:.4f}\")\n",
    "print(f\"R²   (Coeficiente de Determinação): {r2:.4f}\")\n"
   ]
  },
  {
   "cell_type": "code",
   "execution_count": 76,
   "metadata": {},
   "outputs": [
    {
     "data": {
      "image/png": "[encoded data removed]",
      "text/plain": [
       "<Figure size 1200x600 with 1 Axes>"
      ]
     },
     "metadata": {},
     "output_type": "display_data"
    }
   ],
   "source": [
    "import matplotlib.pyplot as plt\n",
    "\n",
    "# Criar o gráfico\n",
    "plt.figure(figsize=(12, 6))\n",
    "plt.plot(df_teste.index, df_teste[\"Real\"], label=\"Preço Real\", linestyle=\"-\", color=\"blue\")\n",
    "plt.plot(df_teste.index, df_teste[\"Previsão\"], label=\"Previsão LSTM\", linestyle=\"--\", color=\"red\")\n",
    "\n",
    "# Adicionar títulos e legendas\n",
    "plt.title(\"Comparação entre Preço Real e Previsão do Modelo LSTM\", fontsize=14)\n",
    "plt.xlabel(\"Data\", fontsize=12)\n",
    "plt.ylabel(\"Preço de Fechamento\", fontsize=12)\n",
    "plt.legend()\n",
    "plt.grid(True)\n",
    "\n",
    "# Mostrar o gráfico\n",
    "plt.show()\n"
   ]
  },
  {
   "cell_type": "code",
   "execution_count": 78,
   "metadata": {},
   "outputs": [
    {
     "name": "stdout",
     "output_type": "stream",
     "text": [
      "\u001b[1m1/1\u001b[0m \u001b[32m━━━━━━━━━━━━━━━━━━━━\u001b[0m\u001b[37m\u001b[0m \u001b[1m0s\u001b[0m 128ms/step\n",
      "\u001b[1m1/1\u001b[0m \u001b[32m━━━━━━━━━━━━━━━━━━━━\u001b[0m\u001b[37m\u001b[0m \u001b[1m0s\u001b[0m 89ms/step\n",
      "\u001b[1m1/1\u001b[0m \u001b[32m━━━━━━━━━━━━━━━━━━━━\u001b[0m\u001b[37m\u001b[0m \u001b[1m0s\u001b[0m 86ms/step\n",
      "\u001b[1m1/1\u001b[0m \u001b[32m━━━━━━━━━━━━━━━━━━━━\u001b[0m\u001b[37m\u001b[0m \u001b[1m0s\u001b[0m 81ms/step\n",
      "\u001b[1m1/1\u001b[0m \u001b[32m━━━━━━━━━━━━━━━━━━━━\u001b[0m\u001b[37m\u001b[0m \u001b[1m0s\u001b[0m 105ms/step\n",
      "Preço previsto para o dia 1 (amanhã): R$6.73\n",
      "Preço previsto para o dia 2 (amanhã): R$6.78\n",
      "Preço previsto para o dia 3 (amanhã): R$6.81\n",
      "Preço previsto para o dia 4 (amanhã): R$6.83\n",
      "Preço previsto para o dia 5 (amanhã): R$6.82\n"
     ]
    }
   ],
   "source": [
    "# Prever o preço de fechamento para os próximos 5 dias\n",
    "predicted_prices = []\n",
    "last_60_days = scaled_data[-window_size:]  # Últimos 60 dias da série\n",
    "last_60_days = last_60_days.reshape(1, window_size, 1)  # Ajustar a forma para o LSTM\n",
    "\n",
    "for _ in range(5):  # Loop para prever os próximos 5 dias\n",
    "    # Prever o próximo dia\n",
    "    predicted_price_scaled = lstm_model.predict(last_60_days)\n",
    "    predicted_price = scaler.inverse_transform(predicted_price_scaled)\n",
    "    \n",
    "    # Adicionar a previsão à lista de preços previstos\n",
    "    predicted_prices.append(predicted_price[0][0])\n",
    "    \n",
    "    # Atualizar 'last_60_days' com o novo preço previsto\n",
    "    last_60_days = np.append(last_60_days[:, 1:, :], predicted_price_scaled.reshape(1, 1, 1), axis=1)\n",
    "\n",
    "# Exibir os preços previstos para os próximos 5 dias\n",
    "for i, price in enumerate(predicted_prices, 1):\n",
    "    print(f\"Preço previsto para o dia {i} (amanhã): R${price:.2f}\")\n"
   ]
  }
 ],
 "metadata": {
  "kernelspec": {
   "display_name": "Python 3",
   "language": "python",
   "name": "python3"
  },
  "language_info": {
   "codemirror_mode": {
    "name": "ipython",
    "version": 3
   },
   "file_extension": ".py",
   "mimetype": "text/x-python",
   "name": "python",
   "nbconvert_exporter": "python",
   "pygments_lexer": "ipython3",
   "version": "3.12.1"
  }
 },
 "nbformat": 4,
 "nbformat_minor": 2
}
