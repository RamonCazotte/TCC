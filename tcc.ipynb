{
 "cells": [
  {
   "cell_type": "markdown",
   "metadata": {},
   "source": [
    "LSTM"
   ]
  },
  {
   "cell_type": "code",
   "execution_count": 4,
   "metadata": {},
   "outputs": [
    {
     "name": "stdout",
     "output_type": "stream",
     "text": [
      "Defaulting to user installation because normal site-packages is not writeable\n",
      "Collecting yfinance\n",
      "  Downloading yfinance-0.2.51-py2.py3-none-any.whl.metadata (5.5 kB)\n",
      "Requirement already satisfied: pandas>=1.3.0 in c:\\users\\ramon\\appdata\\roaming\\python\\python312\\site-packages (from yfinance) (2.2.1)\n",
      "Requirement already satisfied: numpy>=1.16.5 in c:\\users\\ramon\\appdata\\roaming\\python\\python312\\site-packages (from yfinance) (1.26.4)\n",
      "Requirement already satisfied: requests>=2.31 in c:\\users\\ramon\\appdata\\roaming\\python\\python312\\site-packages (from yfinance) (2.32.3)\n",
      "Collecting multitasking>=0.0.7 (from yfinance)\n",
      "  Downloading multitasking-0.0.11-py3-none-any.whl.metadata (5.5 kB)\n",
      "Requirement already satisfied: lxml>=4.9.1 in c:\\users\\ramon\\appdata\\roaming\\python\\python312\\site-packages (from yfinance) (5.3.0)\n",
      "Requirement already satisfied: platformdirs>=2.0.0 in c:\\users\\ramon\\appdata\\roaming\\python\\python312\\site-packages (from yfinance) (4.2.0)\n",
      "Requirement already satisfied: pytz>=2022.5 in c:\\users\\ramon\\appdata\\roaming\\python\\python312\\site-packages (from yfinance) (2024.1)\n",
      "Collecting frozendict>=2.3.4 (from yfinance)\n",
      "  Downloading frozendict-2.4.6-py312-none-any.whl.metadata (23 kB)\n",
      "Collecting peewee>=3.16.2 (from yfinance)\n",
      "  Downloading peewee-3.17.8.tar.gz (948 kB)\n",
      "     ---------------------------------------- 0.0/948.2 kB ? eta -:--:--\n",
      "     ------------------------------------- 948.2/948.2 kB 14.9 MB/s eta 0:00:00\n",
      "  Installing build dependencies: started\n",
      "  Installing build dependencies: finished with status 'done'\n",
      "  Getting requirements to build wheel: started\n",
      "  Getting requirements to build wheel: finished with status 'done'\n",
      "  Preparing metadata (pyproject.toml): started\n",
      "  Preparing metadata (pyproject.toml): finished with status 'done'\n",
      "Collecting beautifulsoup4>=4.11.1 (from yfinance)\n",
      "  Downloading beautifulsoup4-4.12.3-py3-none-any.whl.metadata (3.8 kB)\n",
      "Collecting html5lib>=1.1 (from yfinance)\n",
      "  Downloading html5lib-1.1-py2.py3-none-any.whl.metadata (16 kB)\n",
      "Collecting soupsieve>1.2 (from beautifulsoup4>=4.11.1->yfinance)\n",
      "  Downloading soupsieve-2.6-py3-none-any.whl.metadata (4.6 kB)\n",
      "Requirement already satisfied: six>=1.9 in c:\\users\\ramon\\appdata\\roaming\\python\\python312\\site-packages (from html5lib>=1.1->yfinance) (1.16.0)\n",
      "Collecting webencodings (from html5lib>=1.1->yfinance)\n",
      "  Downloading webencodings-0.5.1-py2.py3-none-any.whl.metadata (2.1 kB)\n",
      "Requirement already satisfied: python-dateutil>=2.8.2 in c:\\users\\ramon\\appdata\\roaming\\python\\python312\\site-packages (from pandas>=1.3.0->yfinance) (2.8.2)\n",
      "Requirement already satisfied: tzdata>=2022.7 in c:\\users\\ramon\\appdata\\roaming\\python\\python312\\site-packages (from pandas>=1.3.0->yfinance) (2024.1)\n",
      "Requirement already satisfied: charset-normalizer<4,>=2 in c:\\users\\ramon\\appdata\\roaming\\python\\python312\\site-packages (from requests>=2.31->yfinance) (3.3.2)\n",
      "Requirement already satisfied: idna<4,>=2.5 in c:\\users\\ramon\\appdata\\roaming\\python\\python312\\site-packages (from requests>=2.31->yfinance) (3.10)\n",
      "Requirement already satisfied: urllib3<3,>=1.21.1 in c:\\users\\ramon\\appdata\\roaming\\python\\python312\\site-packages (from requests>=2.31->yfinance) (2.2.3)\n",
      "Requirement already satisfied: certifi>=2017.4.17 in c:\\users\\ramon\\appdata\\roaming\\python\\python312\\site-packages (from requests>=2.31->yfinance) (2024.8.30)\n",
      "Downloading yfinance-0.2.51-py2.py3-none-any.whl (104 kB)\n",
      "Downloading beautifulsoup4-4.12.3-py3-none-any.whl (147 kB)\n",
      "Downloading frozendict-2.4.6-py312-none-any.whl (16 kB)\n",
      "Downloading html5lib-1.1-py2.py3-none-any.whl (112 kB)\n",
      "Downloading multitasking-0.0.11-py3-none-any.whl (8.5 kB)\n",
      "Downloading soupsieve-2.6-py3-none-any.whl (36 kB)\n",
      "Downloading webencodings-0.5.1-py2.py3-none-any.whl (11 kB)\n",
      "Building wheels for collected packages: peewee\n",
      "  Building wheel for peewee (pyproject.toml): started\n",
      "  Building wheel for peewee (pyproject.toml): finished with status 'done'\n",
      "  Created wheel for peewee: filename=peewee-3.17.8-py3-none-any.whl size=139064 sha256=0dab7fcc1e78d9589fb33e15dc03ca659184a06fee5271dd6987030ce5374b48\n",
      "  Stored in directory: c:\\users\\ramon\\appdata\\local\\pip\\cache\\wheels\\8f\\65\\34\\456800445efeafb05164fe95285c70e81ba1d96bae30f43917\n",
      "Successfully built peewee\n",
      "Installing collected packages: webencodings, peewee, multitasking, soupsieve, html5lib, frozendict, beautifulsoup4, yfinance\n",
      "Successfully installed beautifulsoup4-4.12.3 frozendict-2.4.6 html5lib-1.1 multitasking-0.0.11 peewee-3.17.8 soupsieve-2.6 webencodings-0.5.1 yfinance-0.2.51\n"
     ]
    },
    {
     "name": "stderr",
     "output_type": "stream",
     "text": [
      "\n",
      "[notice] A new release of pip is available: 24.2 -> 24.3.1\n",
      "[notice] To update, run: python.exe -m pip install --upgrade pip\n"
     ]
    }
   ],
   "source": [
    "!pip install yfinance"
   ]
  },
  {
   "cell_type": "code",
   "execution_count": 5,
   "metadata": {},
   "outputs": [],
   "source": [
    "import yfinance as yf\n",
    "import pandas as pd\n",
    "import numpy as np\n",
    "from sklearn.model_selection import train_test_split\n",
    "from sklearn.preprocessing import MinMaxScaler\n",
    "from tensorflow.keras.models import Sequential\n",
    "from tensorflow.keras.layers import LSTM, Dense, Dropout\n",
    "from sklearn.ensemble import RandomForestRegressor\n",
    "from sklearn.metrics import mean_squared_error\n",
    "import matplotlib.pyplot as plt\n"
   ]
  },
  {
   "cell_type": "code",
   "execution_count": null,
   "metadata": {},
   "outputs": [],
   "source": [
    "\n",
    "# Baixar dados históricos da ação MGLU3 dos últimos 5 anos\n",
    "mglu3 = yf.download('CMIN3.SA', period=\"5y\")\n"
   ]
  },
  {
   "cell_type": "code",
   "execution_count": null,
   "metadata": {},
   "outputs": [],
   "source": [
    "\n",
    "# Exibir os primeiros 5 registros\n",
    "print(mglu3.head())\n",
    "\n",
    "# Selecionar o preço ajustado\n",
    "mglu3_close = mglu3['Adj Close'].dropna()\n"
   ]
  },
  {
   "cell_type": "code",
   "execution_count": null,
   "metadata": {},
   "outputs": [],
   "source": [
    "\n",
    "# Criar um DataFrame com os valores ajustados\n",
    "data = pd.DataFrame(mglu3_close)\n",
    "data.columns = ['Close']\n"
   ]
  },
  {
   "cell_type": "code",
   "execution_count": null,
   "metadata": {},
   "outputs": [],
   "source": [
    "\n",
    "# Normalizar os dados para os modelos\n",
    "scaler = MinMaxScaler(feature_range=(0, 1))\n",
    "data['Scaled_Close'] = scaler.fit_transform(data[['Close']])\n"
   ]
  },
  {
   "cell_type": "code",
   "execution_count": null,
   "metadata": {},
   "outputs": [],
   "source": [
    "\n",
    "# Função para criar janelas de dados\n",
    "def create_dataset(data, window_size=60):\n",
    "    X, y = [], []\n",
    "    for i in range(len(data) - window_size):\n",
    "        X.append(data[i:i + window_size])\n",
    "        y.append(data[i + window_size])\n",
    "    return np.array(X), np.array(y)\n"
   ]
  },
  {
   "cell_type": "code",
   "execution_count": null,
   "metadata": {},
   "outputs": [],
   "source": [
    "\n",
    "# Criar conjunto de dados\n",
    "window_size = 60\n",
    "scaled_data = data['Scaled_Close'].values\n",
    "X, y = create_dataset(scaled_data, window_size)\n"
   ]
  },
  {
   "cell_type": "code",
   "execution_count": null,
   "metadata": {},
   "outputs": [],
   "source": [
    "\n",
    "# Dividir os dados em treinamento e teste\n",
    "X_train, X_test, y_train, y_test = train_test_split(X, y, test_size=0.2, shuffle=False)\n"
   ]
  },
  {
   "cell_type": "code",
   "execution_count": null,
   "metadata": {},
   "outputs": [],
   "source": [
    "\n",
    "# Ajustar o formato para o LSTM\n",
    "X_train_lstm = np.reshape(X_train, (X_train.shape[0], X_train.shape[1], 1))\n",
    "X_test_lstm = np.reshape(X_test, (X_test.shape[0], X_test.shape[1], 1))\n"
   ]
  },
  {
   "cell_type": "code",
   "execution_count": null,
   "metadata": {},
   "outputs": [],
   "source": [
    "\n",
    "# Criar o modelo LSTM\n",
    "lstm_model = Sequential()\n",
    "lstm_model.add(LSTM(units=50, return_sequences=True, input_shape=(X_train_lstm.shape[1], 1)))\n",
    "lstm_model.add(Dropout(0.2))\n",
    "lstm_model.add(LSTM(units=50, return_sequences=False))\n",
    "lstm_model.add(Dropout(0.2))\n",
    "lstm_model.add(Dense(units=1))\n"
   ]
  },
  {
   "cell_type": "code",
   "execution_count": null,
   "metadata": {},
   "outputs": [],
   "source": [
    "\n",
    "# Compilar o modelo\n",
    "lstm_model.compile(optimizer='adam', loss='mean_squared_error')\n"
   ]
  },
  {
   "cell_type": "code",
   "execution_count": null,
   "metadata": {},
   "outputs": [],
   "source": [
    "\n",
    "# Treinar o modelo\n",
    "lstm_model.fit(X_train_lstm, y_train, epochs=20, batch_size=32, verbose=1)\n"
   ]
  },
  {
   "cell_type": "code",
   "execution_count": null,
   "metadata": {},
   "outputs": [],
   "source": [
    "\n",
    "# Fazer previsões\n",
    "lstm_predictions = lstm_model.predict(X_test_lstm)\n",
    "\n",
    "# Inverter a normalização\n",
    "lstm_predictions = scaler.inverse_transform(lstm_predictions.reshape(-1, 1))\n"
   ]
  },
  {
   "cell_type": "markdown",
   "metadata": {},
   "source": [
    "Random Forest"
   ]
  },
  {
   "cell_type": "code",
   "execution_count": null,
   "metadata": {},
   "outputs": [],
   "source": [
    "\n",
    "# Criar o modelo Random Forest\n",
    "rf_model = RandomForestRegressor(n_estimators=100, random_state=42)\n",
    "rf_model.fit(X_train, y_train)\n"
   ]
  },
  {
   "cell_type": "code",
   "execution_count": null,
   "metadata": {},
   "outputs": [],
   "source": [
    "\n",
    "# Fazer previsões\n",
    "rf_predictions = rf_model.predict(X_test)\n",
    "\n",
    "# Inverter a normalização\n",
    "rf_predictions = scaler.inverse_transform(rf_predictions.reshape(-1, 1))\n"
   ]
  },
  {
   "cell_type": "code",
   "execution_count": null,
   "metadata": {},
   "outputs": [],
   "source": [
    "\n",
    "# Valores reais\n",
    "y_test_original = scaler.inverse_transform(y_test.reshape(-1, 1))\n"
   ]
  },
  {
   "cell_type": "code",
   "execution_count": null,
   "metadata": {},
   "outputs": [],
   "source": [
    "\n",
    "# Calcular o erro médio quadrático (MSE)\n",
    "lstm_mse = mean_squared_error(y_test_original, lstm_predictions)\n",
    "rf_mse = mean_squared_error(y_test_original, rf_predictions)\n",
    "\n",
    "print(f\"LSTM MSE: {lstm_mse}\")\n",
    "print(f\"Random Forest MSE: {rf_mse}\")\n"
   ]
  },
  {
   "cell_type": "markdown",
   "metadata": {},
   "source": [
    "Comparativo Entre os dois modelos"
   ]
  },
  {
   "cell_type": "code",
   "execution_count": null,
   "metadata": {},
   "outputs": [],
   "source": [
    "\n",
    "# Obter as previsões para os próximos 5 dias\n",
    "last_window = scaled_data[-window_size:]\n",
    "last_window = last_window.reshape(1, window_size, 1)\n"
   ]
  },
  {
   "cell_type": "code",
   "execution_count": null,
   "metadata": {},
   "outputs": [],
   "source": [
    "\n",
    "# Previsão do LSTM\n",
    "lstm_forecasts = []\n",
    "for _ in range(5):\n",
    "    next_prediction = lstm_model.predict(last_window)\n",
    "    lstm_forecasts.append(scaler.inverse_transform(next_prediction.reshape(-1, 1))[0][0])\n",
    "    \n",
    "    # Atualizar a janela de entrada para a próxima previsão\n",
    "    last_window = np.append(last_window[:, 1:, :], next_prediction.reshape(1, 1, 1), axis=1)\n",
    "\n",
    "    \n"
   ]
  },
  {
   "cell_type": "code",
   "execution_count": null,
   "metadata": {},
   "outputs": [],
   "source": [
    "\n",
    "# Previsão do Random Forest\n",
    "last_window_rf = scaled_data[-window_size:]\n",
    "rf_forecasts = []\n",
    "for _ in range(5):\n",
    "    next_rf_prediction = rf_model.predict(last_window_rf.reshape(1, -1))\n",
    "    rf_forecasts.append(scaler.inverse_transform(next_rf_prediction.reshape(-1, 1))[0][0])\n",
    "    \n",
    "    # Atualizar a janela de entrada para a próxima previsão\n",
    "    last_window_rf = np.append(last_window_rf[1:], next_rf_prediction, axis=0)\n"
   ]
  },
  {
   "cell_type": "code",
   "execution_count": null,
   "metadata": {},
   "outputs": [],
   "source": [
    "\n",
    "# Arredondar as previsões\n",
    "lstm_forecasts = [round(pred, 2) for pred in lstm_forecasts]\n",
    "rf_forecasts = [round(pred, 2) for pred in rf_forecasts]\n"
   ]
  },
  {
   "cell_type": "code",
   "execution_count": null,
   "metadata": {},
   "outputs": [],
   "source": [
    "\n",
    "# Criar a tabela com pandas\n",
    "days = [f\"Dia {i + 1}\" for i in range(5)]\n",
    "forecast_data = {\n",
    "    \"Dia\": days,\n",
    "    \"Previsão LSTM\": lstm_forecasts,\n",
    "    \"Previsão Random Forest\": rf_forecasts,\n",
    "}\n",
    "\n",
    "forecast_table = pd.DataFrame(forecast_data)\n"
   ]
  },
  {
   "cell_type": "code",
   "execution_count": null,
   "metadata": {},
   "outputs": [],
   "source": [
    "\n",
    "# Criar o plot da tabela\n",
    "plt.figure(figsize=(8, 4))\n",
    "plt.axis('tight')\n",
    "plt.axis('off')\n",
    "\n",
    "# Adicionar a tabela ao plot\n",
    "table_plot = plt.table(\n",
    "    cellText=forecast_table.values,\n",
    "    colLabels=forecast_table.columns,\n",
    "    loc='center',\n",
    "    cellLoc='center',\n",
    "    colLoc='center'\n",
    ")\n",
    "\n",
    "# Estilizar a tabela\n",
    "table_plot.auto_set_font_size(False)\n",
    "table_plot.set_fontsize(10)\n",
    "table_plot.auto_set_column_width(col=list(range(len(forecast_table.columns))))\n",
    "\n",
    "# Exibir o plot\n",
    "plt.title(\"Previsões para os Próximos 5 Dias\", fontsize=14)\n",
    "plt.show()\n"
   ]
  },
  {
   "cell_type": "markdown",
   "metadata": {},
   "source": [
    "Duplicado?"
   ]
  },
  {
   "cell_type": "code",
   "execution_count": null,
   "metadata": {},
   "outputs": [],
   "source": [
    "\n",
    "# print(f\"LSTM MSE: {lstm_mse}\")\n",
    "# print(f\"Random Forest MSE: {rf_mse}\")\n",
    "\n",
    "# # Obter as previsões para os próximos 5 dias\n",
    "# last_window = scaled_data[-window_size:]\n",
    "# last_window = last_window.reshape(1, window_size, 1)\n",
    "\n",
    "# # Previsão do LSTM\n",
    "# lstm_forecasts = []\n",
    "# for _ in range(5):\n",
    "#     next_prediction = lstm_model.predict(last_window)\n",
    "#     lstm_forecasts.append(scaler.inverse_transform(next_prediction.reshape(-1, 1))[0][0])\n",
    "    \n",
    "#     # Atualizar a janela de entrada para a próxima previsão\n",
    "#     last_window = np.append(last_window[:, 1:, :], next_prediction.reshape(1, 1, 1), axis=1)\n",
    "\n",
    "# # Previsão do Random Forest\n",
    "# last_window_rf = scaled_data[-window_size:]\n",
    "# rf_forecasts = []\n",
    "# for _ in range(5):\n",
    "#     next_rf_prediction = rf_model.predict(last_window_rf.reshape(1, -1))\n",
    "#     rf_forecasts.append(scaler.inverse_transform(next_rf_prediction.reshape(-1, 1))[0][0])\n",
    "    \n",
    "#     # Atualizar a janela de entrada para a próxima previsão\n",
    "#     last_window_rf = np.append(last_window_rf[1:], next_rf_prediction, axis=0)\n",
    "\n",
    "# # Arredondar as previsões\n",
    "# lstm_forecasts = [round(pred, 2) for pred in lstm_forecasts]\n",
    "# rf_forecasts = [round(pred, 2) for pred in rf_forecasts]\n",
    "\n",
    "# # Criar a tabela com pandas\n",
    "# days = [f\"Dia {i + 1}\" for i in range(5)]\n",
    "# forecast_data = {\n",
    "#     \"Dia\": days,\n",
    "#     \"Previsão LSTM\": lstm_forecasts,\n",
    "#     \"Previsão Random Forest\": rf_forecasts,\n",
    "# }\n",
    "\n",
    "# forecast_table = pd.DataFrame(forecast_data)\n",
    "\n",
    "# # Criar o plot da tabela\n",
    "# plt.figure(figsize=(8, 4))\n",
    "# plt.axis('tight')\n",
    "# plt.axis('off')\n",
    "\n",
    "# # Adicionar a tabela ao plot\n",
    "# table_plot = plt.table(\n",
    "#     cellText=forecast_table.values,\n",
    "#     colLabels=forecast_table.columns,\n",
    "#     loc='center',\n",
    "#     cellLoc='center',\n",
    "#     colLoc='center'\n",
    "# )\n",
    "\n",
    "# # Estilizar a tabela\n",
    "# table_plot.auto_set_font_size(False)\n",
    "# table_plot.set_fontsize(10)\n",
    "# table_plot.auto_set_column_width(col=list(range(len(forecast_table.columns))))\n",
    "\n",
    "# # Exibir o plot\n",
    "# plt.title(\"Previsões para os Próximos 5 Dias\", fontsize=14)\n",
    "# plt.show()\n"
   ]
  }
 ],
 "metadata": {
  "kernelspec": {
   "display_name": "Python 3",
   "language": "python",
   "name": "python3"
  },
  "language_info": {
   "codemirror_mode": {
    "name": "ipython",
    "version": 3
   },
   "file_extension": ".py",
   "mimetype": "text/x-python",
   "name": "python",
   "nbconvert_exporter": "python",
   "pygments_lexer": "ipython3",
   "version": "3.12.5"
  }
 },
 "nbformat": 4,
 "nbformat_minor": 2
}
