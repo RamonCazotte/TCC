{
 "cells": [
  {
   "cell_type": "code",
   "execution_count": 1,
   "metadata": {},
   "outputs": [
    {
     "name": "stderr",
     "output_type": "stream",
     "text": [
      "[*********************100%***********************]  1 of 1 completed"
     ]
    },
    {
     "name": "stdout",
     "output_type": "stream",
     "text": [
      "Price      Adj Close     Close      High       Low      Open   Volume\n",
      "Ticker         ^BVSP     ^BVSP     ^BVSP     ^BVSP     ^BVSP    ^BVSP\n",
      "Date                                                                 \n",
      "2019-12-26  117203.0  117203.0  117220.0  115673.0  115864.0  3788900\n",
      "2019-12-27  116534.0  116534.0  117803.0  115995.0  117205.0  3905900\n",
      "2019-12-30  115964.0  115964.0  117086.0  115790.0  116530.0  3667900\n",
      "2020-01-02  118573.0  118573.0  118573.0  115649.0  115652.0  5162700\n",
      "2020-01-03  117707.0  117707.0  118792.0  117341.0  118564.0  6834500\n"
     ]
    },
    {
     "name": "stderr",
     "output_type": "stream",
     "text": [
      "\n"
     ]
    }
   ],
   "source": [
    "import yfinance as yf\n",
    "\n",
    "# Baixar dados históricos do Ibovespa dos últimos 5 anos\n",
    "ibovespa = yf.download('^BVSP', period=\"5y\")\n",
    "\n",
    "# Exibir os primeiros 5 registros\n",
    "print(ibovespa.head())"
   ]
  },
  {
   "cell_type": "code",
   "execution_count": 4,
   "metadata": {},
   "outputs": [
    {
     "name": "stderr",
     "output_type": "stream",
     "text": [
      "[*********************100%***********************]  1 of 1 completed"
     ]
    },
    {
     "name": "stdout",
     "output_type": "stream",
     "text": [
      "Price      Adj Close    Close     High      Low     Open    Volume\n",
      "Ticker      CMIN3.SA CMIN3.SA CMIN3.SA CMIN3.SA CMIN3.SA  CMIN3.SA\n",
      "Date                                                              \n",
      "2021-02-22  5.925878     9.29     9.30     8.67     8.92  10507000\n",
      "2021-02-23  5.817438     9.12     9.60     9.10     9.50   9243700\n",
      "2021-02-24  5.836575     9.15     9.28     9.07     9.16   6550600\n",
      "2021-02-25  5.772788     9.05     9.29     9.00     9.18   6054200\n",
      "2021-02-26  5.696242     8.93     9.17     8.90     9.15   4849000\n"
     ]
    },
    {
     "name": "stderr",
     "output_type": "stream",
     "text": [
      "\n"
     ]
    }
   ],
   "source": [
    "# Baixar dados históricos da ação MGLU3 dos últimos 5 anos\n",
    "mglu3 = yf.download('CMIN3.SA', period=\"5y\")\n",
    "\n",
    "# Exibir os primeiros 5 registros\n",
    "print(mglu3.head())\n"
   ]
  },
  {
   "cell_type": "code",
   "execution_count": null,
   "metadata": {},
   "outputs": [],
   "source": [
    "#LEU É GAY"
   ]
  }
 ],
 "metadata": {
  "kernelspec": {
   "display_name": "Python 3",
   "language": "python",
   "name": "python3"
  },
  "language_info": {
   "codemirror_mode": {
    "name": "ipython",
    "version": 3
   },
   "file_extension": ".py",
   "mimetype": "text/x-python",
   "name": "python",
   "nbconvert_exporter": "python",
   "pygments_lexer": "ipython3",
   "version": "3.12.1"
  }
 },
 "nbformat": 4,
 "nbformat_minor": 2
}
