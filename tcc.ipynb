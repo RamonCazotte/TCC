{
 "cells": [
  {
   "cell_type": "markdown",
   "metadata": {},
   "source": [
    "LSTM"
   ]
  },
  {
   "cell_type": "code",
   "execution_count": null,
   "metadata": {},
   "outputs": [],
   "source": [
    "import yfinance as yf\n",
    "import pandas as pd\n",
    "import numpy as np\n",
    "from sklearn.model_selection import train_test_split\n",
    "from sklearn.preprocessing import MinMaxScaler\n",
    "from tensorflow.keras.models import Sequential\n",
    "from tensorflow.keras.layers import LSTM, Dense, Dropout\n",
    "from sklearn.ensemble import RandomForestRegressor\n",
    "from sklearn.metrics import mean_squared_error\n",
    "import matplotlib.pyplot as plt\n"
   ]
  },
  {
   "cell_type": "code",
   "execution_count": null,
   "metadata": {},
   "outputs": [],
   "source": [
    "\n",
    "# Baixar dados históricos da ação MGLU3 dos últimos 5 anos\n",
    "mglu3 = yf.download('CMIN3.SA', period=\"5y\")\n"
   ]
  },
  {
   "cell_type": "code",
   "execution_count": null,
   "metadata": {},
   "outputs": [],
   "source": [
    "\n",
    "# Exibir os primeiros 5 registros\n",
    "print(mglu3.head())\n",
    "\n",
    "# Selecionar o preço ajustado\n",
    "mglu3_close = mglu3['Adj Close'].dropna()\n"
   ]
  },
  {
   "cell_type": "code",
   "execution_count": null,
   "metadata": {},
   "outputs": [],
   "source": [
    "\n",
    "# Criar um DataFrame com os valores ajustados\n",
    "data = pd.DataFrame(mglu3_close)\n",
    "data.columns = ['Close']\n"
   ]
  },
  {
   "cell_type": "code",
   "execution_count": null,
   "metadata": {},
   "outputs": [],
   "source": [
    "\n",
    "# Normalizar os dados para os modelos\n",
    "scaler = MinMaxScaler(feature_range=(0, 1))\n",
    "data['Scaled_Close'] = scaler.fit_transform(data[['Close']])\n"
   ]
  },
  {
   "cell_type": "code",
   "execution_count": null,
   "metadata": {},
   "outputs": [],
   "source": [
    "\n",
    "# Função para criar janelas de dados\n",
    "def create_dataset(data, window_size=60):\n",
    "    X, y = [], []\n",
    "    for i in range(len(data) - window_size):\n",
    "        X.append(data[i:i + window_size])\n",
    "        y.append(data[i + window_size])\n",
    "    return np.array(X), np.array(y)\n"
   ]
  },
  {
   "cell_type": "code",
   "execution_count": null,
   "metadata": {},
   "outputs": [],
   "source": [
    "\n",
    "# Criar conjunto de dados\n",
    "window_size = 60\n",
    "scaled_data = data['Scaled_Close'].values\n",
    "X, y = create_dataset(scaled_data, window_size)\n"
   ]
  },
  {
   "cell_type": "code",
   "execution_count": null,
   "metadata": {},
   "outputs": [],
   "source": [
    "\n",
    "# Dividir os dados em treinamento e teste\n",
    "X_train, X_test, y_train, y_test = train_test_split(X, y, test_size=0.2, shuffle=False)\n"
   ]
  },
  {
   "cell_type": "code",
   "execution_count": null,
   "metadata": {},
   "outputs": [],
   "source": [
    "\n",
    "# Ajustar o formato para o LSTM\n",
    "X_train_lstm = np.reshape(X_train, (X_train.shape[0], X_train.shape[1], 1))\n",
    "X_test_lstm = np.reshape(X_test, (X_test.shape[0], X_test.shape[1], 1))\n"
   ]
  },
  {
   "cell_type": "code",
   "execution_count": null,
   "metadata": {},
   "outputs": [],
   "source": [
    "\n",
    "# Criar o modelo LSTM\n",
    "lstm_model = Sequential()\n",
    "lstm_model.add(LSTM(units=50, return_sequences=True, input_shape=(X_train_lstm.shape[1], 1)))\n",
    "lstm_model.add(Dropout(0.2))\n",
    "lstm_model.add(LSTM(units=50, return_sequences=False))\n",
    "lstm_model.add(Dropout(0.2))\n",
    "lstm_model.add(Dense(units=1))\n"
   ]
  },
  {
   "cell_type": "code",
   "execution_count": null,
   "metadata": {},
   "outputs": [],
   "source": [
    "\n",
    "# Compilar o modelo\n",
    "lstm_model.compile(optimizer='adam', loss='mean_squared_error')\n"
   ]
  },
  {
   "cell_type": "code",
   "execution_count": null,
   "metadata": {},
   "outputs": [],
   "source": [
    "\n",
    "# Treinar o modelo\n",
    "lstm_model.fit(X_train_lstm, y_train, epochs=20, batch_size=32, verbose=1)\n"
   ]
  },
  {
   "cell_type": "code",
   "execution_count": null,
   "metadata": {},
   "outputs": [],
   "source": [
    "\n",
    "# Fazer previsões\n",
    "lstm_predictions = lstm_model.predict(X_test_lstm)\n",
    "\n",
    "# Inverter a normalização\n",
    "lstm_predictions = scaler.inverse_transform(lstm_predictions.reshape(-1, 1))\n"
   ]
  },
  {
   "cell_type": "markdown",
   "metadata": {},
   "source": [
    "Random Forest"
   ]
  },
  {
   "cell_type": "code",
   "execution_count": null,
   "metadata": {},
   "outputs": [],
   "source": [
    "\n",
    "# Criar o modelo Random Forest\n",
    "rf_model = RandomForestRegressor(n_estimators=100, random_state=42)\n",
    "rf_model.fit(X_train, y_train)\n"
   ]
  },
  {
   "cell_type": "code",
   "execution_count": null,
   "metadata": {},
   "outputs": [],
   "source": [
    "\n",
    "# Fazer previsões\n",
    "rf_predictions = rf_model.predict(X_test)\n",
    "\n",
    "# Inverter a normalização\n",
    "rf_predictions = scaler.inverse_transform(rf_predictions.reshape(-1, 1))\n"
   ]
  },
  {
   "cell_type": "code",
   "execution_count": null,
   "metadata": {},
   "outputs": [],
   "source": [
    "\n",
    "# Valores reais\n",
    "y_test_original = scaler.inverse_transform(y_test.reshape(-1, 1))\n"
   ]
  },
  {
   "cell_type": "code",
   "execution_count": null,
   "metadata": {},
   "outputs": [],
   "source": [
    "\n",
    "# Calcular o erro médio quadrático (MSE)\n",
    "lstm_mse = mean_squared_error(y_test_original, lstm_predictions)\n",
    "rf_mse = mean_squared_error(y_test_original, rf_predictions)\n",
    "\n",
    "print(f\"LSTM MSE: {lstm_mse}\")\n",
    "print(f\"Random Forest MSE: {rf_mse}\")\n"
   ]
  },
  {
   "cell_type": "markdown",
   "metadata": {},
   "source": [
    "Comparativo Entre os dois modelos"
   ]
  },
  {
   "cell_type": "code",
   "execution_count": null,
   "metadata": {},
   "outputs": [],
   "source": [
    "\n",
    "# Obter as previsões para os próximos 5 dias\n",
    "last_window = scaled_data[-window_size:]\n",
    "last_window = last_window.reshape(1, window_size, 1)\n"
   ]
  },
  {
   "cell_type": "code",
   "execution_count": null,
   "metadata": {},
   "outputs": [],
   "source": [
    "\n",
    "# Previsão do LSTM\n",
    "lstm_forecasts = []\n",
    "for _ in range(5):\n",
    "    next_prediction = lstm_model.predict(last_window)\n",
    "    lstm_forecasts.append(scaler.inverse_transform(next_prediction.reshape(-1, 1))[0][0])\n",
    "    \n",
    "    # Atualizar a janela de entrada para a próxima previsão\n",
    "    last_window = np.append(last_window[:, 1:, :], next_prediction.reshape(1, 1, 1), axis=1)\n",
    "\n",
    "    \n"
   ]
  },
  {
   "cell_type": "code",
   "execution_count": null,
   "metadata": {},
   "outputs": [],
   "source": [
    "\n",
    "# Previsão do Random Forest\n",
    "last_window_rf = scaled_data[-window_size:]\n",
    "rf_forecasts = []\n",
    "for _ in range(5):\n",
    "    next_rf_prediction = rf_model.predict(last_window_rf.reshape(1, -1))\n",
    "    rf_forecasts.append(scaler.inverse_transform(next_rf_prediction.reshape(-1, 1))[0][0])\n",
    "    \n",
    "    # Atualizar a janela de entrada para a próxima previsão\n",
    "    last_window_rf = np.append(last_window_rf[1:], next_rf_prediction, axis=0)\n"
   ]
  },
  {
   "cell_type": "code",
   "execution_count": null,
   "metadata": {},
   "outputs": [],
   "source": [
    "\n",
    "# Arredondar as previsões\n",
    "lstm_forecasts = [round(pred, 2) for pred in lstm_forecasts]\n",
    "rf_forecasts = [round(pred, 2) for pred in rf_forecasts]\n"
   ]
  },
  {
   "cell_type": "code",
   "execution_count": null,
   "metadata": {},
   "outputs": [],
   "source": [
    "\n",
    "# Criar a tabela com pandas\n",
    "days = [f\"Dia {i + 1}\" for i in range(5)]\n",
    "forecast_data = {\n",
    "    \"Dia\": days,\n",
    "    \"Previsão LSTM\": lstm_forecasts,\n",
    "    \"Previsão Random Forest\": rf_forecasts,\n",
    "}\n",
    "\n",
    "forecast_table = pd.DataFrame(forecast_data)\n"
   ]
  },
  {
   "cell_type": "code",
   "execution_count": null,
   "metadata": {},
   "outputs": [],
   "source": [
    "\n",
    "# Criar o plot da tabela\n",
    "plt.figure(figsize=(8, 4))\n",
    "plt.axis('tight')\n",
    "plt.axis('off')\n",
    "\n",
    "# Adicionar a tabela ao plot\n",
    "table_plot = plt.table(\n",
    "    cellText=forecast_table.values,\n",
    "    colLabels=forecast_table.columns,\n",
    "    loc='center',\n",
    "    cellLoc='center',\n",
    "    colLoc='center'\n",
    ")\n",
    "\n",
    "# Estilizar a tabela\n",
    "table_plot.auto_set_font_size(False)\n",
    "table_plot.set_fontsize(10)\n",
    "table_plot.auto_set_column_width(col=list(range(len(forecast_table.columns))))\n",
    "\n",
    "# Exibir o plot\n",
    "plt.title(\"Previsões para os Próximos 5 Dias\", fontsize=14)\n",
    "plt.show()\n"
   ]
  },
  {
   "cell_type": "markdown",
   "metadata": {},
   "source": [
    "Duplicado?"
   ]
  },
  {
   "cell_type": "code",
   "execution_count": null,
   "metadata": {},
   "outputs": [],
   "source": [
    "\n",
    "# print(f\"LSTM MSE: {lstm_mse}\")\n",
    "# print(f\"Random Forest MSE: {rf_mse}\")\n",
    "\n",
    "# # Obter as previsões para os próximos 5 dias\n",
    "# last_window = scaled_data[-window_size:]\n",
    "# last_window = last_window.reshape(1, window_size, 1)\n",
    "\n",
    "# # Previsão do LSTM\n",
    "# lstm_forecasts = []\n",
    "# for _ in range(5):\n",
    "#     next_prediction = lstm_model.predict(last_window)\n",
    "#     lstm_forecasts.append(scaler.inverse_transform(next_prediction.reshape(-1, 1))[0][0])\n",
    "    \n",
    "#     # Atualizar a janela de entrada para a próxima previsão\n",
    "#     last_window = np.append(last_window[:, 1:, :], next_prediction.reshape(1, 1, 1), axis=1)\n",
    "\n",
    "# # Previsão do Random Forest\n",
    "# last_window_rf = scaled_data[-window_size:]\n",
    "# rf_forecasts = []\n",
    "# for _ in range(5):\n",
    "#     next_rf_prediction = rf_model.predict(last_window_rf.reshape(1, -1))\n",
    "#     rf_forecasts.append(scaler.inverse_transform(next_rf_prediction.reshape(-1, 1))[0][0])\n",
    "    \n",
    "#     # Atualizar a janela de entrada para a próxima previsão\n",
    "#     last_window_rf = np.append(last_window_rf[1:], next_rf_prediction, axis=0)\n",
    "\n",
    "# # Arredondar as previsões\n",
    "# lstm_forecasts = [round(pred, 2) for pred in lstm_forecasts]\n",
    "# rf_forecasts = [round(pred, 2) for pred in rf_forecasts]\n",
    "\n",
    "# # Criar a tabela com pandas\n",
    "# days = [f\"Dia {i + 1}\" for i in range(5)]\n",
    "# forecast_data = {\n",
    "#     \"Dia\": days,\n",
    "#     \"Previsão LSTM\": lstm_forecasts,\n",
    "#     \"Previsão Random Forest\": rf_forecasts,\n",
    "# }\n",
    "\n",
    "# forecast_table = pd.DataFrame(forecast_data)\n",
    "\n",
    "# # Criar o plot da tabela\n",
    "# plt.figure(figsize=(8, 4))\n",
    "# plt.axis('tight')\n",
    "# plt.axis('off')\n",
    "\n",
    "# # Adicionar a tabela ao plot\n",
    "# table_plot = plt.table(\n",
    "#     cellText=forecast_table.values,\n",
    "#     colLabels=forecast_table.columns,\n",
    "#     loc='center',\n",
    "#     cellLoc='center',\n",
    "#     colLoc='center'\n",
    "# )\n",
    "\n",
    "# # Estilizar a tabela\n",
    "# table_plot.auto_set_font_size(False)\n",
    "# table_plot.set_fontsize(10)\n",
    "# table_plot.auto_set_column_width(col=list(range(len(forecast_table.columns))))\n",
    "\n",
    "# # Exibir o plot\n",
    "# plt.title(\"Previsões para os Próximos 5 Dias\", fontsize=14)\n",
    "# plt.show()\n"
   ]
  }
 ],
 "metadata": {
  "kernelspec": {
   "display_name": "Python 3",
   "language": "python",
   "name": "python3"
  },
  "language_info": {
   "codemirror_mode": {
    "name": "ipython",
    "version": 3
   },
   "file_extension": ".py",
   "mimetype": "text/x-python",
   "name": "python",
   "nbconvert_exporter": "python",
   "pygments_lexer": "ipython3",
   "version": "3.12.5"
  }
 },
 "nbformat": 4,
 "nbformat_minor": 2
}
